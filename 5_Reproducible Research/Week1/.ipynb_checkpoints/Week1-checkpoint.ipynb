{
 "cells": [
  {
   "cell_type": "markdown",
   "metadata": {},
   "source": [
    "# Steps in a data analysis"
   ]
  },
  {
   "cell_type": "markdown",
   "metadata": {},
   "source": [
    "## 1. Define the question"
   ]
  },
  {
   "cell_type": "markdown",
   "metadata": {},
   "source": [
    "### General Question\n",
    "Can I automatically detect emails that are SPAM or not?\n",
    "\n",
    "### Make it concrete\n",
    "Can I use quantitative characteristics of the emails to classify them as SPAM/HAM?"
   ]
  },
  {
   "cell_type": "markdown",
   "metadata": {},
   "source": [
    "## 2. Define the ideal data set"
   ]
  },
  {
   "cell_type": "markdown",
   "metadata": {},
   "source": [
    "The data set may depend on your goal\n",
    "* Descriptive - a whole population\n",
    "* Exploratory - a random sample with many variables measured\n",
    "* Inferential - the right population, randomly sampled\n",
    "* Predictive - a training and test data set from the same popultaion\n",
    "* Causal - data from a randomized study\n",
    "- Mechanistic - data about all components of the system"
   ]
  },
  {
   "cell_type": "markdown",
   "metadata": {},
   "source": [
    "### Example\n",
    "Ideal case would be the whole data in datacenters of gmail"
   ]
  },
  {
   "cell_type": "markdown",
   "metadata": {},
   "source": [
    "## 3. Determine what data you can access\n",
    "* Sometimes you can find data free on the web\n",
    "* Other times you may need to buy the data\n",
    "* Be sure to respect the term of use\n",
    "* If the data doesn't exist, you may need to generate it yourserlf."
   ]
  },
  {
   "cell_type": "markdown",
   "metadata": {},
   "source": [
    "### Example\n",
    "Getting the data from the google servers is not possible. A possible solution is the data from UCI repository Sapmbase Data Set : https://archive.ics.uci.edu/ml/datasets/spambase"
   ]
  },
  {
   "cell_type": "markdown",
   "metadata": {},
   "source": [
    "## 4. Obtain the data\n",
    "* Try to obtain the raw data\n",
    "* Be sure to reference the source\n",
    "* Polite emails go a long way\n",
    "* If you will load the data from an internet source, record the url and time accessed"
   ]
  },
  {
   "cell_type": "markdown",
   "metadata": {},
   "source": [
    "### Our dataset\n",
    "We'll use the dataset from the kernlab package in R. Its link is : http://search.r-project.org/library/kernlab/html/spam.html"
   ]
  },
  {
   "cell_type": "code",
   "execution_count": 1,
   "metadata": {},
   "outputs": [
    {
     "name": "stderr",
     "output_type": "stream",
     "text": [
      "Installing package into 'C:/Users/naqee/Documents/R/win-library/3.4'\n",
      "(as 'lib' is unspecified)\n"
     ]
    },
    {
     "name": "stdout",
     "output_type": "stream",
     "text": [
      "package 'kernlab' successfully unpacked and MD5 sums checked\n",
      "\n",
      "The downloaded binary packages are in\n",
      "\tC:\\Users\\naqee\\AppData\\Local\\Temp\\RtmpofENBj\\downloaded_packages\n"
     ]
    }
   ],
   "source": [
    "install.packages(\"kernlab\",repos = \"https://cran.ma.imperial.ac.uk/\")"
   ]
  },
  {
   "cell_type": "markdown",
   "metadata": {},
   "source": [
    "## 5. Clean the data\n",
    "* Raw data often needs to be processed\n",
    "* If it is pre-processed, make sure you understand how\n",
    "* Understand the source of the data(census,sample,convenience sample,etc)\n",
    "* May need reformating, subsampling -record these steps\n",
    "* Determine if the data is good enough - if not quit or change data"
   ]
  },
  {
   "cell_type": "markdown",
   "metadata": {},
   "source": [
    "### Our cleaned dataset"
   ]
  },
  {
   "cell_type": "code",
   "execution_count": 2,
   "metadata": {},
   "outputs": [
    {
     "name": "stdout",
     "output_type": "stream",
     "text": [
      "'data.frame':\t4601 obs. of  5 variables:\n",
      " $ make   : num  0 0.21 0.06 0 0 0 0 0 0.15 0.06 ...\n",
      " $ address: num  0.64 0.28 0 0 0 0 0 0 0 0.12 ...\n",
      " $ all    : num  0.64 0.5 0.71 0 0 0 0 0 0.46 0.77 ...\n",
      " $ num3d  : num  0 0 0 0 0 0 0 0 0 0 ...\n",
      " $ our    : num  0.32 0.14 1.23 0.63 0.63 1.85 1.92 1.88 0.61 0.19 ...\n"
     ]
    }
   ],
   "source": [
    "library(kernlab)\n",
    "data(spam)\n",
    "str(spam[,1:5])"
   ]
  },
  {
   "cell_type": "markdown",
   "metadata": {},
   "source": [
    "### Subsampling out dataset"
   ]
  },
  {
   "cell_type": "code",
   "execution_count": 3,
   "metadata": {},
   "outputs": [
    {
     "data": {
      "text/plain": [
       "trainIndicator\n",
       "   0    1 \n",
       "2314 2287 "
      ]
     },
     "metadata": {},
     "output_type": "display_data"
    }
   ],
   "source": [
    "set.seed(3435)\n",
    "trainIndicator <- rbinom(4601,size=1,prob=0.5)\n",
    "table(trainIndicator)"
   ]
  },
  {
   "cell_type": "code",
   "execution_count": 4,
   "metadata": {},
   "outputs": [],
   "source": [
    "trainSpam <- spam[trainIndicator==1,]\n",
    "testSpam <- spam[trainIndicator==0,]"
   ]
  },
  {
   "cell_type": "markdown",
   "metadata": {},
   "source": [
    "## 6. Exploratory data anlysis\n",
    "* Look at the summaries of the data\n",
    "* Check for missing data\n",
    "* Create Exploratory plots\n",
    "* Perform exploratory analyses(e.g.clustering)"
   ]
  },
  {
   "cell_type": "markdown",
   "metadata": {},
   "source": [
    "### Names"
   ]
  },
  {
   "cell_type": "code",
   "execution_count": 5,
   "metadata": {},
   "outputs": [
    {
     "data": {
      "text/html": [
       "<ol class=list-inline>\n",
       "\t<li>'make'</li>\n",
       "\t<li>'address'</li>\n",
       "\t<li>'all'</li>\n",
       "\t<li>'num3d'</li>\n",
       "\t<li>'our'</li>\n",
       "\t<li>'over'</li>\n",
       "\t<li>'remove'</li>\n",
       "\t<li>'internet'</li>\n",
       "\t<li>'order'</li>\n",
       "\t<li>'mail'</li>\n",
       "\t<li>'receive'</li>\n",
       "\t<li>'will'</li>\n",
       "\t<li>'people'</li>\n",
       "\t<li>'report'</li>\n",
       "\t<li>'addresses'</li>\n",
       "\t<li>'free'</li>\n",
       "\t<li>'business'</li>\n",
       "\t<li>'email'</li>\n",
       "\t<li>'you'</li>\n",
       "\t<li>'credit'</li>\n",
       "\t<li>'your'</li>\n",
       "\t<li>'font'</li>\n",
       "\t<li>'num000'</li>\n",
       "\t<li>'money'</li>\n",
       "\t<li>'hp'</li>\n",
       "\t<li>'hpl'</li>\n",
       "\t<li>'george'</li>\n",
       "\t<li>'num650'</li>\n",
       "\t<li>'lab'</li>\n",
       "\t<li>'labs'</li>\n",
       "\t<li>'telnet'</li>\n",
       "\t<li>'num857'</li>\n",
       "\t<li>'data'</li>\n",
       "\t<li>'num415'</li>\n",
       "\t<li>'num85'</li>\n",
       "\t<li>'technology'</li>\n",
       "\t<li>'num1999'</li>\n",
       "\t<li>'parts'</li>\n",
       "\t<li>'pm'</li>\n",
       "\t<li>'direct'</li>\n",
       "\t<li>'cs'</li>\n",
       "\t<li>'meeting'</li>\n",
       "\t<li>'original'</li>\n",
       "\t<li>'project'</li>\n",
       "\t<li>'re'</li>\n",
       "\t<li>'edu'</li>\n",
       "\t<li>'table'</li>\n",
       "\t<li>'conference'</li>\n",
       "\t<li>'charSemicolon'</li>\n",
       "\t<li>'charRoundbracket'</li>\n",
       "\t<li>'charSquarebracket'</li>\n",
       "\t<li>'charExclamation'</li>\n",
       "\t<li>'charDollar'</li>\n",
       "\t<li>'charHash'</li>\n",
       "\t<li>'capitalAve'</li>\n",
       "\t<li>'capitalLong'</li>\n",
       "\t<li>'capitalTotal'</li>\n",
       "\t<li>'type'</li>\n",
       "</ol>\n"
      ],
      "text/latex": [
       "\\begin{enumerate*}\n",
       "\\item 'make'\n",
       "\\item 'address'\n",
       "\\item 'all'\n",
       "\\item 'num3d'\n",
       "\\item 'our'\n",
       "\\item 'over'\n",
       "\\item 'remove'\n",
       "\\item 'internet'\n",
       "\\item 'order'\n",
       "\\item 'mail'\n",
       "\\item 'receive'\n",
       "\\item 'will'\n",
       "\\item 'people'\n",
       "\\item 'report'\n",
       "\\item 'addresses'\n",
       "\\item 'free'\n",
       "\\item 'business'\n",
       "\\item 'email'\n",
       "\\item 'you'\n",
       "\\item 'credit'\n",
       "\\item 'your'\n",
       "\\item 'font'\n",
       "\\item 'num000'\n",
       "\\item 'money'\n",
       "\\item 'hp'\n",
       "\\item 'hpl'\n",
       "\\item 'george'\n",
       "\\item 'num650'\n",
       "\\item 'lab'\n",
       "\\item 'labs'\n",
       "\\item 'telnet'\n",
       "\\item 'num857'\n",
       "\\item 'data'\n",
       "\\item 'num415'\n",
       "\\item 'num85'\n",
       "\\item 'technology'\n",
       "\\item 'num1999'\n",
       "\\item 'parts'\n",
       "\\item 'pm'\n",
       "\\item 'direct'\n",
       "\\item 'cs'\n",
       "\\item 'meeting'\n",
       "\\item 'original'\n",
       "\\item 'project'\n",
       "\\item 're'\n",
       "\\item 'edu'\n",
       "\\item 'table'\n",
       "\\item 'conference'\n",
       "\\item 'charSemicolon'\n",
       "\\item 'charRoundbracket'\n",
       "\\item 'charSquarebracket'\n",
       "\\item 'charExclamation'\n",
       "\\item 'charDollar'\n",
       "\\item 'charHash'\n",
       "\\item 'capitalAve'\n",
       "\\item 'capitalLong'\n",
       "\\item 'capitalTotal'\n",
       "\\item 'type'\n",
       "\\end{enumerate*}\n"
      ],
      "text/markdown": [
       "1. 'make'\n",
       "2. 'address'\n",
       "3. 'all'\n",
       "4. 'num3d'\n",
       "5. 'our'\n",
       "6. 'over'\n",
       "7. 'remove'\n",
       "8. 'internet'\n",
       "9. 'order'\n",
       "10. 'mail'\n",
       "11. 'receive'\n",
       "12. 'will'\n",
       "13. 'people'\n",
       "14. 'report'\n",
       "15. 'addresses'\n",
       "16. 'free'\n",
       "17. 'business'\n",
       "18. 'email'\n",
       "19. 'you'\n",
       "20. 'credit'\n",
       "21. 'your'\n",
       "22. 'font'\n",
       "23. 'num000'\n",
       "24. 'money'\n",
       "25. 'hp'\n",
       "26. 'hpl'\n",
       "27. 'george'\n",
       "28. 'num650'\n",
       "29. 'lab'\n",
       "30. 'labs'\n",
       "31. 'telnet'\n",
       "32. 'num857'\n",
       "33. 'data'\n",
       "34. 'num415'\n",
       "35. 'num85'\n",
       "36. 'technology'\n",
       "37. 'num1999'\n",
       "38. 'parts'\n",
       "39. 'pm'\n",
       "40. 'direct'\n",
       "41. 'cs'\n",
       "42. 'meeting'\n",
       "43. 'original'\n",
       "44. 'project'\n",
       "45. 're'\n",
       "46. 'edu'\n",
       "47. 'table'\n",
       "48. 'conference'\n",
       "49. 'charSemicolon'\n",
       "50. 'charRoundbracket'\n",
       "51. 'charSquarebracket'\n",
       "52. 'charExclamation'\n",
       "53. 'charDollar'\n",
       "54. 'charHash'\n",
       "55. 'capitalAve'\n",
       "56. 'capitalLong'\n",
       "57. 'capitalTotal'\n",
       "58. 'type'\n",
       "\n",
       "\n"
      ],
      "text/plain": [
       " [1] \"make\"              \"address\"           \"all\"              \n",
       " [4] \"num3d\"             \"our\"               \"over\"             \n",
       " [7] \"remove\"            \"internet\"          \"order\"            \n",
       "[10] \"mail\"              \"receive\"           \"will\"             \n",
       "[13] \"people\"            \"report\"            \"addresses\"        \n",
       "[16] \"free\"              \"business\"          \"email\"            \n",
       "[19] \"you\"               \"credit\"            \"your\"             \n",
       "[22] \"font\"              \"num000\"            \"money\"            \n",
       "[25] \"hp\"                \"hpl\"               \"george\"           \n",
       "[28] \"num650\"            \"lab\"               \"labs\"             \n",
       "[31] \"telnet\"            \"num857\"            \"data\"             \n",
       "[34] \"num415\"            \"num85\"             \"technology\"       \n",
       "[37] \"num1999\"           \"parts\"             \"pm\"               \n",
       "[40] \"direct\"            \"cs\"                \"meeting\"          \n",
       "[43] \"original\"          \"project\"           \"re\"               \n",
       "[46] \"edu\"               \"table\"             \"conference\"       \n",
       "[49] \"charSemicolon\"     \"charRoundbracket\"  \"charSquarebracket\"\n",
       "[52] \"charExclamation\"   \"charDollar\"        \"charHash\"         \n",
       "[55] \"capitalAve\"        \"capitalLong\"       \"capitalTotal\"     \n",
       "[58] \"type\"             "
      ]
     },
     "metadata": {},
     "output_type": "display_data"
    }
   ],
   "source": [
    "names(trainSpam)"
   ]
  },
  {
   "cell_type": "markdown",
   "metadata": {},
   "source": [
    "### head"
   ]
  },
  {
   "cell_type": "code",
   "execution_count": 6,
   "metadata": {},
   "outputs": [
    {
     "data": {
      "text/html": [
       "<table>\n",
       "<thead><tr><th></th><th scope=col>make</th><th scope=col>address</th><th scope=col>all</th><th scope=col>num3d</th><th scope=col>our</th><th scope=col>over</th><th scope=col>remove</th><th scope=col>internet</th><th scope=col>order</th><th scope=col>mail</th><th scope=col>...</th><th scope=col>charSemicolon</th><th scope=col>charRoundbracket</th><th scope=col>charSquarebracket</th><th scope=col>charExclamation</th><th scope=col>charDollar</th><th scope=col>charHash</th><th scope=col>capitalAve</th><th scope=col>capitalLong</th><th scope=col>capitalTotal</th><th scope=col>type</th></tr></thead>\n",
       "<tbody>\n",
       "\t<tr><th scope=row>1</th><td>0.00 </td><td>0.64 </td><td>0.64 </td><td>0    </td><td>0.32 </td><td>0.00 </td><td>0.00 </td><td>0    </td><td>0.00 </td><td>0.00 </td><td>...  </td><td>0.000</td><td>0.000</td><td>0    </td><td>0.778</td><td>0.000</td><td>0.000</td><td>3.756</td><td> 61  </td><td> 278 </td><td>spam </td></tr>\n",
       "\t<tr><th scope=row>7</th><td>0.00 </td><td>0.00 </td><td>0.00 </td><td>0    </td><td>1.92 </td><td>0.00 </td><td>0.00 </td><td>0    </td><td>0.00 </td><td>0.64 </td><td>...  </td><td>0.000</td><td>0.054</td><td>0    </td><td>0.164</td><td>0.054</td><td>0.000</td><td>1.671</td><td>  4  </td><td> 112 </td><td>spam </td></tr>\n",
       "\t<tr><th scope=row>9</th><td>0.15 </td><td>0.00 </td><td>0.46 </td><td>0    </td><td>0.61 </td><td>0.00 </td><td>0.30 </td><td>0    </td><td>0.92 </td><td>0.76 </td><td>...  </td><td>0.000</td><td>0.271</td><td>0    </td><td>0.181</td><td>0.203</td><td>0.022</td><td>9.744</td><td>445  </td><td>1257 </td><td>spam </td></tr>\n",
       "\t<tr><th scope=row>12</th><td>0.00 </td><td>0.00 </td><td>0.25 </td><td>0    </td><td>0.38 </td><td>0.25 </td><td>0.25 </td><td>0    </td><td>0.00 </td><td>0.00 </td><td>...  </td><td>0.022</td><td>0.044</td><td>0    </td><td>0.663</td><td>0.000</td><td>0.000</td><td>1.243</td><td> 11  </td><td> 184 </td><td>spam </td></tr>\n",
       "\t<tr><th scope=row>14</th><td>0.00 </td><td>0.00 </td><td>0.00 </td><td>0    </td><td>0.90 </td><td>0.00 </td><td>0.90 </td><td>0    </td><td>0.00 </td><td>0.90 </td><td>...  </td><td>0.000</td><td>0.000</td><td>0    </td><td>0.000</td><td>0.000</td><td>0.000</td><td>2.083</td><td>  7  </td><td>  25 </td><td>spam </td></tr>\n",
       "\t<tr><th scope=row>16</th><td>0.00 </td><td>0.42 </td><td>0.42 </td><td>0    </td><td>1.27 </td><td>0.00 </td><td>0.42 </td><td>0    </td><td>0.00 </td><td>1.27 </td><td>...  </td><td>0.000</td><td>0.063</td><td>0    </td><td>0.572</td><td>0.063</td><td>0.000</td><td>5.659</td><td> 55  </td><td> 249 </td><td>spam </td></tr>\n",
       "</tbody>\n",
       "</table>\n"
      ],
      "text/latex": [
       "\\begin{tabular}{r|llllllllllllllllllllllllllllllllllllllllllllllllllllllllll}\n",
       "  & make & address & all & num3d & our & over & remove & internet & order & mail & ... & charSemicolon & charRoundbracket & charSquarebracket & charExclamation & charDollar & charHash & capitalAve & capitalLong & capitalTotal & type\\\\\n",
       "\\hline\n",
       "\t1 & 0.00  & 0.64  & 0.64  & 0     & 0.32  & 0.00  & 0.00  & 0     & 0.00  & 0.00  & ...   & 0.000 & 0.000 & 0     & 0.778 & 0.000 & 0.000 & 3.756 &  61   &  278  & spam \\\\\n",
       "\t7 & 0.00  & 0.00  & 0.00  & 0     & 1.92  & 0.00  & 0.00  & 0     & 0.00  & 0.64  & ...   & 0.000 & 0.054 & 0     & 0.164 & 0.054 & 0.000 & 1.671 &   4   &  112  & spam \\\\\n",
       "\t9 & 0.15  & 0.00  & 0.46  & 0     & 0.61  & 0.00  & 0.30  & 0     & 0.92  & 0.76  & ...   & 0.000 & 0.271 & 0     & 0.181 & 0.203 & 0.022 & 9.744 & 445   & 1257  & spam \\\\\n",
       "\t12 & 0.00  & 0.00  & 0.25  & 0     & 0.38  & 0.25  & 0.25  & 0     & 0.00  & 0.00  & ...   & 0.022 & 0.044 & 0     & 0.663 & 0.000 & 0.000 & 1.243 &  11   &  184  & spam \\\\\n",
       "\t14 & 0.00  & 0.00  & 0.00  & 0     & 0.90  & 0.00  & 0.90  & 0     & 0.00  & 0.90  & ...   & 0.000 & 0.000 & 0     & 0.000 & 0.000 & 0.000 & 2.083 &   7   &   25  & spam \\\\\n",
       "\t16 & 0.00  & 0.42  & 0.42  & 0     & 1.27  & 0.00  & 0.42  & 0     & 0.00  & 1.27  & ...   & 0.000 & 0.063 & 0     & 0.572 & 0.063 & 0.000 & 5.659 &  55   &  249  & spam \\\\\n",
       "\\end{tabular}\n"
      ],
      "text/markdown": [
       "\n",
       "| <!--/--> | make | address | all | num3d | our | over | remove | internet | order | mail | ... | charSemicolon | charRoundbracket | charSquarebracket | charExclamation | charDollar | charHash | capitalAve | capitalLong | capitalTotal | type | \n",
       "|---|---|---|---|---|---|\n",
       "| 1 | 0.00  | 0.64  | 0.64  | 0     | 0.32  | 0.00  | 0.00  | 0     | 0.00  | 0.00  | ...   | 0.000 | 0.000 | 0     | 0.778 | 0.000 | 0.000 | 3.756 |  61   |  278  | spam  | \n",
       "| 7 | 0.00  | 0.00  | 0.00  | 0     | 1.92  | 0.00  | 0.00  | 0     | 0.00  | 0.64  | ...   | 0.000 | 0.054 | 0     | 0.164 | 0.054 | 0.000 | 1.671 |   4   |  112  | spam  | \n",
       "| 9 | 0.15  | 0.00  | 0.46  | 0     | 0.61  | 0.00  | 0.30  | 0     | 0.92  | 0.76  | ...   | 0.000 | 0.271 | 0     | 0.181 | 0.203 | 0.022 | 9.744 | 445   | 1257  | spam  | \n",
       "| 12 | 0.00  | 0.00  | 0.25  | 0     | 0.38  | 0.25  | 0.25  | 0     | 0.00  | 0.00  | ...   | 0.022 | 0.044 | 0     | 0.663 | 0.000 | 0.000 | 1.243 |  11   |  184  | spam  | \n",
       "| 14 | 0.00  | 0.00  | 0.00  | 0     | 0.90  | 0.00  | 0.90  | 0     | 0.00  | 0.90  | ...   | 0.000 | 0.000 | 0     | 0.000 | 0.000 | 0.000 | 2.083 |   7   |   25  | spam  | \n",
       "| 16 | 0.00  | 0.42  | 0.42  | 0     | 1.27  | 0.00  | 0.42  | 0     | 0.00  | 1.27  | ...   | 0.000 | 0.063 | 0     | 0.572 | 0.063 | 0.000 | 5.659 |  55   |  249  | spam  | \n",
       "\n",
       "\n"
      ],
      "text/plain": [
       "   make address all  num3d our  over remove internet order mail ...\n",
       "1  0.00 0.64    0.64 0     0.32 0.00 0.00   0        0.00  0.00 ...\n",
       "7  0.00 0.00    0.00 0     1.92 0.00 0.00   0        0.00  0.64 ...\n",
       "9  0.15 0.00    0.46 0     0.61 0.00 0.30   0        0.92  0.76 ...\n",
       "12 0.00 0.00    0.25 0     0.38 0.25 0.25   0        0.00  0.00 ...\n",
       "14 0.00 0.00    0.00 0     0.90 0.00 0.90   0        0.00  0.90 ...\n",
       "16 0.00 0.42    0.42 0     1.27 0.00 0.42   0        0.00  1.27 ...\n",
       "   charSemicolon charRoundbracket charSquarebracket charExclamation charDollar\n",
       "1  0.000         0.000            0                 0.778           0.000     \n",
       "7  0.000         0.054            0                 0.164           0.054     \n",
       "9  0.000         0.271            0                 0.181           0.203     \n",
       "12 0.022         0.044            0                 0.663           0.000     \n",
       "14 0.000         0.000            0                 0.000           0.000     \n",
       "16 0.000         0.063            0                 0.572           0.063     \n",
       "   charHash capitalAve capitalLong capitalTotal type\n",
       "1  0.000    3.756       61          278         spam\n",
       "7  0.000    1.671        4          112         spam\n",
       "9  0.022    9.744      445         1257         spam\n",
       "12 0.000    1.243       11          184         spam\n",
       "14 0.000    2.083        7           25         spam\n",
       "16 0.000    5.659       55          249         spam"
      ]
     },
     "metadata": {},
     "output_type": "display_data"
    }
   ],
   "source": [
    "head(trainSpam)"
   ]
  },
  {
   "cell_type": "markdown",
   "metadata": {},
   "source": [
    "### Summaries"
   ]
  },
  {
   "cell_type": "code",
   "execution_count": 7,
   "metadata": {},
   "outputs": [
    {
     "data": {
      "text/plain": [
       "\n",
       "nonspam    spam \n",
       "   1381     906 "
      ]
     },
     "metadata": {},
     "output_type": "display_data"
    }
   ],
   "source": [
    "table(trainSpam$type)"
   ]
  },
  {
   "cell_type": "markdown",
   "metadata": {},
   "source": [
    "### Plots"
   ]
  },
  {
   "cell_type": "code",
   "execution_count": 8,
   "metadata": {},
   "outputs": [
    {
     "data": {
      "image/png": "[encoded data removed]",
      "text/plain": [
       "plot without title"
      ]
     },
     "metadata": {},
     "output_type": "display_data",
     "source": "R display func"
    }
   ],
   "source": [
    "plot(trainSpam$capitalAve~trainSpam$type)"
   ]
  },
  {
   "cell_type": "code",
   "execution_count": 9,
   "metadata": {},
   "outputs": [
    {
     "data": {
      "image/png": "[encoded data removed]",
      "text/plain": [
       "plot without title"
      ]
     },
     "metadata": {},
     "output_type": "display_data",
     "source": "R display func"
    }
   ],
   "source": [
    "plot(log10(trainSpam$capitalAve+1)~trainSpam$type)"
   ]
  },
  {
   "cell_type": "markdown",
   "metadata": {},
   "source": [
    "### Relationship between predictors"
   ]
  },
  {
   "cell_type": "code",
   "execution_count": 10,
   "metadata": {},
   "outputs": [
    {
     "data": {
      "image/png": "[encoded data removed]",
      "text/plain": [
       "plot without title"
      ]
     },
     "metadata": {},
     "output_type": "display_data",
     "source": "R display func"
    }
   ],
   "source": [
    "plot(log10(trainSpam[,1:4]+1))"
   ]
  },
  {
   "cell_type": "markdown",
   "metadata": {},
   "source": [
    "### Clustering"
   ]
  },
  {
   "cell_type": "code",
   "execution_count": 11,
   "metadata": {},
   "outputs": [
    {
     "data": {
      "image/png": "[encoded data removed]",
      "text/plain": [
       "Plot with title \"Cluster Dendrogram\""
      ]
     },
     "metadata": {},
     "output_type": "display_data",
     "source": "R display func"
    }
   ],
   "source": [
    "hCluster <- hclust(dist(t(trainSpam[,1:55])))\n",
    "plot(hCluster)"
   ]
  },
  {
   "cell_type": "markdown",
   "metadata": {},
   "source": [
    "### New Clustering"
   ]
  },
  {
   "cell_type": "code",
   "execution_count": 12,
   "metadata": {},
   "outputs": [
    {
     "data": {
      "image/png": "[encoded data removed]",
      "text/plain": [
       "Plot with title \"Cluster Dendrogram\""
      ]
     },
     "metadata": {},
     "output_type": "display_data",
     "source": "R display func"
    }
   ],
   "source": [
    "hClusterUpdate <- hclust(dist(t(log10(trainSpam[,1:55]+1))))\n",
    "plot(hClusterUpdate)"
   ]
  },
  {
   "cell_type": "markdown",
   "metadata": {},
   "source": [
    "## Statistical Prediction/modeling\n",
    "* Should be informed by the results of your exploratory analysis\n",
    "* Exact question depends on the question of interest\n",
    "* Transformations/processing should be accounted for when necessary\n",
    "* Measures of uncertainity should be reported"
   ]
  },
  {
   "cell_type": "code",
   "execution_count": 25,
   "metadata": {},
   "outputs": [
    {
     "data": {
      "text/html": [
       "'charDollar'"
      ],
      "text/latex": [
       "'charDollar'"
      ],
      "text/markdown": [
       "'charDollar'"
      ],
      "text/plain": [
       "[1] \"charDollar\""
      ]
     },
     "metadata": {},
     "output_type": "display_data"
    }
   ],
   "source": [
    "options(warn = -1)\n",
    "trainSpam$numType = as.numeric(trainSpam$type) - 1\n",
    "costFunction = function(x, y) sum(x != (y > 0.5))\n",
    "cvError = rep(NA, 55)\n",
    "\n",
    "library(boot)\n",
    "\n",
    "for (i in 1:55) {\n",
    "    lmFormula = reformulate(names(trainSpam)[i], response = \"numType\")\n",
    "    glmFit = glm(lmFormula, family = \"binomial\", data = trainSpam)\n",
    "    cvError[i] = cv.glm(trainSpam, glmFit, costFunction, 2)$delta[2]\n",
    "}\n",
    "\n",
    "## Which predictor has minimum cross-validated error?\n",
    "names(trainSpam)[which.min(cvError)]"
   ]
  },
  {
   "cell_type": "markdown",
   "metadata": {},
   "source": [
    "## Get a measure of uncertainty"
   ]
  },
  {
   "cell_type": "code",
   "execution_count": 26,
   "metadata": {},
   "outputs": [],
   "source": [
    "## Use the best model from the group\n",
    "predictionModel = glm(numType ~ charDollar, family = \"binomial\", data = trainSpam)\n",
    "## Get predictions on the test set\n",
    "predictionTest = predict(predictionModel, testSpam)\n",
    "predictedSpam = rep(\"nonspam\", dim(testSpam)[1])\n",
    "## Classify as `spam' for those with prob > 0.5\n",
    "predictedSpam[predictionModel$fitted > 0.5] = \"spam\""
   ]
  },
  {
   "cell_type": "code",
   "execution_count": 28,
   "metadata": {},
   "outputs": [
    {
     "data": {
      "text/plain": [
       "             \n",
       "predictedSpam nonspam spam\n",
       "      nonspam    1346  458\n",
       "      spam         61  449"
      ]
     },
     "metadata": {},
     "output_type": "display_data"
    }
   ],
   "source": [
    "## Classification table\n",
    "table(predictedSpam, testSpam$type)"
   ]
  },
  {
   "cell_type": "code",
   "execution_count": 30,
   "metadata": {},
   "outputs": [
    {
     "data": {
      "text/html": [
       "0.22428694900605"
      ],
      "text/latex": [
       "0.22428694900605"
      ],
      "text/markdown": [
       "0.22428694900605"
      ],
      "text/plain": [
       "[1] 0.2242869"
      ]
     },
     "metadata": {},
     "output_type": "display_data"
    }
   ],
   "source": [
    "(61+458)/(1346+458+61+449)"
   ]
  },
  {
   "cell_type": "markdown",
   "metadata": {},
   "source": [
    "## Interpret results\n",
    "* Use the appropriate language\n",
    "    - describes\n",
    "    - correlates with/associated with\n",
    "    - leads to/causes\n",
    "    - predicts\n",
    "* Give an explanation\n",
    "* Interpret coefficients\n",
    "* Interpret measures of uncertainty"
   ]
  },
  {
   "cell_type": "markdown",
   "metadata": {},
   "source": [
    "### Our example\n",
    "* The fraction of charcters that are dollar signs can be used to predict if an email is Spam\n",
    "* Anything with more than 6.6% dollar signs is classified as Spam\n",
    "* More dollar signs always means more Spam under our prediction\n",
    "* Our test set error rate was 22.4%"
   ]
  },
  {
   "cell_type": "markdown",
   "metadata": {},
   "source": [
    "## Challenge results\n",
    "* Challenge all steps:\n",
    "    - Question\n",
    "    - Data source\n",
    "    - Processing\n",
    "    - Analysis\n",
    "    - Conclusions\n",
    "* Challenge measures of uncertainty\n",
    "* Challenge choices of terms to include in mo\n",
    "* Think of potential alternative analyses"
   ]
  },
  {
   "cell_type": "markdown",
   "metadata": {},
   "source": [
    "## Synthesize/write-up results\n",
    "* Lead with the question\n",
    "* Summarize the analyses into the story\n",
    "* Don't include every analysis, include it\n",
    "    - If it is needed for the story\n",
    "    - If it is needed to address a challenge\n",
    "* Order analyses according to the story, rather than chrono\n",
    "* Include \"pretty\" figures that contribute to the story"
   ]
  },
  {
   "cell_type": "markdown",
   "metadata": {},
   "source": [
    "## In our example\n",
    "* Lead with the question\n",
    "    - Can I use quantitative characteristics of the emails to classify them as SPAM/HAM?\n",
    "* Describe the approach\n",
    "    - Collected data from UCI -> created training/test sets\n",
    "    - Explored relationships\n",
    "    - Choose logistic model on training set by cross validation\n",
    "    - Applied to test, 78% test set accuracy\n",
    "* Interpret results\n",
    "    - Number of dollar signs seems reasonable, e.g. \"Make money with Viagra $ $ $ $!\"\n",
    "* Challenge results\n",
    "    - 78% isn't that great\n",
    "    - I could use more variables\n",
    "    - Why logistic regression?"
   ]
  },
  {
   "cell_type": "code",
   "execution_count": null,
   "metadata": {},
   "outputs": [],
   "source": []
  }
 ],
 "metadata": {
  "kernelspec": {
   "display_name": "R",
   "language": "R",
   "name": "ir"
  },
  "language_info": {
   "codemirror_mode": "r",
   "file_extension": ".r",
   "mimetype": "text/x-r-source",
   "name": "R",
   "pygments_lexer": "r",
   "version": "3.4.2"
  }
 },
 "nbformat": 4,
 "nbformat_minor": 2
}
