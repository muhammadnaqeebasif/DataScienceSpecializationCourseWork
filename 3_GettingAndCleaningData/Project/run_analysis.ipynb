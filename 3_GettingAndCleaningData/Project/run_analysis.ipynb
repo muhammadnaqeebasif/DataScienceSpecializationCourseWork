{
 "cells": [
  {
   "cell_type": "markdown",
   "metadata": {},
   "source": [
    "# Getting and Cleaning Data Course Project"
   ]
  },
  {
   "cell_type": "markdown",
   "metadata": {},
   "source": [
    "## Brief Explanation"
   ]
  },
  {
   "cell_type": "markdown",
   "metadata": {},
   "source": [
    "This script does the following.\n",
    "\n",
    "1. Merges the training and the test sets to create one data set.\n",
    "2. Extracts only the measurements on the mean and standard deviation for each measurement.\n",
    "3. Uses descriptive activity names to name the activities in the data set\n",
    "4. Appropriately labels the data set with descriptive variable names.\n",
    "5. From the data set in step 4, creates a second, independent tidy data set with the average of each variable for each activity and each subject."
   ]
  },
  {
   "cell_type": "markdown",
   "metadata": {},
   "source": [
    "## Reading the files"
   ]
  },
  {
   "cell_type": "markdown",
   "metadata": {},
   "source": [
    "### 1. Reading the training files"
   ]
  },
  {
   "cell_type": "code",
   "execution_count": 8,
   "metadata": {},
   "outputs": [],
   "source": [
    "train_activity <- read.table(\"./UCI HAR Dataset/train/y_train.txt\")\n",
    "train_features <- read.table(\"./UCI HAR Dataset/train/X_train.txt\")\n",
    "train_subject <- read.table(\"./UCI HAR Dataset/train/subject_train.txt\")"
   ]
  },
  {
   "cell_type": "markdown",
   "metadata": {},
   "source": [
    "Checking the dimensions of the dataframs read from the datasets"
   ]
  },
  {
   "cell_type": "code",
   "execution_count": 10,
   "metadata": {},
   "outputs": [
    {
     "name": "stdout",
     "output_type": "stream",
     "text": [
      "[1] 7352    1\n",
      "[1] 7352  561\n",
      "[1] 7352    1\n"
     ]
    }
   ],
   "source": [
    "print(dim(train_activity))\n",
    "print(dim(train_features))\n",
    "print(dim(train_subject))"
   ]
  },
  {
   "cell_type": "markdown",
   "metadata": {},
   "source": [
    "### 2. Reading the test files "
   ]
  },
  {
   "cell_type": "code",
   "execution_count": 11,
   "metadata": {},
   "outputs": [],
   "source": [
    "test_activity <- read.table(\"./UCI HAR Dataset/test/y_test.txt\")\n",
    "test_features <- read.table(\"./UCI HAR Dataset/test/X_test.txt\")\n",
    "test_subject <- read.table(\"./UCI HAR Dataset/test/subject_test.txt\")"
   ]
  },
  {
   "cell_type": "markdown",
   "metadata": {},
   "source": [
    "Checking the dimensions of the dataframs read from the datasets"
   ]
  },
  {
   "cell_type": "code",
   "execution_count": 12,
   "metadata": {},
   "outputs": [
    {
     "name": "stdout",
     "output_type": "stream",
     "text": [
      "[1] 2947    1\n",
      "[1] 2947  561\n",
      "[1] 2947    1\n"
     ]
    }
   ],
   "source": [
    "print(dim(test_activity))\n",
    "print(dim(test_features))\n",
    "print(dim(test_subject))"
   ]
  },
  {
   "cell_type": "markdown",
   "metadata": {},
   "source": [
    "---"
   ]
  },
  {
   "cell_type": "markdown",
   "metadata": {},
   "source": [
    "## Merging the dataset"
   ]
  },
  {
   "cell_type": "code",
   "execution_count": 74,
   "metadata": {},
   "outputs": [],
   "source": [
    "features_data <- rbind(train_features,test_features)\n",
    "activity_data <- rbind(train_activity,test_activity)\n",
    "subject_data <- rbind(train_subject,test_subject)\n",
    "colnames(activity_data) <- c('Activity')\n",
    "colnames(subject_data) <- c('Subject')"
   ]
  },
  {
   "cell_type": "markdown",
   "metadata": {},
   "source": [
    "Checking the overall dimension of the merged data"
   ]
  },
  {
   "cell_type": "code",
   "execution_count": 63,
   "metadata": {},
   "outputs": [
    {
     "name": "stdout",
     "output_type": "stream",
     "text": [
      "Is the dimension of merged features data is equal to the sum of individual data? TRUE \n",
      "Is the dimension of merged activity data is equal to the sum of individual data? TRUE \n",
      "Is the dimension of merged subject data is equal tto the sum of individual data? TRUE \n"
     ]
    }
   ],
   "source": [
    "cat(\"Is the dimension of merged features data is equal to the sum of individual data?\",(dim(features_data)[1]==\n",
    "   dim(train_features)[1] + dim(test_features)[1]) && dim(features_data)[2]==dim(train_features)[2] , \"\\n\")\n",
    "\n",
    "cat(\"Is the dimension of merged activity data is equal to the sum of individual data?\",(dim(activity_data)[1]==\n",
    "   dim(train_activity)[1] + dim(test_activity)[1]) && dim(activity_data)[2]==dim(train_activity)[2], \"\\n\")\n",
    "\n",
    "cat(\"Is the dimension of merged subject data is equal tto the sum of individual data?\",(dim(subject_data)[1]==\n",
    "   dim(train_subject)[1] + dim(test_subject)[1]) && dim(subject_data)[2]==dim(train_subject)[2], \"\\n\")"
   ]
  },
  {
   "cell_type": "code",
   "execution_count": 64,
   "metadata": {},
   "outputs": [
    {
     "data": {
      "text/html": [
       "<table>\n",
       "<thead><tr><th scope=col>V1</th><th scope=col>V2</th><th scope=col>V3</th><th scope=col>V4</th><th scope=col>V5</th><th scope=col>V6</th><th scope=col>V7</th><th scope=col>V8</th><th scope=col>V9</th><th scope=col>V10</th><th scope=col>...</th><th scope=col>V552</th><th scope=col>V553</th><th scope=col>V554</th><th scope=col>V555</th><th scope=col>V556</th><th scope=col>V557</th><th scope=col>V558</th><th scope=col>V559</th><th scope=col>V560</th><th scope=col>V561</th></tr></thead>\n",
       "<tbody>\n",
       "\t<tr><td>0.2885845   </td><td>-0.02029417 </td><td>-0.1329051  </td><td>-0.9952786  </td><td>-0.9831106  </td><td>-0.9135264  </td><td>-0.9951121  </td><td>-0.9831846  </td><td>-0.9235270  </td><td>-0.9347238  </td><td>...         </td><td>-0.07432303 </td><td>-0.2986764  </td><td>-0.7103041  </td><td>-0.11275434 </td><td> 0.030400372</td><td>-0.4647614  </td><td>-0.01844588 </td><td>-0.8412468  </td><td>0.1799406   </td><td>-0.05862692 </td></tr>\n",
       "\t<tr><td>0.2784188   </td><td>-0.01641057 </td><td>-0.1235202  </td><td>-0.9982453  </td><td>-0.9753002  </td><td>-0.9603220  </td><td>-0.9988072  </td><td>-0.9749144  </td><td>-0.9576862  </td><td>-0.9430675  </td><td>...         </td><td> 0.15807454 </td><td>-0.5950509  </td><td>-0.8614993  </td><td> 0.05347695 </td><td>-0.007434566</td><td>-0.7326262  </td><td> 0.70351059 </td><td>-0.8447876  </td><td>0.1802889   </td><td>-0.05431672 </td></tr>\n",
       "\t<tr><td>0.2796531   </td><td>-0.01946716 </td><td>-0.1134617  </td><td>-0.9953796  </td><td>-0.9671870  </td><td>-0.9789440  </td><td>-0.9965199  </td><td>-0.9636684  </td><td>-0.9774686  </td><td>-0.9386916  </td><td>...         </td><td> 0.41450281 </td><td>-0.3907482  </td><td>-0.7601037  </td><td>-0.11855926 </td><td> 0.177899480</td><td> 0.1006992  </td><td> 0.80852908 </td><td>-0.8489335  </td><td>0.1806373   </td><td>-0.04911782 </td></tr>\n",
       "\t<tr><td>0.2791739   </td><td>-0.02620065 </td><td>-0.1232826  </td><td>-0.9960915  </td><td>-0.9834027  </td><td>-0.9906751  </td><td>-0.9970995  </td><td>-0.9827498  </td><td>-0.9893025  </td><td>-0.9386916  </td><td>...         </td><td> 0.40457253 </td><td>-0.1172902  </td><td>-0.4828445  </td><td>-0.03678797 </td><td>-0.012892494</td><td> 0.6400110  </td><td>-0.48536645 </td><td>-0.8486494  </td><td>0.1819348   </td><td>-0.04766318 </td></tr>\n",
       "\t<tr><td>0.2766288   </td><td>-0.01656965 </td><td>-0.1153619  </td><td>-0.9981386  </td><td>-0.9808173  </td><td>-0.9904816  </td><td>-0.9983211  </td><td>-0.9796719  </td><td>-0.9904411  </td><td>-0.9424691  </td><td>...         </td><td> 0.08775301 </td><td>-0.3514709  </td><td>-0.6992052  </td><td> 0.12332005 </td><td> 0.122541960</td><td> 0.6935783  </td><td>-0.61597061 </td><td>-0.8478653  </td><td>0.1851512   </td><td>-0.04389225 </td></tr>\n",
       "\t<tr><td>0.2771988   </td><td>-0.01009785 </td><td>-0.1051373  </td><td>-0.9973350  </td><td>-0.9904868  </td><td>-0.9954200  </td><td>-0.9976274  </td><td>-0.9902177  </td><td>-0.9955489  </td><td>-0.9424691  </td><td>...         </td><td> 0.01995331 </td><td>-0.5454101  </td><td>-0.8446193  </td><td> 0.08263215 </td><td>-0.143439010</td><td> 0.2750408  </td><td>-0.36822404 </td><td>-0.8496316  </td><td>0.1848225   </td><td>-0.04212638 </td></tr>\n",
       "</tbody>\n",
       "</table>\n"
      ],
      "text/latex": [
       "\\begin{tabular}{r|lllllllllllllllllllllllllllllllllllllllllllllllllllllllllllllllllllllllllllllllllllllllllllllllllllllllllllllllllllllllllllllllllllllllllllllllllllllllllllllllllllllllllllllllllllllllllllllllllllllllllllllllllllllllllllllllllllllllllllllllllllllllllllllllllllllllllllllllllllllllllllllllllllllllllllllllllllllllllllllllllllllllllllllllllllllllllllllllllllllllllllllllllllllllllllllllllllllllllllllllllllllllllllllllllllllllllllllllllllllllllllllllllllllllllllllllllllllllllllllllllllllllllllllllllllllllllllllllllllllllllllllllllllllllllllllllllllllllllllllllll}\n",
       " V1 & V2 & V3 & V4 & V5 & V6 & V7 & V8 & V9 & V10 & ... & V552 & V553 & V554 & V555 & V556 & V557 & V558 & V559 & V560 & V561\\\\\n",
       "\\hline\n",
       "\t 0.2885845    & -0.02029417  & -0.1329051   & -0.9952786   & -0.9831106   & -0.9135264   & -0.9951121   & -0.9831846   & -0.9235270   & -0.9347238   & ...          & -0.07432303  & -0.2986764   & -0.7103041   & -0.11275434  &  0.030400372 & -0.4647614   & -0.01844588  & -0.8412468   & 0.1799406    & -0.05862692 \\\\\n",
       "\t 0.2784188    & -0.01641057  & -0.1235202   & -0.9982453   & -0.9753002   & -0.9603220   & -0.9988072   & -0.9749144   & -0.9576862   & -0.9430675   & ...          &  0.15807454  & -0.5950509   & -0.8614993   &  0.05347695  & -0.007434566 & -0.7326262   &  0.70351059  & -0.8447876   & 0.1802889    & -0.05431672 \\\\\n",
       "\t 0.2796531    & -0.01946716  & -0.1134617   & -0.9953796   & -0.9671870   & -0.9789440   & -0.9965199   & -0.9636684   & -0.9774686   & -0.9386916   & ...          &  0.41450281  & -0.3907482   & -0.7601037   & -0.11855926  &  0.177899480 &  0.1006992   &  0.80852908  & -0.8489335   & 0.1806373    & -0.04911782 \\\\\n",
       "\t 0.2791739    & -0.02620065  & -0.1232826   & -0.9960915   & -0.9834027   & -0.9906751   & -0.9970995   & -0.9827498   & -0.9893025   & -0.9386916   & ...          &  0.40457253  & -0.1172902   & -0.4828445   & -0.03678797  & -0.012892494 &  0.6400110   & -0.48536645  & -0.8486494   & 0.1819348    & -0.04766318 \\\\\n",
       "\t 0.2766288    & -0.01656965  & -0.1153619   & -0.9981386   & -0.9808173   & -0.9904816   & -0.9983211   & -0.9796719   & -0.9904411   & -0.9424691   & ...          &  0.08775301  & -0.3514709   & -0.6992052   &  0.12332005  &  0.122541960 &  0.6935783   & -0.61597061  & -0.8478653   & 0.1851512    & -0.04389225 \\\\\n",
       "\t 0.2771988    & -0.01009785  & -0.1051373   & -0.9973350   & -0.9904868   & -0.9954200   & -0.9976274   & -0.9902177   & -0.9955489   & -0.9424691   & ...          &  0.01995331  & -0.5454101   & -0.8446193   &  0.08263215  & -0.143439010 &  0.2750408   & -0.36822404  & -0.8496316   & 0.1848225    & -0.04212638 \\\\\n",
       "\\end{tabular}\n"
      ],
      "text/markdown": [
       "\n",
       "V1 | V2 | V3 | V4 | V5 | V6 | V7 | V8 | V9 | V10 | ... | V552 | V553 | V554 | V555 | V556 | V557 | V558 | V559 | V560 | V561 | \n",
       "|---|---|---|---|---|---|\n",
       "| 0.2885845    | -0.02029417  | -0.1329051   | -0.9952786   | -0.9831106   | -0.9135264   | -0.9951121   | -0.9831846   | -0.9235270   | -0.9347238   | ...          | -0.07432303  | -0.2986764   | -0.7103041   | -0.11275434  |  0.030400372 | -0.4647614   | -0.01844588  | -0.8412468   | 0.1799406    | -0.05862692  | \n",
       "| 0.2784188    | -0.01641057  | -0.1235202   | -0.9982453   | -0.9753002   | -0.9603220   | -0.9988072   | -0.9749144   | -0.9576862   | -0.9430675   | ...          |  0.15807454  | -0.5950509   | -0.8614993   |  0.05347695  | -0.007434566 | -0.7326262   |  0.70351059  | -0.8447876   | 0.1802889    | -0.05431672  | \n",
       "| 0.2796531    | -0.01946716  | -0.1134617   | -0.9953796   | -0.9671870   | -0.9789440   | -0.9965199   | -0.9636684   | -0.9774686   | -0.9386916   | ...          |  0.41450281  | -0.3907482   | -0.7601037   | -0.11855926  |  0.177899480 |  0.1006992   |  0.80852908  | -0.8489335   | 0.1806373    | -0.04911782  | \n",
       "| 0.2791739    | -0.02620065  | -0.1232826   | -0.9960915   | -0.9834027   | -0.9906751   | -0.9970995   | -0.9827498   | -0.9893025   | -0.9386916   | ...          |  0.40457253  | -0.1172902   | -0.4828445   | -0.03678797  | -0.012892494 |  0.6400110   | -0.48536645  | -0.8486494   | 0.1819348    | -0.04766318  | \n",
       "| 0.2766288    | -0.01656965  | -0.1153619   | -0.9981386   | -0.9808173   | -0.9904816   | -0.9983211   | -0.9796719   | -0.9904411   | -0.9424691   | ...          |  0.08775301  | -0.3514709   | -0.6992052   |  0.12332005  |  0.122541960 |  0.6935783   | -0.61597061  | -0.8478653   | 0.1851512    | -0.04389225  | \n",
       "| 0.2771988    | -0.01009785  | -0.1051373   | -0.9973350   | -0.9904868   | -0.9954200   | -0.9976274   | -0.9902177   | -0.9955489   | -0.9424691   | ...          |  0.01995331  | -0.5454101   | -0.8446193   |  0.08263215  | -0.143439010 |  0.2750408   | -0.36822404  | -0.8496316   | 0.1848225    | -0.04212638  | \n",
       "\n",
       "\n"
      ],
      "text/plain": [
       "  V1        V2          V3         V4         V5         V6         V7        \n",
       "1 0.2885845 -0.02029417 -0.1329051 -0.9952786 -0.9831106 -0.9135264 -0.9951121\n",
       "2 0.2784188 -0.01641057 -0.1235202 -0.9982453 -0.9753002 -0.9603220 -0.9988072\n",
       "3 0.2796531 -0.01946716 -0.1134617 -0.9953796 -0.9671870 -0.9789440 -0.9965199\n",
       "4 0.2791739 -0.02620065 -0.1232826 -0.9960915 -0.9834027 -0.9906751 -0.9970995\n",
       "5 0.2766288 -0.01656965 -0.1153619 -0.9981386 -0.9808173 -0.9904816 -0.9983211\n",
       "6 0.2771988 -0.01009785 -0.1051373 -0.9973350 -0.9904868 -0.9954200 -0.9976274\n",
       "  V8         V9         V10        ... V552        V553       V554      \n",
       "1 -0.9831846 -0.9235270 -0.9347238 ... -0.07432303 -0.2986764 -0.7103041\n",
       "2 -0.9749144 -0.9576862 -0.9430675 ...  0.15807454 -0.5950509 -0.8614993\n",
       "3 -0.9636684 -0.9774686 -0.9386916 ...  0.41450281 -0.3907482 -0.7601037\n",
       "4 -0.9827498 -0.9893025 -0.9386916 ...  0.40457253 -0.1172902 -0.4828445\n",
       "5 -0.9796719 -0.9904411 -0.9424691 ...  0.08775301 -0.3514709 -0.6992052\n",
       "6 -0.9902177 -0.9955489 -0.9424691 ...  0.01995331 -0.5454101 -0.8446193\n",
       "  V555        V556         V557       V558        V559       V560     \n",
       "1 -0.11275434  0.030400372 -0.4647614 -0.01844588 -0.8412468 0.1799406\n",
       "2  0.05347695 -0.007434566 -0.7326262  0.70351059 -0.8447876 0.1802889\n",
       "3 -0.11855926  0.177899480  0.1006992  0.80852908 -0.8489335 0.1806373\n",
       "4 -0.03678797 -0.012892494  0.6400110 -0.48536645 -0.8486494 0.1819348\n",
       "5  0.12332005  0.122541960  0.6935783 -0.61597061 -0.8478653 0.1851512\n",
       "6  0.08263215 -0.143439010  0.2750408 -0.36822404 -0.8496316 0.1848225\n",
       "  V561       \n",
       "1 -0.05862692\n",
       "2 -0.05431672\n",
       "3 -0.04911782\n",
       "4 -0.04766318\n",
       "5 -0.04389225\n",
       "6 -0.04212638"
      ]
     },
     "metadata": {},
     "output_type": "display_data"
    }
   ],
   "source": [
    "head(features_data)"
   ]
  },
  {
   "cell_type": "code",
   "execution_count": 65,
   "metadata": {},
   "outputs": [
    {
     "data": {
      "text/html": [
       "<table>\n",
       "<thead><tr><th scope=col>Activity</th></tr></thead>\n",
       "<tbody>\n",
       "\t<tr><td>5</td></tr>\n",
       "\t<tr><td>5</td></tr>\n",
       "\t<tr><td>5</td></tr>\n",
       "\t<tr><td>5</td></tr>\n",
       "\t<tr><td>5</td></tr>\n",
       "\t<tr><td>5</td></tr>\n",
       "</tbody>\n",
       "</table>\n"
      ],
      "text/latex": [
       "\\begin{tabular}{r|l}\n",
       " Activity\\\\\n",
       "\\hline\n",
       "\t 5\\\\\n",
       "\t 5\\\\\n",
       "\t 5\\\\\n",
       "\t 5\\\\\n",
       "\t 5\\\\\n",
       "\t 5\\\\\n",
       "\\end{tabular}\n"
      ],
      "text/markdown": [
       "\n",
       "Activity | \n",
       "|---|---|---|---|---|---|\n",
       "| 5 | \n",
       "| 5 | \n",
       "| 5 | \n",
       "| 5 | \n",
       "| 5 | \n",
       "| 5 | \n",
       "\n",
       "\n"
      ],
      "text/plain": [
       "  Activity\n",
       "1 5       \n",
       "2 5       \n",
       "3 5       \n",
       "4 5       \n",
       "5 5       \n",
       "6 5       "
      ]
     },
     "metadata": {},
     "output_type": "display_data"
    }
   ],
   "source": [
    "head(activity_data)"
   ]
  },
  {
   "cell_type": "code",
   "execution_count": 66,
   "metadata": {},
   "outputs": [
    {
     "data": {
      "text/html": [
       "<table>\n",
       "<thead><tr><th scope=col>Subject</th></tr></thead>\n",
       "<tbody>\n",
       "\t<tr><td>1</td></tr>\n",
       "\t<tr><td>1</td></tr>\n",
       "\t<tr><td>1</td></tr>\n",
       "\t<tr><td>1</td></tr>\n",
       "\t<tr><td>1</td></tr>\n",
       "\t<tr><td>1</td></tr>\n",
       "</tbody>\n",
       "</table>\n"
      ],
      "text/latex": [
       "\\begin{tabular}{r|l}\n",
       " Subject\\\\\n",
       "\\hline\n",
       "\t 1\\\\\n",
       "\t 1\\\\\n",
       "\t 1\\\\\n",
       "\t 1\\\\\n",
       "\t 1\\\\\n",
       "\t 1\\\\\n",
       "\\end{tabular}\n"
      ],
      "text/markdown": [
       "\n",
       "Subject | \n",
       "|---|---|---|---|---|---|\n",
       "| 1 | \n",
       "| 1 | \n",
       "| 1 | \n",
       "| 1 | \n",
       "| 1 | \n",
       "| 1 | \n",
       "\n",
       "\n"
      ],
      "text/plain": [
       "  Subject\n",
       "1 1      \n",
       "2 1      \n",
       "3 1      \n",
       "4 1      \n",
       "5 1      \n",
       "6 1      "
      ]
     },
     "metadata": {},
     "output_type": "display_data"
    }
   ],
   "source": [
    "head(subject_data)"
   ]
  },
  {
   "cell_type": "markdown",
   "metadata": {},
   "source": [
    "---"
   ]
  },
  {
   "cell_type": "markdown",
   "metadata": {},
   "source": [
    "## Extraction"
   ]
  },
  {
   "cell_type": "markdown",
   "metadata": {},
   "source": [
    "### Reading the feature description file"
   ]
  },
  {
   "cell_type": "code",
   "execution_count": 48,
   "metadata": {},
   "outputs": [
    {
     "data": {
      "text/html": [
       "<table>\n",
       "<thead><tr><th scope=col>V1</th><th scope=col>V2</th></tr></thead>\n",
       "<tbody>\n",
       "\t<tr><td> 1               </td><td>tBodyAcc-mean()-X</td></tr>\n",
       "\t<tr><td> 2               </td><td>tBodyAcc-mean()-Y</td></tr>\n",
       "\t<tr><td> 3               </td><td>tBodyAcc-mean()-Z</td></tr>\n",
       "\t<tr><td> 4               </td><td>tBodyAcc-std()-X </td></tr>\n",
       "\t<tr><td> 5               </td><td>tBodyAcc-std()-Y </td></tr>\n",
       "\t<tr><td> 6               </td><td>tBodyAcc-std()-Z </td></tr>\n",
       "\t<tr><td> 7               </td><td>tBodyAcc-mad()-X </td></tr>\n",
       "\t<tr><td> 8               </td><td>tBodyAcc-mad()-Y </td></tr>\n",
       "\t<tr><td> 9               </td><td>tBodyAcc-mad()-Z </td></tr>\n",
       "\t<tr><td>10               </td><td>tBodyAcc-max()-X </td></tr>\n",
       "</tbody>\n",
       "</table>\n"
      ],
      "text/latex": [
       "\\begin{tabular}{r|ll}\n",
       " V1 & V2\\\\\n",
       "\\hline\n",
       "\t  1                & tBodyAcc-mean()-X\\\\\n",
       "\t  2                & tBodyAcc-mean()-Y\\\\\n",
       "\t  3                & tBodyAcc-mean()-Z\\\\\n",
       "\t  4                & tBodyAcc-std()-X \\\\\n",
       "\t  5                & tBodyAcc-std()-Y \\\\\n",
       "\t  6                & tBodyAcc-std()-Z \\\\\n",
       "\t  7                & tBodyAcc-mad()-X \\\\\n",
       "\t  8                & tBodyAcc-mad()-Y \\\\\n",
       "\t  9                & tBodyAcc-mad()-Z \\\\\n",
       "\t 10                & tBodyAcc-max()-X \\\\\n",
       "\\end{tabular}\n"
      ],
      "text/markdown": [
       "\n",
       "V1 | V2 | \n",
       "|---|---|---|---|---|---|---|---|---|---|\n",
       "|  1                | tBodyAcc-mean()-X | \n",
       "|  2                | tBodyAcc-mean()-Y | \n",
       "|  3                | tBodyAcc-mean()-Z | \n",
       "|  4                | tBodyAcc-std()-X  | \n",
       "|  5                | tBodyAcc-std()-Y  | \n",
       "|  6                | tBodyAcc-std()-Z  | \n",
       "|  7                | tBodyAcc-mad()-X  | \n",
       "|  8                | tBodyAcc-mad()-Y  | \n",
       "|  9                | tBodyAcc-mad()-Z  | \n",
       "| 10                | tBodyAcc-max()-X  | \n",
       "\n",
       "\n"
      ],
      "text/plain": [
       "   V1 V2               \n",
       "1   1 tBodyAcc-mean()-X\n",
       "2   2 tBodyAcc-mean()-Y\n",
       "3   3 tBodyAcc-mean()-Z\n",
       "4   4 tBodyAcc-std()-X \n",
       "5   5 tBodyAcc-std()-Y \n",
       "6   6 tBodyAcc-std()-Z \n",
       "7   7 tBodyAcc-mad()-X \n",
       "8   8 tBodyAcc-mad()-Y \n",
       "9   9 tBodyAcc-mad()-Z \n",
       "10 10 tBodyAcc-max()-X "
      ]
     },
     "metadata": {},
     "output_type": "display_data"
    }
   ],
   "source": [
    "features_names <- read.table('./UCI HAR Dataset/features.txt')\n",
    "head(features_names,n=10)"
   ]
  },
  {
   "cell_type": "markdown",
   "metadata": {},
   "source": [
    "### Extracting the required features"
   ]
  },
  {
   "cell_type": "code",
   "execution_count": 49,
   "metadata": {},
   "outputs": [
    {
     "data": {
      "text/html": [
       "<ol class=list-inline>\n",
       "\t<li>79</li>\n",
       "\t<li>2</li>\n",
       "</ol>\n"
      ],
      "text/latex": [
       "\\begin{enumerate*}\n",
       "\\item 79\n",
       "\\item 2\n",
       "\\end{enumerate*}\n"
      ],
      "text/markdown": [
       "1. 79\n",
       "2. 2\n",
       "\n",
       "\n"
      ],
      "text/plain": [
       "[1] 79  2"
      ]
     },
     "metadata": {},
     "output_type": "display_data"
    }
   ],
   "source": [
    "# Extracting the features from the feature names which contain 'mean' or 'std' in the name\n",
    "extract_feat_names <- subset(features_names,grepl(\"mean|std\",features_names[,2]))\n",
    "dim(extract_feat_names)"
   ]
  },
  {
   "cell_type": "code",
   "execution_count": 54,
   "metadata": {},
   "outputs": [
    {
     "data": {
      "text/html": [
       "<ol class=list-inline>\n",
       "\t<li>10299</li>\n",
       "\t<li>79</li>\n",
       "</ol>\n"
      ],
      "text/latex": [
       "\\begin{enumerate*}\n",
       "\\item 10299\n",
       "\\item 79\n",
       "\\end{enumerate*}\n"
      ],
      "text/markdown": [
       "1. 10299\n",
       "2. 79\n",
       "\n",
       "\n"
      ],
      "text/plain": [
       "[1] 10299    79"
      ]
     },
     "metadata": {},
     "output_type": "display_data"
    }
   ],
   "source": [
    "# using the features extracted previously subsets the feature data so that it contains the \n",
    "# features which only contain 'std' or mean in the name\n",
    "extract_features_data <- features_data[,extract_feat_names[,1]]\n",
    "#checking the dimension of the extracted data\n",
    "dim(extract_features_data)"
   ]
  },
  {
   "cell_type": "code",
   "execution_count": 55,
   "metadata": {
    "scrolled": true
   },
   "outputs": [
    {
     "data": {
      "text/html": [
       "<table>\n",
       "<thead><tr><th scope=col>tBodyAcc-mean()-X</th><th scope=col>tBodyAcc-mean()-Y</th><th scope=col>tBodyAcc-mean()-Z</th><th scope=col>tBodyAcc-std()-X</th><th scope=col>tBodyAcc-std()-Y</th><th scope=col>tBodyAcc-std()-Z</th><th scope=col>tGravityAcc-mean()-X</th><th scope=col>tGravityAcc-mean()-Y</th><th scope=col>tGravityAcc-mean()-Z</th><th scope=col>tGravityAcc-std()-X</th><th scope=col>...</th><th scope=col>fBodyAccMag-meanFreq()</th><th scope=col>fBodyBodyAccJerkMag-mean()</th><th scope=col>fBodyBodyAccJerkMag-std()</th><th scope=col>fBodyBodyAccJerkMag-meanFreq()</th><th scope=col>fBodyBodyGyroMag-mean()</th><th scope=col>fBodyBodyGyroMag-std()</th><th scope=col>fBodyBodyGyroMag-meanFreq()</th><th scope=col>fBodyBodyGyroJerkMag-mean()</th><th scope=col>fBodyBodyGyroJerkMag-std()</th><th scope=col>fBodyBodyGyroJerkMag-meanFreq()</th></tr></thead>\n",
       "<tbody>\n",
       "\t<tr><td>0.2885845  </td><td>-0.02029417</td><td>-0.1329051 </td><td>-0.9952786 </td><td>-0.9831106 </td><td>-0.9135264 </td><td>0.9633961  </td><td>-0.1408397 </td><td>0.11537494 </td><td>-0.9852497 </td><td>...        </td><td>-0.08843612</td><td>-0.9937257 </td><td>-0.9937550 </td><td>0.3469885  </td><td>-0.9801349 </td><td>-0.9613094 </td><td>-0.1289889 </td><td>-0.9919904 </td><td>-0.9906975 </td><td>-0.07432303</td></tr>\n",
       "\t<tr><td>0.2784188  </td><td>-0.01641057</td><td>-0.1235202 </td><td>-0.9982453 </td><td>-0.9753002 </td><td>-0.9603220 </td><td>0.9665611  </td><td>-0.1415513 </td><td>0.10937881 </td><td>-0.9974113 </td><td>...        </td><td>-0.04414989</td><td>-0.9903355 </td><td>-0.9919603 </td><td>0.5320605  </td><td>-0.9882956 </td><td>-0.9833219 </td><td>-0.2719585 </td><td>-0.9958539 </td><td>-0.9963995 </td><td> 0.15807454</td></tr>\n",
       "\t<tr><td>0.2796531  </td><td>-0.01946716</td><td>-0.1134617 </td><td>-0.9953796 </td><td>-0.9671870 </td><td>-0.9789440 </td><td>0.9668781  </td><td>-0.1420098 </td><td>0.10188392 </td><td>-0.9995740 </td><td>...        </td><td> 0.25789914</td><td>-0.9892801 </td><td>-0.9908667 </td><td>0.6607950  </td><td>-0.9892548 </td><td>-0.9860277 </td><td>-0.2127279 </td><td>-0.9950305 </td><td>-0.9951274 </td><td> 0.41450281</td></tr>\n",
       "\t<tr><td>0.2791739  </td><td>-0.02620065</td><td>-0.1232826 </td><td>-0.9960915 </td><td>-0.9834027 </td><td>-0.9906751 </td><td>0.9676152  </td><td>-0.1439765 </td><td>0.09985014 </td><td>-0.9966456 </td><td>...        </td><td> 0.07358150</td><td>-0.9927689 </td><td>-0.9916998 </td><td>0.6789213  </td><td>-0.9894128 </td><td>-0.9878358 </td><td>-0.0356842 </td><td>-0.9952207 </td><td>-0.9952369 </td><td> 0.40457253</td></tr>\n",
       "\t<tr><td>0.2766288  </td><td>-0.01656965</td><td>-0.1153619 </td><td>-0.9981386 </td><td>-0.9808173 </td><td>-0.9904816 </td><td>0.9682244  </td><td>-0.1487502 </td><td>0.09448590 </td><td>-0.9984293 </td><td>...        </td><td> 0.39431033</td><td>-0.9955228 </td><td>-0.9943890 </td><td>0.5590577  </td><td>-0.9914330 </td><td>-0.9890594 </td><td>-0.2735820 </td><td>-0.9950928 </td><td>-0.9954648 </td><td> 0.08775301</td></tr>\n",
       "\t<tr><td>0.2771988  </td><td>-0.01009785</td><td>-0.1051373 </td><td>-0.9973350 </td><td>-0.9904868 </td><td>-0.9954200 </td><td>0.9679482  </td><td>-0.1482100 </td><td>0.09190972 </td><td>-0.9989793 </td><td>...        </td><td> 0.43796212</td><td>-0.9947329 </td><td>-0.9951562 </td><td>0.2469096  </td><td>-0.9905000 </td><td>-0.9858609 </td><td>-0.2973291 </td><td>-0.9951433 </td><td>-0.9952387 </td><td> 0.01995331</td></tr>\n",
       "</tbody>\n",
       "</table>\n"
      ],
      "text/latex": [
       "\\begin{tabular}{r|lllllllllllllllllllllllllllllllllllllllllllllllllllllllllllllllllllllllllllllll}\n",
       " tBodyAcc-mean()-X & tBodyAcc-mean()-Y & tBodyAcc-mean()-Z & tBodyAcc-std()-X & tBodyAcc-std()-Y & tBodyAcc-std()-Z & tGravityAcc-mean()-X & tGravityAcc-mean()-Y & tGravityAcc-mean()-Z & tGravityAcc-std()-X & ... & fBodyAccMag-meanFreq() & fBodyBodyAccJerkMag-mean() & fBodyBodyAccJerkMag-std() & fBodyBodyAccJerkMag-meanFreq() & fBodyBodyGyroMag-mean() & fBodyBodyGyroMag-std() & fBodyBodyGyroMag-meanFreq() & fBodyBodyGyroJerkMag-mean() & fBodyBodyGyroJerkMag-std() & fBodyBodyGyroJerkMag-meanFreq()\\\\\n",
       "\\hline\n",
       "\t 0.2885845   & -0.02029417 & -0.1329051  & -0.9952786  & -0.9831106  & -0.9135264  & 0.9633961   & -0.1408397  & 0.11537494  & -0.9852497  & ...         & -0.08843612 & -0.9937257  & -0.9937550  & 0.3469885   & -0.9801349  & -0.9613094  & -0.1289889  & -0.9919904  & -0.9906975  & -0.07432303\\\\\n",
       "\t 0.2784188   & -0.01641057 & -0.1235202  & -0.9982453  & -0.9753002  & -0.9603220  & 0.9665611   & -0.1415513  & 0.10937881  & -0.9974113  & ...         & -0.04414989 & -0.9903355  & -0.9919603  & 0.5320605   & -0.9882956  & -0.9833219  & -0.2719585  & -0.9958539  & -0.9963995  &  0.15807454\\\\\n",
       "\t 0.2796531   & -0.01946716 & -0.1134617  & -0.9953796  & -0.9671870  & -0.9789440  & 0.9668781   & -0.1420098  & 0.10188392  & -0.9995740  & ...         &  0.25789914 & -0.9892801  & -0.9908667  & 0.6607950   & -0.9892548  & -0.9860277  & -0.2127279  & -0.9950305  & -0.9951274  &  0.41450281\\\\\n",
       "\t 0.2791739   & -0.02620065 & -0.1232826  & -0.9960915  & -0.9834027  & -0.9906751  & 0.9676152   & -0.1439765  & 0.09985014  & -0.9966456  & ...         &  0.07358150 & -0.9927689  & -0.9916998  & 0.6789213   & -0.9894128  & -0.9878358  & -0.0356842  & -0.9952207  & -0.9952369  &  0.40457253\\\\\n",
       "\t 0.2766288   & -0.01656965 & -0.1153619  & -0.9981386  & -0.9808173  & -0.9904816  & 0.9682244   & -0.1487502  & 0.09448590  & -0.9984293  & ...         &  0.39431033 & -0.9955228  & -0.9943890  & 0.5590577   & -0.9914330  & -0.9890594  & -0.2735820  & -0.9950928  & -0.9954648  &  0.08775301\\\\\n",
       "\t 0.2771988   & -0.01009785 & -0.1051373  & -0.9973350  & -0.9904868  & -0.9954200  & 0.9679482   & -0.1482100  & 0.09190972  & -0.9989793  & ...         &  0.43796212 & -0.9947329  & -0.9951562  & 0.2469096   & -0.9905000  & -0.9858609  & -0.2973291  & -0.9951433  & -0.9952387  &  0.01995331\\\\\n",
       "\\end{tabular}\n"
      ],
      "text/markdown": [
       "\n",
       "tBodyAcc-mean()-X | tBodyAcc-mean()-Y | tBodyAcc-mean()-Z | tBodyAcc-std()-X | tBodyAcc-std()-Y | tBodyAcc-std()-Z | tGravityAcc-mean()-X | tGravityAcc-mean()-Y | tGravityAcc-mean()-Z | tGravityAcc-std()-X | ... | fBodyAccMag-meanFreq() | fBodyBodyAccJerkMag-mean() | fBodyBodyAccJerkMag-std() | fBodyBodyAccJerkMag-meanFreq() | fBodyBodyGyroMag-mean() | fBodyBodyGyroMag-std() | fBodyBodyGyroMag-meanFreq() | fBodyBodyGyroJerkMag-mean() | fBodyBodyGyroJerkMag-std() | fBodyBodyGyroJerkMag-meanFreq() | \n",
       "|---|---|---|---|---|---|\n",
       "| 0.2885845   | -0.02029417 | -0.1329051  | -0.9952786  | -0.9831106  | -0.9135264  | 0.9633961   | -0.1408397  | 0.11537494  | -0.9852497  | ...         | -0.08843612 | -0.9937257  | -0.9937550  | 0.3469885   | -0.9801349  | -0.9613094  | -0.1289889  | -0.9919904  | -0.9906975  | -0.07432303 | \n",
       "| 0.2784188   | -0.01641057 | -0.1235202  | -0.9982453  | -0.9753002  | -0.9603220  | 0.9665611   | -0.1415513  | 0.10937881  | -0.9974113  | ...         | -0.04414989 | -0.9903355  | -0.9919603  | 0.5320605   | -0.9882956  | -0.9833219  | -0.2719585  | -0.9958539  | -0.9963995  |  0.15807454 | \n",
       "| 0.2796531   | -0.01946716 | -0.1134617  | -0.9953796  | -0.9671870  | -0.9789440  | 0.9668781   | -0.1420098  | 0.10188392  | -0.9995740  | ...         |  0.25789914 | -0.9892801  | -0.9908667  | 0.6607950   | -0.9892548  | -0.9860277  | -0.2127279  | -0.9950305  | -0.9951274  |  0.41450281 | \n",
       "| 0.2791739   | -0.02620065 | -0.1232826  | -0.9960915  | -0.9834027  | -0.9906751  | 0.9676152   | -0.1439765  | 0.09985014  | -0.9966456  | ...         |  0.07358150 | -0.9927689  | -0.9916998  | 0.6789213   | -0.9894128  | -0.9878358  | -0.0356842  | -0.9952207  | -0.9952369  |  0.40457253 | \n",
       "| 0.2766288   | -0.01656965 | -0.1153619  | -0.9981386  | -0.9808173  | -0.9904816  | 0.9682244   | -0.1487502  | 0.09448590  | -0.9984293  | ...         |  0.39431033 | -0.9955228  | -0.9943890  | 0.5590577   | -0.9914330  | -0.9890594  | -0.2735820  | -0.9950928  | -0.9954648  |  0.08775301 | \n",
       "| 0.2771988   | -0.01009785 | -0.1051373  | -0.9973350  | -0.9904868  | -0.9954200  | 0.9679482   | -0.1482100  | 0.09190972  | -0.9989793  | ...         |  0.43796212 | -0.9947329  | -0.9951562  | 0.2469096   | -0.9905000  | -0.9858609  | -0.2973291  | -0.9951433  | -0.9952387  |  0.01995331 | \n",
       "\n",
       "\n"
      ],
      "text/plain": [
       "  tBodyAcc-mean()-X tBodyAcc-mean()-Y tBodyAcc-mean()-Z tBodyAcc-std()-X\n",
       "1 0.2885845         -0.02029417       -0.1329051        -0.9952786      \n",
       "2 0.2784188         -0.01641057       -0.1235202        -0.9982453      \n",
       "3 0.2796531         -0.01946716       -0.1134617        -0.9953796      \n",
       "4 0.2791739         -0.02620065       -0.1232826        -0.9960915      \n",
       "5 0.2766288         -0.01656965       -0.1153619        -0.9981386      \n",
       "6 0.2771988         -0.01009785       -0.1051373        -0.9973350      \n",
       "  tBodyAcc-std()-Y tBodyAcc-std()-Z tGravityAcc-mean()-X tGravityAcc-mean()-Y\n",
       "1 -0.9831106       -0.9135264       0.9633961            -0.1408397          \n",
       "2 -0.9753002       -0.9603220       0.9665611            -0.1415513          \n",
       "3 -0.9671870       -0.9789440       0.9668781            -0.1420098          \n",
       "4 -0.9834027       -0.9906751       0.9676152            -0.1439765          \n",
       "5 -0.9808173       -0.9904816       0.9682244            -0.1487502          \n",
       "6 -0.9904868       -0.9954200       0.9679482            -0.1482100          \n",
       "  tGravityAcc-mean()-Z tGravityAcc-std()-X ... fBodyAccMag-meanFreq()\n",
       "1 0.11537494           -0.9852497          ... -0.08843612           \n",
       "2 0.10937881           -0.9974113          ... -0.04414989           \n",
       "3 0.10188392           -0.9995740          ...  0.25789914           \n",
       "4 0.09985014           -0.9966456          ...  0.07358150           \n",
       "5 0.09448590           -0.9984293          ...  0.39431033           \n",
       "6 0.09190972           -0.9989793          ...  0.43796212           \n",
       "  fBodyBodyAccJerkMag-mean() fBodyBodyAccJerkMag-std()\n",
       "1 -0.9937257                 -0.9937550               \n",
       "2 -0.9903355                 -0.9919603               \n",
       "3 -0.9892801                 -0.9908667               \n",
       "4 -0.9927689                 -0.9916998               \n",
       "5 -0.9955228                 -0.9943890               \n",
       "6 -0.9947329                 -0.9951562               \n",
       "  fBodyBodyAccJerkMag-meanFreq() fBodyBodyGyroMag-mean() fBodyBodyGyroMag-std()\n",
       "1 0.3469885                      -0.9801349              -0.9613094            \n",
       "2 0.5320605                      -0.9882956              -0.9833219            \n",
       "3 0.6607950                      -0.9892548              -0.9860277            \n",
       "4 0.6789213                      -0.9894128              -0.9878358            \n",
       "5 0.5590577                      -0.9914330              -0.9890594            \n",
       "6 0.2469096                      -0.9905000              -0.9858609            \n",
       "  fBodyBodyGyroMag-meanFreq() fBodyBodyGyroJerkMag-mean()\n",
       "1 -0.1289889                  -0.9919904                 \n",
       "2 -0.2719585                  -0.9958539                 \n",
       "3 -0.2127279                  -0.9950305                 \n",
       "4 -0.0356842                  -0.9952207                 \n",
       "5 -0.2735820                  -0.9950928                 \n",
       "6 -0.2973291                  -0.9951433                 \n",
       "  fBodyBodyGyroJerkMag-std() fBodyBodyGyroJerkMag-meanFreq()\n",
       "1 -0.9906975                 -0.07432303                    \n",
       "2 -0.9963995                  0.15807454                    \n",
       "3 -0.9951274                  0.41450281                    \n",
       "4 -0.9952369                  0.40457253                    \n",
       "5 -0.9954648                  0.08775301                    \n",
       "6 -0.9952387                  0.01995331                    "
      ]
     },
     "metadata": {},
     "output_type": "display_data"
    }
   ],
   "source": [
    "#renaming the column names\n",
    "colnames(extract_features_data) <- extract_feat_names[,2]\n",
    "head(extract_features_data)"
   ]
  },
  {
   "cell_type": "markdown",
   "metadata": {},
   "source": [
    "---"
   ]
  },
  {
   "cell_type": "markdown",
   "metadata": {},
   "source": [
    "## Activity Naming"
   ]
  },
  {
   "cell_type": "markdown",
   "metadata": {},
   "source": [
    "### Reading the activity description file"
   ]
  },
  {
   "cell_type": "code",
   "execution_count": 52,
   "metadata": {},
   "outputs": [],
   "source": [
    "activity_names <- read.table(\"./UCI HAR Dataset/activity_labels.txt\")"
   ]
  },
  {
   "cell_type": "markdown",
   "metadata": {},
   "source": [
    "### Naming the activities"
   ]
  },
  {
   "cell_type": "code",
   "execution_count": 75,
   "metadata": {},
   "outputs": [
    {
     "data": {
      "text/html": [
       "<table>\n",
       "<thead><tr><th scope=col>Activity</th></tr></thead>\n",
       "<tbody>\n",
       "\t<tr><td>STANDING</td></tr>\n",
       "\t<tr><td>STANDING</td></tr>\n",
       "\t<tr><td>STANDING</td></tr>\n",
       "\t<tr><td>STANDING</td></tr>\n",
       "\t<tr><td>STANDING</td></tr>\n",
       "\t<tr><td>STANDING</td></tr>\n",
       "</tbody>\n",
       "</table>\n"
      ],
      "text/latex": [
       "\\begin{tabular}{r|l}\n",
       " Activity\\\\\n",
       "\\hline\n",
       "\t STANDING\\\\\n",
       "\t STANDING\\\\\n",
       "\t STANDING\\\\\n",
       "\t STANDING\\\\\n",
       "\t STANDING\\\\\n",
       "\t STANDING\\\\\n",
       "\\end{tabular}\n"
      ],
      "text/markdown": [
       "\n",
       "Activity | \n",
       "|---|---|---|---|---|---|\n",
       "| STANDING | \n",
       "| STANDING | \n",
       "| STANDING | \n",
       "| STANDING | \n",
       "| STANDING | \n",
       "| STANDING | \n",
       "\n",
       "\n"
      ],
      "text/plain": [
       "  Activity\n",
       "1 STANDING\n",
       "2 STANDING\n",
       "3 STANDING\n",
       "4 STANDING\n",
       "5 STANDING\n",
       "6 STANDING"
      ]
     },
     "metadata": {},
     "output_type": "display_data"
    }
   ],
   "source": [
    "#naming the activities in activity_data using factor function\n",
    "activity_data$Activity<-factor(activity_data$Activity,levels = 1:6 , labels = activity_names[,2])\n",
    "head(activity_data)"
   ]
  },
  {
   "cell_type": "markdown",
   "metadata": {},
   "source": [
    "---"
   ]
  },
  {
   "cell_type": "markdown",
   "metadata": {},
   "source": [
    "## Labeling"
   ]
  },
  {
   "cell_type": "code",
   "execution_count": 103,
   "metadata": {},
   "outputs": [],
   "source": [
    "# extract column names\n",
    "col_names <- colnames(extract_features_data)"
   ]
  },
  {
   "cell_type": "code",
   "execution_count": 104,
   "metadata": {},
   "outputs": [],
   "source": [
    "# removing '()' from the col_names\n",
    "col_names<- gsub('\\\\()',\"\",col_names)\n",
    "\n",
    "#replaing mean with Mean\n",
    "col_names<- gsub('-mean',\"Mean\",col_names)\n",
    "\n",
    "#replacing std with StandardDeviation\n",
    "col_names<- gsub('-std',\"StandardDeviation\",col_names)\n",
    "\n",
    "#capitalizing x,y,z,axis\n",
    "col_names<- gsub('[Bb]ody[Bb]ody',\"Body\",col_names)\n",
    "\n",
    "#replacing Acc with Acceleration\n",
    "col_names <- gsub('[Aa]cc','Acceleration',col_names)\n",
    "\n",
    "#replacing Mag with magnitude\n",
    "col_names <- gsub('[Mm]ag','Magnitude',col_names)\n",
    "\n",
    "# replacing prefix t and f with TimeDomain and FrequencyDomain respectively\n",
    "col_names <- gsub('^t','TimeDomain',col_names)\n",
    "col_names <- gsub('^f','FrequencyDomain',col_names)\n",
    "\n",
    "#replacing Gyro with Gyroscope\n",
    "col_names <- gsub('[Gg]yro','Gyroscope',col_names)"
   ]
  },
  {
   "cell_type": "code",
   "execution_count": 105,
   "metadata": {},
   "outputs": [
    {
     "data": {
      "text/html": [
       "<table>\n",
       "<thead><tr><th scope=col>TimeDomainBodyAccelerationMean-X</th><th scope=col>TimeDomainBodyAccelerationMean-Y</th><th scope=col>TimeDomainBodyAccelerationMean-Z</th><th scope=col>TimeDomainBodyAccelerationStandardDeviation-X</th><th scope=col>TimeDomainBodyAccelerationStandardDeviation-Y</th><th scope=col>TimeDomainBodyAccelerationStandardDeviation-Z</th><th scope=col>TimeDomainGravityAccelerationMean-X</th><th scope=col>TimeDomainGravityAccelerationMean-Y</th><th scope=col>TimeDomainGravityAccelerationMean-Z</th><th scope=col>TimeDomainGravityAccelerationStandardDeviation-X</th><th scope=col>...</th><th scope=col>FrequencyDomainBodyAccelerationMagnitudeMeanFreq</th><th scope=col>FrequencyDomainBodyAccelerationJerkMagnitudeMean</th><th scope=col>FrequencyDomainBodyAccelerationJerkMagnitudeStandardDeviation</th><th scope=col>FrequencyDomainBodyAccelerationJerkMagnitudeMeanFreq</th><th scope=col>FrequencyDomainBodyGyroscopeMagnitudeMean</th><th scope=col>FrequencyDomainBodyGyroscopeMagnitudeStandardDeviation</th><th scope=col>FrequencyDomainBodyGyroscopeMagnitudeMeanFreq</th><th scope=col>FrequencyDomainBodyGyroscopeJerkMagnitudeMean</th><th scope=col>FrequencyDomainBodyGyroscopeJerkMagnitudeStandardDeviation</th><th scope=col>FrequencyDomainBodyGyroscopeJerkMagnitudeMeanFreq</th></tr></thead>\n",
       "<tbody>\n",
       "\t<tr><td>0.2885845  </td><td>-0.02029417</td><td>-0.1329051 </td><td>-0.9952786 </td><td>-0.9831106 </td><td>-0.9135264 </td><td>0.9633961  </td><td>-0.1408397 </td><td>0.11537494 </td><td>-0.9852497 </td><td>...        </td><td>-0.08843612</td><td>-0.9937257 </td><td>-0.9937550 </td><td>0.3469885  </td><td>-0.9801349 </td><td>-0.9613094 </td><td>-0.1289889 </td><td>-0.9919904 </td><td>-0.9906975 </td><td>-0.07432303</td></tr>\n",
       "\t<tr><td>0.2784188  </td><td>-0.01641057</td><td>-0.1235202 </td><td>-0.9982453 </td><td>-0.9753002 </td><td>-0.9603220 </td><td>0.9665611  </td><td>-0.1415513 </td><td>0.10937881 </td><td>-0.9974113 </td><td>...        </td><td>-0.04414989</td><td>-0.9903355 </td><td>-0.9919603 </td><td>0.5320605  </td><td>-0.9882956 </td><td>-0.9833219 </td><td>-0.2719585 </td><td>-0.9958539 </td><td>-0.9963995 </td><td> 0.15807454</td></tr>\n",
       "\t<tr><td>0.2796531  </td><td>-0.01946716</td><td>-0.1134617 </td><td>-0.9953796 </td><td>-0.9671870 </td><td>-0.9789440 </td><td>0.9668781  </td><td>-0.1420098 </td><td>0.10188392 </td><td>-0.9995740 </td><td>...        </td><td> 0.25789914</td><td>-0.9892801 </td><td>-0.9908667 </td><td>0.6607950  </td><td>-0.9892548 </td><td>-0.9860277 </td><td>-0.2127279 </td><td>-0.9950305 </td><td>-0.9951274 </td><td> 0.41450281</td></tr>\n",
       "\t<tr><td>0.2791739  </td><td>-0.02620065</td><td>-0.1232826 </td><td>-0.9960915 </td><td>-0.9834027 </td><td>-0.9906751 </td><td>0.9676152  </td><td>-0.1439765 </td><td>0.09985014 </td><td>-0.9966456 </td><td>...        </td><td> 0.07358150</td><td>-0.9927689 </td><td>-0.9916998 </td><td>0.6789213  </td><td>-0.9894128 </td><td>-0.9878358 </td><td>-0.0356842 </td><td>-0.9952207 </td><td>-0.9952369 </td><td> 0.40457253</td></tr>\n",
       "\t<tr><td>0.2766288  </td><td>-0.01656965</td><td>-0.1153619 </td><td>-0.9981386 </td><td>-0.9808173 </td><td>-0.9904816 </td><td>0.9682244  </td><td>-0.1487502 </td><td>0.09448590 </td><td>-0.9984293 </td><td>...        </td><td> 0.39431033</td><td>-0.9955228 </td><td>-0.9943890 </td><td>0.5590577  </td><td>-0.9914330 </td><td>-0.9890594 </td><td>-0.2735820 </td><td>-0.9950928 </td><td>-0.9954648 </td><td> 0.08775301</td></tr>\n",
       "\t<tr><td>0.2771988  </td><td>-0.01009785</td><td>-0.1051373 </td><td>-0.9973350 </td><td>-0.9904868 </td><td>-0.9954200 </td><td>0.9679482  </td><td>-0.1482100 </td><td>0.09190972 </td><td>-0.9989793 </td><td>...        </td><td> 0.43796212</td><td>-0.9947329 </td><td>-0.9951562 </td><td>0.2469096  </td><td>-0.9905000 </td><td>-0.9858609 </td><td>-0.2973291 </td><td>-0.9951433 </td><td>-0.9952387 </td><td> 0.01995331</td></tr>\n",
       "</tbody>\n",
       "</table>\n"
      ],
      "text/latex": [
       "\\begin{tabular}{r|lllllllllllllllllllllllllllllllllllllllllllllllllllllllllllllllllllllllllllllll}\n",
       " TimeDomainBodyAccelerationMean-X & TimeDomainBodyAccelerationMean-Y & TimeDomainBodyAccelerationMean-Z & TimeDomainBodyAccelerationStandardDeviation-X & TimeDomainBodyAccelerationStandardDeviation-Y & TimeDomainBodyAccelerationStandardDeviation-Z & TimeDomainGravityAccelerationMean-X & TimeDomainGravityAccelerationMean-Y & TimeDomainGravityAccelerationMean-Z & TimeDomainGravityAccelerationStandardDeviation-X & ... & FrequencyDomainBodyAccelerationMagnitudeMeanFreq & FrequencyDomainBodyAccelerationJerkMagnitudeMean & FrequencyDomainBodyAccelerationJerkMagnitudeStandardDeviation & FrequencyDomainBodyAccelerationJerkMagnitudeMeanFreq & FrequencyDomainBodyGyroscopeMagnitudeMean & FrequencyDomainBodyGyroscopeMagnitudeStandardDeviation & FrequencyDomainBodyGyroscopeMagnitudeMeanFreq & FrequencyDomainBodyGyroscopeJerkMagnitudeMean & FrequencyDomainBodyGyroscopeJerkMagnitudeStandardDeviation & FrequencyDomainBodyGyroscopeJerkMagnitudeMeanFreq\\\\\n",
       "\\hline\n",
       "\t 0.2885845   & -0.02029417 & -0.1329051  & -0.9952786  & -0.9831106  & -0.9135264  & 0.9633961   & -0.1408397  & 0.11537494  & -0.9852497  & ...         & -0.08843612 & -0.9937257  & -0.9937550  & 0.3469885   & -0.9801349  & -0.9613094  & -0.1289889  & -0.9919904  & -0.9906975  & -0.07432303\\\\\n",
       "\t 0.2784188   & -0.01641057 & -0.1235202  & -0.9982453  & -0.9753002  & -0.9603220  & 0.9665611   & -0.1415513  & 0.10937881  & -0.9974113  & ...         & -0.04414989 & -0.9903355  & -0.9919603  & 0.5320605   & -0.9882956  & -0.9833219  & -0.2719585  & -0.9958539  & -0.9963995  &  0.15807454\\\\\n",
       "\t 0.2796531   & -0.01946716 & -0.1134617  & -0.9953796  & -0.9671870  & -0.9789440  & 0.9668781   & -0.1420098  & 0.10188392  & -0.9995740  & ...         &  0.25789914 & -0.9892801  & -0.9908667  & 0.6607950   & -0.9892548  & -0.9860277  & -0.2127279  & -0.9950305  & -0.9951274  &  0.41450281\\\\\n",
       "\t 0.2791739   & -0.02620065 & -0.1232826  & -0.9960915  & -0.9834027  & -0.9906751  & 0.9676152   & -0.1439765  & 0.09985014  & -0.9966456  & ...         &  0.07358150 & -0.9927689  & -0.9916998  & 0.6789213   & -0.9894128  & -0.9878358  & -0.0356842  & -0.9952207  & -0.9952369  &  0.40457253\\\\\n",
       "\t 0.2766288   & -0.01656965 & -0.1153619  & -0.9981386  & -0.9808173  & -0.9904816  & 0.9682244   & -0.1487502  & 0.09448590  & -0.9984293  & ...         &  0.39431033 & -0.9955228  & -0.9943890  & 0.5590577   & -0.9914330  & -0.9890594  & -0.2735820  & -0.9950928  & -0.9954648  &  0.08775301\\\\\n",
       "\t 0.2771988   & -0.01009785 & -0.1051373  & -0.9973350  & -0.9904868  & -0.9954200  & 0.9679482   & -0.1482100  & 0.09190972  & -0.9989793  & ...         &  0.43796212 & -0.9947329  & -0.9951562  & 0.2469096   & -0.9905000  & -0.9858609  & -0.2973291  & -0.9951433  & -0.9952387  &  0.01995331\\\\\n",
       "\\end{tabular}\n"
      ],
      "text/markdown": [
       "\n",
       "TimeDomainBodyAccelerationMean-X | TimeDomainBodyAccelerationMean-Y | TimeDomainBodyAccelerationMean-Z | TimeDomainBodyAccelerationStandardDeviation-X | TimeDomainBodyAccelerationStandardDeviation-Y | TimeDomainBodyAccelerationStandardDeviation-Z | TimeDomainGravityAccelerationMean-X | TimeDomainGravityAccelerationMean-Y | TimeDomainGravityAccelerationMean-Z | TimeDomainGravityAccelerationStandardDeviation-X | ... | FrequencyDomainBodyAccelerationMagnitudeMeanFreq | FrequencyDomainBodyAccelerationJerkMagnitudeMean | FrequencyDomainBodyAccelerationJerkMagnitudeStandardDeviation | FrequencyDomainBodyAccelerationJerkMagnitudeMeanFreq | FrequencyDomainBodyGyroscopeMagnitudeMean | FrequencyDomainBodyGyroscopeMagnitudeStandardDeviation | FrequencyDomainBodyGyroscopeMagnitudeMeanFreq | FrequencyDomainBodyGyroscopeJerkMagnitudeMean | FrequencyDomainBodyGyroscopeJerkMagnitudeStandardDeviation | FrequencyDomainBodyGyroscopeJerkMagnitudeMeanFreq | \n",
       "|---|---|---|---|---|---|\n",
       "| 0.2885845   | -0.02029417 | -0.1329051  | -0.9952786  | -0.9831106  | -0.9135264  | 0.9633961   | -0.1408397  | 0.11537494  | -0.9852497  | ...         | -0.08843612 | -0.9937257  | -0.9937550  | 0.3469885   | -0.9801349  | -0.9613094  | -0.1289889  | -0.9919904  | -0.9906975  | -0.07432303 | \n",
       "| 0.2784188   | -0.01641057 | -0.1235202  | -0.9982453  | -0.9753002  | -0.9603220  | 0.9665611   | -0.1415513  | 0.10937881  | -0.9974113  | ...         | -0.04414989 | -0.9903355  | -0.9919603  | 0.5320605   | -0.9882956  | -0.9833219  | -0.2719585  | -0.9958539  | -0.9963995  |  0.15807454 | \n",
       "| 0.2796531   | -0.01946716 | -0.1134617  | -0.9953796  | -0.9671870  | -0.9789440  | 0.9668781   | -0.1420098  | 0.10188392  | -0.9995740  | ...         |  0.25789914 | -0.9892801  | -0.9908667  | 0.6607950   | -0.9892548  | -0.9860277  | -0.2127279  | -0.9950305  | -0.9951274  |  0.41450281 | \n",
       "| 0.2791739   | -0.02620065 | -0.1232826  | -0.9960915  | -0.9834027  | -0.9906751  | 0.9676152   | -0.1439765  | 0.09985014  | -0.9966456  | ...         |  0.07358150 | -0.9927689  | -0.9916998  | 0.6789213   | -0.9894128  | -0.9878358  | -0.0356842  | -0.9952207  | -0.9952369  |  0.40457253 | \n",
       "| 0.2766288   | -0.01656965 | -0.1153619  | -0.9981386  | -0.9808173  | -0.9904816  | 0.9682244   | -0.1487502  | 0.09448590  | -0.9984293  | ...         |  0.39431033 | -0.9955228  | -0.9943890  | 0.5590577   | -0.9914330  | -0.9890594  | -0.2735820  | -0.9950928  | -0.9954648  |  0.08775301 | \n",
       "| 0.2771988   | -0.01009785 | -0.1051373  | -0.9973350  | -0.9904868  | -0.9954200  | 0.9679482   | -0.1482100  | 0.09190972  | -0.9989793  | ...         |  0.43796212 | -0.9947329  | -0.9951562  | 0.2469096   | -0.9905000  | -0.9858609  | -0.2973291  | -0.9951433  | -0.9952387  |  0.01995331 | \n",
       "\n",
       "\n"
      ],
      "text/plain": [
       "  TimeDomainBodyAccelerationMean-X TimeDomainBodyAccelerationMean-Y\n",
       "1 0.2885845                        -0.02029417                     \n",
       "2 0.2784188                        -0.01641057                     \n",
       "3 0.2796531                        -0.01946716                     \n",
       "4 0.2791739                        -0.02620065                     \n",
       "5 0.2766288                        -0.01656965                     \n",
       "6 0.2771988                        -0.01009785                     \n",
       "  TimeDomainBodyAccelerationMean-Z\n",
       "1 -0.1329051                      \n",
       "2 -0.1235202                      \n",
       "3 -0.1134617                      \n",
       "4 -0.1232826                      \n",
       "5 -0.1153619                      \n",
       "6 -0.1051373                      \n",
       "  TimeDomainBodyAccelerationStandardDeviation-X\n",
       "1 -0.9952786                                   \n",
       "2 -0.9982453                                   \n",
       "3 -0.9953796                                   \n",
       "4 -0.9960915                                   \n",
       "5 -0.9981386                                   \n",
       "6 -0.9973350                                   \n",
       "  TimeDomainBodyAccelerationStandardDeviation-Y\n",
       "1 -0.9831106                                   \n",
       "2 -0.9753002                                   \n",
       "3 -0.9671870                                   \n",
       "4 -0.9834027                                   \n",
       "5 -0.9808173                                   \n",
       "6 -0.9904868                                   \n",
       "  TimeDomainBodyAccelerationStandardDeviation-Z\n",
       "1 -0.9135264                                   \n",
       "2 -0.9603220                                   \n",
       "3 -0.9789440                                   \n",
       "4 -0.9906751                                   \n",
       "5 -0.9904816                                   \n",
       "6 -0.9954200                                   \n",
       "  TimeDomainGravityAccelerationMean-X TimeDomainGravityAccelerationMean-Y\n",
       "1 0.9633961                           -0.1408397                         \n",
       "2 0.9665611                           -0.1415513                         \n",
       "3 0.9668781                           -0.1420098                         \n",
       "4 0.9676152                           -0.1439765                         \n",
       "5 0.9682244                           -0.1487502                         \n",
       "6 0.9679482                           -0.1482100                         \n",
       "  TimeDomainGravityAccelerationMean-Z\n",
       "1 0.11537494                         \n",
       "2 0.10937881                         \n",
       "3 0.10188392                         \n",
       "4 0.09985014                         \n",
       "5 0.09448590                         \n",
       "6 0.09190972                         \n",
       "  TimeDomainGravityAccelerationStandardDeviation-X ...\n",
       "1 -0.9852497                                       ...\n",
       "2 -0.9974113                                       ...\n",
       "3 -0.9995740                                       ...\n",
       "4 -0.9966456                                       ...\n",
       "5 -0.9984293                                       ...\n",
       "6 -0.9989793                                       ...\n",
       "  FrequencyDomainBodyAccelerationMagnitudeMeanFreq\n",
       "1 -0.08843612                                     \n",
       "2 -0.04414989                                     \n",
       "3  0.25789914                                     \n",
       "4  0.07358150                                     \n",
       "5  0.39431033                                     \n",
       "6  0.43796212                                     \n",
       "  FrequencyDomainBodyAccelerationJerkMagnitudeMean\n",
       "1 -0.9937257                                      \n",
       "2 -0.9903355                                      \n",
       "3 -0.9892801                                      \n",
       "4 -0.9927689                                      \n",
       "5 -0.9955228                                      \n",
       "6 -0.9947329                                      \n",
       "  FrequencyDomainBodyAccelerationJerkMagnitudeStandardDeviation\n",
       "1 -0.9937550                                                   \n",
       "2 -0.9919603                                                   \n",
       "3 -0.9908667                                                   \n",
       "4 -0.9916998                                                   \n",
       "5 -0.9943890                                                   \n",
       "6 -0.9951562                                                   \n",
       "  FrequencyDomainBodyAccelerationJerkMagnitudeMeanFreq\n",
       "1 0.3469885                                           \n",
       "2 0.5320605                                           \n",
       "3 0.6607950                                           \n",
       "4 0.6789213                                           \n",
       "5 0.5590577                                           \n",
       "6 0.2469096                                           \n",
       "  FrequencyDomainBodyGyroscopeMagnitudeMean\n",
       "1 -0.9801349                               \n",
       "2 -0.9882956                               \n",
       "3 -0.9892548                               \n",
       "4 -0.9894128                               \n",
       "5 -0.9914330                               \n",
       "6 -0.9905000                               \n",
       "  FrequencyDomainBodyGyroscopeMagnitudeStandardDeviation\n",
       "1 -0.9613094                                            \n",
       "2 -0.9833219                                            \n",
       "3 -0.9860277                                            \n",
       "4 -0.9878358                                            \n",
       "5 -0.9890594                                            \n",
       "6 -0.9858609                                            \n",
       "  FrequencyDomainBodyGyroscopeMagnitudeMeanFreq\n",
       "1 -0.1289889                                   \n",
       "2 -0.2719585                                   \n",
       "3 -0.2127279                                   \n",
       "4 -0.0356842                                   \n",
       "5 -0.2735820                                   \n",
       "6 -0.2973291                                   \n",
       "  FrequencyDomainBodyGyroscopeJerkMagnitudeMean\n",
       "1 -0.9919904                                   \n",
       "2 -0.9958539                                   \n",
       "3 -0.9950305                                   \n",
       "4 -0.9952207                                   \n",
       "5 -0.9950928                                   \n",
       "6 -0.9951433                                   \n",
       "  FrequencyDomainBodyGyroscopeJerkMagnitudeStandardDeviation\n",
       "1 -0.9906975                                                \n",
       "2 -0.9963995                                                \n",
       "3 -0.9951274                                                \n",
       "4 -0.9952369                                                \n",
       "5 -0.9954648                                                \n",
       "6 -0.9952387                                                \n",
       "  FrequencyDomainBodyGyroscopeJerkMagnitudeMeanFreq\n",
       "1 -0.07432303                                      \n",
       "2  0.15807454                                      \n",
       "3  0.41450281                                      \n",
       "4  0.40457253                                      \n",
       "5  0.08775301                                      \n",
       "6  0.01995331                                      "
      ]
     },
     "metadata": {},
     "output_type": "display_data"
    }
   ],
   "source": [
    "colnames(extract_features_data) <- col_names\n",
    "head(extract_features_data)"
   ]
  },
  {
   "cell_type": "markdown",
   "metadata": {},
   "source": [
    "---"
   ]
  },
  {
   "cell_type": "markdown",
   "metadata": {},
   "source": [
    "## Independant data set"
   ]
  },
  {
   "cell_type": "markdown",
   "metadata": {},
   "source": [
    "### Merging all the data and creating tables"
   ]
  },
  {
   "cell_type": "code",
   "execution_count": 114,
   "metadata": {},
   "outputs": [
    {
     "data": {
      "text/html": [
       "<table>\n",
       "<thead><tr><th scope=col>Subject</th><th scope=col>Activity</th><th scope=col>TimeDomainBodyAccelerationMean-X</th><th scope=col>TimeDomainBodyAccelerationMean-Y</th><th scope=col>TimeDomainBodyAccelerationMean-Z</th><th scope=col>TimeDomainBodyAccelerationStandardDeviation-X</th><th scope=col>TimeDomainBodyAccelerationStandardDeviation-Y</th><th scope=col>TimeDomainBodyAccelerationStandardDeviation-Z</th><th scope=col>TimeDomainGravityAccelerationMean-X</th><th scope=col>TimeDomainGravityAccelerationMean-Y</th><th scope=col>...</th><th scope=col>FrequencyDomainBodyAccelerationMagnitudeMeanFreq</th><th scope=col>FrequencyDomainBodyAccelerationJerkMagnitudeMean</th><th scope=col>FrequencyDomainBodyAccelerationJerkMagnitudeStandardDeviation</th><th scope=col>FrequencyDomainBodyAccelerationJerkMagnitudeMeanFreq</th><th scope=col>FrequencyDomainBodyGyroscopeMagnitudeMean</th><th scope=col>FrequencyDomainBodyGyroscopeMagnitudeStandardDeviation</th><th scope=col>FrequencyDomainBodyGyroscopeMagnitudeMeanFreq</th><th scope=col>FrequencyDomainBodyGyroscopeJerkMagnitudeMean</th><th scope=col>FrequencyDomainBodyGyroscopeJerkMagnitudeStandardDeviation</th><th scope=col>FrequencyDomainBodyGyroscopeJerkMagnitudeMeanFreq</th></tr></thead>\n",
       "<tbody>\n",
       "\t<tr><td>1          </td><td>STANDING   </td><td>0.2885845  </td><td>-0.02029417</td><td>-0.1329051 </td><td>-0.9952786 </td><td>-0.9831106 </td><td>-0.9135264 </td><td>0.9633961  </td><td>-0.1408397 </td><td>...        </td><td>-0.08843612</td><td>-0.9937257 </td><td>-0.9937550 </td><td>0.3469885  </td><td>-0.9801349 </td><td>-0.9613094 </td><td>-0.1289889 </td><td>-0.9919904 </td><td>-0.9906975 </td><td>-0.07432303</td></tr>\n",
       "\t<tr><td>1          </td><td>STANDING   </td><td>0.2784188  </td><td>-0.01641057</td><td>-0.1235202 </td><td>-0.9982453 </td><td>-0.9753002 </td><td>-0.9603220 </td><td>0.9665611  </td><td>-0.1415513 </td><td>...        </td><td>-0.04414989</td><td>-0.9903355 </td><td>-0.9919603 </td><td>0.5320605  </td><td>-0.9882956 </td><td>-0.9833219 </td><td>-0.2719585 </td><td>-0.9958539 </td><td>-0.9963995 </td><td> 0.15807454</td></tr>\n",
       "\t<tr><td>1          </td><td>STANDING   </td><td>0.2796531  </td><td>-0.01946716</td><td>-0.1134617 </td><td>-0.9953796 </td><td>-0.9671870 </td><td>-0.9789440 </td><td>0.9668781  </td><td>-0.1420098 </td><td>...        </td><td> 0.25789914</td><td>-0.9892801 </td><td>-0.9908667 </td><td>0.6607950  </td><td>-0.9892548 </td><td>-0.9860277 </td><td>-0.2127279 </td><td>-0.9950305 </td><td>-0.9951274 </td><td> 0.41450281</td></tr>\n",
       "\t<tr><td>1          </td><td>STANDING   </td><td>0.2791739  </td><td>-0.02620065</td><td>-0.1232826 </td><td>-0.9960915 </td><td>-0.9834027 </td><td>-0.9906751 </td><td>0.9676152  </td><td>-0.1439765 </td><td>...        </td><td> 0.07358150</td><td>-0.9927689 </td><td>-0.9916998 </td><td>0.6789213  </td><td>-0.9894128 </td><td>-0.9878358 </td><td>-0.0356842 </td><td>-0.9952207 </td><td>-0.9952369 </td><td> 0.40457253</td></tr>\n",
       "\t<tr><td>1          </td><td>STANDING   </td><td>0.2766288  </td><td>-0.01656965</td><td>-0.1153619 </td><td>-0.9981386 </td><td>-0.9808173 </td><td>-0.9904816 </td><td>0.9682244  </td><td>-0.1487502 </td><td>...        </td><td> 0.39431033</td><td>-0.9955228 </td><td>-0.9943890 </td><td>0.5590577  </td><td>-0.9914330 </td><td>-0.9890594 </td><td>-0.2735820 </td><td>-0.9950928 </td><td>-0.9954648 </td><td> 0.08775301</td></tr>\n",
       "\t<tr><td>1          </td><td>STANDING   </td><td>0.2771988  </td><td>-0.01009785</td><td>-0.1051373 </td><td>-0.9973350 </td><td>-0.9904868 </td><td>-0.9954200 </td><td>0.9679482  </td><td>-0.1482100 </td><td>...        </td><td> 0.43796212</td><td>-0.9947329 </td><td>-0.9951562 </td><td>0.2469096  </td><td>-0.9905000 </td><td>-0.9858609 </td><td>-0.2973291 </td><td>-0.9951433 </td><td>-0.9952387 </td><td> 0.01995331</td></tr>\n",
       "</tbody>\n",
       "</table>\n"
      ],
      "text/latex": [
       "\\begin{tabular}{r|lllllllllllllllllllllllllllllllllllllllllllllllllllllllllllllllllllllllllllllllll}\n",
       " Subject & Activity & TimeDomainBodyAccelerationMean-X & TimeDomainBodyAccelerationMean-Y & TimeDomainBodyAccelerationMean-Z & TimeDomainBodyAccelerationStandardDeviation-X & TimeDomainBodyAccelerationStandardDeviation-Y & TimeDomainBodyAccelerationStandardDeviation-Z & TimeDomainGravityAccelerationMean-X & TimeDomainGravityAccelerationMean-Y & ... & FrequencyDomainBodyAccelerationMagnitudeMeanFreq & FrequencyDomainBodyAccelerationJerkMagnitudeMean & FrequencyDomainBodyAccelerationJerkMagnitudeStandardDeviation & FrequencyDomainBodyAccelerationJerkMagnitudeMeanFreq & FrequencyDomainBodyGyroscopeMagnitudeMean & FrequencyDomainBodyGyroscopeMagnitudeStandardDeviation & FrequencyDomainBodyGyroscopeMagnitudeMeanFreq & FrequencyDomainBodyGyroscopeJerkMagnitudeMean & FrequencyDomainBodyGyroscopeJerkMagnitudeStandardDeviation & FrequencyDomainBodyGyroscopeJerkMagnitudeMeanFreq\\\\\n",
       "\\hline\n",
       "\t 1           & STANDING    & 0.2885845   & -0.02029417 & -0.1329051  & -0.9952786  & -0.9831106  & -0.9135264  & 0.9633961   & -0.1408397  & ...         & -0.08843612 & -0.9937257  & -0.9937550  & 0.3469885   & -0.9801349  & -0.9613094  & -0.1289889  & -0.9919904  & -0.9906975  & -0.07432303\\\\\n",
       "\t 1           & STANDING    & 0.2784188   & -0.01641057 & -0.1235202  & -0.9982453  & -0.9753002  & -0.9603220  & 0.9665611   & -0.1415513  & ...         & -0.04414989 & -0.9903355  & -0.9919603  & 0.5320605   & -0.9882956  & -0.9833219  & -0.2719585  & -0.9958539  & -0.9963995  &  0.15807454\\\\\n",
       "\t 1           & STANDING    & 0.2796531   & -0.01946716 & -0.1134617  & -0.9953796  & -0.9671870  & -0.9789440  & 0.9668781   & -0.1420098  & ...         &  0.25789914 & -0.9892801  & -0.9908667  & 0.6607950   & -0.9892548  & -0.9860277  & -0.2127279  & -0.9950305  & -0.9951274  &  0.41450281\\\\\n",
       "\t 1           & STANDING    & 0.2791739   & -0.02620065 & -0.1232826  & -0.9960915  & -0.9834027  & -0.9906751  & 0.9676152   & -0.1439765  & ...         &  0.07358150 & -0.9927689  & -0.9916998  & 0.6789213   & -0.9894128  & -0.9878358  & -0.0356842  & -0.9952207  & -0.9952369  &  0.40457253\\\\\n",
       "\t 1           & STANDING    & 0.2766288   & -0.01656965 & -0.1153619  & -0.9981386  & -0.9808173  & -0.9904816  & 0.9682244   & -0.1487502  & ...         &  0.39431033 & -0.9955228  & -0.9943890  & 0.5590577   & -0.9914330  & -0.9890594  & -0.2735820  & -0.9950928  & -0.9954648  &  0.08775301\\\\\n",
       "\t 1           & STANDING    & 0.2771988   & -0.01009785 & -0.1051373  & -0.9973350  & -0.9904868  & -0.9954200  & 0.9679482   & -0.1482100  & ...         &  0.43796212 & -0.9947329  & -0.9951562  & 0.2469096   & -0.9905000  & -0.9858609  & -0.2973291  & -0.9951433  & -0.9952387  &  0.01995331\\\\\n",
       "\\end{tabular}\n"
      ],
      "text/markdown": [
       "\n",
       "Subject | Activity | TimeDomainBodyAccelerationMean-X | TimeDomainBodyAccelerationMean-Y | TimeDomainBodyAccelerationMean-Z | TimeDomainBodyAccelerationStandardDeviation-X | TimeDomainBodyAccelerationStandardDeviation-Y | TimeDomainBodyAccelerationStandardDeviation-Z | TimeDomainGravityAccelerationMean-X | TimeDomainGravityAccelerationMean-Y | ... | FrequencyDomainBodyAccelerationMagnitudeMeanFreq | FrequencyDomainBodyAccelerationJerkMagnitudeMean | FrequencyDomainBodyAccelerationJerkMagnitudeStandardDeviation | FrequencyDomainBodyAccelerationJerkMagnitudeMeanFreq | FrequencyDomainBodyGyroscopeMagnitudeMean | FrequencyDomainBodyGyroscopeMagnitudeStandardDeviation | FrequencyDomainBodyGyroscopeMagnitudeMeanFreq | FrequencyDomainBodyGyroscopeJerkMagnitudeMean | FrequencyDomainBodyGyroscopeJerkMagnitudeStandardDeviation | FrequencyDomainBodyGyroscopeJerkMagnitudeMeanFreq | \n",
       "|---|---|---|---|---|---|\n",
       "| 1           | STANDING    | 0.2885845   | -0.02029417 | -0.1329051  | -0.9952786  | -0.9831106  | -0.9135264  | 0.9633961   | -0.1408397  | ...         | -0.08843612 | -0.9937257  | -0.9937550  | 0.3469885   | -0.9801349  | -0.9613094  | -0.1289889  | -0.9919904  | -0.9906975  | -0.07432303 | \n",
       "| 1           | STANDING    | 0.2784188   | -0.01641057 | -0.1235202  | -0.9982453  | -0.9753002  | -0.9603220  | 0.9665611   | -0.1415513  | ...         | -0.04414989 | -0.9903355  | -0.9919603  | 0.5320605   | -0.9882956  | -0.9833219  | -0.2719585  | -0.9958539  | -0.9963995  |  0.15807454 | \n",
       "| 1           | STANDING    | 0.2796531   | -0.01946716 | -0.1134617  | -0.9953796  | -0.9671870  | -0.9789440  | 0.9668781   | -0.1420098  | ...         |  0.25789914 | -0.9892801  | -0.9908667  | 0.6607950   | -0.9892548  | -0.9860277  | -0.2127279  | -0.9950305  | -0.9951274  |  0.41450281 | \n",
       "| 1           | STANDING    | 0.2791739   | -0.02620065 | -0.1232826  | -0.9960915  | -0.9834027  | -0.9906751  | 0.9676152   | -0.1439765  | ...         |  0.07358150 | -0.9927689  | -0.9916998  | 0.6789213   | -0.9894128  | -0.9878358  | -0.0356842  | -0.9952207  | -0.9952369  |  0.40457253 | \n",
       "| 1           | STANDING    | 0.2766288   | -0.01656965 | -0.1153619  | -0.9981386  | -0.9808173  | -0.9904816  | 0.9682244   | -0.1487502  | ...         |  0.39431033 | -0.9955228  | -0.9943890  | 0.5590577   | -0.9914330  | -0.9890594  | -0.2735820  | -0.9950928  | -0.9954648  |  0.08775301 | \n",
       "| 1           | STANDING    | 0.2771988   | -0.01009785 | -0.1051373  | -0.9973350  | -0.9904868  | -0.9954200  | 0.9679482   | -0.1482100  | ...         |  0.43796212 | -0.9947329  | -0.9951562  | 0.2469096   | -0.9905000  | -0.9858609  | -0.2973291  | -0.9951433  | -0.9952387  |  0.01995331 | \n",
       "\n",
       "\n"
      ],
      "text/plain": [
       "  Subject Activity TimeDomainBodyAccelerationMean-X\n",
       "1 1       STANDING 0.2885845                       \n",
       "2 1       STANDING 0.2784188                       \n",
       "3 1       STANDING 0.2796531                       \n",
       "4 1       STANDING 0.2791739                       \n",
       "5 1       STANDING 0.2766288                       \n",
       "6 1       STANDING 0.2771988                       \n",
       "  TimeDomainBodyAccelerationMean-Y TimeDomainBodyAccelerationMean-Z\n",
       "1 -0.02029417                      -0.1329051                      \n",
       "2 -0.01641057                      -0.1235202                      \n",
       "3 -0.01946716                      -0.1134617                      \n",
       "4 -0.02620065                      -0.1232826                      \n",
       "5 -0.01656965                      -0.1153619                      \n",
       "6 -0.01009785                      -0.1051373                      \n",
       "  TimeDomainBodyAccelerationStandardDeviation-X\n",
       "1 -0.9952786                                   \n",
       "2 -0.9982453                                   \n",
       "3 -0.9953796                                   \n",
       "4 -0.9960915                                   \n",
       "5 -0.9981386                                   \n",
       "6 -0.9973350                                   \n",
       "  TimeDomainBodyAccelerationStandardDeviation-Y\n",
       "1 -0.9831106                                   \n",
       "2 -0.9753002                                   \n",
       "3 -0.9671870                                   \n",
       "4 -0.9834027                                   \n",
       "5 -0.9808173                                   \n",
       "6 -0.9904868                                   \n",
       "  TimeDomainBodyAccelerationStandardDeviation-Z\n",
       "1 -0.9135264                                   \n",
       "2 -0.9603220                                   \n",
       "3 -0.9789440                                   \n",
       "4 -0.9906751                                   \n",
       "5 -0.9904816                                   \n",
       "6 -0.9954200                                   \n",
       "  TimeDomainGravityAccelerationMean-X TimeDomainGravityAccelerationMean-Y ...\n",
       "1 0.9633961                           -0.1408397                          ...\n",
       "2 0.9665611                           -0.1415513                          ...\n",
       "3 0.9668781                           -0.1420098                          ...\n",
       "4 0.9676152                           -0.1439765                          ...\n",
       "5 0.9682244                           -0.1487502                          ...\n",
       "6 0.9679482                           -0.1482100                          ...\n",
       "  FrequencyDomainBodyAccelerationMagnitudeMeanFreq\n",
       "1 -0.08843612                                     \n",
       "2 -0.04414989                                     \n",
       "3  0.25789914                                     \n",
       "4  0.07358150                                     \n",
       "5  0.39431033                                     \n",
       "6  0.43796212                                     \n",
       "  FrequencyDomainBodyAccelerationJerkMagnitudeMean\n",
       "1 -0.9937257                                      \n",
       "2 -0.9903355                                      \n",
       "3 -0.9892801                                      \n",
       "4 -0.9927689                                      \n",
       "5 -0.9955228                                      \n",
       "6 -0.9947329                                      \n",
       "  FrequencyDomainBodyAccelerationJerkMagnitudeStandardDeviation\n",
       "1 -0.9937550                                                   \n",
       "2 -0.9919603                                                   \n",
       "3 -0.9908667                                                   \n",
       "4 -0.9916998                                                   \n",
       "5 -0.9943890                                                   \n",
       "6 -0.9951562                                                   \n",
       "  FrequencyDomainBodyAccelerationJerkMagnitudeMeanFreq\n",
       "1 0.3469885                                           \n",
       "2 0.5320605                                           \n",
       "3 0.6607950                                           \n",
       "4 0.6789213                                           \n",
       "5 0.5590577                                           \n",
       "6 0.2469096                                           \n",
       "  FrequencyDomainBodyGyroscopeMagnitudeMean\n",
       "1 -0.9801349                               \n",
       "2 -0.9882956                               \n",
       "3 -0.9892548                               \n",
       "4 -0.9894128                               \n",
       "5 -0.9914330                               \n",
       "6 -0.9905000                               \n",
       "  FrequencyDomainBodyGyroscopeMagnitudeStandardDeviation\n",
       "1 -0.9613094                                            \n",
       "2 -0.9833219                                            \n",
       "3 -0.9860277                                            \n",
       "4 -0.9878358                                            \n",
       "5 -0.9890594                                            \n",
       "6 -0.9858609                                            \n",
       "  FrequencyDomainBodyGyroscopeMagnitudeMeanFreq\n",
       "1 -0.1289889                                   \n",
       "2 -0.2719585                                   \n",
       "3 -0.2127279                                   \n",
       "4 -0.0356842                                   \n",
       "5 -0.2735820                                   \n",
       "6 -0.2973291                                   \n",
       "  FrequencyDomainBodyGyroscopeJerkMagnitudeMean\n",
       "1 -0.9919904                                   \n",
       "2 -0.9958539                                   \n",
       "3 -0.9950305                                   \n",
       "4 -0.9952207                                   \n",
       "5 -0.9950928                                   \n",
       "6 -0.9951433                                   \n",
       "  FrequencyDomainBodyGyroscopeJerkMagnitudeStandardDeviation\n",
       "1 -0.9906975                                                \n",
       "2 -0.9963995                                                \n",
       "3 -0.9951274                                                \n",
       "4 -0.9952369                                                \n",
       "5 -0.9954648                                                \n",
       "6 -0.9952387                                                \n",
       "  FrequencyDomainBodyGyroscopeJerkMagnitudeMeanFreq\n",
       "1 -0.07432303                                      \n",
       "2  0.15807454                                      \n",
       "3  0.41450281                                      \n",
       "4  0.40457253                                      \n",
       "5  0.08775301                                      \n",
       "6  0.01995331                                      "
      ]
     },
     "metadata": {},
     "output_type": "display_data"
    }
   ],
   "source": [
    "library(data.table)\n",
    "#merging all the data into a single data frame\n",
    "overall_data <- cbind(subject_data,activity_data,extract_features_data)\n",
    "#creating the data table from dataframe\n",
    "overall_data <- data.table(overall_data)\n",
    "head(overall_data)"
   ]
  },
  {
   "cell_type": "markdown",
   "metadata": {},
   "source": [
    "### Average of each variable for each activity and each subject"
   ]
  },
  {
   "cell_type": "code",
   "execution_count": 120,
   "metadata": {},
   "outputs": [],
   "source": [
    "library(dplyr)\n",
    "tidy_data <- overall_data %>% group_by(Subject,Activity) %>% summarise_all(funs(mean))"
   ]
  },
  {
   "cell_type": "code",
   "execution_count": 121,
   "metadata": {},
   "outputs": [
    {
     "data": {
      "text/html": [
       "<table>\n",
       "<thead><tr><th scope=col>Subject</th><th scope=col>Activity</th><th scope=col>TimeDomainBodyAccelerationMean-X</th><th scope=col>TimeDomainBodyAccelerationMean-Y</th><th scope=col>TimeDomainBodyAccelerationMean-Z</th><th scope=col>TimeDomainBodyAccelerationStandardDeviation-X</th><th scope=col>TimeDomainBodyAccelerationStandardDeviation-Y</th><th scope=col>TimeDomainBodyAccelerationStandardDeviation-Z</th><th scope=col>TimeDomainGravityAccelerationMean-X</th><th scope=col>TimeDomainGravityAccelerationMean-Y</th><th scope=col>...</th><th scope=col>FrequencyDomainBodyAccelerationMagnitudeMeanFreq</th><th scope=col>FrequencyDomainBodyAccelerationJerkMagnitudeMean</th><th scope=col>FrequencyDomainBodyAccelerationJerkMagnitudeStandardDeviation</th><th scope=col>FrequencyDomainBodyAccelerationJerkMagnitudeMeanFreq</th><th scope=col>FrequencyDomainBodyGyroscopeMagnitudeMean</th><th scope=col>FrequencyDomainBodyGyroscopeMagnitudeStandardDeviation</th><th scope=col>FrequencyDomainBodyGyroscopeMagnitudeMeanFreq</th><th scope=col>FrequencyDomainBodyGyroscopeJerkMagnitudeMean</th><th scope=col>FrequencyDomainBodyGyroscopeJerkMagnitudeStandardDeviation</th><th scope=col>FrequencyDomainBodyGyroscopeJerkMagnitudeMeanFreq</th></tr></thead>\n",
       "<tbody>\n",
       "\t<tr><td>1                 </td><td>WALKING           </td><td>0.2773308         </td><td>-0.017383819      </td><td>-0.1111481        </td><td>-0.28374026       </td><td> 0.114461337      </td><td>-0.26002790       </td><td> 0.9352232        </td><td>-0.2821650        </td><td>...               </td><td> 0.19064372       </td><td>-0.05711940       </td><td>-0.1034924        </td><td> 0.09382218       </td><td>-0.1992526        </td><td>-0.3210180        </td><td> 0.2688443675     </td><td>-0.3193086        </td><td>-0.3816019        </td><td> 0.19066345       </td></tr>\n",
       "\t<tr><td>1                 </td><td>WALKING_UPSTAIRS  </td><td>0.2554617         </td><td>-0.023953149      </td><td>-0.0973020        </td><td>-0.35470803       </td><td>-0.002320265      </td><td>-0.01947924       </td><td> 0.8933511        </td><td>-0.3621534        </td><td>...               </td><td>-0.09774335       </td><td>-0.44265216       </td><td>-0.5330599        </td><td> 0.08535241       </td><td>-0.3259615        </td><td>-0.1829855        </td><td>-0.2193033761     </td><td>-0.6346651        </td><td>-0.6939305        </td><td> 0.11427734       </td></tr>\n",
       "\t<tr><td>1                 </td><td>WALKING_DOWNSTAIRS</td><td>0.2891883         </td><td>-0.009918505      </td><td>-0.1075662        </td><td> 0.03003534       </td><td>-0.031935943      </td><td>-0.23043421       </td><td> 0.9318744        </td><td>-0.2666103        </td><td>...               </td><td> 0.11918714       </td><td> 0.02621849       </td><td>-0.1040523        </td><td> 0.07649155       </td><td>-0.1857203        </td><td>-0.3983504        </td><td> 0.3496138955     </td><td>-0.2819634        </td><td>-0.3919199        </td><td> 0.19000071       </td></tr>\n",
       "\t<tr><td>1                 </td><td>SITTING           </td><td>0.2612376         </td><td>-0.001308288      </td><td>-0.1045442        </td><td>-0.97722901       </td><td>-0.922618642      </td><td>-0.93958629       </td><td> 0.8315099        </td><td> 0.2044116        </td><td>...               </td><td> 0.23665501       </td><td>-0.98526213       </td><td>-0.9816062        </td><td> 0.35185220       </td><td>-0.9584356        </td><td>-0.9321984        </td><td>-0.0002621867     </td><td>-0.9897975        </td><td>-0.9870496        </td><td> 0.18477593       </td></tr>\n",
       "\t<tr><td>1                 </td><td>STANDING          </td><td>0.2789176         </td><td>-0.016137590      </td><td>-0.1106018        </td><td>-0.99575990       </td><td>-0.973190056      </td><td>-0.97977588       </td><td> 0.9429520        </td><td>-0.2729838        </td><td>...               </td><td> 0.28455529       </td><td>-0.99254248       </td><td>-0.9925360        </td><td> 0.42222010       </td><td>-0.9846176        </td><td>-0.9784661        </td><td>-0.0286057725     </td><td>-0.9948154        </td><td>-0.9946711        </td><td> 0.33449873       </td></tr>\n",
       "\t<tr><td>1                 </td><td>LAYING            </td><td>0.2215982         </td><td>-0.040513953      </td><td>-0.1132036        </td><td>-0.92805647       </td><td>-0.836827406      </td><td>-0.82606140       </td><td>-0.2488818        </td><td> 0.7055498        </td><td>...               </td><td> 0.08640856       </td><td>-0.93330036       </td><td>-0.9218040        </td><td> 0.26639115       </td><td>-0.8621902        </td><td>-0.8243194        </td><td>-0.1397750127     </td><td>-0.9423669        </td><td>-0.9326607        </td><td> 0.17648591       </td></tr>\n",
       "\t<tr><td>2                 </td><td>WALKING           </td><td>0.2764266         </td><td>-0.018594920      </td><td>-0.1055004        </td><td>-0.42364284       </td><td>-0.078091253      </td><td>-0.42525752       </td><td> 0.9130173        </td><td>-0.3466071        </td><td>...               </td><td> 0.39320621       </td><td>-0.16906435       </td><td>-0.1640920        </td><td> 0.20750093       </td><td>-0.5307048        </td><td>-0.6517928        </td><td> 0.3052838253     </td><td>-0.5832493        </td><td>-0.5581046        </td><td> 0.12634461       </td></tr>\n",
       "\t<tr><td>2                 </td><td>WALKING_UPSTAIRS  </td><td>0.2471648         </td><td>-0.021412113      </td><td>-0.1525139        </td><td>-0.30437641       </td><td> 0.108027280      </td><td>-0.11212102       </td><td> 0.7907174        </td><td>-0.4162149        </td><td>...               </td><td> 0.10768040       </td><td>-0.18951114       </td><td>-0.2604238        </td><td>-0.01191682       </td><td>-0.4506122        </td><td>-0.4386204        </td><td>-0.0227527690     </td><td>-0.6007985        </td><td>-0.6218202        </td><td> 0.04674340       </td></tr>\n",
       "\t<tr><td>2                 </td><td>WALKING_DOWNSTAIRS</td><td>0.2776153         </td><td>-0.022661416      </td><td>-0.1168129        </td><td> 0.04636668       </td><td> 0.262881789      </td><td>-0.10283791       </td><td> 0.8618313        </td><td>-0.3257801        </td><td>...               </td><td> 0.09383213       </td><td> 0.22224741       </td><td> 0.2274807        </td><td> 0.01883551       </td><td>-0.3208385        </td><td>-0.3725768        </td><td> 0.1039712417     </td><td>-0.3801753        </td><td>-0.3436990        </td><td>-0.05124796       </td></tr>\n",
       "\t<tr><td>2                 </td><td>SITTING           </td><td>0.2770874         </td><td>-0.015687994      </td><td>-0.1092183        </td><td>-0.98682228       </td><td>-0.950704499      </td><td>-0.95982817       </td><td> 0.9404773        </td><td>-0.1056300        </td><td>...               </td><td> 0.13093420       </td><td>-0.98387470       </td><td>-0.9841242        </td><td> 0.28006242       </td><td>-0.9718406        </td><td>-0.9613857        </td><td>-0.1063589092     </td><td>-0.9898620        </td><td>-0.9896329        </td><td> 0.19472215       </td></tr>\n",
       "</tbody>\n",
       "</table>\n"
      ],
      "text/latex": [
       "\\begin{tabular}{r|lllllllllllllllllllllllllllllllllllllllllllllllllllllllllllllllllllllllllllllllll}\n",
       " Subject & Activity & TimeDomainBodyAccelerationMean-X & TimeDomainBodyAccelerationMean-Y & TimeDomainBodyAccelerationMean-Z & TimeDomainBodyAccelerationStandardDeviation-X & TimeDomainBodyAccelerationStandardDeviation-Y & TimeDomainBodyAccelerationStandardDeviation-Z & TimeDomainGravityAccelerationMean-X & TimeDomainGravityAccelerationMean-Y & ... & FrequencyDomainBodyAccelerationMagnitudeMeanFreq & FrequencyDomainBodyAccelerationJerkMagnitudeMean & FrequencyDomainBodyAccelerationJerkMagnitudeStandardDeviation & FrequencyDomainBodyAccelerationJerkMagnitudeMeanFreq & FrequencyDomainBodyGyroscopeMagnitudeMean & FrequencyDomainBodyGyroscopeMagnitudeStandardDeviation & FrequencyDomainBodyGyroscopeMagnitudeMeanFreq & FrequencyDomainBodyGyroscopeJerkMagnitudeMean & FrequencyDomainBodyGyroscopeJerkMagnitudeStandardDeviation & FrequencyDomainBodyGyroscopeJerkMagnitudeMeanFreq\\\\\n",
       "\\hline\n",
       "\t 1                  & WALKING            & 0.2773308          & -0.017383819       & -0.1111481         & -0.28374026        &  0.114461337       & -0.26002790        &  0.9352232         & -0.2821650         & ...                &  0.19064372        & -0.05711940        & -0.1034924         &  0.09382218        & -0.1992526         & -0.3210180         &  0.2688443675      & -0.3193086         & -0.3816019         &  0.19066345       \\\\\n",
       "\t 1                    & WALKING\\_UPSTAIRS   & 0.2554617            & -0.023953149         & -0.0973020           & -0.35470803          & -0.002320265         & -0.01947924          &  0.8933511           & -0.3621534           & ...                  & -0.09774335          & -0.44265216          & -0.5330599           &  0.08535241          & -0.3259615           & -0.1829855           & -0.2193033761        & -0.6346651           & -0.6939305           &  0.11427734         \\\\\n",
       "\t 1                    & WALKING\\_DOWNSTAIRS & 0.2891883            & -0.009918505         & -0.1075662           &  0.03003534          & -0.031935943         & -0.23043421          &  0.9318744           & -0.2666103           & ...                  &  0.11918714          &  0.02621849          & -0.1040523           &  0.07649155          & -0.1857203           & -0.3983504           &  0.3496138955        & -0.2819634           & -0.3919199           &  0.19000071         \\\\\n",
       "\t 1                  & SITTING            & 0.2612376          & -0.001308288       & -0.1045442         & -0.97722901        & -0.922618642       & -0.93958629        &  0.8315099         &  0.2044116         & ...                &  0.23665501        & -0.98526213        & -0.9816062         &  0.35185220        & -0.9584356         & -0.9321984         & -0.0002621867      & -0.9897975         & -0.9870496         &  0.18477593       \\\\\n",
       "\t 1                  & STANDING           & 0.2789176          & -0.016137590       & -0.1106018         & -0.99575990        & -0.973190056       & -0.97977588        &  0.9429520         & -0.2729838         & ...                &  0.28455529        & -0.99254248        & -0.9925360         &  0.42222010        & -0.9846176         & -0.9784661         & -0.0286057725      & -0.9948154         & -0.9946711         &  0.33449873       \\\\\n",
       "\t 1                  & LAYING             & 0.2215982          & -0.040513953       & -0.1132036         & -0.92805647        & -0.836827406       & -0.82606140        & -0.2488818         &  0.7055498         & ...                &  0.08640856        & -0.93330036        & -0.9218040         &  0.26639115        & -0.8621902         & -0.8243194         & -0.1397750127      & -0.9423669         & -0.9326607         &  0.17648591       \\\\\n",
       "\t 2                  & WALKING            & 0.2764266          & -0.018594920       & -0.1055004         & -0.42364284        & -0.078091253       & -0.42525752        &  0.9130173         & -0.3466071         & ...                &  0.39320621        & -0.16906435        & -0.1640920         &  0.20750093        & -0.5307048         & -0.6517928         &  0.3052838253      & -0.5832493         & -0.5581046         &  0.12634461       \\\\\n",
       "\t 2                    & WALKING\\_UPSTAIRS   & 0.2471648            & -0.021412113         & -0.1525139           & -0.30437641          &  0.108027280         & -0.11212102          &  0.7907174           & -0.4162149           & ...                  &  0.10768040          & -0.18951114          & -0.2604238           & -0.01191682          & -0.4506122           & -0.4386204           & -0.0227527690        & -0.6007985           & -0.6218202           &  0.04674340         \\\\\n",
       "\t 2                    & WALKING\\_DOWNSTAIRS & 0.2776153            & -0.022661416         & -0.1168129           &  0.04636668          &  0.262881789         & -0.10283791          &  0.8618313           & -0.3257801           & ...                  &  0.09383213          &  0.22224741          &  0.2274807           &  0.01883551          & -0.3208385           & -0.3725768           &  0.1039712417        & -0.3801753           & -0.3436990           & -0.05124796         \\\\\n",
       "\t 2                  & SITTING            & 0.2770874          & -0.015687994       & -0.1092183         & -0.98682228        & -0.950704499       & -0.95982817        &  0.9404773         & -0.1056300         & ...                &  0.13093420        & -0.98387470        & -0.9841242         &  0.28006242        & -0.9718406         & -0.9613857         & -0.1063589092      & -0.9898620         & -0.9896329         &  0.19472215       \\\\\n",
       "\\end{tabular}\n"
      ],
      "text/markdown": [
       "\n",
       "Subject | Activity | TimeDomainBodyAccelerationMean-X | TimeDomainBodyAccelerationMean-Y | TimeDomainBodyAccelerationMean-Z | TimeDomainBodyAccelerationStandardDeviation-X | TimeDomainBodyAccelerationStandardDeviation-Y | TimeDomainBodyAccelerationStandardDeviation-Z | TimeDomainGravityAccelerationMean-X | TimeDomainGravityAccelerationMean-Y | ... | FrequencyDomainBodyAccelerationMagnitudeMeanFreq | FrequencyDomainBodyAccelerationJerkMagnitudeMean | FrequencyDomainBodyAccelerationJerkMagnitudeStandardDeviation | FrequencyDomainBodyAccelerationJerkMagnitudeMeanFreq | FrequencyDomainBodyGyroscopeMagnitudeMean | FrequencyDomainBodyGyroscopeMagnitudeStandardDeviation | FrequencyDomainBodyGyroscopeMagnitudeMeanFreq | FrequencyDomainBodyGyroscopeJerkMagnitudeMean | FrequencyDomainBodyGyroscopeJerkMagnitudeStandardDeviation | FrequencyDomainBodyGyroscopeJerkMagnitudeMeanFreq | \n",
       "|---|---|---|---|---|---|---|---|---|---|\n",
       "| 1                  | WALKING            | 0.2773308          | -0.017383819       | -0.1111481         | -0.28374026        |  0.114461337       | -0.26002790        |  0.9352232         | -0.2821650         | ...                |  0.19064372        | -0.05711940        | -0.1034924         |  0.09382218        | -0.1992526         | -0.3210180         |  0.2688443675      | -0.3193086         | -0.3816019         |  0.19066345        | \n",
       "| 1                  | WALKING_UPSTAIRS   | 0.2554617          | -0.023953149       | -0.0973020         | -0.35470803        | -0.002320265       | -0.01947924        |  0.8933511         | -0.3621534         | ...                | -0.09774335        | -0.44265216        | -0.5330599         |  0.08535241        | -0.3259615         | -0.1829855         | -0.2193033761      | -0.6346651         | -0.6939305         |  0.11427734        | \n",
       "| 1                  | WALKING_DOWNSTAIRS | 0.2891883          | -0.009918505       | -0.1075662         |  0.03003534        | -0.031935943       | -0.23043421        |  0.9318744         | -0.2666103         | ...                |  0.11918714        |  0.02621849        | -0.1040523         |  0.07649155        | -0.1857203         | -0.3983504         |  0.3496138955      | -0.2819634         | -0.3919199         |  0.19000071        | \n",
       "| 1                  | SITTING            | 0.2612376          | -0.001308288       | -0.1045442         | -0.97722901        | -0.922618642       | -0.93958629        |  0.8315099         |  0.2044116         | ...                |  0.23665501        | -0.98526213        | -0.9816062         |  0.35185220        | -0.9584356         | -0.9321984         | -0.0002621867      | -0.9897975         | -0.9870496         |  0.18477593        | \n",
       "| 1                  | STANDING           | 0.2789176          | -0.016137590       | -0.1106018         | -0.99575990        | -0.973190056       | -0.97977588        |  0.9429520         | -0.2729838         | ...                |  0.28455529        | -0.99254248        | -0.9925360         |  0.42222010        | -0.9846176         | -0.9784661         | -0.0286057725      | -0.9948154         | -0.9946711         |  0.33449873        | \n",
       "| 1                  | LAYING             | 0.2215982          | -0.040513953       | -0.1132036         | -0.92805647        | -0.836827406       | -0.82606140        | -0.2488818         |  0.7055498         | ...                |  0.08640856        | -0.93330036        | -0.9218040         |  0.26639115        | -0.8621902         | -0.8243194         | -0.1397750127      | -0.9423669         | -0.9326607         |  0.17648591        | \n",
       "| 2                  | WALKING            | 0.2764266          | -0.018594920       | -0.1055004         | -0.42364284        | -0.078091253       | -0.42525752        |  0.9130173         | -0.3466071         | ...                |  0.39320621        | -0.16906435        | -0.1640920         |  0.20750093        | -0.5307048         | -0.6517928         |  0.3052838253      | -0.5832493         | -0.5581046         |  0.12634461        | \n",
       "| 2                  | WALKING_UPSTAIRS   | 0.2471648          | -0.021412113       | -0.1525139         | -0.30437641        |  0.108027280       | -0.11212102        |  0.7907174         | -0.4162149         | ...                |  0.10768040        | -0.18951114        | -0.2604238         | -0.01191682        | -0.4506122         | -0.4386204         | -0.0227527690      | -0.6007985         | -0.6218202         |  0.04674340        | \n",
       "| 2                  | WALKING_DOWNSTAIRS | 0.2776153          | -0.022661416       | -0.1168129         |  0.04636668        |  0.262881789       | -0.10283791        |  0.8618313         | -0.3257801         | ...                |  0.09383213        |  0.22224741        |  0.2274807         |  0.01883551        | -0.3208385         | -0.3725768         |  0.1039712417      | -0.3801753         | -0.3436990         | -0.05124796        | \n",
       "| 2                  | SITTING            | 0.2770874          | -0.015687994       | -0.1092183         | -0.98682228        | -0.950704499       | -0.95982817        |  0.9404773         | -0.1056300         | ...                |  0.13093420        | -0.98387470        | -0.9841242         |  0.28006242        | -0.9718406         | -0.9613857         | -0.1063589092      | -0.9898620         | -0.9896329         |  0.19472215        | \n",
       "\n",
       "\n"
      ],
      "text/plain": [
       "   Subject Activity           TimeDomainBodyAccelerationMean-X\n",
       "1  1       WALKING            0.2773308                       \n",
       "2  1       WALKING_UPSTAIRS   0.2554617                       \n",
       "3  1       WALKING_DOWNSTAIRS 0.2891883                       \n",
       "4  1       SITTING            0.2612376                       \n",
       "5  1       STANDING           0.2789176                       \n",
       "6  1       LAYING             0.2215982                       \n",
       "7  2       WALKING            0.2764266                       \n",
       "8  2       WALKING_UPSTAIRS   0.2471648                       \n",
       "9  2       WALKING_DOWNSTAIRS 0.2776153                       \n",
       "10 2       SITTING            0.2770874                       \n",
       "   TimeDomainBodyAccelerationMean-Y TimeDomainBodyAccelerationMean-Z\n",
       "1  -0.017383819                     -0.1111481                      \n",
       "2  -0.023953149                     -0.0973020                      \n",
       "3  -0.009918505                     -0.1075662                      \n",
       "4  -0.001308288                     -0.1045442                      \n",
       "5  -0.016137590                     -0.1106018                      \n",
       "6  -0.040513953                     -0.1132036                      \n",
       "7  -0.018594920                     -0.1055004                      \n",
       "8  -0.021412113                     -0.1525139                      \n",
       "9  -0.022661416                     -0.1168129                      \n",
       "10 -0.015687994                     -0.1092183                      \n",
       "   TimeDomainBodyAccelerationStandardDeviation-X\n",
       "1  -0.28374026                                  \n",
       "2  -0.35470803                                  \n",
       "3   0.03003534                                  \n",
       "4  -0.97722901                                  \n",
       "5  -0.99575990                                  \n",
       "6  -0.92805647                                  \n",
       "7  -0.42364284                                  \n",
       "8  -0.30437641                                  \n",
       "9   0.04636668                                  \n",
       "10 -0.98682228                                  \n",
       "   TimeDomainBodyAccelerationStandardDeviation-Y\n",
       "1   0.114461337                                 \n",
       "2  -0.002320265                                 \n",
       "3  -0.031935943                                 \n",
       "4  -0.922618642                                 \n",
       "5  -0.973190056                                 \n",
       "6  -0.836827406                                 \n",
       "7  -0.078091253                                 \n",
       "8   0.108027280                                 \n",
       "9   0.262881789                                 \n",
       "10 -0.950704499                                 \n",
       "   TimeDomainBodyAccelerationStandardDeviation-Z\n",
       "1  -0.26002790                                  \n",
       "2  -0.01947924                                  \n",
       "3  -0.23043421                                  \n",
       "4  -0.93958629                                  \n",
       "5  -0.97977588                                  \n",
       "6  -0.82606140                                  \n",
       "7  -0.42525752                                  \n",
       "8  -0.11212102                                  \n",
       "9  -0.10283791                                  \n",
       "10 -0.95982817                                  \n",
       "   TimeDomainGravityAccelerationMean-X TimeDomainGravityAccelerationMean-Y ...\n",
       "1   0.9352232                          -0.2821650                          ...\n",
       "2   0.8933511                          -0.3621534                          ...\n",
       "3   0.9318744                          -0.2666103                          ...\n",
       "4   0.8315099                           0.2044116                          ...\n",
       "5   0.9429520                          -0.2729838                          ...\n",
       "6  -0.2488818                           0.7055498                          ...\n",
       "7   0.9130173                          -0.3466071                          ...\n",
       "8   0.7907174                          -0.4162149                          ...\n",
       "9   0.8618313                          -0.3257801                          ...\n",
       "10  0.9404773                          -0.1056300                          ...\n",
       "   FrequencyDomainBodyAccelerationMagnitudeMeanFreq\n",
       "1   0.19064372                                     \n",
       "2  -0.09774335                                     \n",
       "3   0.11918714                                     \n",
       "4   0.23665501                                     \n",
       "5   0.28455529                                     \n",
       "6   0.08640856                                     \n",
       "7   0.39320621                                     \n",
       "8   0.10768040                                     \n",
       "9   0.09383213                                     \n",
       "10  0.13093420                                     \n",
       "   FrequencyDomainBodyAccelerationJerkMagnitudeMean\n",
       "1  -0.05711940                                     \n",
       "2  -0.44265216                                     \n",
       "3   0.02621849                                     \n",
       "4  -0.98526213                                     \n",
       "5  -0.99254248                                     \n",
       "6  -0.93330036                                     \n",
       "7  -0.16906435                                     \n",
       "8  -0.18951114                                     \n",
       "9   0.22224741                                     \n",
       "10 -0.98387470                                     \n",
       "   FrequencyDomainBodyAccelerationJerkMagnitudeStandardDeviation\n",
       "1  -0.1034924                                                   \n",
       "2  -0.5330599                                                   \n",
       "3  -0.1040523                                                   \n",
       "4  -0.9816062                                                   \n",
       "5  -0.9925360                                                   \n",
       "6  -0.9218040                                                   \n",
       "7  -0.1640920                                                   \n",
       "8  -0.2604238                                                   \n",
       "9   0.2274807                                                   \n",
       "10 -0.9841242                                                   \n",
       "   FrequencyDomainBodyAccelerationJerkMagnitudeMeanFreq\n",
       "1   0.09382218                                         \n",
       "2   0.08535241                                         \n",
       "3   0.07649155                                         \n",
       "4   0.35185220                                         \n",
       "5   0.42222010                                         \n",
       "6   0.26639115                                         \n",
       "7   0.20750093                                         \n",
       "8  -0.01191682                                         \n",
       "9   0.01883551                                         \n",
       "10  0.28006242                                         \n",
       "   FrequencyDomainBodyGyroscopeMagnitudeMean\n",
       "1  -0.1992526                               \n",
       "2  -0.3259615                               \n",
       "3  -0.1857203                               \n",
       "4  -0.9584356                               \n",
       "5  -0.9846176                               \n",
       "6  -0.8621902                               \n",
       "7  -0.5307048                               \n",
       "8  -0.4506122                               \n",
       "9  -0.3208385                               \n",
       "10 -0.9718406                               \n",
       "   FrequencyDomainBodyGyroscopeMagnitudeStandardDeviation\n",
       "1  -0.3210180                                            \n",
       "2  -0.1829855                                            \n",
       "3  -0.3983504                                            \n",
       "4  -0.9321984                                            \n",
       "5  -0.9784661                                            \n",
       "6  -0.8243194                                            \n",
       "7  -0.6517928                                            \n",
       "8  -0.4386204                                            \n",
       "9  -0.3725768                                            \n",
       "10 -0.9613857                                            \n",
       "   FrequencyDomainBodyGyroscopeMagnitudeMeanFreq\n",
       "1   0.2688443675                                \n",
       "2  -0.2193033761                                \n",
       "3   0.3496138955                                \n",
       "4  -0.0002621867                                \n",
       "5  -0.0286057725                                \n",
       "6  -0.1397750127                                \n",
       "7   0.3052838253                                \n",
       "8  -0.0227527690                                \n",
       "9   0.1039712417                                \n",
       "10 -0.1063589092                                \n",
       "   FrequencyDomainBodyGyroscopeJerkMagnitudeMean\n",
       "1  -0.3193086                                   \n",
       "2  -0.6346651                                   \n",
       "3  -0.2819634                                   \n",
       "4  -0.9897975                                   \n",
       "5  -0.9948154                                   \n",
       "6  -0.9423669                                   \n",
       "7  -0.5832493                                   \n",
       "8  -0.6007985                                   \n",
       "9  -0.3801753                                   \n",
       "10 -0.9898620                                   \n",
       "   FrequencyDomainBodyGyroscopeJerkMagnitudeStandardDeviation\n",
       "1  -0.3816019                                                \n",
       "2  -0.6939305                                                \n",
       "3  -0.3919199                                                \n",
       "4  -0.9870496                                                \n",
       "5  -0.9946711                                                \n",
       "6  -0.9326607                                                \n",
       "7  -0.5581046                                                \n",
       "8  -0.6218202                                                \n",
       "9  -0.3436990                                                \n",
       "10 -0.9896329                                                \n",
       "   FrequencyDomainBodyGyroscopeJerkMagnitudeMeanFreq\n",
       "1   0.19066345                                      \n",
       "2   0.11427734                                      \n",
       "3   0.19000071                                      \n",
       "4   0.18477593                                      \n",
       "5   0.33449873                                      \n",
       "6   0.17648591                                      \n",
       "7   0.12634461                                      \n",
       "8   0.04674340                                      \n",
       "9  -0.05124796                                      \n",
       "10  0.19472215                                      "
      ]
     },
     "metadata": {},
     "output_type": "display_data"
    }
   ],
   "source": [
    "head(tidy_data,n=10)"
   ]
  },
  {
   "cell_type": "markdown",
   "metadata": {},
   "source": [
    "### Write the tidy data to the csv file"
   ]
  },
  {
   "cell_type": "code",
   "execution_count": 123,
   "metadata": {},
   "outputs": [],
   "source": [
    "write.table(tidy_data,\"./tidy_data.csv\",sep=\",\",row.names = FALSE)"
   ]
  }
 ],
 "metadata": {
  "kernelspec": {
   "display_name": "R",
   "language": "R",
   "name": "ir"
  },
  "language_info": {
   "codemirror_mode": "r",
   "file_extension": ".r",
   "mimetype": "text/x-r-source",
   "name": "R",
   "pygments_lexer": "r",
   "version": "3.4.2"
  }
 },
 "nbformat": 4,
 "nbformat_minor": 2
}
