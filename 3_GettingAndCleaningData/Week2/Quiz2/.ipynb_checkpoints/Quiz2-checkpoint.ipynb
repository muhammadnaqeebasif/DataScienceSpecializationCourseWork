{
 "cells": [
  {
   "cell_type": "markdown",
   "metadata": {},
   "source": [
    "# Q1"
   ]
  },
  {
   "cell_type": "code",
   "execution_count": null,
   "metadata": {},
   "outputs": [],
   "source": [
    "library(httr)\n",
    "\n",
    "# 1. Find OAuth settings for github:\n",
    "#    http://developer.github.com/v3/oauth/\n",
    "oauth_endpoints(\"github\")\n",
    "\n",
    "# 2. To make your own application, register at \n",
    "#    https://github.com/settings/developers. Use any URL for the homepage URL\n",
    "#    (http://github.com is fine) and  http://localhost:1410 as the callback url\n",
    "#\n",
    "#    Replace your key and secret below.\n",
    "myapp <- oauth_app(\"github\",\n",
    "  key = \"56b637a5baffac62cad9\",\n",
    "  secret = \"8e107541ae1791259e9987d544ca568633da2ebf\")\n",
    "\n",
    "# 3. Get OAuth credentials\n",
    "github_token <- oauth2.0_token(oauth_endpoints(\"github\"), myapp)\n",
    "\n",
    "# 4. Use API\n",
    "gtoken <- config(token = github_token)\n",
    "req <- GET(\"https://api.github.com/rate_limit\", gtoken)\n",
    "stop_for_status(req)\n",
    "content(req)\n",
    "\n",
    "# OR:\n",
    "req <- with_config(gtoken, GET(\"https://api.github.com/rate_limit\"))\n",
    "stop_for_status(req)\n",
    "output <- content(req)\n",
    "list(output[[4]]$name, output[[4]]$created_at)"
   ]
  },
  {
   "cell_type": "code",
   "execution_count": 18,
   "metadata": {},
   "outputs": [
    {
     "ename": "ERROR",
     "evalue": "Error in data[[4]]: subscript out of bounds\n",
     "execution_count": 18,
     "output_type": "error",
     "traceback": [
      "Error in data[[4]]: subscript out of bounds\nTraceback:\n"
     ]
    }
   ],
   "source": [
    "data[[4]]"
   ]
  },
  {
   "cell_type": "markdown",
   "metadata": {},
   "source": [
    "# Q2"
   ]
  },
  {
   "cell_type": "code",
   "execution_count": 2,
   "metadata": {},
   "outputs": [],
   "source": [
    "download.file(\"https://d396qusza40orc.cloudfront.net/getdata%2Fdata%2Fss06pid.csv\",destfile = 'q2Data.csv')"
   ]
  },
  {
   "cell_type": "code",
   "execution_count": 1,
   "metadata": {},
   "outputs": [],
   "source": [
    "df <- read.csv('./q2Data.csv')"
   ]
  },
  {
   "cell_type": "code",
   "execution_count": 2,
   "metadata": {},
   "outputs": [
    {
     "data": {
      "text/html": [
       "<table>\n",
       "<thead><tr><th scope=col>RT</th><th scope=col>SERIALNO</th><th scope=col>SPORDER</th><th scope=col>PUMA</th><th scope=col>ST</th><th scope=col>ADJUST</th><th scope=col>PWGTP</th><th scope=col>AGEP</th><th scope=col>CIT</th><th scope=col>COW</th><th scope=col>...</th><th scope=col>pwgtp71</th><th scope=col>pwgtp72</th><th scope=col>pwgtp73</th><th scope=col>pwgtp74</th><th scope=col>pwgtp75</th><th scope=col>pwgtp76</th><th scope=col>pwgtp77</th><th scope=col>pwgtp78</th><th scope=col>pwgtp79</th><th scope=col>pwgtp80</th></tr></thead>\n",
       "<tbody>\n",
       "\t<tr><td>P      </td><td>186    </td><td>1      </td><td>700    </td><td>16     </td><td>1015675</td><td> 89    </td><td>43     </td><td>1      </td><td> 7     </td><td>...    </td><td> 82    </td><td> 27    </td><td> 92    </td><td>150    </td><td> 28    </td><td> 78    </td><td> 25    </td><td> 99    </td><td>159    </td><td>129    </td></tr>\n",
       "\t<tr><td>P      </td><td>186    </td><td>2      </td><td>700    </td><td>16     </td><td>1015675</td><td> 92    </td><td>42     </td><td>1      </td><td> 4     </td><td>...    </td><td> 84    </td><td> 26    </td><td> 90    </td><td>159    </td><td> 30    </td><td> 87    </td><td> 27    </td><td> 98    </td><td>167    </td><td>131    </td></tr>\n",
       "\t<tr><td>P      </td><td>186    </td><td>3      </td><td>700    </td><td>16     </td><td>1015675</td><td>107    </td><td>16     </td><td>1      </td><td> 1     </td><td>...    </td><td> 90    </td><td> 28    </td><td> 92    </td><td>177    </td><td> 33    </td><td>105    </td><td> 30    </td><td>104    </td><td>206    </td><td>156    </td></tr>\n",
       "\t<tr><td>P      </td><td>186    </td><td>4      </td><td>700    </td><td>16     </td><td>1015675</td><td> 91    </td><td>14     </td><td>1      </td><td>NA     </td><td>...    </td><td> 81    </td><td> 28    </td><td> 94    </td><td>164    </td><td> 29    </td><td> 88    </td><td> 27    </td><td>104    </td><td>156    </td><td>138    </td></tr>\n",
       "\t<tr><td>P      </td><td>306    </td><td>1      </td><td>700    </td><td>16     </td><td>1015675</td><td>309    </td><td>29     </td><td>1      </td><td> 5     </td><td>...    </td><td>294    </td><td>400    </td><td> 80    </td><td>489    </td><td>340    </td><td>491    </td><td>612    </td><td>282    </td><td>462    </td><td>259    </td></tr>\n",
       "\t<tr><td>P      </td><td>395    </td><td>1      </td><td>100    </td><td>16     </td><td>1015675</td><td>108    </td><td>40     </td><td>1      </td><td> 8     </td><td>...    </td><td>123    </td><td>119    </td><td>171    </td><td>108    </td><td> 97    </td><td>104    </td><td> 31    </td><td>127    </td><td>108    </td><td> 31    </td></tr>\n",
       "</tbody>\n",
       "</table>\n"
      ],
      "text/latex": [
       "\\begin{tabular}{r|lllllllllllllllllllllllllllllllllllllllllllllllllllllllllllllllllllllllllllllllllllllllllllllllllllllllllllllllllllllllllllllllllllllllllllllllllllllllllllllllllllllllllllllllllllllllllllllllllllllllllllllllllllllllllllllllllllllllllllllll}\n",
       " RT & SERIALNO & SPORDER & PUMA & ST & ADJUST & PWGTP & AGEP & CIT & COW & ... & pwgtp71 & pwgtp72 & pwgtp73 & pwgtp74 & pwgtp75 & pwgtp76 & pwgtp77 & pwgtp78 & pwgtp79 & pwgtp80\\\\\n",
       "\\hline\n",
       "\t P       & 186     & 1       & 700     & 16      & 1015675 &  89     & 43      & 1       &  7      & ...     &  82     &  27     &  92     & 150     &  28     &  78     &  25     &  99     & 159     & 129    \\\\\n",
       "\t P       & 186     & 2       & 700     & 16      & 1015675 &  92     & 42      & 1       &  4      & ...     &  84     &  26     &  90     & 159     &  30     &  87     &  27     &  98     & 167     & 131    \\\\\n",
       "\t P       & 186     & 3       & 700     & 16      & 1015675 & 107     & 16      & 1       &  1      & ...     &  90     &  28     &  92     & 177     &  33     & 105     &  30     & 104     & 206     & 156    \\\\\n",
       "\t P       & 186     & 4       & 700     & 16      & 1015675 &  91     & 14      & 1       & NA      & ...     &  81     &  28     &  94     & 164     &  29     &  88     &  27     & 104     & 156     & 138    \\\\\n",
       "\t P       & 306     & 1       & 700     & 16      & 1015675 & 309     & 29      & 1       &  5      & ...     & 294     & 400     &  80     & 489     & 340     & 491     & 612     & 282     & 462     & 259    \\\\\n",
       "\t P       & 395     & 1       & 100     & 16      & 1015675 & 108     & 40      & 1       &  8      & ...     & 123     & 119     & 171     & 108     &  97     & 104     &  31     & 127     & 108     &  31    \\\\\n",
       "\\end{tabular}\n"
      ],
      "text/markdown": [
       "\n",
       "RT | SERIALNO | SPORDER | PUMA | ST | ADJUST | PWGTP | AGEP | CIT | COW | ... | pwgtp71 | pwgtp72 | pwgtp73 | pwgtp74 | pwgtp75 | pwgtp76 | pwgtp77 | pwgtp78 | pwgtp79 | pwgtp80 | \n",
       "|---|---|---|---|---|---|\n",
       "| P       | 186     | 1       | 700     | 16      | 1015675 |  89     | 43      | 1       |  7      | ...     |  82     |  27     |  92     | 150     |  28     |  78     |  25     |  99     | 159     | 129     | \n",
       "| P       | 186     | 2       | 700     | 16      | 1015675 |  92     | 42      | 1       |  4      | ...     |  84     |  26     |  90     | 159     |  30     |  87     |  27     |  98     | 167     | 131     | \n",
       "| P       | 186     | 3       | 700     | 16      | 1015675 | 107     | 16      | 1       |  1      | ...     |  90     |  28     |  92     | 177     |  33     | 105     |  30     | 104     | 206     | 156     | \n",
       "| P       | 186     | 4       | 700     | 16      | 1015675 |  91     | 14      | 1       | NA      | ...     |  81     |  28     |  94     | 164     |  29     |  88     |  27     | 104     | 156     | 138     | \n",
       "| P       | 306     | 1       | 700     | 16      | 1015675 | 309     | 29      | 1       |  5      | ...     | 294     | 400     |  80     | 489     | 340     | 491     | 612     | 282     | 462     | 259     | \n",
       "| P       | 395     | 1       | 100     | 16      | 1015675 | 108     | 40      | 1       |  8      | ...     | 123     | 119     | 171     | 108     |  97     | 104     |  31     | 127     | 108     |  31     | \n",
       "\n",
       "\n"
      ],
      "text/plain": [
       "  RT SERIALNO SPORDER PUMA ST ADJUST  PWGTP AGEP CIT COW ... pwgtp71 pwgtp72\n",
       "1 P  186      1       700  16 1015675  89   43   1    7  ...  82      27    \n",
       "2 P  186      2       700  16 1015675  92   42   1    4  ...  84      26    \n",
       "3 P  186      3       700  16 1015675 107   16   1    1  ...  90      28    \n",
       "4 P  186      4       700  16 1015675  91   14   1   NA  ...  81      28    \n",
       "5 P  306      1       700  16 1015675 309   29   1    5  ... 294     400    \n",
       "6 P  395      1       100  16 1015675 108   40   1    8  ... 123     119    \n",
       "  pwgtp73 pwgtp74 pwgtp75 pwgtp76 pwgtp77 pwgtp78 pwgtp79 pwgtp80\n",
       "1  92     150      28      78      25      99     159     129    \n",
       "2  90     159      30      87      27      98     167     131    \n",
       "3  92     177      33     105      30     104     206     156    \n",
       "4  94     164      29      88      27     104     156     138    \n",
       "5  80     489     340     491     612     282     462     259    \n",
       "6 171     108      97     104      31     127     108      31    "
      ]
     },
     "metadata": {},
     "output_type": "display_data"
    }
   ],
   "source": [
    "head(df)"
   ]
  },
  {
   "cell_type": "code",
   "execution_count": 3,
   "metadata": {},
   "outputs": [
    {
     "name": "stderr",
     "output_type": "stream",
     "text": [
      "Warning message:\n",
      "\"package 'sqldf' was built under R version 3.4.3\"Loading required package: gsubfn\n",
      "Warning message:\n",
      "\"package 'gsubfn' was built under R version 3.4.3\"Loading required package: proto\n",
      "Warning message:\n",
      "\"package 'proto' was built under R version 3.4.3\"Could not load tcltk.  Will use slower R code instead.\n",
      "Loading required package: RSQLite\n",
      "Warning message:\n",
      "\"package 'RSQLite' was built under R version 3.4.3\""
     ]
    }
   ],
   "source": [
    "library(sqldf)"
   ]
  },
  {
   "cell_type": "code",
   "execution_count": 6,
   "metadata": {},
   "outputs": [
    {
     "data": {
      "text/html": [
       "<table>\n",
       "<thead><tr><th scope=col>RT</th><th scope=col>SERIALNO</th><th scope=col>SPORDER</th><th scope=col>PUMA</th><th scope=col>ST</th><th scope=col>ADJUST</th><th scope=col>PWGTP</th><th scope=col>AGEP</th><th scope=col>CIT</th><th scope=col>COW</th><th scope=col>...</th><th scope=col>pwgtp71</th><th scope=col>pwgtp72</th><th scope=col>pwgtp73</th><th scope=col>pwgtp74</th><th scope=col>pwgtp75</th><th scope=col>pwgtp76</th><th scope=col>pwgtp77</th><th scope=col>pwgtp78</th><th scope=col>pwgtp79</th><th scope=col>pwgtp80</th></tr></thead>\n",
       "<tbody>\n",
       "\t<tr><td>P      </td><td> 186   </td><td>1      </td><td>700    </td><td>16     </td><td>1015675</td><td> 89    </td><td>43     </td><td>1      </td><td> 7     </td><td>...    </td><td> 82    </td><td> 27    </td><td> 92    </td><td>150    </td><td> 28    </td><td> 78    </td><td> 25    </td><td> 99    </td><td>159    </td><td>129    </td></tr>\n",
       "\t<tr><td>P      </td><td> 186   </td><td>2      </td><td>700    </td><td>16     </td><td>1015675</td><td> 92    </td><td>42     </td><td>1      </td><td> 4     </td><td>...    </td><td> 84    </td><td> 26    </td><td> 90    </td><td>159    </td><td> 30    </td><td> 87    </td><td> 27    </td><td> 98    </td><td>167    </td><td>131    </td></tr>\n",
       "\t<tr><td>P      </td><td> 186   </td><td>3      </td><td>700    </td><td>16     </td><td>1015675</td><td>107    </td><td>16     </td><td>1      </td><td> 1     </td><td>...    </td><td> 90    </td><td> 28    </td><td> 92    </td><td>177    </td><td> 33    </td><td>105    </td><td> 30    </td><td>104    </td><td>206    </td><td>156    </td></tr>\n",
       "\t<tr><td>P      </td><td> 186   </td><td>4      </td><td>700    </td><td>16     </td><td>1015675</td><td> 91    </td><td>14     </td><td>1      </td><td>NA     </td><td>...    </td><td> 81    </td><td> 28    </td><td> 94    </td><td>164    </td><td> 29    </td><td> 88    </td><td> 27    </td><td>104    </td><td>156    </td><td>138    </td></tr>\n",
       "\t<tr><td>P      </td><td> 306   </td><td>1      </td><td>700    </td><td>16     </td><td>1015675</td><td>309    </td><td>29     </td><td>1      </td><td> 5     </td><td>...    </td><td>294    </td><td>400    </td><td> 80    </td><td>489    </td><td>340    </td><td>491    </td><td>612    </td><td>282    </td><td>462    </td><td>259    </td></tr>\n",
       "\t<tr><td>P      </td><td> 395   </td><td>1      </td><td>100    </td><td>16     </td><td>1015675</td><td>108    </td><td>40     </td><td>1      </td><td> 8     </td><td>...    </td><td>123    </td><td>119    </td><td>171    </td><td>108    </td><td> 97    </td><td>104    </td><td> 31    </td><td>127    </td><td>108    </td><td> 31    </td></tr>\n",
       "\t<tr><td>P      </td><td> 395   </td><td>2      </td><td>100    </td><td>16     </td><td>1015675</td><td> 90    </td><td>15     </td><td>1      </td><td>NA     </td><td>...    </td><td>112    </td><td> 96    </td><td>171    </td><td> 91    </td><td> 87    </td><td> 86    </td><td> 28    </td><td>100    </td><td> 77    </td><td> 28    </td></tr>\n",
       "\t<tr><td>P      </td><td> 506   </td><td>1      </td><td>700    </td><td>16     </td><td>1015675</td><td>239    </td><td>28     </td><td>1      </td><td> 1     </td><td>...    </td><td> 68    </td><td>359    </td><td>382    </td><td> 70    </td><td>230    </td><td>417    </td><td> 75    </td><td> 76    </td><td>246    </td><td>231    </td></tr>\n",
       "\t<tr><td>P      </td><td> 506   </td><td>2      </td><td>700    </td><td>16     </td><td>1015675</td><td>213    </td><td>30     </td><td>1      </td><td> 1     </td><td>...    </td><td> 62    </td><td>345    </td><td>328    </td><td> 69    </td><td>216    </td><td>356    </td><td> 71    </td><td> 64    </td><td>226    </td><td>234    </td></tr>\n",
       "\t<tr><td>P      </td><td> 506   </td><td>3      </td><td>700    </td><td>16     </td><td>1015675</td><td>219    </td><td> 4     </td><td>1      </td><td>NA     </td><td>...    </td><td> 73    </td><td>382    </td><td>366    </td><td> 62    </td><td>223    </td><td>366    </td><td> 72    </td><td> 62    </td><td>227    </td><td>225    </td></tr>\n",
       "\t<tr><td>P      </td><td> 506   </td><td>4      </td><td>700    </td><td>16     </td><td>1015675</td><td>226    </td><td> 1     </td><td>1      </td><td>NA     </td><td>...    </td><td> 66    </td><td>341    </td><td>372    </td><td> 72    </td><td>219    </td><td>351    </td><td> 73    </td><td> 70    </td><td>224    </td><td>233    </td></tr>\n",
       "\t<tr><td>P      </td><td> 835   </td><td>1      </td><td>800    </td><td>16     </td><td>1015675</td><td>121    </td><td>40     </td><td>1      </td><td> 1     </td><td>...    </td><td>128    </td><td> 37    </td><td>119    </td><td>124    </td><td>121    </td><td>211    </td><td> 99    </td><td>181    </td><td>146    </td><td> 38    </td></tr>\n",
       "\t<tr><td>P      </td><td> 835   </td><td>2      </td><td>800    </td><td>16     </td><td>1015675</td><td>133    </td><td>42     </td><td>1      </td><td> 6     </td><td>...    </td><td>158    </td><td> 39    </td><td>141    </td><td>141    </td><td>141    </td><td>229    </td><td>105    </td><td>198    </td><td>141    </td><td> 42    </td></tr>\n",
       "\t<tr><td>P      </td><td> 835   </td><td>3      </td><td>800    </td><td>16     </td><td>1015675</td><td>129    </td><td>18     </td><td>1      </td><td> 1     </td><td>...    </td><td>121    </td><td> 43    </td><td>122    </td><td>136    </td><td>114    </td><td>194    </td><td>131    </td><td>241    </td><td>138    </td><td> 34    </td></tr>\n",
       "\t<tr><td>P      </td><td> 835   </td><td>4      </td><td>800    </td><td>16     </td><td>1015675</td><td>136    </td><td>16     </td><td>1      </td><td> 1     </td><td>...    </td><td>140    </td><td> 44    </td><td>169    </td><td>127    </td><td>144    </td><td>273    </td><td> 98    </td><td>251    </td><td>165    </td><td> 67    </td></tr>\n",
       "\t<tr><td>P      </td><td> 989   </td><td>1      </td><td>700    </td><td>16     </td><td>1015675</td><td>114    </td><td>37     </td><td>1      </td><td>NA     </td><td>...    </td><td>118    </td><td> 33    </td><td>108    </td><td>200    </td><td>115    </td><td>108    </td><td>210    </td><td>119    </td><td> 31    </td><td>188    </td></tr>\n",
       "\t<tr><td>P      </td><td> 989   </td><td>2      </td><td>700    </td><td>16     </td><td>1015675</td><td>110    </td><td>39     </td><td>1      </td><td> 1     </td><td>...    </td><td>116    </td><td> 34    </td><td>113    </td><td>189    </td><td>105    </td><td> 99    </td><td>197    </td><td>125    </td><td> 30    </td><td>182    </td></tr>\n",
       "\t<tr><td>P      </td><td> 989   </td><td>3      </td><td>700    </td><td>16     </td><td>1015675</td><td>109    </td><td> 4     </td><td>1      </td><td>NA     </td><td>...    </td><td>107    </td><td> 28    </td><td>114    </td><td>195    </td><td>103    </td><td> 99    </td><td>195    </td><td>120    </td><td> 30    </td><td>197    </td></tr>\n",
       "\t<tr><td>P      </td><td> 989   </td><td>4      </td><td>700    </td><td>16     </td><td>1015675</td><td>109    </td><td> 3     </td><td>1      </td><td>NA     </td><td>...    </td><td>107    </td><td> 28    </td><td>114    </td><td>195    </td><td>102    </td><td>101    </td><td>195    </td><td>119    </td><td> 29    </td><td>198    </td></tr>\n",
       "\t<tr><td>P      </td><td>1861   </td><td>1      </td><td>700    </td><td>16     </td><td>1015675</td><td> 86    </td><td>28     </td><td>5      </td><td> 1     </td><td>...    </td><td>150    </td><td> 85    </td><td> 24    </td><td> 88    </td><td> 87    </td><td> 24    </td><td> 86    </td><td>141    </td><td>142    </td><td> 24    </td></tr>\n",
       "\t<tr><td>P      </td><td>2278   </td><td>2      </td><td>400    </td><td>16     </td><td>1015675</td><td> 64    </td><td>49     </td><td>1      </td><td>NA     </td><td>...    </td><td> 18    </td><td> 16    </td><td> 17    </td><td> 77    </td><td>147    </td><td> 57    </td><td> 13    </td><td> 62    </td><td> 45    </td><td> 20    </td></tr>\n",
       "\t<tr><td>P      </td><td>2428   </td><td>1      </td><td>500    </td><td>16     </td><td>1015675</td><td> 50    </td><td>45     </td><td>5      </td><td> 1     </td><td>...    </td><td> 90    </td><td> 84    </td><td> 11    </td><td> 50    </td><td> 83    </td><td> 16    </td><td> 10    </td><td> 47    </td><td> 57    </td><td> 68    </td></tr>\n",
       "\t<tr><td>P      </td><td>2428   </td><td>2      </td><td>500    </td><td>16     </td><td>1015675</td><td>141    </td><td>37     </td><td>5      </td><td> 1     </td><td>...    </td><td>293    </td><td>205    </td><td> 46    </td><td>172    </td><td>288    </td><td> 44    </td><td> 37    </td><td>143    </td><td>131    </td><td>130    </td></tr>\n",
       "\t<tr><td>P      </td><td>2677   </td><td>2      </td><td>400    </td><td>16     </td><td>1015675</td><td>160    </td><td>15     </td><td>1      </td><td>NA     </td><td>...    </td><td>210    </td><td>261    </td><td>192    </td><td>162    </td><td>136    </td><td>156    </td><td>186    </td><td> 57    </td><td> 53    </td><td> 61    </td></tr>\n",
       "\t<tr><td>P      </td><td>3283   </td><td>1      </td><td>400    </td><td>16     </td><td>1015675</td><td> 66    </td><td>39     </td><td>1      </td><td> 5     </td><td>...    </td><td> 56    </td><td>131    </td><td> 18    </td><td> 21    </td><td> 78    </td><td> 56    </td><td> 74    </td><td>168    </td><td> 71    </td><td> 22    </td></tr>\n",
       "\t<tr><td>P      </td><td>3283   </td><td>2      </td><td>400    </td><td>16     </td><td>1015675</td><td>135    </td><td>40     </td><td>1      </td><td> 1     </td><td>...    </td><td>134    </td><td>319    </td><td> 41    </td><td> 31    </td><td>179    </td><td>116    </td><td>163    </td><td>322    </td><td>110    </td><td> 47    </td></tr>\n",
       "\t<tr><td>P      </td><td>3331   </td><td>1      </td><td>600    </td><td>16     </td><td>1015675</td><td> 78    </td><td>39     </td><td>1      </td><td> 3     </td><td>...    </td><td>141    </td><td>138    </td><td> 79    </td><td> 82    </td><td> 25    </td><td> 78    </td><td> 80    </td><td> 78    </td><td> 78    </td><td> 81    </td></tr>\n",
       "\t<tr><td>P      </td><td>3827   </td><td>1      </td><td>300    </td><td>16     </td><td>1015675</td><td> 50    </td><td>35     </td><td>1      </td><td> 5     </td><td>...    </td><td> 49    </td><td> 16    </td><td> 56    </td><td> 82    </td><td> 80    </td><td> 87    </td><td> 53    </td><td> 48    </td><td> 48    </td><td> 18    </td></tr>\n",
       "\t<tr><td>P      </td><td>3827   </td><td>2      </td><td>300    </td><td>16     </td><td>1015675</td><td> 65    </td><td>12     </td><td>1      </td><td>NA     </td><td>...    </td><td> 62    </td><td> 20    </td><td> 79    </td><td>115    </td><td>112    </td><td>115    </td><td> 65    </td><td> 66    </td><td> 65    </td><td> 24    </td></tr>\n",
       "\t<tr><td>P      </td><td>4331   </td><td>1      </td><td>800    </td><td>16     </td><td>1015675</td><td> 70    </td><td>49     </td><td>1      </td><td> 7     </td><td>...    </td><td> 16    </td><td>154    </td><td> 71    </td><td>131    </td><td> 96    </td><td> 58    </td><td> 82    </td><td> 69    </td><td> 86    </td><td> 26    </td></tr>\n",
       "\t<tr><td>...</td><td>...</td><td>...</td><td>...</td><td>...</td><td>...</td><td>...</td><td>...</td><td>...</td><td>...</td><td>   </td><td>...</td><td>...</td><td>...</td><td>...</td><td>...</td><td>...</td><td>...</td><td>...</td><td>...</td><td>...</td></tr>\n",
       "\t<tr><td>P      </td><td>1354982</td><td>3      </td><td>300    </td><td>16     </td><td>1015675</td><td> 26    </td><td>11     </td><td>1      </td><td>NA     </td><td>...    </td><td> 28    </td><td> 22    </td><td> 42    </td><td> 57    </td><td> 26    </td><td> 34    </td><td> 42    </td><td> 25    </td><td> 23    </td><td> 35    </td></tr>\n",
       "\t<tr><td>P      </td><td>1354982</td><td>4      </td><td>300    </td><td>16     </td><td>1015675</td><td> 26    </td><td> 9     </td><td>1      </td><td>NA     </td><td>...    </td><td> 28    </td><td> 22    </td><td> 39    </td><td> 58    </td><td> 24    </td><td> 34    </td><td> 41    </td><td> 24    </td><td> 22    </td><td> 35    </td></tr>\n",
       "\t<tr><td>P      </td><td>1354982</td><td>5      </td><td>300    </td><td>16     </td><td>1015675</td><td> 20    </td><td> 6     </td><td>1      </td><td>NA     </td><td>...    </td><td> 23    </td><td> 17    </td><td> 32    </td><td> 42    </td><td> 22    </td><td> 29    </td><td> 32    </td><td> 21    </td><td> 23    </td><td> 27    </td></tr>\n",
       "\t<tr><td>P      </td><td>1354982</td><td>6      </td><td>300    </td><td>16     </td><td>1015675</td><td> 22    </td><td> 6     </td><td>1      </td><td>NA     </td><td>...    </td><td> 22    </td><td> 16    </td><td> 30    </td><td> 40    </td><td> 20    </td><td> 26    </td><td> 30    </td><td> 24    </td><td> 24    </td><td> 26    </td></tr>\n",
       "\t<tr><td>P      </td><td>1355145</td><td>1      </td><td>100    </td><td>16     </td><td>1015675</td><td> 87    </td><td>45     </td><td>1      </td><td> 6     </td><td>...    </td><td> 27    </td><td> 97    </td><td> 35    </td><td> 86    </td><td> 90    </td><td> 25    </td><td>100    </td><td> 25    </td><td>142    </td><td> 73    </td></tr>\n",
       "\t<tr><td>P      </td><td>1355145</td><td>2      </td><td>100    </td><td>16     </td><td>1015675</td><td> 79    </td><td>46     </td><td>1      </td><td> 8     </td><td>...    </td><td> 25    </td><td> 81    </td><td> 28    </td><td> 74    </td><td> 90    </td><td> 26    </td><td> 86    </td><td> 22    </td><td>119    </td><td> 70    </td></tr>\n",
       "\t<tr><td>P      </td><td>1355508</td><td>1      </td><td>300    </td><td>16     </td><td>1015675</td><td>104    </td><td>46     </td><td>1      </td><td> 1     </td><td>...    </td><td>120    </td><td> 90    </td><td>115    </td><td> 30    </td><td> 93    </td><td>109    </td><td>176    </td><td>171    </td><td> 35    </td><td>107    </td></tr>\n",
       "\t<tr><td>P      </td><td>1355508</td><td>2      </td><td>300    </td><td>16     </td><td>1015675</td><td>120    </td><td>46     </td><td>1      </td><td> 1     </td><td>...    </td><td>150    </td><td>112    </td><td>135    </td><td> 48    </td><td> 93    </td><td>121    </td><td>188    </td><td>264    </td><td> 43    </td><td>124    </td></tr>\n",
       "\t<tr><td>P      </td><td>1355508</td><td>3      </td><td>300    </td><td>16     </td><td>1015675</td><td> 91    </td><td>17     </td><td>1      </td><td>NA     </td><td>...    </td><td> 97    </td><td> 80    </td><td>104    </td><td> 32    </td><td> 74    </td><td> 89    </td><td>150    </td><td>166    </td><td> 33    </td><td>100    </td></tr>\n",
       "\t<tr><td>P      </td><td>1355875</td><td>1      </td><td>300    </td><td>16     </td><td>1015675</td><td>141    </td><td>26     </td><td>1      </td><td> 1     </td><td>...    </td><td>153    </td><td>126    </td><td>125    </td><td> 39    </td><td>134    </td><td>284    </td><td>148    </td><td> 53    </td><td> 35    </td><td>139    </td></tr>\n",
       "\t<tr><td>P      </td><td>1355875</td><td>2      </td><td>300    </td><td>16     </td><td>1015675</td><td>123    </td><td>28     </td><td>1      </td><td> 1     </td><td>...    </td><td>134    </td><td>121    </td><td>107    </td><td> 37    </td><td>128    </td><td>199    </td><td>108    </td><td> 42    </td><td> 32    </td><td>108    </td></tr>\n",
       "\t<tr><td>P      </td><td>1355875</td><td>3      </td><td>300    </td><td>16     </td><td>1015675</td><td> 89    </td><td> 3     </td><td>1      </td><td>NA     </td><td>...    </td><td> 84    </td><td> 92    </td><td> 76    </td><td> 23    </td><td> 82    </td><td>135    </td><td> 99    </td><td> 31    </td><td> 21    </td><td> 86    </td></tr>\n",
       "\t<tr><td>P      </td><td>1355875</td><td>4      </td><td>300    </td><td>16     </td><td>1015675</td><td> 92    </td><td> 0     </td><td>1      </td><td>NA     </td><td>...    </td><td>102    </td><td> 97    </td><td> 74    </td><td> 21    </td><td> 84    </td><td>132    </td><td> 86    </td><td> 36    </td><td> 23    </td><td> 81    </td></tr>\n",
       "\t<tr><td>P      </td><td>1355875</td><td>5      </td><td>300    </td><td>16     </td><td>1015675</td><td>119    </td><td>21     </td><td>1      </td><td> 1     </td><td>...    </td><td>113    </td><td>106    </td><td>127    </td><td> 35    </td><td> 91    </td><td>184    </td><td>121    </td><td> 53    </td><td> 27    </td><td> 91    </td></tr>\n",
       "\t<tr><td>P      </td><td>1355905</td><td>1      </td><td>900    </td><td>16     </td><td>1015675</td><td>140    </td><td>45     </td><td>1      </td><td> 1     </td><td>...    </td><td> 33    </td><td>178    </td><td>313    </td><td>146    </td><td>115    </td><td> 56    </td><td>183    </td><td>162    </td><td>115    </td><td>211    </td></tr>\n",
       "\t<tr><td>P      </td><td>1356367</td><td>1      </td><td>600    </td><td>16     </td><td>1015675</td><td>263    </td><td>29     </td><td>1      </td><td> 1     </td><td>...    </td><td> 65    </td><td>411    </td><td>480    </td><td> 73    </td><td>285    </td><td>296    </td><td> 77    </td><td>281    </td><td> 82    </td><td>451    </td></tr>\n",
       "\t<tr><td>P      </td><td>1356413</td><td>1      </td><td>800    </td><td>16     </td><td>1015675</td><td> 44    </td><td>44     </td><td>1      </td><td> 1     </td><td>...    </td><td> 43    </td><td> 29    </td><td> 45    </td><td> 42    </td><td> 44    </td><td> 85    </td><td> 85    </td><td> 64    </td><td> 44    </td><td> 15    </td></tr>\n",
       "\t<tr><td>P      </td><td>1356413</td><td>2      </td><td>800    </td><td>16     </td><td>1015675</td><td> 37    </td><td>43     </td><td>1      </td><td> 1     </td><td>...    </td><td> 37    </td><td> 29    </td><td> 33    </td><td> 45    </td><td> 39    </td><td> 67    </td><td> 71    </td><td> 63    </td><td> 49    </td><td> 12    </td></tr>\n",
       "\t<tr><td>P      </td><td>1356413</td><td>3      </td><td>800    </td><td>16     </td><td>1015675</td><td> 40    </td><td> 6     </td><td>1      </td><td>NA     </td><td>...    </td><td> 41    </td><td> 25    </td><td> 49    </td><td> 44    </td><td> 29    </td><td> 78    </td><td> 81    </td><td> 68    </td><td> 42    </td><td> 14    </td></tr>\n",
       "\t<tr><td>P      </td><td>1356950</td><td>1      </td><td>500    </td><td>16     </td><td>1015675</td><td> 69    </td><td>47     </td><td>1      </td><td> 4     </td><td>...    </td><td> 85    </td><td> 66    </td><td> 67    </td><td> 68    </td><td> 74    </td><td> 24    </td><td> 20    </td><td> 21    </td><td> 63    </td><td> 21    </td></tr>\n",
       "\t<tr><td>P      </td><td>1356950</td><td>2      </td><td>500    </td><td>16     </td><td>1015675</td><td> 38    </td><td>48     </td><td>1      </td><td> 1     </td><td>...    </td><td> 52    </td><td> 45    </td><td> 38    </td><td> 30    </td><td> 47    </td><td> 12    </td><td> 13    </td><td> 12    </td><td> 28    </td><td> 10    </td></tr>\n",
       "\t<tr><td>P      </td><td>1356950</td><td>3      </td><td>500    </td><td>16     </td><td>1015675</td><td> 88    </td><td>14     </td><td>1      </td><td>NA     </td><td>...    </td><td> 97    </td><td> 91    </td><td> 97    </td><td> 84    </td><td> 86    </td><td> 29    </td><td> 22    </td><td> 28    </td><td> 77    </td><td> 29    </td></tr>\n",
       "\t<tr><td>P      </td><td>1357182</td><td>1      </td><td>700    </td><td>16     </td><td>1015675</td><td> 24    </td><td>19     </td><td>1      </td><td> 6     </td><td>...    </td><td>  9    </td><td> 26    </td><td> 22    </td><td> 20    </td><td> 20    </td><td> 36    </td><td>  7    </td><td> 21    </td><td> 22    </td><td> 38    </td></tr>\n",
       "\t<tr><td>P      </td><td>1357182</td><td>2      </td><td>700    </td><td>16     </td><td>1015675</td><td> 24    </td><td> 2     </td><td>1      </td><td>NA     </td><td>...    </td><td>  6    </td><td> 27    </td><td> 24    </td><td> 20    </td><td> 23    </td><td> 42    </td><td>  8    </td><td> 24    </td><td> 23    </td><td> 45    </td></tr>\n",
       "\t<tr><td>P      </td><td>1357238</td><td>1      </td><td>300    </td><td>16     </td><td>1015675</td><td>111    </td><td>24     </td><td>1      </td><td> 1     </td><td>...    </td><td>205    </td><td> 89    </td><td>112    </td><td> 27    </td><td> 67    </td><td>110    </td><td>148    </td><td>109    </td><td> 33    </td><td>115    </td></tr>\n",
       "\t<tr><td>P      </td><td>1357238</td><td>2      </td><td>300    </td><td>16     </td><td>1015675</td><td> 74    </td><td>21     </td><td>1      </td><td> 4     </td><td>...    </td><td>140    </td><td> 60    </td><td> 68    </td><td> 19    </td><td> 47    </td><td> 74    </td><td> 94    </td><td> 65    </td><td> 21    </td><td> 72    </td></tr>\n",
       "\t<tr><td>P      </td><td>1357880</td><td>1      </td><td>500    </td><td>16     </td><td>1015675</td><td>121    </td><td>22     </td><td>1      </td><td> 1     </td><td>...    </td><td>200    </td><td>122    </td><td> 38    </td><td>103    </td><td>185    </td><td>202    </td><td>132    </td><td>114    </td><td>199    </td><td>122    </td></tr>\n",
       "\t<tr><td>P      </td><td>1357880</td><td>2      </td><td>500    </td><td>16     </td><td>1015675</td><td>112    </td><td>22     </td><td>1      </td><td> 1     </td><td>...    </td><td>167    </td><td>117    </td><td> 36    </td><td> 89    </td><td>167    </td><td>170    </td><td>121    </td><td>104    </td><td>186    </td><td>117    </td></tr>\n",
       "\t<tr><td>P      </td><td>1358490</td><td>1      </td><td>700    </td><td>16     </td><td>1015675</td><td>353    </td><td>28     </td><td>1      </td><td> 1     </td><td>...    </td><td>315    </td><td>559    </td><td>368    </td><td>101    </td><td>106    </td><td>378    </td><td>339    </td><td>111    </td><td>572    </td><td>359    </td></tr>\n",
       "\t<tr><td>P      </td><td>1358490</td><td>2      </td><td>700    </td><td>16     </td><td>1015675</td><td>386    </td><td>23     </td><td>1      </td><td> 1     </td><td>...    </td><td>387    </td><td>610    </td><td>402    </td><td>112    </td><td>109    </td><td>404    </td><td>364    </td><td>109    </td><td>600    </td><td>372    </td></tr>\n",
       "</tbody>\n",
       "</table>\n"
      ],
      "text/latex": [
       "\\begin{tabular}{r|lllllllllllllllllllllllllllllllllllllllllllllllllllllllllllllllllllllllllllllllllllllllllllllllllllllllllllllllllllllllllllllllllllllllllllllllllllllllllllllllllllllllllllllllllllllllllllllllllllllllllllllllllllllllllllllllllllllllllllllll}\n",
       " RT & SERIALNO & SPORDER & PUMA & ST & ADJUST & PWGTP & AGEP & CIT & COW & ... & pwgtp71 & pwgtp72 & pwgtp73 & pwgtp74 & pwgtp75 & pwgtp76 & pwgtp77 & pwgtp78 & pwgtp79 & pwgtp80\\\\\n",
       "\\hline\n",
       "\t P       &  186    & 1       & 700     & 16      & 1015675 &  89     & 43      & 1       &  7      & ...     &  82     &  27     &  92     & 150     &  28     &  78     &  25     &  99     & 159     & 129    \\\\\n",
       "\t P       &  186    & 2       & 700     & 16      & 1015675 &  92     & 42      & 1       &  4      & ...     &  84     &  26     &  90     & 159     &  30     &  87     &  27     &  98     & 167     & 131    \\\\\n",
       "\t P       &  186    & 3       & 700     & 16      & 1015675 & 107     & 16      & 1       &  1      & ...     &  90     &  28     &  92     & 177     &  33     & 105     &  30     & 104     & 206     & 156    \\\\\n",
       "\t P       &  186    & 4       & 700     & 16      & 1015675 &  91     & 14      & 1       & NA      & ...     &  81     &  28     &  94     & 164     &  29     &  88     &  27     & 104     & 156     & 138    \\\\\n",
       "\t P       &  306    & 1       & 700     & 16      & 1015675 & 309     & 29      & 1       &  5      & ...     & 294     & 400     &  80     & 489     & 340     & 491     & 612     & 282     & 462     & 259    \\\\\n",
       "\t P       &  395    & 1       & 100     & 16      & 1015675 & 108     & 40      & 1       &  8      & ...     & 123     & 119     & 171     & 108     &  97     & 104     &  31     & 127     & 108     &  31    \\\\\n",
       "\t P       &  395    & 2       & 100     & 16      & 1015675 &  90     & 15      & 1       & NA      & ...     & 112     &  96     & 171     &  91     &  87     &  86     &  28     & 100     &  77     &  28    \\\\\n",
       "\t P       &  506    & 1       & 700     & 16      & 1015675 & 239     & 28      & 1       &  1      & ...     &  68     & 359     & 382     &  70     & 230     & 417     &  75     &  76     & 246     & 231    \\\\\n",
       "\t P       &  506    & 2       & 700     & 16      & 1015675 & 213     & 30      & 1       &  1      & ...     &  62     & 345     & 328     &  69     & 216     & 356     &  71     &  64     & 226     & 234    \\\\\n",
       "\t P       &  506    & 3       & 700     & 16      & 1015675 & 219     &  4      & 1       & NA      & ...     &  73     & 382     & 366     &  62     & 223     & 366     &  72     &  62     & 227     & 225    \\\\\n",
       "\t P       &  506    & 4       & 700     & 16      & 1015675 & 226     &  1      & 1       & NA      & ...     &  66     & 341     & 372     &  72     & 219     & 351     &  73     &  70     & 224     & 233    \\\\\n",
       "\t P       &  835    & 1       & 800     & 16      & 1015675 & 121     & 40      & 1       &  1      & ...     & 128     &  37     & 119     & 124     & 121     & 211     &  99     & 181     & 146     &  38    \\\\\n",
       "\t P       &  835    & 2       & 800     & 16      & 1015675 & 133     & 42      & 1       &  6      & ...     & 158     &  39     & 141     & 141     & 141     & 229     & 105     & 198     & 141     &  42    \\\\\n",
       "\t P       &  835    & 3       & 800     & 16      & 1015675 & 129     & 18      & 1       &  1      & ...     & 121     &  43     & 122     & 136     & 114     & 194     & 131     & 241     & 138     &  34    \\\\\n",
       "\t P       &  835    & 4       & 800     & 16      & 1015675 & 136     & 16      & 1       &  1      & ...     & 140     &  44     & 169     & 127     & 144     & 273     &  98     & 251     & 165     &  67    \\\\\n",
       "\t P       &  989    & 1       & 700     & 16      & 1015675 & 114     & 37      & 1       & NA      & ...     & 118     &  33     & 108     & 200     & 115     & 108     & 210     & 119     &  31     & 188    \\\\\n",
       "\t P       &  989    & 2       & 700     & 16      & 1015675 & 110     & 39      & 1       &  1      & ...     & 116     &  34     & 113     & 189     & 105     &  99     & 197     & 125     &  30     & 182    \\\\\n",
       "\t P       &  989    & 3       & 700     & 16      & 1015675 & 109     &  4      & 1       & NA      & ...     & 107     &  28     & 114     & 195     & 103     &  99     & 195     & 120     &  30     & 197    \\\\\n",
       "\t P       &  989    & 4       & 700     & 16      & 1015675 & 109     &  3      & 1       & NA      & ...     & 107     &  28     & 114     & 195     & 102     & 101     & 195     & 119     &  29     & 198    \\\\\n",
       "\t P       & 1861    & 1       & 700     & 16      & 1015675 &  86     & 28      & 5       &  1      & ...     & 150     &  85     &  24     &  88     &  87     &  24     &  86     & 141     & 142     &  24    \\\\\n",
       "\t P       & 2278    & 2       & 400     & 16      & 1015675 &  64     & 49      & 1       & NA      & ...     &  18     &  16     &  17     &  77     & 147     &  57     &  13     &  62     &  45     &  20    \\\\\n",
       "\t P       & 2428    & 1       & 500     & 16      & 1015675 &  50     & 45      & 5       &  1      & ...     &  90     &  84     &  11     &  50     &  83     &  16     &  10     &  47     &  57     &  68    \\\\\n",
       "\t P       & 2428    & 2       & 500     & 16      & 1015675 & 141     & 37      & 5       &  1      & ...     & 293     & 205     &  46     & 172     & 288     &  44     &  37     & 143     & 131     & 130    \\\\\n",
       "\t P       & 2677    & 2       & 400     & 16      & 1015675 & 160     & 15      & 1       & NA      & ...     & 210     & 261     & 192     & 162     & 136     & 156     & 186     &  57     &  53     &  61    \\\\\n",
       "\t P       & 3283    & 1       & 400     & 16      & 1015675 &  66     & 39      & 1       &  5      & ...     &  56     & 131     &  18     &  21     &  78     &  56     &  74     & 168     &  71     &  22    \\\\\n",
       "\t P       & 3283    & 2       & 400     & 16      & 1015675 & 135     & 40      & 1       &  1      & ...     & 134     & 319     &  41     &  31     & 179     & 116     & 163     & 322     & 110     &  47    \\\\\n",
       "\t P       & 3331    & 1       & 600     & 16      & 1015675 &  78     & 39      & 1       &  3      & ...     & 141     & 138     &  79     &  82     &  25     &  78     &  80     &  78     &  78     &  81    \\\\\n",
       "\t P       & 3827    & 1       & 300     & 16      & 1015675 &  50     & 35      & 1       &  5      & ...     &  49     &  16     &  56     &  82     &  80     &  87     &  53     &  48     &  48     &  18    \\\\\n",
       "\t P       & 3827    & 2       & 300     & 16      & 1015675 &  65     & 12      & 1       & NA      & ...     &  62     &  20     &  79     & 115     & 112     & 115     &  65     &  66     &  65     &  24    \\\\\n",
       "\t P       & 4331    & 1       & 800     & 16      & 1015675 &  70     & 49      & 1       &  7      & ...     &  16     & 154     &  71     & 131     &  96     &  58     &  82     &  69     &  86     &  26    \\\\\n",
       "\t ... & ... & ... & ... & ... & ... & ... & ... & ... & ... &     & ... & ... & ... & ... & ... & ... & ... & ... & ... & ...\\\\\n",
       "\t P       & 1354982 & 3       & 300     & 16      & 1015675 &  26     & 11      & 1       & NA      & ...     &  28     &  22     &  42     &  57     &  26     &  34     &  42     &  25     &  23     &  35    \\\\\n",
       "\t P       & 1354982 & 4       & 300     & 16      & 1015675 &  26     &  9      & 1       & NA      & ...     &  28     &  22     &  39     &  58     &  24     &  34     &  41     &  24     &  22     &  35    \\\\\n",
       "\t P       & 1354982 & 5       & 300     & 16      & 1015675 &  20     &  6      & 1       & NA      & ...     &  23     &  17     &  32     &  42     &  22     &  29     &  32     &  21     &  23     &  27    \\\\\n",
       "\t P       & 1354982 & 6       & 300     & 16      & 1015675 &  22     &  6      & 1       & NA      & ...     &  22     &  16     &  30     &  40     &  20     &  26     &  30     &  24     &  24     &  26    \\\\\n",
       "\t P       & 1355145 & 1       & 100     & 16      & 1015675 &  87     & 45      & 1       &  6      & ...     &  27     &  97     &  35     &  86     &  90     &  25     & 100     &  25     & 142     &  73    \\\\\n",
       "\t P       & 1355145 & 2       & 100     & 16      & 1015675 &  79     & 46      & 1       &  8      & ...     &  25     &  81     &  28     &  74     &  90     &  26     &  86     &  22     & 119     &  70    \\\\\n",
       "\t P       & 1355508 & 1       & 300     & 16      & 1015675 & 104     & 46      & 1       &  1      & ...     & 120     &  90     & 115     &  30     &  93     & 109     & 176     & 171     &  35     & 107    \\\\\n",
       "\t P       & 1355508 & 2       & 300     & 16      & 1015675 & 120     & 46      & 1       &  1      & ...     & 150     & 112     & 135     &  48     &  93     & 121     & 188     & 264     &  43     & 124    \\\\\n",
       "\t P       & 1355508 & 3       & 300     & 16      & 1015675 &  91     & 17      & 1       & NA      & ...     &  97     &  80     & 104     &  32     &  74     &  89     & 150     & 166     &  33     & 100    \\\\\n",
       "\t P       & 1355875 & 1       & 300     & 16      & 1015675 & 141     & 26      & 1       &  1      & ...     & 153     & 126     & 125     &  39     & 134     & 284     & 148     &  53     &  35     & 139    \\\\\n",
       "\t P       & 1355875 & 2       & 300     & 16      & 1015675 & 123     & 28      & 1       &  1      & ...     & 134     & 121     & 107     &  37     & 128     & 199     & 108     &  42     &  32     & 108    \\\\\n",
       "\t P       & 1355875 & 3       & 300     & 16      & 1015675 &  89     &  3      & 1       & NA      & ...     &  84     &  92     &  76     &  23     &  82     & 135     &  99     &  31     &  21     &  86    \\\\\n",
       "\t P       & 1355875 & 4       & 300     & 16      & 1015675 &  92     &  0      & 1       & NA      & ...     & 102     &  97     &  74     &  21     &  84     & 132     &  86     &  36     &  23     &  81    \\\\\n",
       "\t P       & 1355875 & 5       & 300     & 16      & 1015675 & 119     & 21      & 1       &  1      & ...     & 113     & 106     & 127     &  35     &  91     & 184     & 121     &  53     &  27     &  91    \\\\\n",
       "\t P       & 1355905 & 1       & 900     & 16      & 1015675 & 140     & 45      & 1       &  1      & ...     &  33     & 178     & 313     & 146     & 115     &  56     & 183     & 162     & 115     & 211    \\\\\n",
       "\t P       & 1356367 & 1       & 600     & 16      & 1015675 & 263     & 29      & 1       &  1      & ...     &  65     & 411     & 480     &  73     & 285     & 296     &  77     & 281     &  82     & 451    \\\\\n",
       "\t P       & 1356413 & 1       & 800     & 16      & 1015675 &  44     & 44      & 1       &  1      & ...     &  43     &  29     &  45     &  42     &  44     &  85     &  85     &  64     &  44     &  15    \\\\\n",
       "\t P       & 1356413 & 2       & 800     & 16      & 1015675 &  37     & 43      & 1       &  1      & ...     &  37     &  29     &  33     &  45     &  39     &  67     &  71     &  63     &  49     &  12    \\\\\n",
       "\t P       & 1356413 & 3       & 800     & 16      & 1015675 &  40     &  6      & 1       & NA      & ...     &  41     &  25     &  49     &  44     &  29     &  78     &  81     &  68     &  42     &  14    \\\\\n",
       "\t P       & 1356950 & 1       & 500     & 16      & 1015675 &  69     & 47      & 1       &  4      & ...     &  85     &  66     &  67     &  68     &  74     &  24     &  20     &  21     &  63     &  21    \\\\\n",
       "\t P       & 1356950 & 2       & 500     & 16      & 1015675 &  38     & 48      & 1       &  1      & ...     &  52     &  45     &  38     &  30     &  47     &  12     &  13     &  12     &  28     &  10    \\\\\n",
       "\t P       & 1356950 & 3       & 500     & 16      & 1015675 &  88     & 14      & 1       & NA      & ...     &  97     &  91     &  97     &  84     &  86     &  29     &  22     &  28     &  77     &  29    \\\\\n",
       "\t P       & 1357182 & 1       & 700     & 16      & 1015675 &  24     & 19      & 1       &  6      & ...     &   9     &  26     &  22     &  20     &  20     &  36     &   7     &  21     &  22     &  38    \\\\\n",
       "\t P       & 1357182 & 2       & 700     & 16      & 1015675 &  24     &  2      & 1       & NA      & ...     &   6     &  27     &  24     &  20     &  23     &  42     &   8     &  24     &  23     &  45    \\\\\n",
       "\t P       & 1357238 & 1       & 300     & 16      & 1015675 & 111     & 24      & 1       &  1      & ...     & 205     &  89     & 112     &  27     &  67     & 110     & 148     & 109     &  33     & 115    \\\\\n",
       "\t P       & 1357238 & 2       & 300     & 16      & 1015675 &  74     & 21      & 1       &  4      & ...     & 140     &  60     &  68     &  19     &  47     &  74     &  94     &  65     &  21     &  72    \\\\\n",
       "\t P       & 1357880 & 1       & 500     & 16      & 1015675 & 121     & 22      & 1       &  1      & ...     & 200     & 122     &  38     & 103     & 185     & 202     & 132     & 114     & 199     & 122    \\\\\n",
       "\t P       & 1357880 & 2       & 500     & 16      & 1015675 & 112     & 22      & 1       &  1      & ...     & 167     & 117     &  36     &  89     & 167     & 170     & 121     & 104     & 186     & 117    \\\\\n",
       "\t P       & 1358490 & 1       & 700     & 16      & 1015675 & 353     & 28      & 1       &  1      & ...     & 315     & 559     & 368     & 101     & 106     & 378     & 339     & 111     & 572     & 359    \\\\\n",
       "\t P       & 1358490 & 2       & 700     & 16      & 1015675 & 386     & 23      & 1       &  1      & ...     & 387     & 610     & 402     & 112     & 109     & 404     & 364     & 109     & 600     & 372    \\\\\n",
       "\\end{tabular}\n"
      ],
      "text/markdown": [
       "\n",
       "RT | SERIALNO | SPORDER | PUMA | ST | ADJUST | PWGTP | AGEP | CIT | COW | ... | pwgtp71 | pwgtp72 | pwgtp73 | pwgtp74 | pwgtp75 | pwgtp76 | pwgtp77 | pwgtp78 | pwgtp79 | pwgtp80 | \n",
       "|---|---|---|---|---|---|---|---|---|---|---|---|---|---|---|---|---|---|---|---|---|---|---|---|---|---|---|---|---|---|---|---|---|---|---|---|---|---|---|---|---|---|---|---|---|---|---|---|---|---|---|---|---|---|---|---|---|---|---|---|---|\n",
       "| P       |  186    | 1       | 700     | 16      | 1015675 |  89     | 43      | 1       |  7      | ...     |  82     |  27     |  92     | 150     |  28     |  78     |  25     |  99     | 159     | 129     | \n",
       "| P       |  186    | 2       | 700     | 16      | 1015675 |  92     | 42      | 1       |  4      | ...     |  84     |  26     |  90     | 159     |  30     |  87     |  27     |  98     | 167     | 131     | \n",
       "| P       |  186    | 3       | 700     | 16      | 1015675 | 107     | 16      | 1       |  1      | ...     |  90     |  28     |  92     | 177     |  33     | 105     |  30     | 104     | 206     | 156     | \n",
       "| P       |  186    | 4       | 700     | 16      | 1015675 |  91     | 14      | 1       | NA      | ...     |  81     |  28     |  94     | 164     |  29     |  88     |  27     | 104     | 156     | 138     | \n",
       "| P       |  306    | 1       | 700     | 16      | 1015675 | 309     | 29      | 1       |  5      | ...     | 294     | 400     |  80     | 489     | 340     | 491     | 612     | 282     | 462     | 259     | \n",
       "| P       |  395    | 1       | 100     | 16      | 1015675 | 108     | 40      | 1       |  8      | ...     | 123     | 119     | 171     | 108     |  97     | 104     |  31     | 127     | 108     |  31     | \n",
       "| P       |  395    | 2       | 100     | 16      | 1015675 |  90     | 15      | 1       | NA      | ...     | 112     |  96     | 171     |  91     |  87     |  86     |  28     | 100     |  77     |  28     | \n",
       "| P       |  506    | 1       | 700     | 16      | 1015675 | 239     | 28      | 1       |  1      | ...     |  68     | 359     | 382     |  70     | 230     | 417     |  75     |  76     | 246     | 231     | \n",
       "| P       |  506    | 2       | 700     | 16      | 1015675 | 213     | 30      | 1       |  1      | ...     |  62     | 345     | 328     |  69     | 216     | 356     |  71     |  64     | 226     | 234     | \n",
       "| P       |  506    | 3       | 700     | 16      | 1015675 | 219     |  4      | 1       | NA      | ...     |  73     | 382     | 366     |  62     | 223     | 366     |  72     |  62     | 227     | 225     | \n",
       "| P       |  506    | 4       | 700     | 16      | 1015675 | 226     |  1      | 1       | NA      | ...     |  66     | 341     | 372     |  72     | 219     | 351     |  73     |  70     | 224     | 233     | \n",
       "| P       |  835    | 1       | 800     | 16      | 1015675 | 121     | 40      | 1       |  1      | ...     | 128     |  37     | 119     | 124     | 121     | 211     |  99     | 181     | 146     |  38     | \n",
       "| P       |  835    | 2       | 800     | 16      | 1015675 | 133     | 42      | 1       |  6      | ...     | 158     |  39     | 141     | 141     | 141     | 229     | 105     | 198     | 141     |  42     | \n",
       "| P       |  835    | 3       | 800     | 16      | 1015675 | 129     | 18      | 1       |  1      | ...     | 121     |  43     | 122     | 136     | 114     | 194     | 131     | 241     | 138     |  34     | \n",
       "| P       |  835    | 4       | 800     | 16      | 1015675 | 136     | 16      | 1       |  1      | ...     | 140     |  44     | 169     | 127     | 144     | 273     |  98     | 251     | 165     |  67     | \n",
       "| P       |  989    | 1       | 700     | 16      | 1015675 | 114     | 37      | 1       | NA      | ...     | 118     |  33     | 108     | 200     | 115     | 108     | 210     | 119     |  31     | 188     | \n",
       "| P       |  989    | 2       | 700     | 16      | 1015675 | 110     | 39      | 1       |  1      | ...     | 116     |  34     | 113     | 189     | 105     |  99     | 197     | 125     |  30     | 182     | \n",
       "| P       |  989    | 3       | 700     | 16      | 1015675 | 109     |  4      | 1       | NA      | ...     | 107     |  28     | 114     | 195     | 103     |  99     | 195     | 120     |  30     | 197     | \n",
       "| P       |  989    | 4       | 700     | 16      | 1015675 | 109     |  3      | 1       | NA      | ...     | 107     |  28     | 114     | 195     | 102     | 101     | 195     | 119     |  29     | 198     | \n",
       "| P       | 1861    | 1       | 700     | 16      | 1015675 |  86     | 28      | 5       |  1      | ...     | 150     |  85     |  24     |  88     |  87     |  24     |  86     | 141     | 142     |  24     | \n",
       "| P       | 2278    | 2       | 400     | 16      | 1015675 |  64     | 49      | 1       | NA      | ...     |  18     |  16     |  17     |  77     | 147     |  57     |  13     |  62     |  45     |  20     | \n",
       "| P       | 2428    | 1       | 500     | 16      | 1015675 |  50     | 45      | 5       |  1      | ...     |  90     |  84     |  11     |  50     |  83     |  16     |  10     |  47     |  57     |  68     | \n",
       "| P       | 2428    | 2       | 500     | 16      | 1015675 | 141     | 37      | 5       |  1      | ...     | 293     | 205     |  46     | 172     | 288     |  44     |  37     | 143     | 131     | 130     | \n",
       "| P       | 2677    | 2       | 400     | 16      | 1015675 | 160     | 15      | 1       | NA      | ...     | 210     | 261     | 192     | 162     | 136     | 156     | 186     |  57     |  53     |  61     | \n",
       "| P       | 3283    | 1       | 400     | 16      | 1015675 |  66     | 39      | 1       |  5      | ...     |  56     | 131     |  18     |  21     |  78     |  56     |  74     | 168     |  71     |  22     | \n",
       "| P       | 3283    | 2       | 400     | 16      | 1015675 | 135     | 40      | 1       |  1      | ...     | 134     | 319     |  41     |  31     | 179     | 116     | 163     | 322     | 110     |  47     | \n",
       "| P       | 3331    | 1       | 600     | 16      | 1015675 |  78     | 39      | 1       |  3      | ...     | 141     | 138     |  79     |  82     |  25     |  78     |  80     |  78     |  78     |  81     | \n",
       "| P       | 3827    | 1       | 300     | 16      | 1015675 |  50     | 35      | 1       |  5      | ...     |  49     |  16     |  56     |  82     |  80     |  87     |  53     |  48     |  48     |  18     | \n",
       "| P       | 3827    | 2       | 300     | 16      | 1015675 |  65     | 12      | 1       | NA      | ...     |  62     |  20     |  79     | 115     | 112     | 115     |  65     |  66     |  65     |  24     | \n",
       "| P       | 4331    | 1       | 800     | 16      | 1015675 |  70     | 49      | 1       |  7      | ...     |  16     | 154     |  71     | 131     |  96     |  58     |  82     |  69     |  86     |  26     | \n",
       "| ... | ... | ... | ... | ... | ... | ... | ... | ... | ... |     | ... | ... | ... | ... | ... | ... | ... | ... | ... | ... | \n",
       "| P       | 1354982 | 3       | 300     | 16      | 1015675 |  26     | 11      | 1       | NA      | ...     |  28     |  22     |  42     |  57     |  26     |  34     |  42     |  25     |  23     |  35     | \n",
       "| P       | 1354982 | 4       | 300     | 16      | 1015675 |  26     |  9      | 1       | NA      | ...     |  28     |  22     |  39     |  58     |  24     |  34     |  41     |  24     |  22     |  35     | \n",
       "| P       | 1354982 | 5       | 300     | 16      | 1015675 |  20     |  6      | 1       | NA      | ...     |  23     |  17     |  32     |  42     |  22     |  29     |  32     |  21     |  23     |  27     | \n",
       "| P       | 1354982 | 6       | 300     | 16      | 1015675 |  22     |  6      | 1       | NA      | ...     |  22     |  16     |  30     |  40     |  20     |  26     |  30     |  24     |  24     |  26     | \n",
       "| P       | 1355145 | 1       | 100     | 16      | 1015675 |  87     | 45      | 1       |  6      | ...     |  27     |  97     |  35     |  86     |  90     |  25     | 100     |  25     | 142     |  73     | \n",
       "| P       | 1355145 | 2       | 100     | 16      | 1015675 |  79     | 46      | 1       |  8      | ...     |  25     |  81     |  28     |  74     |  90     |  26     |  86     |  22     | 119     |  70     | \n",
       "| P       | 1355508 | 1       | 300     | 16      | 1015675 | 104     | 46      | 1       |  1      | ...     | 120     |  90     | 115     |  30     |  93     | 109     | 176     | 171     |  35     | 107     | \n",
       "| P       | 1355508 | 2       | 300     | 16      | 1015675 | 120     | 46      | 1       |  1      | ...     | 150     | 112     | 135     |  48     |  93     | 121     | 188     | 264     |  43     | 124     | \n",
       "| P       | 1355508 | 3       | 300     | 16      | 1015675 |  91     | 17      | 1       | NA      | ...     |  97     |  80     | 104     |  32     |  74     |  89     | 150     | 166     |  33     | 100     | \n",
       "| P       | 1355875 | 1       | 300     | 16      | 1015675 | 141     | 26      | 1       |  1      | ...     | 153     | 126     | 125     |  39     | 134     | 284     | 148     |  53     |  35     | 139     | \n",
       "| P       | 1355875 | 2       | 300     | 16      | 1015675 | 123     | 28      | 1       |  1      | ...     | 134     | 121     | 107     |  37     | 128     | 199     | 108     |  42     |  32     | 108     | \n",
       "| P       | 1355875 | 3       | 300     | 16      | 1015675 |  89     |  3      | 1       | NA      | ...     |  84     |  92     |  76     |  23     |  82     | 135     |  99     |  31     |  21     |  86     | \n",
       "| P       | 1355875 | 4       | 300     | 16      | 1015675 |  92     |  0      | 1       | NA      | ...     | 102     |  97     |  74     |  21     |  84     | 132     |  86     |  36     |  23     |  81     | \n",
       "| P       | 1355875 | 5       | 300     | 16      | 1015675 | 119     | 21      | 1       |  1      | ...     | 113     | 106     | 127     |  35     |  91     | 184     | 121     |  53     |  27     |  91     | \n",
       "| P       | 1355905 | 1       | 900     | 16      | 1015675 | 140     | 45      | 1       |  1      | ...     |  33     | 178     | 313     | 146     | 115     |  56     | 183     | 162     | 115     | 211     | \n",
       "| P       | 1356367 | 1       | 600     | 16      | 1015675 | 263     | 29      | 1       |  1      | ...     |  65     | 411     | 480     |  73     | 285     | 296     |  77     | 281     |  82     | 451     | \n",
       "| P       | 1356413 | 1       | 800     | 16      | 1015675 |  44     | 44      | 1       |  1      | ...     |  43     |  29     |  45     |  42     |  44     |  85     |  85     |  64     |  44     |  15     | \n",
       "| P       | 1356413 | 2       | 800     | 16      | 1015675 |  37     | 43      | 1       |  1      | ...     |  37     |  29     |  33     |  45     |  39     |  67     |  71     |  63     |  49     |  12     | \n",
       "| P       | 1356413 | 3       | 800     | 16      | 1015675 |  40     |  6      | 1       | NA      | ...     |  41     |  25     |  49     |  44     |  29     |  78     |  81     |  68     |  42     |  14     | \n",
       "| P       | 1356950 | 1       | 500     | 16      | 1015675 |  69     | 47      | 1       |  4      | ...     |  85     |  66     |  67     |  68     |  74     |  24     |  20     |  21     |  63     |  21     | \n",
       "| P       | 1356950 | 2       | 500     | 16      | 1015675 |  38     | 48      | 1       |  1      | ...     |  52     |  45     |  38     |  30     |  47     |  12     |  13     |  12     |  28     |  10     | \n",
       "| P       | 1356950 | 3       | 500     | 16      | 1015675 |  88     | 14      | 1       | NA      | ...     |  97     |  91     |  97     |  84     |  86     |  29     |  22     |  28     |  77     |  29     | \n",
       "| P       | 1357182 | 1       | 700     | 16      | 1015675 |  24     | 19      | 1       |  6      | ...     |   9     |  26     |  22     |  20     |  20     |  36     |   7     |  21     |  22     |  38     | \n",
       "| P       | 1357182 | 2       | 700     | 16      | 1015675 |  24     |  2      | 1       | NA      | ...     |   6     |  27     |  24     |  20     |  23     |  42     |   8     |  24     |  23     |  45     | \n",
       "| P       | 1357238 | 1       | 300     | 16      | 1015675 | 111     | 24      | 1       |  1      | ...     | 205     |  89     | 112     |  27     |  67     | 110     | 148     | 109     |  33     | 115     | \n",
       "| P       | 1357238 | 2       | 300     | 16      | 1015675 |  74     | 21      | 1       |  4      | ...     | 140     |  60     |  68     |  19     |  47     |  74     |  94     |  65     |  21     |  72     | \n",
       "| P       | 1357880 | 1       | 500     | 16      | 1015675 | 121     | 22      | 1       |  1      | ...     | 200     | 122     |  38     | 103     | 185     | 202     | 132     | 114     | 199     | 122     | \n",
       "| P       | 1357880 | 2       | 500     | 16      | 1015675 | 112     | 22      | 1       |  1      | ...     | 167     | 117     |  36     |  89     | 167     | 170     | 121     | 104     | 186     | 117     | \n",
       "| P       | 1358490 | 1       | 700     | 16      | 1015675 | 353     | 28      | 1       |  1      | ...     | 315     | 559     | 368     | 101     | 106     | 378     | 339     | 111     | 572     | 359     | \n",
       "| P       | 1358490 | 2       | 700     | 16      | 1015675 | 386     | 23      | 1       |  1      | ...     | 387     | 610     | 402     | 112     | 109     | 404     | 364     | 109     | 600     | 372     | \n",
       "\n",
       "\n"
      ],
      "text/plain": [
       "      RT  SERIALNO SPORDER PUMA ST  ADJUST  PWGTP AGEP CIT COW ... pwgtp71\n",
       "1     P    186     1       700  16  1015675  89   43   1    7  ...  82    \n",
       "2     P    186     2       700  16  1015675  92   42   1    4  ...  84    \n",
       "3     P    186     3       700  16  1015675 107   16   1    1  ...  90    \n",
       "4     P    186     4       700  16  1015675  91   14   1   NA  ...  81    \n",
       "5     P    306     1       700  16  1015675 309   29   1    5  ... 294    \n",
       "6     P    395     1       100  16  1015675 108   40   1    8  ... 123    \n",
       "7     P    395     2       100  16  1015675  90   15   1   NA  ... 112    \n",
       "8     P    506     1       700  16  1015675 239   28   1    1  ...  68    \n",
       "9     P    506     2       700  16  1015675 213   30   1    1  ...  62    \n",
       "10    P    506     3       700  16  1015675 219    4   1   NA  ...  73    \n",
       "11    P    506     4       700  16  1015675 226    1   1   NA  ...  66    \n",
       "12    P    835     1       800  16  1015675 121   40   1    1  ... 128    \n",
       "13    P    835     2       800  16  1015675 133   42   1    6  ... 158    \n",
       "14    P    835     3       800  16  1015675 129   18   1    1  ... 121    \n",
       "15    P    835     4       800  16  1015675 136   16   1    1  ... 140    \n",
       "16    P    989     1       700  16  1015675 114   37   1   NA  ... 118    \n",
       "17    P    989     2       700  16  1015675 110   39   1    1  ... 116    \n",
       "18    P    989     3       700  16  1015675 109    4   1   NA  ... 107    \n",
       "19    P    989     4       700  16  1015675 109    3   1   NA  ... 107    \n",
       "20    P   1861     1       700  16  1015675  86   28   5    1  ... 150    \n",
       "21    P   2278     2       400  16  1015675  64   49   1   NA  ...  18    \n",
       "22    P   2428     1       500  16  1015675  50   45   5    1  ...  90    \n",
       "23    P   2428     2       500  16  1015675 141   37   5    1  ... 293    \n",
       "24    P   2677     2       400  16  1015675 160   15   1   NA  ... 210    \n",
       "25    P   3283     1       400  16  1015675  66   39   1    5  ...  56    \n",
       "26    P   3283     2       400  16  1015675 135   40   1    1  ... 134    \n",
       "27    P   3331     1       600  16  1015675  78   39   1    3  ... 141    \n",
       "28    P   3827     1       300  16  1015675  50   35   1    5  ...  49    \n",
       "29    P   3827     2       300  16  1015675  65   12   1   NA  ...  62    \n",
       "30    P   4331     1       800  16  1015675  70   49   1    7  ...  16    \n",
       "...   ... ...      ...     ...  ... ...     ...   ...  ... ...     ...    \n",
       "10064 P   1354982  3       300  16  1015675  26   11   1   NA  ...  28    \n",
       "10065 P   1354982  4       300  16  1015675  26    9   1   NA  ...  28    \n",
       "10066 P   1354982  5       300  16  1015675  20    6   1   NA  ...  23    \n",
       "10067 P   1354982  6       300  16  1015675  22    6   1   NA  ...  22    \n",
       "10068 P   1355145  1       100  16  1015675  87   45   1    6  ...  27    \n",
       "10069 P   1355145  2       100  16  1015675  79   46   1    8  ...  25    \n",
       "10070 P   1355508  1       300  16  1015675 104   46   1    1  ... 120    \n",
       "10071 P   1355508  2       300  16  1015675 120   46   1    1  ... 150    \n",
       "10072 P   1355508  3       300  16  1015675  91   17   1   NA  ...  97    \n",
       "10073 P   1355875  1       300  16  1015675 141   26   1    1  ... 153    \n",
       "10074 P   1355875  2       300  16  1015675 123   28   1    1  ... 134    \n",
       "10075 P   1355875  3       300  16  1015675  89    3   1   NA  ...  84    \n",
       "10076 P   1355875  4       300  16  1015675  92    0   1   NA  ... 102    \n",
       "10077 P   1355875  5       300  16  1015675 119   21   1    1  ... 113    \n",
       "10078 P   1355905  1       900  16  1015675 140   45   1    1  ...  33    \n",
       "10079 P   1356367  1       600  16  1015675 263   29   1    1  ...  65    \n",
       "10080 P   1356413  1       800  16  1015675  44   44   1    1  ...  43    \n",
       "10081 P   1356413  2       800  16  1015675  37   43   1    1  ...  37    \n",
       "10082 P   1356413  3       800  16  1015675  40    6   1   NA  ...  41    \n",
       "10083 P   1356950  1       500  16  1015675  69   47   1    4  ...  85    \n",
       "10084 P   1356950  2       500  16  1015675  38   48   1    1  ...  52    \n",
       "10085 P   1356950  3       500  16  1015675  88   14   1   NA  ...  97    \n",
       "10086 P   1357182  1       700  16  1015675  24   19   1    6  ...   9    \n",
       "10087 P   1357182  2       700  16  1015675  24    2   1   NA  ...   6    \n",
       "10088 P   1357238  1       300  16  1015675 111   24   1    1  ... 205    \n",
       "10089 P   1357238  2       300  16  1015675  74   21   1    4  ... 140    \n",
       "10090 P   1357880  1       500  16  1015675 121   22   1    1  ... 200    \n",
       "10091 P   1357880  2       500  16  1015675 112   22   1    1  ... 167    \n",
       "10092 P   1358490  1       700  16  1015675 353   28   1    1  ... 315    \n",
       "10093 P   1358490  2       700  16  1015675 386   23   1    1  ... 387    \n",
       "      pwgtp72 pwgtp73 pwgtp74 pwgtp75 pwgtp76 pwgtp77 pwgtp78 pwgtp79 pwgtp80\n",
       "1      27      92     150      28      78      25      99     159     129    \n",
       "2      26      90     159      30      87      27      98     167     131    \n",
       "3      28      92     177      33     105      30     104     206     156    \n",
       "4      28      94     164      29      88      27     104     156     138    \n",
       "5     400      80     489     340     491     612     282     462     259    \n",
       "6     119     171     108      97     104      31     127     108      31    \n",
       "7      96     171      91      87      86      28     100      77      28    \n",
       "8     359     382      70     230     417      75      76     246     231    \n",
       "9     345     328      69     216     356      71      64     226     234    \n",
       "10    382     366      62     223     366      72      62     227     225    \n",
       "11    341     372      72     219     351      73      70     224     233    \n",
       "12     37     119     124     121     211      99     181     146      38    \n",
       "13     39     141     141     141     229     105     198     141      42    \n",
       "14     43     122     136     114     194     131     241     138      34    \n",
       "15     44     169     127     144     273      98     251     165      67    \n",
       "16     33     108     200     115     108     210     119      31     188    \n",
       "17     34     113     189     105      99     197     125      30     182    \n",
       "18     28     114     195     103      99     195     120      30     197    \n",
       "19     28     114     195     102     101     195     119      29     198    \n",
       "20     85      24      88      87      24      86     141     142      24    \n",
       "21     16      17      77     147      57      13      62      45      20    \n",
       "22     84      11      50      83      16      10      47      57      68    \n",
       "23    205      46     172     288      44      37     143     131     130    \n",
       "24    261     192     162     136     156     186      57      53      61    \n",
       "25    131      18      21      78      56      74     168      71      22    \n",
       "26    319      41      31     179     116     163     322     110      47    \n",
       "27    138      79      82      25      78      80      78      78      81    \n",
       "28     16      56      82      80      87      53      48      48      18    \n",
       "29     20      79     115     112     115      65      66      65      24    \n",
       "30    154      71     131      96      58      82      69      86      26    \n",
       "...   ...     ...     ...     ...     ...     ...     ...     ...     ...    \n",
       "10064  22      42      57      26      34      42      25      23      35    \n",
       "10065  22      39      58      24      34      41      24      22      35    \n",
       "10066  17      32      42      22      29      32      21      23      27    \n",
       "10067  16      30      40      20      26      30      24      24      26    \n",
       "10068  97      35      86      90      25     100      25     142      73    \n",
       "10069  81      28      74      90      26      86      22     119      70    \n",
       "10070  90     115      30      93     109     176     171      35     107    \n",
       "10071 112     135      48      93     121     188     264      43     124    \n",
       "10072  80     104      32      74      89     150     166      33     100    \n",
       "10073 126     125      39     134     284     148      53      35     139    \n",
       "10074 121     107      37     128     199     108      42      32     108    \n",
       "10075  92      76      23      82     135      99      31      21      86    \n",
       "10076  97      74      21      84     132      86      36      23      81    \n",
       "10077 106     127      35      91     184     121      53      27      91    \n",
       "10078 178     313     146     115      56     183     162     115     211    \n",
       "10079 411     480      73     285     296      77     281      82     451    \n",
       "10080  29      45      42      44      85      85      64      44      15    \n",
       "10081  29      33      45      39      67      71      63      49      12    \n",
       "10082  25      49      44      29      78      81      68      42      14    \n",
       "10083  66      67      68      74      24      20      21      63      21    \n",
       "10084  45      38      30      47      12      13      12      28      10    \n",
       "10085  91      97      84      86      29      22      28      77      29    \n",
       "10086  26      22      20      20      36       7      21      22      38    \n",
       "10087  27      24      20      23      42       8      24      23      45    \n",
       "10088  89     112      27      67     110     148     109      33     115    \n",
       "10089  60      68      19      47      74      94      65      21      72    \n",
       "10090 122      38     103     185     202     132     114     199     122    \n",
       "10091 117      36      89     167     170     121     104     186     117    \n",
       "10092 559     368     101     106     378     339     111     572     359    \n",
       "10093 610     402     112     109     404     364     109     600     372    "
      ]
     },
     "metadata": {},
     "output_type": "display_data"
    }
   ],
   "source": [
    "sqldf(\"select * from df where AGEP < 50 and pwgtp1\")"
   ]
  },
  {
   "cell_type": "code",
   "execution_count": 9,
   "metadata": {},
   "outputs": [
    {
     "data": {
      "text/html": [
       "91"
      ],
      "text/latex": [
       "91"
      ],
      "text/markdown": [
       "91"
      ],
      "text/plain": [
       "[1] 91"
      ]
     },
     "metadata": {},
     "output_type": "display_data"
    }
   ],
   "source": [
    "length( unique(df$AGEP))"
   ]
  },
  {
   "cell_type": "code",
   "execution_count": 13,
   "metadata": {},
   "outputs": [
    {
     "data": {
      "text/html": [
       "<ol class=list-inline>\n",
       "\t<li>91</li>\n",
       "\t<li>1</li>\n",
       "</ol>\n"
      ],
      "text/latex": [
       "\\begin{enumerate*}\n",
       "\\item 91\n",
       "\\item 1\n",
       "\\end{enumerate*}\n"
      ],
      "text/markdown": [
       "1. 91\n",
       "2. 1\n",
       "\n",
       "\n"
      ],
      "text/plain": [
       "[1] 91  1"
      ]
     },
     "metadata": {},
     "output_type": "display_data"
    }
   ],
   "source": [
    "dim(sqldf(\"select distinct AGEP from df\"))"
   ]
  },
  {
   "cell_type": "markdown",
   "metadata": {},
   "source": [
    "# Q4"
   ]
  },
  {
   "cell_type": "code",
   "execution_count": 1,
   "metadata": {},
   "outputs": [
    {
     "name": "stderr",
     "output_type": "stream",
     "text": [
      "Warning message:\n",
      "\"package 'XML' was built under R version 3.4.3\""
     ]
    }
   ],
   "source": [
    "library(XML)\n",
    "fileUrl <- \"http://espn.go.com/nfl/team/_/name/bal/baltimore-ravens\"\n",
    "download.file(fileUrl,destfile = \"q4.html\")"
   ]
  },
  {
   "cell_type": "code",
   "execution_count": 3,
   "metadata": {},
   "outputs": [
    {
     "name": "stdout",
     "output_type": "stream",
     "text": [
      "[1] \"lineNumber =  10\"\n",
      "[1] 129\n",
      "[1] \"lineNumber =  20\"\n",
      "[1] 49\n",
      "[1] \"lineNumber =  30\"\n",
      "[1] 72\n",
      "[1] \"lineNumber =  100\"\n",
      "[1] 149\n"
     ]
    }
   ],
   "source": [
    "con = file(\"./q4.html\", \"r\")\n",
    "lineNumber <-0\n",
    "while ( TRUE ) {\n",
    "    line = readLines(con, n = 1)\n",
    "    lineNumber <- lineNumber +1 \n",
    "    if ( length(line) == 0 ) {\n",
    "      break\n",
    "    }\n",
    "    if(lineNumber == 10 || lineNumber == 20 ||lineNumber == 30 ||lineNumber == 100) {\n",
    "        print(paste(\"lineNumber = \",lineNumber) )\n",
    "        print(nchar(line))\n",
    "    }\n",
    "  }"
   ]
  },
  {
   "cell_type": "code",
   "execution_count": 11,
   "metadata": {},
   "outputs": [
    {
     "data": {
      "text/html": [
       "<ol class=list-inline>\n",
       "\t<li>45</li>\n",
       "\t<li>31</li>\n",
       "\t<li>7</li>\n",
       "\t<li>25</li>\n",
       "</ol>\n"
      ],
      "text/latex": [
       "\\begin{enumerate*}\n",
       "\\item 45\n",
       "\\item 31\n",
       "\\item 7\n",
       "\\item 25\n",
       "\\end{enumerate*}\n"
      ],
      "text/markdown": [
       "1. 45\n",
       "2. 31\n",
       "3. 7\n",
       "4. 25\n",
       "\n",
       "\n"
      ],
      "text/plain": [
       "[1] 45 31  7 25"
      ]
     },
     "metadata": {},
     "output_type": "display_data"
    }
   ],
   "source": [
    "connection <- url(\"http://biostat.jhsph.edu/~jleek/contact.html\")\n",
    "htmlCode <- readLines(connection)\n",
    "close(connection)\n",
    "c(nchar(htmlCode[10]), nchar(htmlCode[20]), nchar(htmlCode[30]), nchar(htmlCode[100]))"
   ]
  },
  {
   "cell_type": "code",
   "execution_count": 12,
   "metadata": {},
   "outputs": [
    {
     "data": {
      "text/html": [
       "'&lt;meta name=\"Distribution\" content=\"Global\" /&gt;'"
      ],
      "text/latex": [
       "'<meta name=\"Distribution\" content=\"Global\" />'"
      ],
      "text/markdown": [
       "'&lt;meta name=\"Distribution\" content=\"Global\" /&gt;'"
      ],
      "text/plain": [
       "[1] \"<meta name=\\\"Distribution\\\" content=\\\"Global\\\" />\""
      ]
     },
     "metadata": {},
     "output_type": "display_data"
    }
   ],
   "source": []
  },
  {
   "cell_type": "code",
   "execution_count": null,
   "metadata": {},
   "outputs": [],
   "source": []
  }
 ],
 "metadata": {
  "kernelspec": {
   "display_name": "R",
   "language": "R",
   "name": "ir"
  },
  "language_info": {
   "codemirror_mode": "r",
   "file_extension": ".r",
   "mimetype": "text/x-r-source",
   "name": "R",
   "pygments_lexer": "r",
   "version": "3.4.2"
  }
 },
 "nbformat": 4,
 "nbformat_minor": 2
}
