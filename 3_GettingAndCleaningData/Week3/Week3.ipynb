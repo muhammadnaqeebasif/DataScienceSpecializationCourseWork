{
 "cells": [
  {
   "cell_type": "markdown",
   "metadata": {},
   "source": [
    "# Week 3"
   ]
  },
  {
   "cell_type": "markdown",
   "metadata": {},
   "source": [
    "## Lecture 1: Subsetting and Sorting"
   ]
  },
  {
   "cell_type": "markdown",
   "metadata": {},
   "source": [
    "### Subsetting"
   ]
  },
  {
   "cell_type": "code",
   "execution_count": 185,
   "metadata": {},
   "outputs": [],
   "source": [
    "options(warn=-1)"
   ]
  },
  {
   "cell_type": "code",
   "execution_count": 100,
   "metadata": {},
   "outputs": [],
   "source": [
    "set.seed(13435)"
   ]
  },
  {
   "cell_type": "code",
   "execution_count": 101,
   "metadata": {},
   "outputs": [
    {
     "data": {
      "text/html": [
       "<table>\n",
       "<thead><tr><th scope=col>var1</th><th scope=col>var2</th><th scope=col>var3</th></tr></thead>\n",
       "<tbody>\n",
       "\t<tr><td>2 </td><td> 8</td><td>15</td></tr>\n",
       "\t<tr><td>3 </td><td> 7</td><td>12</td></tr>\n",
       "\t<tr><td>5 </td><td> 6</td><td>14</td></tr>\n",
       "\t<tr><td>1 </td><td>10</td><td>11</td></tr>\n",
       "\t<tr><td>4 </td><td> 9</td><td>13</td></tr>\n",
       "</tbody>\n",
       "</table>\n"
      ],
      "text/latex": [
       "\\begin{tabular}{r|lll}\n",
       " var1 & var2 & var3\\\\\n",
       "\\hline\n",
       "\t 2  &  8 & 15\\\\\n",
       "\t 3  &  7 & 12\\\\\n",
       "\t 5  &  6 & 14\\\\\n",
       "\t 1  & 10 & 11\\\\\n",
       "\t 4  &  9 & 13\\\\\n",
       "\\end{tabular}\n"
      ],
      "text/markdown": [
       "\n",
       "var1 | var2 | var3 | \n",
       "|---|---|---|---|---|\n",
       "| 2  |  8 | 15 | \n",
       "| 3  |  7 | 12 | \n",
       "| 5  |  6 | 14 | \n",
       "| 1  | 10 | 11 | \n",
       "| 4  |  9 | 13 | \n",
       "\n",
       "\n"
      ],
      "text/plain": [
       "  var1 var2 var3\n",
       "1 2     8   15  \n",
       "2 3     7   12  \n",
       "3 5     6   14  \n",
       "4 1    10   11  \n",
       "5 4     9   13  "
      ]
     },
     "metadata": {},
     "output_type": "display_data"
    }
   ],
   "source": [
    "X <- data.frame(\"var1\"=sample(1:5),\"var2\"=sample(6:10),\"var3\"=sample(11:15))\n",
    "X"
   ]
  },
  {
   "cell_type": "code",
   "execution_count": 102,
   "metadata": {},
   "outputs": [
    {
     "data": {
      "text/html": [
       "\n",
       "<table width=\"100%\" summary=\"page for sample {base}\"><tr><td>sample {base}</td><td style=\"text-align: right;\">R Documentation</td></tr></table>\n",
       "\n",
       "<h2>Random Samples and Permutations</h2>\n",
       "\n",
       "<h3>Description</h3>\n",
       "\n",
       "<p><code>sample</code> takes a sample of the specified size from the elements\n",
       "of <code>x</code> using either with or without replacement.\n",
       "</p>\n",
       "\n",
       "\n",
       "<h3>Usage</h3>\n",
       "\n",
       "<pre>\n",
       "sample(x, size, replace = FALSE, prob = NULL)\n",
       "\n",
       "sample.int(n, size = n, replace = FALSE, prob = NULL,\n",
       "           useHash = (!replace &amp;&amp; is.null(prob) &amp;&amp; size &lt;= n/2 &amp;&amp; n &gt; 1e7))\n",
       "</pre>\n",
       "\n",
       "\n",
       "<h3>Arguments</h3>\n",
       "\n",
       "<table summary=\"R argblock\">\n",
       "<tr valign=\"top\"><td><code>x</code></td>\n",
       "<td>\n",
       "<p>either a vector of one or more elements from which to choose,\n",
       "or a positive integer.  See &lsquo;Details.&rsquo;</p>\n",
       "</td></tr>\n",
       "<tr valign=\"top\"><td><code>n</code></td>\n",
       "<td>\n",
       "<p>a positive number, the number of items to choose from.  See\n",
       "&lsquo;Details.&rsquo;</p>\n",
       "</td></tr>\n",
       "<tr valign=\"top\"><td><code>size</code></td>\n",
       "<td>\n",
       "<p>a non-negative integer giving the number of items to choose.</p>\n",
       "</td></tr>\n",
       "<tr valign=\"top\"><td><code>replace</code></td>\n",
       "<td>\n",
       "<p>should sampling be with replacement?</p>\n",
       "</td></tr>\n",
       "<tr valign=\"top\"><td><code>prob</code></td>\n",
       "<td>\n",
       "<p>a vector of probability weights for obtaining the elements\n",
       "of the vector being sampled.</p>\n",
       "</td></tr>\n",
       "<tr valign=\"top\"><td><code>useHash</code></td>\n",
       "<td>\n",
       "<p><code>logical</code> indicating if the hash-version of\n",
       "the algorithm should be used.  Can only be used for <code>replace =\n",
       "      FALSE</code>, <code>prob = NULL</code>, and <code>size &lt;= n/2</code>, and really\n",
       "should be used for large <code>n</code>, as <code>useHash=FALSE</code> will use\n",
       "memory proportional to <code>n</code>.</p>\n",
       "</td></tr>\n",
       "</table>\n",
       "\n",
       "\n",
       "<h3>Details</h3>\n",
       "\n",
       "<p>If <code>x</code> has length 1, is numeric (in the sense of\n",
       "<code>is.numeric</code>) and <code>x &gt;= 1</code>, sampling <em>via</em>\n",
       "<code>sample</code> takes place from <code>1:x</code>.  <em>Note</em> that this\n",
       "convenience feature may lead to undesired behaviour when <code>x</code> is\n",
       "of varying length in calls such as <code>sample(x)</code>.  See the examples.\n",
       "</p>\n",
       "<p>Otherwise <code>x</code> can be any <span style=\"font-family: Courier New, Courier; color: #666666;\"><b>R</b></span> object for which <code>length</code> and\n",
       "subsetting by integers make sense: S3 or S4 methods for these\n",
       "operations will be dispatched as appropriate.\n",
       "</p>\n",
       "<p>For <code>sample</code> the default for <code>size</code> is the number of items\n",
       "inferred from the first argument, so that <code>sample(x)</code> generates a\n",
       "random permutation of the elements of <code>x</code> (or <code>1:x</code>).\n",
       "</p>\n",
       "<p>It is allowed to ask for <code>size = 0</code> samples with <code>n = 0</code> or\n",
       "a length-zero <code>x</code>, but otherwise <code>n &gt; 0</code> or positive\n",
       "<code>length(x)</code> is required.\n",
       "</p>\n",
       "<p>Non-integer positive numerical values of <code>n</code> or <code>x</code> will be\n",
       "truncated to the next smallest integer, which has to be no larger than\n",
       "<code>.Machine$integer.max</code>.\n",
       "</p>\n",
       "<p>The optional <code>prob</code> argument can be used to give a vector of\n",
       "weights for obtaining the elements of the vector being sampled.  They\n",
       "need not sum to one, but they should be non-negative and not all zero.\n",
       "If <code>replace</code> is true, Walker's alias method (Ripley, 1987) is\n",
       "used when there are more than 200 reasonably probable values: this\n",
       "gives results incompatible with those from <span style=\"font-family: Courier New, Courier; color: #666666;\"><b>R</b></span> &lt; 2.2.0.\n",
       "</p>\n",
       "<p>If <code>replace</code> is false, these probabilities are applied\n",
       "sequentially, that is the probability of choosing the next item is\n",
       "proportional to the weights amongst the remaining items.  The number\n",
       "of nonzero weights must be at least <code>size</code> in this case.\n",
       "</p>\n",
       "<p><code>sample.int</code> is a bare interface in which both <code>n</code> and\n",
       "<code>size</code> must be supplied as integers.\n",
       "</p>\n",
       "<p>Argument <code>n</code> can be larger than the largest integer of\n",
       "type <code>integer</code>, up to the largest representable integer in type\n",
       "<code>double</code>.  Only uniform sampling is supported.  Two\n",
       "random numbers are used to ensure uniform sampling of large integers.\n",
       "</p>\n",
       "\n",
       "\n",
       "<h3>Value</h3>\n",
       "\n",
       "<p>For <code>sample</code> a vector of length <code>size</code> with elements\n",
       "drawn from either <code>x</code> or from the integers <code>1:x</code>.\n",
       "</p>\n",
       "<p>For <code>sample.int</code>, an integer vector of length <code>size</code> with\n",
       "elements from <code>1:n</code>, or a double vector if\n",
       "<i>n &gt;= 2^31</i>.\n",
       "</p>\n",
       "\n",
       "\n",
       "<h3>References</h3>\n",
       "\n",
       "<p>Becker, R. A., Chambers, J. M. and Wilks, A. R. (1988)\n",
       "<em>The New S Language</em>.\n",
       "Wadsworth &amp; Brooks/Cole.\n",
       "</p>\n",
       "<p>Ripley, B. D. (1987) <em>Stochastic Simulation</em>. Wiley.\n",
       "</p>\n",
       "\n",
       "\n",
       "<h3>See Also</h3>\n",
       "\n",
       "<p><code>RNG</code> about random number generation.\n",
       "</p>\n",
       "<p>CRAN package <a href=\"https://CRAN.R-project.org/package=sampling\"><span class=\"pkg\">sampling</span></a> for other methods of weighted sampling\n",
       "without replacement.\n",
       "</p>\n",
       "\n",
       "\n",
       "<h3>Examples</h3>\n",
       "\n",
       "<pre>\n",
       "x &lt;- 1:12\n",
       "# a random permutation\n",
       "sample(x)\n",
       "# bootstrap resampling -- only if length(x) &gt; 1 !\n",
       "sample(x, replace = TRUE)\n",
       "\n",
       "# 100 Bernoulli trials\n",
       "sample(c(0,1), 100, replace = TRUE)\n",
       "\n",
       "## More careful bootstrapping --  Consider this when using sample()\n",
       "## programmatically (i.e., in your function or simulation)!\n",
       "\n",
       "# sample()'s surprise -- example\n",
       "x &lt;- 1:10\n",
       "    sample(x[x &gt;  8]) # length 2\n",
       "    sample(x[x &gt;  9]) # oops -- length 10!\n",
       "    sample(x[x &gt; 10]) # length 0\n",
       "\n",
       "## safer version:\n",
       "resample &lt;- function(x, ...) x[sample.int(length(x), ...)]\n",
       "resample(x[x &gt;  8]) # length 2\n",
       "resample(x[x &gt;  9]) # length 1\n",
       "resample(x[x &gt; 10]) # length 0\n",
       "\n",
       "## R 3.x.y only\n",
       "sample.int(1e10, 12, replace = TRUE)\n",
       "sample.int(1e10, 12) # not that there is much chance of duplicates\n",
       "</pre>\n",
       "\n",
       "<hr /><div style=\"text-align: center;\">[Package <em>base</em> version 3.4.2 ]</div>"
      ],
      "text/latex": [
       "\\inputencoding{utf8}\n",
       "\\HeaderA{sample}{Random Samples and Permutations}{sample}\n",
       "\\methaliasA{sample.int}{sample}{sample.int}\n",
       "\\keyword{distribution}{sample}\n",
       "%\n",
       "\\begin{Description}\\relax\n",
       "\\code{sample} takes a sample of the specified size from the elements\n",
       "of \\code{x} using either with or without replacement.\n",
       "\\end{Description}\n",
       "%\n",
       "\\begin{Usage}\n",
       "\\begin{verbatim}\n",
       "sample(x, size, replace = FALSE, prob = NULL)\n",
       "\n",
       "sample.int(n, size = n, replace = FALSE, prob = NULL,\n",
       "           useHash = (!replace && is.null(prob) && size <= n/2 && n > 1e7))\n",
       "\\end{verbatim}\n",
       "\\end{Usage}\n",
       "%\n",
       "\\begin{Arguments}\n",
       "\\begin{ldescription}\n",
       "\\item[\\code{x}] either a vector of one or more elements from which to choose,\n",
       "or a positive integer.  See `Details.'\n",
       "\\item[\\code{n}] a positive number, the number of items to choose from.  See\n",
       "`Details.'\n",
       "\\item[\\code{size}] a non-negative integer giving the number of items to choose.\n",
       "\\item[\\code{replace}] should sampling be with replacement?\n",
       "\\item[\\code{prob}] a vector of probability weights for obtaining the elements\n",
       "of the vector being sampled.\n",
       "\\item[\\code{useHash}] \\code{\\LinkA{logical}{logical}} indicating if the hash-version of\n",
       "the algorithm should be used.  Can only be used for \\code{replace =\n",
       "      FALSE}, \\code{prob = NULL}, and \\code{size <= n/2}, and really\n",
       "should be used for large \\code{n}, as \\code{useHash=FALSE} will use\n",
       "memory proportional to \\code{n}.\n",
       "\\end{ldescription}\n",
       "\\end{Arguments}\n",
       "%\n",
       "\\begin{Details}\\relax\n",
       "If \\code{x} has length 1, is numeric (in the sense of\n",
       "\\code{\\LinkA{is.numeric}{is.numeric}}) and \\code{x >= 1}, sampling \\emph{via}\n",
       "\\code{sample} takes place from \\code{1:x}.  \\emph{Note} that this\n",
       "convenience feature may lead to undesired behaviour when \\code{x} is\n",
       "of varying length in calls such as \\code{sample(x)}.  See the examples.\n",
       "\n",
       "Otherwise \\code{x} can be any \\R{} object for which \\code{length} and\n",
       "subsetting by integers make sense: S3 or S4 methods for these\n",
       "operations will be dispatched as appropriate.\n",
       "\n",
       "For \\code{sample} the default for \\code{size} is the number of items\n",
       "inferred from the first argument, so that \\code{sample(x)} generates a\n",
       "random permutation of the elements of \\code{x} (or \\code{1:x}).\n",
       "\n",
       "It is allowed to ask for \\code{size = 0} samples with \\code{n = 0} or\n",
       "a length-zero \\code{x}, but otherwise \\code{n > 0} or positive\n",
       "\\code{length(x)} is required.\n",
       "\n",
       "Non-integer positive numerical values of \\code{n} or \\code{x} will be\n",
       "truncated to the next smallest integer, which has to be no larger than\n",
       "\\code{\\LinkA{.Machine}{.Machine}\\$integer.max}.\n",
       "\n",
       "The optional \\code{prob} argument can be used to give a vector of\n",
       "weights for obtaining the elements of the vector being sampled.  They\n",
       "need not sum to one, but they should be non-negative and not all zero.\n",
       "If \\code{replace} is true, Walker's alias method (Ripley, 1987) is\n",
       "used when there are more than 200 reasonably probable values: this\n",
       "gives results incompatible with those from \\R{} < 2.2.0.\n",
       "\n",
       "If \\code{replace} is false, these probabilities are applied\n",
       "sequentially, that is the probability of choosing the next item is\n",
       "proportional to the weights amongst the remaining items.  The number\n",
       "of nonzero weights must be at least \\code{size} in this case.\n",
       "\n",
       "\\code{sample.int} is a bare interface in which both \\code{n} and\n",
       "\\code{size} must be supplied as integers.\n",
       "\n",
       "Argument \\code{n} can be larger than the largest integer of\n",
       "type \\code{integer}, up to the largest representable integer in type\n",
       "\\code{double}.  Only uniform sampling is supported.  Two\n",
       "random numbers are used to ensure uniform sampling of large integers.\n",
       "\\end{Details}\n",
       "%\n",
       "\\begin{Value}\n",
       "For \\code{sample} a vector of length \\code{size} with elements\n",
       "drawn from either \\code{x} or from the integers \\code{1:x}.\n",
       "\n",
       "For \\code{sample.int}, an integer vector of length \\code{size} with\n",
       "elements from \\code{1:n}, or a double vector if\n",
       "\\eqn{n \\ge 2^{31}}{}.\n",
       "\\end{Value}\n",
       "%\n",
       "\\begin{References}\\relax\n",
       "Becker, R. A., Chambers, J. M. and Wilks, A. R. (1988)\n",
       "\\emph{The New S Language}.\n",
       "Wadsworth \\& Brooks/Cole.\n",
       "\n",
       "Ripley, B. D. (1987) \\emph{Stochastic Simulation}. Wiley.\n",
       "\\end{References}\n",
       "%\n",
       "\\begin{SeeAlso}\\relax\n",
       "\\code{\\LinkA{RNG}{RNG}} about random number generation.\n",
       "\n",
       "CRAN package \\Rhref{https://CRAN.R-project.org/package=sampling}{\\pkg{sampling}} for other methods of weighted sampling\n",
       "without replacement.\n",
       "\\end{SeeAlso}\n",
       "%\n",
       "\\begin{Examples}\n",
       "\\begin{ExampleCode}\n",
       "x <- 1:12\n",
       "# a random permutation\n",
       "sample(x)\n",
       "# bootstrap resampling -- only if length(x) > 1 !\n",
       "sample(x, replace = TRUE)\n",
       "\n",
       "# 100 Bernoulli trials\n",
       "sample(c(0,1), 100, replace = TRUE)\n",
       "\n",
       "## More careful bootstrapping --  Consider this when using sample()\n",
       "## programmatically (i.e., in your function or simulation)!\n",
       "\n",
       "# sample()'s surprise -- example\n",
       "x <- 1:10\n",
       "    sample(x[x >  8]) # length 2\n",
       "    sample(x[x >  9]) # oops -- length 10!\n",
       "    sample(x[x > 10]) # length 0\n",
       "\n",
       "## safer version:\n",
       "resample <- function(x, ...) x[sample.int(length(x), ...)]\n",
       "resample(x[x >  8]) # length 2\n",
       "resample(x[x >  9]) # length 1\n",
       "resample(x[x > 10]) # length 0\n",
       "\n",
       "## R 3.x.y only\n",
       "sample.int(1e10, 12, replace = TRUE)\n",
       "sample.int(1e10, 12) # not that there is much chance of duplicates\n",
       "\\end{ExampleCode}\n",
       "\\end{Examples}"
      ],
      "text/plain": [
       "sample                  package:base                   R Documentation\n",
       "\n",
       "_\bR_\ba_\bn_\bd_\bo_\bm _\bS_\ba_\bm_\bp_\bl_\be_\bs _\ba_\bn_\bd _\bP_\be_\br_\bm_\bu_\bt_\ba_\bt_\bi_\bo_\bn_\bs\n",
       "\n",
       "_\bD_\be_\bs_\bc_\br_\bi_\bp_\bt_\bi_\bo_\bn:\n",
       "\n",
       "     'sample' takes a sample of the specified size from the elements of\n",
       "     'x' using either with or without replacement.\n",
       "\n",
       "_\bU_\bs_\ba_\bg_\be:\n",
       "\n",
       "     sample(x, size, replace = FALSE, prob = NULL)\n",
       "     \n",
       "     sample.int(n, size = n, replace = FALSE, prob = NULL,\n",
       "                useHash = (!replace && is.null(prob) && size <= n/2 && n > 1e7))\n",
       "     \n",
       "_\bA_\br_\bg_\bu_\bm_\be_\bn_\bt_\bs:\n",
       "\n",
       "       x: either a vector of one or more elements from which to choose,\n",
       "          or a positive integer.  See 'Details.'\n",
       "\n",
       "       n: a positive number, the number of items to choose from.  See\n",
       "          'Details.'\n",
       "\n",
       "    size: a non-negative integer giving the number of items to choose.\n",
       "\n",
       " replace: should sampling be with replacement?\n",
       "\n",
       "    prob: a vector of probability weights for obtaining the elements of\n",
       "          the vector being sampled.\n",
       "\n",
       " useHash: 'logical' indicating if the hash-version of the algorithm\n",
       "          should be used.  Can only be used for 'replace = FALSE',\n",
       "          'prob = NULL', and 'size <= n/2', and really should be used\n",
       "          for large 'n', as 'useHash=FALSE' will use memory\n",
       "          proportional to 'n'.\n",
       "\n",
       "_\bD_\be_\bt_\ba_\bi_\bl_\bs:\n",
       "\n",
       "     If 'x' has length 1, is numeric (in the sense of 'is.numeric') and\n",
       "     'x >= 1', sampling _via_ 'sample' takes place from '1:x'.  _Note_\n",
       "     that this convenience feature may lead to undesired behaviour when\n",
       "     'x' is of varying length in calls such as 'sample(x)'.  See the\n",
       "     examples.\n",
       "\n",
       "     Otherwise 'x' can be any R object for which 'length' and\n",
       "     subsetting by integers make sense: S3 or S4 methods for these\n",
       "     operations will be dispatched as appropriate.\n",
       "\n",
       "     For 'sample' the default for 'size' is the number of items\n",
       "     inferred from the first argument, so that 'sample(x)' generates a\n",
       "     random permutation of the elements of 'x' (or '1:x').\n",
       "\n",
       "     It is allowed to ask for 'size = 0' samples with 'n = 0' or a\n",
       "     length-zero 'x', but otherwise 'n > 0' or positive 'length(x)' is\n",
       "     required.\n",
       "\n",
       "     Non-integer positive numerical values of 'n' or 'x' will be\n",
       "     truncated to the next smallest integer, which has to be no larger\n",
       "     than '.Machine$integer.max'.\n",
       "\n",
       "     The optional 'prob' argument can be used to give a vector of\n",
       "     weights for obtaining the elements of the vector being sampled.\n",
       "     They need not sum to one, but they should be non-negative and not\n",
       "     all zero.  If 'replace' is true, Walker's alias method (Ripley,\n",
       "     1987) is used when there are more than 200 reasonably probable\n",
       "     values: this gives results incompatible with those from R < 2.2.0.\n",
       "\n",
       "     If 'replace' is false, these probabilities are applied\n",
       "     sequentially, that is the probability of choosing the next item is\n",
       "     proportional to the weights amongst the remaining items.  The\n",
       "     number of nonzero weights must be at least 'size' in this case.\n",
       "\n",
       "     'sample.int' is a bare interface in which both 'n' and 'size' must\n",
       "     be supplied as integers.\n",
       "\n",
       "     Argument 'n' can be larger than the largest integer of type\n",
       "     'integer', up to the largest representable integer in type\n",
       "     'double'.  Only uniform sampling is supported.  Two random numbers\n",
       "     are used to ensure uniform sampling of large integers.\n",
       "\n",
       "_\bV_\ba_\bl_\bu_\be:\n",
       "\n",
       "     For 'sample' a vector of length 'size' with elements drawn from\n",
       "     either 'x' or from the integers '1:x'.\n",
       "\n",
       "     For 'sample.int', an integer vector of length 'size' with elements\n",
       "     from '1:n', or a double vector if n >= 2^31.\n",
       "\n",
       "_\bR_\be_\bf_\be_\br_\be_\bn_\bc_\be_\bs:\n",
       "\n",
       "     Becker, R. A., Chambers, J. M. and Wilks, A. R. (1988) _The New S\n",
       "     Language_.  Wadsworth & Brooks/Cole.\n",
       "\n",
       "     Ripley, B. D. (1987) _Stochastic Simulation_. Wiley.\n",
       "\n",
       "_\bS_\be_\be _\bA_\bl_\bs_\bo:\n",
       "\n",
       "     'RNG' about random number generation.\n",
       "\n",
       "     CRAN package 'sampling' for other methods of weighted sampling\n",
       "     without replacement.\n",
       "\n",
       "_\bE_\bx_\ba_\bm_\bp_\bl_\be_\bs:\n",
       "\n",
       "     x <- 1:12\n",
       "     # a random permutation\n",
       "     sample(x)\n",
       "     # bootstrap resampling -- only if length(x) > 1 !\n",
       "     sample(x, replace = TRUE)\n",
       "     \n",
       "     # 100 Bernoulli trials\n",
       "     sample(c(0,1), 100, replace = TRUE)\n",
       "     \n",
       "     ## More careful bootstrapping --  Consider this when using sample()\n",
       "     ## programmatically (i.e., in your function or simulation)!\n",
       "     \n",
       "     # sample()'s surprise -- example\n",
       "     x <- 1:10\n",
       "         sample(x[x >  8]) # length 2\n",
       "         sample(x[x >  9]) # oops -- length 10!\n",
       "         sample(x[x > 10]) # length 0\n",
       "     \n",
       "     ## safer version:\n",
       "     resample <- function(x, ...) x[sample.int(length(x), ...)]\n",
       "     resample(x[x >  8]) # length 2\n",
       "     resample(x[x >  9]) # length 1\n",
       "     resample(x[x > 10]) # length 0\n",
       "     \n",
       "     ## R 3.x.y only\n",
       "     sample.int(1e10, 12, replace = TRUE)\n",
       "     sample.int(1e10, 12) # not that there is much chance of duplicates\n",
       "     "
      ]
     },
     "metadata": {},
     "output_type": "display_data"
    }
   ],
   "source": [
    "?sample"
   ]
  },
  {
   "cell_type": "code",
   "execution_count": 103,
   "metadata": {},
   "outputs": [],
   "source": [
    "X <- X[sample(1:5),];X$var2[c(1,3)]=NA"
   ]
  },
  {
   "cell_type": "code",
   "execution_count": 104,
   "metadata": {},
   "outputs": [
    {
     "data": {
      "text/html": [
       "<table>\n",
       "<thead><tr><th></th><th scope=col>var1</th><th scope=col>var2</th><th scope=col>var3</th></tr></thead>\n",
       "<tbody>\n",
       "\t<tr><th scope=row>1</th><td>2 </td><td>NA</td><td>15</td></tr>\n",
       "\t<tr><th scope=row>4</th><td>1 </td><td>10</td><td>11</td></tr>\n",
       "\t<tr><th scope=row>2</th><td>3 </td><td>NA</td><td>12</td></tr>\n",
       "\t<tr><th scope=row>3</th><td>5 </td><td> 6</td><td>14</td></tr>\n",
       "\t<tr><th scope=row>5</th><td>4 </td><td> 9</td><td>13</td></tr>\n",
       "</tbody>\n",
       "</table>\n"
      ],
      "text/latex": [
       "\\begin{tabular}{r|lll}\n",
       "  & var1 & var2 & var3\\\\\n",
       "\\hline\n",
       "\t1 & 2  & NA & 15\\\\\n",
       "\t4 & 1  & 10 & 11\\\\\n",
       "\t2 & 3  & NA & 12\\\\\n",
       "\t3 & 5  &  6 & 14\\\\\n",
       "\t5 & 4  &  9 & 13\\\\\n",
       "\\end{tabular}\n"
      ],
      "text/markdown": [
       "\n",
       "| <!--/--> | var1 | var2 | var3 | \n",
       "|---|---|---|---|---|\n",
       "| 1 | 2  | NA | 15 | \n",
       "| 4 | 1  | 10 | 11 | \n",
       "| 2 | 3  | NA | 12 | \n",
       "| 3 | 5  |  6 | 14 | \n",
       "| 5 | 4  |  9 | 13 | \n",
       "\n",
       "\n"
      ],
      "text/plain": [
       "  var1 var2 var3\n",
       "1 2    NA   15  \n",
       "4 1    10   11  \n",
       "2 3    NA   12  \n",
       "3 5     6   14  \n",
       "5 4     9   13  "
      ]
     },
     "metadata": {},
     "output_type": "display_data"
    }
   ],
   "source": [
    "X"
   ]
  },
  {
   "cell_type": "code",
   "execution_count": 105,
   "metadata": {},
   "outputs": [
    {
     "data": {
      "text/html": [
       "<ol class=list-inline>\n",
       "\t<li>2</li>\n",
       "\t<li>1</li>\n",
       "\t<li>3</li>\n",
       "\t<li>5</li>\n",
       "\t<li>4</li>\n",
       "</ol>\n"
      ],
      "text/latex": [
       "\\begin{enumerate*}\n",
       "\\item 2\n",
       "\\item 1\n",
       "\\item 3\n",
       "\\item 5\n",
       "\\item 4\n",
       "\\end{enumerate*}\n"
      ],
      "text/markdown": [
       "1. 2\n",
       "2. 1\n",
       "3. 3\n",
       "4. 5\n",
       "5. 4\n",
       "\n",
       "\n"
      ],
      "text/plain": [
       "[1] 2 1 3 5 4"
      ]
     },
     "metadata": {},
     "output_type": "display_data"
    }
   ],
   "source": [
    "X[,1]"
   ]
  },
  {
   "cell_type": "code",
   "execution_count": 106,
   "metadata": {},
   "outputs": [
    {
     "data": {
      "text/html": [
       "<ol class=list-inline>\n",
       "\t<li>2</li>\n",
       "\t<li>1</li>\n",
       "\t<li>3</li>\n",
       "\t<li>5</li>\n",
       "\t<li>4</li>\n",
       "</ol>\n"
      ],
      "text/latex": [
       "\\begin{enumerate*}\n",
       "\\item 2\n",
       "\\item 1\n",
       "\\item 3\n",
       "\\item 5\n",
       "\\item 4\n",
       "\\end{enumerate*}\n"
      ],
      "text/markdown": [
       "1. 2\n",
       "2. 1\n",
       "3. 3\n",
       "4. 5\n",
       "5. 4\n",
       "\n",
       "\n"
      ],
      "text/plain": [
       "[1] 2 1 3 5 4"
      ]
     },
     "metadata": {},
     "output_type": "display_data"
    }
   ],
   "source": [
    "X[,\"var1\"]"
   ]
  },
  {
   "cell_type": "code",
   "execution_count": 107,
   "metadata": {},
   "outputs": [
    {
     "data": {
      "text/html": [
       "<ol class=list-inline>\n",
       "\t<li>&lt;NA&gt;</li>\n",
       "\t<li>10</li>\n",
       "</ol>\n"
      ],
      "text/latex": [
       "\\begin{enumerate*}\n",
       "\\item <NA>\n",
       "\\item 10\n",
       "\\end{enumerate*}\n"
      ],
      "text/markdown": [
       "1. &lt;NA&gt;\n",
       "2. 10\n",
       "\n",
       "\n"
      ],
      "text/plain": [
       "[1] NA 10"
      ]
     },
     "metadata": {},
     "output_type": "display_data"
    }
   ],
   "source": [
    "X[1:2,\"var2\"]"
   ]
  },
  {
   "cell_type": "code",
   "execution_count": 108,
   "metadata": {},
   "outputs": [
    {
     "data": {
      "text/html": [
       "<table>\n",
       "<thead><tr><th scope=col>var1</th><th scope=col>var2</th><th scope=col>var3</th></tr></thead>\n",
       "<tbody>\n",
       "\t<tr><td>2 </td><td>NA</td><td>15</td></tr>\n",
       "\t<tr><td>3 </td><td>NA</td><td>12</td></tr>\n",
       "</tbody>\n",
       "</table>\n"
      ],
      "text/latex": [
       "\\begin{tabular}{r|lll}\n",
       " var1 & var2 & var3\\\\\n",
       "\\hline\n",
       "\t 2  & NA & 15\\\\\n",
       "\t 3  & NA & 12\\\\\n",
       "\\end{tabular}\n"
      ],
      "text/markdown": [
       "\n",
       "var1 | var2 | var3 | \n",
       "|---|---|\n",
       "| 2  | NA | 15 | \n",
       "| 3  | NA | 12 | \n",
       "\n",
       "\n"
      ],
      "text/plain": [
       "  var1 var2 var3\n",
       "1 2    NA   15  \n",
       "2 3    NA   12  "
      ]
     },
     "metadata": {},
     "output_type": "display_data"
    }
   ],
   "source": [
    "X[(X$var1 <= 3) & (X$var3 >11),]"
   ]
  },
  {
   "cell_type": "code",
   "execution_count": 109,
   "metadata": {},
   "outputs": [
    {
     "data": {
      "text/html": [
       "<table>\n",
       "<thead><tr><th></th><th scope=col>var1</th><th scope=col>var2</th><th scope=col>var3</th></tr></thead>\n",
       "<tbody>\n",
       "\t<tr><th scope=row>4</th><td>1 </td><td>10</td><td>11</td></tr>\n",
       "\t<tr><th scope=row>5</th><td>4 </td><td> 9</td><td>13</td></tr>\n",
       "</tbody>\n",
       "</table>\n"
      ],
      "text/latex": [
       "\\begin{tabular}{r|lll}\n",
       "  & var1 & var2 & var3\\\\\n",
       "\\hline\n",
       "\t4 & 1  & 10 & 11\\\\\n",
       "\t5 & 4  &  9 & 13\\\\\n",
       "\\end{tabular}\n"
      ],
      "text/markdown": [
       "\n",
       "| <!--/--> | var1 | var2 | var3 | \n",
       "|---|---|\n",
       "| 4 | 1  | 10 | 11 | \n",
       "| 5 | 4  |  9 | 13 | \n",
       "\n",
       "\n"
      ],
      "text/plain": [
       "  var1 var2 var3\n",
       "4 1    10   11  \n",
       "5 4     9   13  "
      ]
     },
     "metadata": {},
     "output_type": "display_data"
    }
   ],
   "source": [
    "X[which(X$var2>8),]"
   ]
  },
  {
   "cell_type": "markdown",
   "metadata": {},
   "source": [
    "### Sorting"
   ]
  },
  {
   "cell_type": "code",
   "execution_count": 110,
   "metadata": {},
   "outputs": [
    {
     "data": {
      "text/html": [
       "<ol class=list-inline>\n",
       "\t<li>1</li>\n",
       "\t<li>2</li>\n",
       "\t<li>3</li>\n",
       "\t<li>4</li>\n",
       "\t<li>5</li>\n",
       "</ol>\n"
      ],
      "text/latex": [
       "\\begin{enumerate*}\n",
       "\\item 1\n",
       "\\item 2\n",
       "\\item 3\n",
       "\\item 4\n",
       "\\item 5\n",
       "\\end{enumerate*}\n"
      ],
      "text/markdown": [
       "1. 1\n",
       "2. 2\n",
       "3. 3\n",
       "4. 4\n",
       "5. 5\n",
       "\n",
       "\n"
      ],
      "text/plain": [
       "[1] 1 2 3 4 5"
      ]
     },
     "metadata": {},
     "output_type": "display_data"
    }
   ],
   "source": [
    "sort(X$var1)"
   ]
  },
  {
   "cell_type": "code",
   "execution_count": 111,
   "metadata": {},
   "outputs": [
    {
     "data": {
      "text/html": [
       "<ol class=list-inline>\n",
       "\t<li>5</li>\n",
       "\t<li>4</li>\n",
       "\t<li>3</li>\n",
       "\t<li>2</li>\n",
       "\t<li>1</li>\n",
       "</ol>\n"
      ],
      "text/latex": [
       "\\begin{enumerate*}\n",
       "\\item 5\n",
       "\\item 4\n",
       "\\item 3\n",
       "\\item 2\n",
       "\\item 1\n",
       "\\end{enumerate*}\n"
      ],
      "text/markdown": [
       "1. 5\n",
       "2. 4\n",
       "3. 3\n",
       "4. 2\n",
       "5. 1\n",
       "\n",
       "\n"
      ],
      "text/plain": [
       "[1] 5 4 3 2 1"
      ]
     },
     "metadata": {},
     "output_type": "display_data"
    }
   ],
   "source": [
    "sort(X$var1,decreasing = TRUE)"
   ]
  },
  {
   "cell_type": "code",
   "execution_count": 112,
   "metadata": {},
   "outputs": [
    {
     "data": {
      "text/html": [
       "<ol class=list-inline>\n",
       "\t<li>6</li>\n",
       "\t<li>9</li>\n",
       "\t<li>10</li>\n",
       "\t<li>&lt;NA&gt;</li>\n",
       "\t<li>&lt;NA&gt;</li>\n",
       "</ol>\n"
      ],
      "text/latex": [
       "\\begin{enumerate*}\n",
       "\\item 6\n",
       "\\item 9\n",
       "\\item 10\n",
       "\\item <NA>\n",
       "\\item <NA>\n",
       "\\end{enumerate*}\n"
      ],
      "text/markdown": [
       "1. 6\n",
       "2. 9\n",
       "3. 10\n",
       "4. &lt;NA&gt;\n",
       "5. &lt;NA&gt;\n",
       "\n",
       "\n"
      ],
      "text/plain": [
       "[1]  6  9 10 NA NA"
      ]
     },
     "metadata": {},
     "output_type": "display_data"
    }
   ],
   "source": [
    "sort(X$var2,na.last = TRUE)"
   ]
  },
  {
   "cell_type": "code",
   "execution_count": 113,
   "metadata": {},
   "outputs": [
    {
     "data": {
      "text/html": [
       "<table>\n",
       "<thead><tr><th></th><th scope=col>var1</th><th scope=col>var2</th><th scope=col>var3</th></tr></thead>\n",
       "<tbody>\n",
       "\t<tr><th scope=row>4</th><td>1 </td><td>10</td><td>11</td></tr>\n",
       "\t<tr><th scope=row>1</th><td>2 </td><td>NA</td><td>15</td></tr>\n",
       "\t<tr><th scope=row>2</th><td>3 </td><td>NA</td><td>12</td></tr>\n",
       "\t<tr><th scope=row>5</th><td>4 </td><td> 9</td><td>13</td></tr>\n",
       "\t<tr><th scope=row>3</th><td>5 </td><td> 6</td><td>14</td></tr>\n",
       "</tbody>\n",
       "</table>\n"
      ],
      "text/latex": [
       "\\begin{tabular}{r|lll}\n",
       "  & var1 & var2 & var3\\\\\n",
       "\\hline\n",
       "\t4 & 1  & 10 & 11\\\\\n",
       "\t1 & 2  & NA & 15\\\\\n",
       "\t2 & 3  & NA & 12\\\\\n",
       "\t5 & 4  &  9 & 13\\\\\n",
       "\t3 & 5  &  6 & 14\\\\\n",
       "\\end{tabular}\n"
      ],
      "text/markdown": [
       "\n",
       "| <!--/--> | var1 | var2 | var3 | \n",
       "|---|---|---|---|---|\n",
       "| 4 | 1  | 10 | 11 | \n",
       "| 1 | 2  | NA | 15 | \n",
       "| 2 | 3  | NA | 12 | \n",
       "| 5 | 4  |  9 | 13 | \n",
       "| 3 | 5  |  6 | 14 | \n",
       "\n",
       "\n"
      ],
      "text/plain": [
       "  var1 var2 var3\n",
       "4 1    10   11  \n",
       "1 2    NA   15  \n",
       "2 3    NA   12  \n",
       "5 4     9   13  \n",
       "3 5     6   14  "
      ]
     },
     "metadata": {},
     "output_type": "display_data"
    }
   ],
   "source": [
    "X[order(X$var1),]"
   ]
  },
  {
   "cell_type": "code",
   "execution_count": 114,
   "metadata": {},
   "outputs": [
    {
     "data": {
      "text/html": [
       "<table>\n",
       "<thead><tr><th></th><th scope=col>var1</th><th scope=col>var2</th><th scope=col>var3</th></tr></thead>\n",
       "<tbody>\n",
       "\t<tr><th scope=row>4</th><td>1 </td><td>10</td><td>11</td></tr>\n",
       "\t<tr><th scope=row>1</th><td>2 </td><td>NA</td><td>15</td></tr>\n",
       "\t<tr><th scope=row>2</th><td>3 </td><td>NA</td><td>12</td></tr>\n",
       "\t<tr><th scope=row>5</th><td>4 </td><td> 9</td><td>13</td></tr>\n",
       "\t<tr><th scope=row>3</th><td>5 </td><td> 6</td><td>14</td></tr>\n",
       "</tbody>\n",
       "</table>\n"
      ],
      "text/latex": [
       "\\begin{tabular}{r|lll}\n",
       "  & var1 & var2 & var3\\\\\n",
       "\\hline\n",
       "\t4 & 1  & 10 & 11\\\\\n",
       "\t1 & 2  & NA & 15\\\\\n",
       "\t2 & 3  & NA & 12\\\\\n",
       "\t5 & 4  &  9 & 13\\\\\n",
       "\t3 & 5  &  6 & 14\\\\\n",
       "\\end{tabular}\n"
      ],
      "text/markdown": [
       "\n",
       "| <!--/--> | var1 | var2 | var3 | \n",
       "|---|---|---|---|---|\n",
       "| 4 | 1  | 10 | 11 | \n",
       "| 1 | 2  | NA | 15 | \n",
       "| 2 | 3  | NA | 12 | \n",
       "| 5 | 4  |  9 | 13 | \n",
       "| 3 | 5  |  6 | 14 | \n",
       "\n",
       "\n"
      ],
      "text/plain": [
       "  var1 var2 var3\n",
       "4 1    10   11  \n",
       "1 2    NA   15  \n",
       "2 3    NA   12  \n",
       "5 4     9   13  \n",
       "3 5     6   14  "
      ]
     },
     "metadata": {},
     "output_type": "display_data"
    }
   ],
   "source": [
    "#####Multiplie Sort\n",
    "X[order(X$var1,X$var3),]"
   ]
  },
  {
   "cell_type": "code",
   "execution_count": 115,
   "metadata": {},
   "outputs": [],
   "source": [
    "#install.packages(\"plyr\",repos = \"https://cran.ma.imperial.ac.uk/\")"
   ]
  },
  {
   "cell_type": "markdown",
   "metadata": {},
   "source": [
    "### Ordering with plyr"
   ]
  },
  {
   "cell_type": "code",
   "execution_count": 116,
   "metadata": {},
   "outputs": [],
   "source": [
    "library(plyr)"
   ]
  },
  {
   "cell_type": "code",
   "execution_count": 117,
   "metadata": {},
   "outputs": [
    {
     "data": {
      "text/html": [
       "<table>\n",
       "<thead><tr><th scope=col>var1</th><th scope=col>var2</th><th scope=col>var3</th></tr></thead>\n",
       "<tbody>\n",
       "\t<tr><td>1 </td><td>10</td><td>11</td></tr>\n",
       "\t<tr><td>2 </td><td>NA</td><td>15</td></tr>\n",
       "\t<tr><td>3 </td><td>NA</td><td>12</td></tr>\n",
       "\t<tr><td>4 </td><td> 9</td><td>13</td></tr>\n",
       "\t<tr><td>5 </td><td> 6</td><td>14</td></tr>\n",
       "</tbody>\n",
       "</table>\n"
      ],
      "text/latex": [
       "\\begin{tabular}{r|lll}\n",
       " var1 & var2 & var3\\\\\n",
       "\\hline\n",
       "\t 1  & 10 & 11\\\\\n",
       "\t 2  & NA & 15\\\\\n",
       "\t 3  & NA & 12\\\\\n",
       "\t 4  &  9 & 13\\\\\n",
       "\t 5  &  6 & 14\\\\\n",
       "\\end{tabular}\n"
      ],
      "text/markdown": [
       "\n",
       "var1 | var2 | var3 | \n",
       "|---|---|---|---|---|\n",
       "| 1  | 10 | 11 | \n",
       "| 2  | NA | 15 | \n",
       "| 3  | NA | 12 | \n",
       "| 4  |  9 | 13 | \n",
       "| 5  |  6 | 14 | \n",
       "\n",
       "\n"
      ],
      "text/plain": [
       "  var1 var2 var3\n",
       "1 1    10   11  \n",
       "2 2    NA   15  \n",
       "3 3    NA   12  \n",
       "4 4     9   13  \n",
       "5 5     6   14  "
      ]
     },
     "metadata": {},
     "output_type": "display_data"
    }
   ],
   "source": [
    "arrange(X,var1)"
   ]
  },
  {
   "cell_type": "code",
   "execution_count": 118,
   "metadata": {},
   "outputs": [
    {
     "data": {
      "text/html": [
       "<table>\n",
       "<thead><tr><th scope=col>var1</th><th scope=col>var2</th><th scope=col>var3</th></tr></thead>\n",
       "<tbody>\n",
       "\t<tr><td>5 </td><td> 6</td><td>14</td></tr>\n",
       "\t<tr><td>4 </td><td> 9</td><td>13</td></tr>\n",
       "\t<tr><td>3 </td><td>NA</td><td>12</td></tr>\n",
       "\t<tr><td>2 </td><td>NA</td><td>15</td></tr>\n",
       "\t<tr><td>1 </td><td>10</td><td>11</td></tr>\n",
       "</tbody>\n",
       "</table>\n"
      ],
      "text/latex": [
       "\\begin{tabular}{r|lll}\n",
       " var1 & var2 & var3\\\\\n",
       "\\hline\n",
       "\t 5  &  6 & 14\\\\\n",
       "\t 4  &  9 & 13\\\\\n",
       "\t 3  & NA & 12\\\\\n",
       "\t 2  & NA & 15\\\\\n",
       "\t 1  & 10 & 11\\\\\n",
       "\\end{tabular}\n"
      ],
      "text/markdown": [
       "\n",
       "var1 | var2 | var3 | \n",
       "|---|---|---|---|---|\n",
       "| 5  |  6 | 14 | \n",
       "| 4  |  9 | 13 | \n",
       "| 3  | NA | 12 | \n",
       "| 2  | NA | 15 | \n",
       "| 1  | 10 | 11 | \n",
       "\n",
       "\n"
      ],
      "text/plain": [
       "  var1 var2 var3\n",
       "1 5     6   14  \n",
       "2 4     9   13  \n",
       "3 3    NA   12  \n",
       "4 2    NA   15  \n",
       "5 1    10   11  "
      ]
     },
     "metadata": {},
     "output_type": "display_data"
    }
   ],
   "source": [
    "arrange(X,desc(var1))"
   ]
  },
  {
   "cell_type": "markdown",
   "metadata": {},
   "source": [
    "### Adding rows and columns"
   ]
  },
  {
   "cell_type": "code",
   "execution_count": 119,
   "metadata": {},
   "outputs": [
    {
     "data": {
      "text/html": [
       "<table>\n",
       "<thead><tr><th></th><th scope=col>var1</th><th scope=col>var2</th><th scope=col>var3</th><th scope=col>var4</th></tr></thead>\n",
       "<tbody>\n",
       "\t<tr><th scope=row>1</th><td>2         </td><td>NA        </td><td>15        </td><td> 0.1875960</td></tr>\n",
       "\t<tr><th scope=row>4</th><td>1         </td><td>10        </td><td>11        </td><td> 1.7869764</td></tr>\n",
       "\t<tr><th scope=row>2</th><td>3         </td><td>NA        </td><td>12        </td><td> 0.4966936</td></tr>\n",
       "\t<tr><th scope=row>3</th><td>5         </td><td> 6        </td><td>14        </td><td> 0.0631830</td></tr>\n",
       "\t<tr><th scope=row>5</th><td>4         </td><td> 9        </td><td>13        </td><td>-0.5361329</td></tr>\n",
       "</tbody>\n",
       "</table>\n"
      ],
      "text/latex": [
       "\\begin{tabular}{r|llll}\n",
       "  & var1 & var2 & var3 & var4\\\\\n",
       "\\hline\n",
       "\t1 & 2          & NA         & 15         &  0.1875960\\\\\n",
       "\t4 & 1          & 10         & 11         &  1.7869764\\\\\n",
       "\t2 & 3          & NA         & 12         &  0.4966936\\\\\n",
       "\t3 & 5          &  6         & 14         &  0.0631830\\\\\n",
       "\t5 & 4          &  9         & 13         & -0.5361329\\\\\n",
       "\\end{tabular}\n"
      ],
      "text/markdown": [
       "\n",
       "| <!--/--> | var1 | var2 | var3 | var4 | \n",
       "|---|---|---|---|---|\n",
       "| 1 | 2          | NA         | 15         |  0.1875960 | \n",
       "| 4 | 1          | 10         | 11         |  1.7869764 | \n",
       "| 2 | 3          | NA         | 12         |  0.4966936 | \n",
       "| 3 | 5          |  6         | 14         |  0.0631830 | \n",
       "| 5 | 4          |  9         | 13         | -0.5361329 | \n",
       "\n",
       "\n"
      ],
      "text/plain": [
       "  var1 var2 var3 var4      \n",
       "1 2    NA   15    0.1875960\n",
       "4 1    10   11    1.7869764\n",
       "2 3    NA   12    0.4966936\n",
       "3 5     6   14    0.0631830\n",
       "5 4     9   13   -0.5361329"
      ]
     },
     "metadata": {},
     "output_type": "display_data"
    }
   ],
   "source": [
    "X$var4 <- rnorm(5)\n",
    "X"
   ]
  },
  {
   "cell_type": "code",
   "execution_count": 120,
   "metadata": {},
   "outputs": [],
   "source": [
    "Y <- cbind(X,rnorm(5))"
   ]
  },
  {
   "cell_type": "code",
   "execution_count": 121,
   "metadata": {},
   "outputs": [
    {
     "data": {
      "text/html": [
       "<table>\n",
       "<thead><tr><th></th><th scope=col>var1</th><th scope=col>var2</th><th scope=col>var3</th><th scope=col>var4</th><th scope=col>rnorm(5)</th></tr></thead>\n",
       "<tbody>\n",
       "\t<tr><th scope=row>1</th><td>2          </td><td>NA         </td><td>15         </td><td> 0.1875960 </td><td> 0.62578490</td></tr>\n",
       "\t<tr><th scope=row>4</th><td>1          </td><td>10         </td><td>11         </td><td> 1.7869764 </td><td>-2.45083750</td></tr>\n",
       "\t<tr><th scope=row>2</th><td>3          </td><td>NA         </td><td>12         </td><td> 0.4966936 </td><td> 0.08909424</td></tr>\n",
       "\t<tr><th scope=row>3</th><td>5          </td><td> 6         </td><td>14         </td><td> 0.0631830 </td><td> 0.47838570</td></tr>\n",
       "\t<tr><th scope=row>5</th><td>4          </td><td> 9         </td><td>13         </td><td>-0.5361329 </td><td> 1.00053336</td></tr>\n",
       "</tbody>\n",
       "</table>\n"
      ],
      "text/latex": [
       "\\begin{tabular}{r|lllll}\n",
       "  & var1 & var2 & var3 & var4 & rnorm(5)\\\\\n",
       "\\hline\n",
       "\t1 & 2           & NA          & 15          &  0.1875960  &  0.62578490\\\\\n",
       "\t4 & 1           & 10          & 11          &  1.7869764  & -2.45083750\\\\\n",
       "\t2 & 3           & NA          & 12          &  0.4966936  &  0.08909424\\\\\n",
       "\t3 & 5           &  6          & 14          &  0.0631830  &  0.47838570\\\\\n",
       "\t5 & 4           &  9          & 13          & -0.5361329  &  1.00053336\\\\\n",
       "\\end{tabular}\n"
      ],
      "text/markdown": [
       "\n",
       "| <!--/--> | var1 | var2 | var3 | var4 | rnorm(5) | \n",
       "|---|---|---|---|---|\n",
       "| 1 | 2           | NA          | 15          |  0.1875960  |  0.62578490 | \n",
       "| 4 | 1           | 10          | 11          |  1.7869764  | -2.45083750 | \n",
       "| 2 | 3           | NA          | 12          |  0.4966936  |  0.08909424 | \n",
       "| 3 | 5           |  6          | 14          |  0.0631830  |  0.47838570 | \n",
       "| 5 | 4           |  9          | 13          | -0.5361329  |  1.00053336 | \n",
       "\n",
       "\n"
      ],
      "text/plain": [
       "  var1 var2 var3 var4       rnorm(5)   \n",
       "1 2    NA   15    0.1875960  0.62578490\n",
       "4 1    10   11    1.7869764 -2.45083750\n",
       "2 3    NA   12    0.4966936  0.08909424\n",
       "3 5     6   14    0.0631830  0.47838570\n",
       "5 4     9   13   -0.5361329  1.00053336"
      ]
     },
     "metadata": {},
     "output_type": "display_data"
    }
   ],
   "source": [
    "Y"
   ]
  },
  {
   "cell_type": "markdown",
   "metadata": {},
   "source": [
    "---"
   ]
  },
  {
   "cell_type": "markdown",
   "metadata": {},
   "source": [
    "# Lecture 2: Summarizing Data"
   ]
  },
  {
   "cell_type": "code",
   "execution_count": 122,
   "metadata": {},
   "outputs": [],
   "source": [
    "if(!file.exists(\"./data\")){\n",
    "    dir.create(\"./data\")\n",
    "}\n",
    "fileUrl <- \"https://data.baltimorecity.gov/api/views/k5ry-ef3g/rows.csv?accessType=DOWNLOAD\"\n",
    "download.file(fileUrl,destfile = \"./data/Restaurants.csv\")\n",
    "restData <- read.csv(\"./data/Restaurants.csv\")"
   ]
  },
  {
   "cell_type": "code",
   "execution_count": 123,
   "metadata": {},
   "outputs": [
    {
     "data": {
      "text/html": [
       "<table>\n",
       "<thead><tr><th scope=col>name</th><th scope=col>zipCode</th><th scope=col>neighborhood</th><th scope=col>councilDistrict</th><th scope=col>policeDistrict</th><th scope=col>Location.1</th></tr></thead>\n",
       "<tbody>\n",
       "\t<tr><td>410                              </td><td>21206                            </td><td>Frankford                        </td><td>2                                </td><td>NORTHEASTERN                     </td><td>4509 BELAIR ROAD\n",
       "Baltimore, MD\n",
       "</td></tr>\n",
       "\t<tr><td>1919                             </td><td>21231                            </td><td>Fells Point                      </td><td>1                                </td><td>SOUTHEASTERN                     </td><td>1919 FLEET ST\n",
       "Baltimore, MD\n",
       "   </td></tr>\n",
       "\t<tr><td>SAUTE                            </td><td>21224                            </td><td>Canton                           </td><td>1                                </td><td>SOUTHEASTERN                     </td><td>2844 HUDSON ST\n",
       "Baltimore, MD\n",
       "  </td></tr>\n",
       "</tbody>\n",
       "</table>\n"
      ],
      "text/latex": [
       "\\begin{tabular}{r|llllll}\n",
       " name & zipCode & neighborhood & councilDistrict & policeDistrict & Location.1\\\\\n",
       "\\hline\n",
       "\t 410                               & 21206                             & Frankford                         & 2                                 & NORTHEASTERN                      & 4509 BELAIR ROAD\n",
       "Baltimore, MD\n",
       "\\\\\n",
       "\t 1919                              & 21231                             & Fells Point                       & 1                                 & SOUTHEASTERN                      & 1919 FLEET ST\n",
       "Baltimore, MD\n",
       "   \\\\\n",
       "\t SAUTE                             & 21224                             & Canton                            & 1                                 & SOUTHEASTERN                      & 2844 HUDSON ST\n",
       "Baltimore, MD\n",
       "  \\\\\n",
       "\\end{tabular}\n"
      ],
      "text/markdown": [
       "\n",
       "name | zipCode | neighborhood | councilDistrict | policeDistrict | Location.1 | \n",
       "|---|---|---|\n",
       "| 410                               | 21206                             | Frankford                         | 2                                 | NORTHEASTERN                      | 4509 BELAIR ROAD\n",
       "Baltimore, MD\n",
       " | \n",
       "| 1919                              | 21231                             | Fells Point                       | 1                                 | SOUTHEASTERN                      | 1919 FLEET ST\n",
       "Baltimore, MD\n",
       "    | \n",
       "| SAUTE                             | 21224                             | Canton                            | 1                                 | SOUTHEASTERN                      | 2844 HUDSON ST\n",
       "Baltimore, MD\n",
       "   | \n",
       "\n",
       "\n"
      ],
      "text/plain": [
       "  name  zipCode neighborhood councilDistrict policeDistrict\n",
       "1 410   21206   Frankford    2               NORTHEASTERN  \n",
       "2 1919  21231   Fells Point  1               SOUTHEASTERN  \n",
       "3 SAUTE 21224   Canton       1               SOUTHEASTERN  \n",
       "  Location.1                       \n",
       "1 4509 BELAIR ROAD\\nBaltimore, MD\\n\n",
       "2 1919 FLEET ST\\nBaltimore, MD\\n   \n",
       "3 2844 HUDSON ST\\nBaltimore, MD\\n  "
      ]
     },
     "metadata": {},
     "output_type": "display_data"
    }
   ],
   "source": [
    "head(restData,n=3)"
   ]
  },
  {
   "cell_type": "code",
   "execution_count": 124,
   "metadata": {},
   "outputs": [
    {
     "data": {
      "text/html": [
       "<table>\n",
       "<thead><tr><th></th><th scope=col>name</th><th scope=col>zipCode</th><th scope=col>neighborhood</th><th scope=col>councilDistrict</th><th scope=col>policeDistrict</th><th scope=col>Location.1</th></tr></thead>\n",
       "<tbody>\n",
       "\t<tr><th scope=row>1325</th><td>ZINK'S CAFÂ                      </td><td>21213                             </td><td>Belair-Edison                     </td><td>13                                </td><td>NORTHEASTERN                      </td><td>3300 LAWNVIEW AVE\n",
       "Baltimore, MD\n",
       "</td></tr>\n",
       "\t<tr><th scope=row>1326</th><td>ZISSIMOS BAR                      </td><td>21211                             </td><td>Hampden                           </td><td> 7                                </td><td>NORTHERN                          </td><td>1023 36TH ST\n",
       "Baltimore, MD\n",
       "     </td></tr>\n",
       "\t<tr><th scope=row>1327</th><td>ZORBAS                            </td><td>21224                             </td><td>Greektown                         </td><td> 2                                </td><td>SOUTHEASTERN                      </td><td>4710 EASTERN Ave\n",
       "Baltimore, MD\n",
       " </td></tr>\n",
       "</tbody>\n",
       "</table>\n"
      ],
      "text/latex": [
       "\\begin{tabular}{r|llllll}\n",
       "  & name & zipCode & neighborhood & councilDistrict & policeDistrict & Location.1\\\\\n",
       "\\hline\n",
       "\t1325 & ZINK'S CAFÂ                       & 21213                              & Belair-Edison                      & 13                                 & NORTHEASTERN                       & 3300 LAWNVIEW AVE\n",
       "Baltimore, MD\n",
       "\\\\\n",
       "\t1326 & ZISSIMOS BAR                       & 21211                              & Hampden                            &  7                                 & NORTHERN                           & 1023 36TH ST\n",
       "Baltimore, MD\n",
       "     \\\\\n",
       "\t1327 & ZORBAS                             & 21224                              & Greektown                          &  2                                 & SOUTHEASTERN                       & 4710 EASTERN Ave\n",
       "Baltimore, MD\n",
       " \\\\\n",
       "\\end{tabular}\n"
      ],
      "text/markdown": [
       "\n",
       "| <!--/--> | name | zipCode | neighborhood | councilDistrict | policeDistrict | Location.1 | \n",
       "|---|---|---|\n",
       "| 1325 | ZINK'S CAFÂ                       | 21213                              | Belair-Edison                      | 13                                 | NORTHEASTERN                       | 3300 LAWNVIEW AVE\n",
       "Baltimore, MD\n",
       " | \n",
       "| 1326 | ZISSIMOS BAR                       | 21211                              | Hampden                            |  7                                 | NORTHERN                           | 1023 36TH ST\n",
       "Baltimore, MD\n",
       "      | \n",
       "| 1327 | ZORBAS                             | 21224                              | Greektown                          |  2                                 | SOUTHEASTERN                       | 4710 EASTERN Ave\n",
       "Baltimore, MD\n",
       "  | \n",
       "\n",
       "\n"
      ],
      "text/plain": [
       "     name         zipCode neighborhood  councilDistrict policeDistrict\n",
       "1325 ZINK'S CAFÂ 21213   Belair-Edison 13              NORTHEASTERN  \n",
       "1326 ZISSIMOS BAR 21211   Hampden        7              NORTHERN      \n",
       "1327 ZORBAS       21224   Greektown      2              SOUTHEASTERN  \n",
       "     Location.1                        \n",
       "1325 3300 LAWNVIEW AVE\\nBaltimore, MD\\n\n",
       "1326 1023 36TH ST\\nBaltimore, MD\\n     \n",
       "1327 4710 EASTERN Ave\\nBaltimore, MD\\n "
      ]
     },
     "metadata": {},
     "output_type": "display_data"
    }
   ],
   "source": [
    "tail(restData,n=3)"
   ]
  },
  {
   "cell_type": "code",
   "execution_count": 125,
   "metadata": {},
   "outputs": [
    {
     "data": {
      "text/html": [
       "\n",
       "<table width=\"100%\" summary=\"page for summary {base}\"><tr><td>summary {base}</td><td style=\"text-align: right;\">R Documentation</td></tr></table>\n",
       "\n",
       "<h2>Object Summaries</h2>\n",
       "\n",
       "<h3>Description</h3>\n",
       "\n",
       "<p><code>summary</code> is a generic function used to produce result summaries\n",
       "of the results of various model fitting functions.  The function\n",
       "invokes particular <code>methods</code> which depend on the\n",
       "<code>class</code> of the first argument.\n",
       "</p>\n",
       "\n",
       "\n",
       "<h3>Usage</h3>\n",
       "\n",
       "<pre>\n",
       "summary(object, ...)\n",
       "\n",
       "## Default S3 method:\n",
       "summary(object, ..., digits)\n",
       "## S3 method for class 'data.frame'\n",
       "summary(object, maxsum = 7,\n",
       "       digits = max(3, getOption(\"digits\")-3), ...)\n",
       "\n",
       "## S3 method for class 'factor'\n",
       "summary(object, maxsum = 100, ...)\n",
       "\n",
       "## S3 method for class 'matrix'\n",
       "summary(object, ...)\n",
       "\n",
       "## S3 method for class 'summaryDefault'\n",
       "format(x, digits = max(3L, getOption(\"digits\") - 3L), ...)\n",
       " ## S3 method for class 'summaryDefault'\n",
       "print(x, digits = max(3L, getOption(\"digits\") - 3L), ...)\n",
       "</pre>\n",
       "\n",
       "\n",
       "<h3>Arguments</h3>\n",
       "\n",
       "<table summary=\"R argblock\">\n",
       "<tr valign=\"top\"><td><code>object</code></td>\n",
       "<td>\n",
       "<p>an object for which a summary is desired.</p>\n",
       "</td></tr>\n",
       "<tr valign=\"top\"><td><code>x</code></td>\n",
       "<td>\n",
       "<p>a result of the <em>default</em> method of <code>summary()</code>.</p>\n",
       "</td></tr>\n",
       "<tr valign=\"top\"><td><code>maxsum</code></td>\n",
       "<td>\n",
       "<p>integer, indicating how many levels should be shown for\n",
       "<code>factor</code>s.</p>\n",
       "</td></tr>\n",
       "<tr valign=\"top\"><td><code>digits</code></td>\n",
       "<td>\n",
       "<p>integer, used for number formatting with\n",
       "<code>signif()</code> (for <code>summary.default</code>) or\n",
       "<code>format()</code> (for <code>summary.data.frame</code>).  In\n",
       "<code>summary.default</code>, if not specified (i.e.,\n",
       "<code>missing(.)</code>), <code>signif()</code> will <em>not</em> be called\n",
       "anymore (since <span style=\"font-family: Courier New, Courier; color: #666666;\"><b>R</b></span> &gt;= 3.4.0, where the default has been changed to\n",
       "only round in the <code>print</code> and <code>format</code> methods).</p>\n",
       "</td></tr></table>\n",
       "\n",
       "<table summary=\"R argblock\">\n",
       "<tr valign=\"top\"><td><code>...</code></td>\n",
       "<td>\n",
       "<p>additional arguments affecting the summary produced.</p>\n",
       "</td></tr>\n",
       "</table>\n",
       "\n",
       "\n",
       "<h3>Details</h3>\n",
       "\n",
       "<p>For <code>factor</code>s, the frequency of the first <code>maxsum - 1</code>\n",
       "most frequent levels is shown, and the less frequent levels are\n",
       "summarized in <code>\"(Others)\"</code> (resulting in at most <code>maxsum</code>\n",
       "frequencies).\n",
       "</p>\n",
       "<p>The functions <code>summary.lm</code> and <code>summary.glm</code> are examples\n",
       "of particular methods which summarize the results produced by\n",
       "<code>lm</code> and <code>glm</code>.\n",
       "</p>\n",
       "\n",
       "\n",
       "<h3>Value</h3>\n",
       "\n",
       "<p>The form of the value returned by <code>summary</code> depends on the\n",
       "class of its argument.  See the documentation of the particular\n",
       "methods for details of what is produced by that method.\n",
       "</p>\n",
       "<p>The default method returns an object of class\n",
       "<code>c(\"summaryDefault\", \"table\")</code> which has specialized\n",
       "<code>format</code> and <code>print</code> methods.  The\n",
       "<code>factor</code> method returns an integer vector.\n",
       "</p>\n",
       "<p>The matrix and data frame methods return a matrix of class\n",
       "<code>\"table\"</code>, obtained by applying <code>summary</code> to each\n",
       "column and collating the results.\n",
       "</p>\n",
       "\n",
       "\n",
       "<h3>References</h3>\n",
       "\n",
       "<p>Chambers, J. M. and Hastie, T. J. (1992)\n",
       "<em>Statistical Models in S</em>.\n",
       "Wadsworth &amp; Brooks/Cole.\n",
       "</p>\n",
       "\n",
       "\n",
       "<h3>See Also</h3>\n",
       "\n",
       "<p><code>anova</code>,\n",
       "<code>summary.glm</code>,\n",
       "<code>summary.lm</code>.\n",
       "</p>\n",
       "\n",
       "\n",
       "<h3>Examples</h3>\n",
       "\n",
       "<pre>\n",
       "summary(attenu, digits = 4) #-&gt; summary.data.frame(...), default precision\n",
       "summary(attenu $ station, maxsum = 20) #-&gt; summary.factor(...)\n",
       "\n",
       "lst &lt;- unclass(attenu$station) &gt; 20 # logical with NAs\n",
       "## summary.default() for logicals -- different from *.factor:\n",
       "summary(lst)\n",
       "summary(as.factor(lst))\n",
       "</pre>\n",
       "\n",
       "<hr /><div style=\"text-align: center;\">[Package <em>base</em> version 3.4.2 ]</div>"
      ],
      "text/latex": [
       "\\inputencoding{utf8}\n",
       "\\HeaderA{summary}{Object Summaries}{summary}\n",
       "\\aliasA{format.summaryDefault}{summary}{format.summaryDefault}\n",
       "\\aliasA{print.summaryDefault}{summary}{print.summaryDefault}\n",
       "\\methaliasA{summary.data.frame}{summary}{summary.data.frame}\n",
       "\\methaliasA{summary.default}{summary}{summary.default}\n",
       "\\methaliasA{summary.factor}{summary}{summary.factor}\n",
       "\\methaliasA{summary.matrix}{summary}{summary.matrix}\n",
       "\\keyword{methods}{summary}\n",
       "%\n",
       "\\begin{Description}\\relax\n",
       "\\code{summary} is a generic function used to produce result summaries\n",
       "of the results of various model fitting functions.  The function\n",
       "invokes particular \\code{\\LinkA{methods}{methods}} which depend on the\n",
       "\\code{\\LinkA{class}{class}} of the first argument.\n",
       "\\end{Description}\n",
       "%\n",
       "\\begin{Usage}\n",
       "\\begin{verbatim}\n",
       "summary(object, ...)\n",
       "\n",
       "## Default S3 method:\n",
       "summary(object, ..., digits)\n",
       "## S3 method for class 'data.frame'\n",
       "summary(object, maxsum = 7,\n",
       "       digits = max(3, getOption(\"digits\")-3), ...)\n",
       "\n",
       "## S3 method for class 'factor'\n",
       "summary(object, maxsum = 100, ...)\n",
       "\n",
       "## S3 method for class 'matrix'\n",
       "summary(object, ...)\n",
       "\n",
       "## S3 method for class 'summaryDefault'\n",
       "format(x, digits = max(3L, getOption(\"digits\") - 3L), ...)\n",
       " ## S3 method for class 'summaryDefault'\n",
       "print(x, digits = max(3L, getOption(\"digits\") - 3L), ...)\n",
       "\\end{verbatim}\n",
       "\\end{Usage}\n",
       "%\n",
       "\\begin{Arguments}\n",
       "\\begin{ldescription}\n",
       "\\item[\\code{object}] an object for which a summary is desired.\n",
       "\\item[\\code{x}] a result of the \\emph{default} method of \\code{summary()}.\n",
       "\\item[\\code{maxsum}] integer, indicating how many levels should be shown for\n",
       "\\code{\\LinkA{factor}{factor}}s.\n",
       "\\item[\\code{digits}] integer, used for number formatting with\n",
       "\\code{\\LinkA{signif}{signif}()} (for \\code{summary.default}) or\n",
       "\\code{\\LinkA{format}{format}()} (for \\code{summary.data.frame}).  In\n",
       "\\code{summary.default}, if not specified (i.e.,\n",
       "\\code{\\LinkA{missing}{missing}(.)}), \\code{signif()} will \\emph{not} be called\n",
       "anymore (since \\R{} >= 3.4.0, where the default has been changed to\n",
       "only round in the \\code{print} and \\code{format} methods).\n",
       "\\item[\\code{...}] additional arguments affecting the summary produced.\n",
       "\\end{ldescription}\n",
       "\\end{Arguments}\n",
       "%\n",
       "\\begin{Details}\\relax\n",
       "For \\code{\\LinkA{factor}{factor}}s, the frequency of the first \\code{maxsum - 1}\n",
       "most frequent levels is shown, and the less frequent levels are\n",
       "summarized in \\code{\"(Others)\"} (resulting in at most \\code{maxsum}\n",
       "frequencies).\n",
       "\n",
       "The functions \\code{summary.lm} and \\code{summary.glm} are examples\n",
       "of particular methods which summarize the results produced by\n",
       "\\code{\\LinkA{lm}{lm}} and \\code{\\LinkA{glm}{glm}}.\n",
       "\\end{Details}\n",
       "%\n",
       "\\begin{Value}\n",
       "The form of the value returned by \\code{summary} depends on the\n",
       "class of its argument.  See the documentation of the particular\n",
       "methods for details of what is produced by that method.\n",
       "\n",
       "The default method returns an object of class\n",
       "\\code{c(\"summaryDefault\", \"\\LinkA{table}{table}\")} which has specialized\n",
       "\\code{\\LinkA{format}{format}} and \\code{\\LinkA{print}{print}} methods.  The\n",
       "\\code{\\LinkA{factor}{factor}} method returns an integer vector.\n",
       "\n",
       "The matrix and data frame methods return a matrix of class\n",
       "\\code{\"\\LinkA{table}{table}\"}, obtained by applying \\code{summary} to each\n",
       "column and collating the results.\n",
       "\\end{Value}\n",
       "%\n",
       "\\begin{References}\\relax\n",
       "Chambers, J. M. and Hastie, T. J. (1992)\n",
       "\\emph{Statistical Models in S}.\n",
       "Wadsworth \\& Brooks/Cole.\n",
       "\\end{References}\n",
       "%\n",
       "\\begin{SeeAlso}\\relax\n",
       "\\code{\\LinkA{anova}{anova}},\n",
       "\\code{\\LinkA{summary.glm}{summary.glm}},\n",
       "\\code{\\LinkA{summary.lm}{summary.lm}}.\n",
       "\\end{SeeAlso}\n",
       "%\n",
       "\\begin{Examples}\n",
       "\\begin{ExampleCode}\n",
       "summary(attenu, digits = 4) #-> summary.data.frame(...), default precision\n",
       "summary(attenu $ station, maxsum = 20) #-> summary.factor(...)\n",
       "\n",
       "lst <- unclass(attenu$station) > 20 # logical with NAs\n",
       "## summary.default() for logicals -- different from *.factor:\n",
       "summary(lst)\n",
       "summary(as.factor(lst))\n",
       "\\end{ExampleCode}\n",
       "\\end{Examples}"
      ],
      "text/plain": [
       "summary                  package:base                  R Documentation\n",
       "\n",
       "_\bO_\bb_\bj_\be_\bc_\bt _\bS_\bu_\bm_\bm_\ba_\br_\bi_\be_\bs\n",
       "\n",
       "_\bD_\be_\bs_\bc_\br_\bi_\bp_\bt_\bi_\bo_\bn:\n",
       "\n",
       "     'summary' is a generic function used to produce result summaries\n",
       "     of the results of various model fitting functions.  The function\n",
       "     invokes particular 'methods' which depend on the 'class' of the\n",
       "     first argument.\n",
       "\n",
       "_\bU_\bs_\ba_\bg_\be:\n",
       "\n",
       "     summary(object, ...)\n",
       "     \n",
       "     ## Default S3 method:\n",
       "     summary(object, ..., digits)\n",
       "     ## S3 method for class 'data.frame'\n",
       "     summary(object, maxsum = 7,\n",
       "            digits = max(3, getOption(\"digits\")-3), ...)\n",
       "     \n",
       "     ## S3 method for class 'factor'\n",
       "     summary(object, maxsum = 100, ...)\n",
       "     \n",
       "     ## S3 method for class 'matrix'\n",
       "     summary(object, ...)\n",
       "     \n",
       "     ## S3 method for class 'summaryDefault'\n",
       "     format(x, digits = max(3L, getOption(\"digits\") - 3L), ...)\n",
       "      ## S3 method for class 'summaryDefault'\n",
       "     print(x, digits = max(3L, getOption(\"digits\") - 3L), ...)\n",
       "     \n",
       "_\bA_\br_\bg_\bu_\bm_\be_\bn_\bt_\bs:\n",
       "\n",
       "  object: an object for which a summary is desired.\n",
       "\n",
       "       x: a result of the _default_ method of 'summary()'.\n",
       "\n",
       "  maxsum: integer, indicating how many levels should be shown for\n",
       "          'factor's.\n",
       "\n",
       "  digits: integer, used for number formatting with 'signif()' (for\n",
       "          'summary.default') or 'format()' (for 'summary.data.frame').\n",
       "          In 'summary.default', if not specified (i.e., 'missing(.)'),\n",
       "          'signif()' will _not_ be called anymore (since R >= 3.4.0,\n",
       "          where the default has been changed to only round in the\n",
       "          'print' and 'format' methods).\n",
       "\n",
       "     ...: additional arguments affecting the summary produced.\n",
       "\n",
       "_\bD_\be_\bt_\ba_\bi_\bl_\bs:\n",
       "\n",
       "     For 'factor's, the frequency of the first 'maxsum - 1' most\n",
       "     frequent levels is shown, and the less frequent levels are\n",
       "     summarized in '\"(Others)\"' (resulting in at most 'maxsum'\n",
       "     frequencies).\n",
       "\n",
       "     The functions 'summary.lm' and 'summary.glm' are examples of\n",
       "     particular methods which summarize the results produced by 'lm'\n",
       "     and 'glm'.\n",
       "\n",
       "_\bV_\ba_\bl_\bu_\be:\n",
       "\n",
       "     The form of the value returned by 'summary' depends on the class\n",
       "     of its argument.  See the documentation of the particular methods\n",
       "     for details of what is produced by that method.\n",
       "\n",
       "     The default method returns an object of class 'c(\"summaryDefault\",\n",
       "     \"table\")' which has specialized 'format' and 'print' methods.  The\n",
       "     'factor' method returns an integer vector.\n",
       "\n",
       "     The matrix and data frame methods return a matrix of class\n",
       "     '\"table\"', obtained by applying 'summary' to each column and\n",
       "     collating the results.\n",
       "\n",
       "_\bR_\be_\bf_\be_\br_\be_\bn_\bc_\be_\bs:\n",
       "\n",
       "     Chambers, J. M. and Hastie, T. J. (1992) _Statistical Models in\n",
       "     S_.  Wadsworth & Brooks/Cole.\n",
       "\n",
       "_\bS_\be_\be _\bA_\bl_\bs_\bo:\n",
       "\n",
       "     'anova', 'summary.glm', 'summary.lm'.\n",
       "\n",
       "_\bE_\bx_\ba_\bm_\bp_\bl_\be_\bs:\n",
       "\n",
       "     summary(attenu, digits = 4) #-> summary.data.frame(...), default precision\n",
       "     summary(attenu $ station, maxsum = 20) #-> summary.factor(...)\n",
       "     \n",
       "     lst <- unclass(attenu$station) > 20 # logical with NAs\n",
       "     ## summary.default() for logicals -- different from *.factor:\n",
       "     summary(lst)\n",
       "     summary(as.factor(lst))\n",
       "     "
      ]
     },
     "metadata": {},
     "output_type": "display_data"
    }
   ],
   "source": [
    "?summary"
   ]
  },
  {
   "cell_type": "code",
   "execution_count": 126,
   "metadata": {},
   "outputs": [
    {
     "data": {
      "text/plain": [
       "                           name         zipCode             neighborhood\n",
       " MCDONALD'S                  :   8   Min.   :-21226   Downtown    :128  \n",
       " POPEYES FAMOUS FRIED CHICKEN:   7   1st Qu.: 21202   Fells Point : 91  \n",
       " SUBWAY                      :   6   Median : 21218   Inner Harbor: 89  \n",
       " KENTUCKY FRIED CHICKEN      :   5   Mean   : 21185   Canton      : 81  \n",
       " BURGER KING                 :   4   3rd Qu.: 21226   Federal Hill: 42  \n",
       " DUNKIN DONUTS               :   4   Max.   : 21287   Mount Vernon: 33  \n",
       " (Other)                     :1293                    (Other)     :863  \n",
       " councilDistrict       policeDistrict                          Location.1    \n",
       " Min.   : 1.000   SOUTHEASTERN:385    1101 RUSSELL ST\\nBaltimore, MD\\n:   9  \n",
       " 1st Qu.: 2.000   CENTRAL     :288    201 PRATT ST\\nBaltimore, MD\\n   :   8  \n",
       " Median : 9.000   SOUTHERN    :213    2400 BOSTON ST\\nBaltimore, MD\\n :   8  \n",
       " Mean   : 7.191   NORTHERN    :157    300 LIGHT ST\\nBaltimore, MD\\n   :   5  \n",
       " 3rd Qu.:11.000   NORTHEASTERN: 72    300 CHARLES ST\\nBaltimore, MD\\n :   4  \n",
       " Max.   :14.000   EASTERN     : 67    301 LIGHT ST\\nBaltimore, MD\\n   :   4  \n",
       "                  (Other)     :145    (Other)                         :1289  "
      ]
     },
     "metadata": {},
     "output_type": "display_data"
    }
   ],
   "source": [
    "summary(restData)"
   ]
  },
  {
   "cell_type": "code",
   "execution_count": 127,
   "metadata": {},
   "outputs": [
    {
     "name": "stdout",
     "output_type": "stream",
     "text": [
      "'data.frame':\t1327 obs. of  6 variables:\n",
      " $ name           : Factor w/ 1277 levels \"#1 CHINESE KITCHEN\",..: 9 3 992 1 2 4 5 6 7 8 ...\n",
      " $ zipCode        : int  21206 21231 21224 21211 21223 21218 21205 21211 21205 21231 ...\n",
      " $ neighborhood   : Factor w/ 173 levels \"Abell\",\"Arlington\",..: 53 52 18 66 104 33 98 133 98 157 ...\n",
      " $ councilDistrict: int  2 1 1 14 9 14 13 7 13 1 ...\n",
      " $ policeDistrict : Factor w/ 9 levels \"CENTRAL\",\"EASTERN\",..: 3 6 6 4 8 3 6 4 6 6 ...\n",
      " $ Location.1     : Factor w/ 1210 levels \"1 BIDDLE ST\\nBaltimore, MD\\n\",..: 835 334 554 755 492 537 505 530 507 569 ...\n"
     ]
    }
   ],
   "source": [
    "str(restData)"
   ]
  },
  {
   "cell_type": "code",
   "execution_count": 128,
   "metadata": {},
   "outputs": [
    {
     "data": {
      "text/html": [
       "<dl class=dl-horizontal>\n",
       "\t<dt>0%</dt>\n",
       "\t\t<dd>1</dd>\n",
       "\t<dt>25%</dt>\n",
       "\t\t<dd>2</dd>\n",
       "\t<dt>50%</dt>\n",
       "\t\t<dd>9</dd>\n",
       "\t<dt>75%</dt>\n",
       "\t\t<dd>11</dd>\n",
       "\t<dt>100%</dt>\n",
       "\t\t<dd>14</dd>\n",
       "</dl>\n"
      ],
      "text/latex": [
       "\\begin{description*}\n",
       "\\item[0\\textbackslash{}\\%] 1\n",
       "\\item[25\\textbackslash{}\\%] 2\n",
       "\\item[50\\textbackslash{}\\%] 9\n",
       "\\item[75\\textbackslash{}\\%] 11\n",
       "\\item[100\\textbackslash{}\\%] 14\n",
       "\\end{description*}\n"
      ],
      "text/markdown": [
       "0%\n",
       ":   125%\n",
       ":   250%\n",
       ":   975%\n",
       ":   11100%\n",
       ":   14\n",
       "\n"
      ],
      "text/plain": [
       "  0%  25%  50%  75% 100% \n",
       "   1    2    9   11   14 "
      ]
     },
     "metadata": {},
     "output_type": "display_data"
    }
   ],
   "source": [
    "quantile(restData$councilDistrict,na.rm = TRUE)"
   ]
  },
  {
   "cell_type": "code",
   "execution_count": 129,
   "metadata": {},
   "outputs": [
    {
     "data": {
      "text/html": [
       "<dl class=dl-horizontal>\n",
       "\t<dt>50%</dt>\n",
       "\t\t<dd>9</dd>\n",
       "\t<dt>75%</dt>\n",
       "\t\t<dd>11</dd>\n",
       "\t<dt>90%</dt>\n",
       "\t\t<dd>12</dd>\n",
       "</dl>\n"
      ],
      "text/latex": [
       "\\begin{description*}\n",
       "\\item[50\\textbackslash{}\\%] 9\n",
       "\\item[75\\textbackslash{}\\%] 11\n",
       "\\item[90\\textbackslash{}\\%] 12\n",
       "\\end{description*}\n"
      ],
      "text/markdown": [
       "50%\n",
       ":   975%\n",
       ":   1190%\n",
       ":   12\n",
       "\n"
      ],
      "text/plain": [
       "50% 75% 90% \n",
       "  9  11  12 "
      ]
     },
     "metadata": {},
     "output_type": "display_data"
    }
   ],
   "source": [
    "quantile(restData$councilDistrict,na.rm = TRUE,probs = c(0.5,0.75,0.9))"
   ]
  },
  {
   "cell_type": "markdown",
   "metadata": {},
   "source": [
    "### Make Table"
   ]
  },
  {
   "cell_type": "code",
   "execution_count": 130,
   "metadata": {},
   "outputs": [
    {
     "data": {
      "text/plain": [
       "\n",
       "-21226  21201  21202  21205  21206  21207  21208  21209  21210  21211  21212 \n",
       "     1    136    201     27     30      4      1      8     23     41     28 \n",
       " 21213  21214  21215  21216  21217  21218  21220  21222  21223  21224  21225 \n",
       "    31     17     54     10     32     69      1      7     56    199     19 \n",
       " 21226  21227  21229  21230  21231  21234  21237  21239  21251  21287 \n",
       "    18      4     13    156    127      7      1      3      2      1 "
      ]
     },
     "metadata": {},
     "output_type": "display_data"
    }
   ],
   "source": [
    "table(restData$zipCode,useNA = \"ifany\")"
   ]
  },
  {
   "cell_type": "code",
   "execution_count": 131,
   "metadata": {},
   "outputs": [
    {
     "data": {
      "text/plain": [
       "    \n",
       "     -21226 21201 21202 21205 21206 21207 21208 21209 21210 21211 21212 21213\n",
       "  1       0     0    37     0     0     0     0     0     0     0     0     2\n",
       "  2       0     0     0     3    27     0     0     0     0     0     0     0\n",
       "  3       0     0     0     0     0     0     0     0     0     0     0     2\n",
       "  4       0     0     0     0     0     0     0     0     0     0    27     0\n",
       "  5       0     0     0     0     0     3     0     6     0     0     0     0\n",
       "  6       0     0     0     0     0     0     0     1    19     0     0     0\n",
       "  7       0     0     0     0     0     0     0     1     0    27     0     0\n",
       "  8       0     0     0     0     0     1     0     0     0     0     0     0\n",
       "  9       0     1     0     0     0     0     0     0     0     0     0     0\n",
       "  10      1     0     1     0     0     0     0     0     0     0     0     0\n",
       "  11      0   115   139     0     0     0     1     0     0     0     1     0\n",
       "  12      0    20    24     4     0     0     0     0     0     0     0    13\n",
       "  13      0     0     0    20     3     0     0     0     0     0     0    13\n",
       "  14      0     0     0     0     0     0     0     0     4    14     0     1\n",
       "    \n",
       "     21214 21215 21216 21217 21218 21220 21222 21223 21224 21225 21226 21227\n",
       "  1      0     0     0     0     0     0     7     0   140     1     0     0\n",
       "  2      0     0     0     0     0     0     0     0    54     0     0     0\n",
       "  3     17     0     0     0     3     0     0     0     0     0     0     1\n",
       "  4      0     0     0     0     0     0     0     0     0     0     0     0\n",
       "  5      0    31     0     0     0     0     0     0     0     0     0     0\n",
       "  6      0    15     1     0     0     0     0     0     0     0     0     0\n",
       "  7      0     6     7    15     6     0     0     0     0     0     0     0\n",
       "  8      0     0     0     0     0     0     0     2     0     0     0     2\n",
       "  9      0     0     2     8     0     0     0    53     0     0     0     0\n",
       "  10     0     0     0     0     0     1     0     0     0    18    18     0\n",
       "  11     0     0     0     9     0     0     0     1     0     0     0     0\n",
       "  12     0     0     0     0    26     0     0     0     0     0     0     0\n",
       "  13     0     1     0     0     0     0     0     0     5     0     0     1\n",
       "  14     0     1     0     0    34     0     0     0     0     0     0     0\n",
       "    \n",
       "     21229 21230 21231 21234 21237 21239 21251 21287\n",
       "  1      0     1   124     0     0     0     0     0\n",
       "  2      0     0     0     0     1     0     0     0\n",
       "  3      0     0     0     7     0     0     2     0\n",
       "  4      0     0     0     0     0     3     0     0\n",
       "  5      0     0     0     0     0     0     0     0\n",
       "  6      0     0     0     0     0     0     0     0\n",
       "  7      0     0     0     0     0     0     0     0\n",
       "  8     13     0     0     0     0     0     0     0\n",
       "  9      0    11     0     0     0     0     0     0\n",
       "  10     0   133     0     0     0     0     0     0\n",
       "  11     0    11     0     0     0     0     0     0\n",
       "  12     0     0     2     0     0     0     0     0\n",
       "  13     0     0     1     0     0     0     0     1\n",
       "  14     0     0     0     0     0     0     0     0"
      ]
     },
     "metadata": {},
     "output_type": "display_data"
    }
   ],
   "source": [
    "table(restData$councilDistrict,restData$zipCode)"
   ]
  },
  {
   "cell_type": "markdown",
   "metadata": {},
   "source": [
    "### Check for Missing values"
   ]
  },
  {
   "cell_type": "code",
   "execution_count": 132,
   "metadata": {},
   "outputs": [
    {
     "data": {
      "text/html": [
       "0"
      ],
      "text/latex": [
       "0"
      ],
      "text/markdown": [
       "0"
      ],
      "text/plain": [
       "[1] 0"
      ]
     },
     "metadata": {},
     "output_type": "display_data"
    }
   ],
   "source": [
    "sum(is.na(restData$councilDistrict))"
   ]
  },
  {
   "cell_type": "code",
   "execution_count": 133,
   "metadata": {},
   "outputs": [
    {
     "data": {
      "text/html": [
       "FALSE"
      ],
      "text/latex": [
       "FALSE"
      ],
      "text/markdown": [
       "FALSE"
      ],
      "text/plain": [
       "[1] FALSE"
      ]
     },
     "metadata": {},
     "output_type": "display_data"
    }
   ],
   "source": [
    "any(is.na(restData$councilDistrict))"
   ]
  },
  {
   "cell_type": "code",
   "execution_count": 134,
   "metadata": {},
   "outputs": [
    {
     "data": {
      "text/html": [
       "FALSE"
      ],
      "text/latex": [
       "FALSE"
      ],
      "text/markdown": [
       "FALSE"
      ],
      "text/plain": [
       "[1] FALSE"
      ]
     },
     "metadata": {},
     "output_type": "display_data"
    }
   ],
   "source": [
    "all(restData$zipCode>0)"
   ]
  },
  {
   "cell_type": "markdown",
   "metadata": {},
   "source": [
    "### Rows and column sums"
   ]
  },
  {
   "cell_type": "code",
   "execution_count": 135,
   "metadata": {},
   "outputs": [
    {
     "data": {
      "text/html": [
       "<dl class=dl-horizontal>\n",
       "\t<dt>name</dt>\n",
       "\t\t<dd>0</dd>\n",
       "\t<dt>zipCode</dt>\n",
       "\t\t<dd>0</dd>\n",
       "\t<dt>neighborhood</dt>\n",
       "\t\t<dd>0</dd>\n",
       "\t<dt>councilDistrict</dt>\n",
       "\t\t<dd>0</dd>\n",
       "\t<dt>policeDistrict</dt>\n",
       "\t\t<dd>0</dd>\n",
       "\t<dt>Location.1</dt>\n",
       "\t\t<dd>0</dd>\n",
       "</dl>\n"
      ],
      "text/latex": [
       "\\begin{description*}\n",
       "\\item[name] 0\n",
       "\\item[zipCode] 0\n",
       "\\item[neighborhood] 0\n",
       "\\item[councilDistrict] 0\n",
       "\\item[policeDistrict] 0\n",
       "\\item[Location.1] 0\n",
       "\\end{description*}\n"
      ],
      "text/markdown": [
       "name\n",
       ":   0zipCode\n",
       ":   0neighborhood\n",
       ":   0councilDistrict\n",
       ":   0policeDistrict\n",
       ":   0Location.1\n",
       ":   0\n",
       "\n"
      ],
      "text/plain": [
       "           name         zipCode    neighborhood councilDistrict  policeDistrict \n",
       "              0               0               0               0               0 \n",
       "     Location.1 \n",
       "              0 "
      ]
     },
     "metadata": {},
     "output_type": "display_data"
    }
   ],
   "source": [
    "colSums(is.na(restData))"
   ]
  },
  {
   "cell_type": "code",
   "execution_count": 136,
   "metadata": {},
   "outputs": [
    {
     "data": {
      "text/html": [
       "TRUE"
      ],
      "text/latex": [
       "TRUE"
      ],
      "text/markdown": [
       "TRUE"
      ],
      "text/plain": [
       "[1] TRUE"
      ]
     },
     "metadata": {},
     "output_type": "display_data"
    }
   ],
   "source": [
    "all(colSums(is.na(restData))==0)"
   ]
  },
  {
   "cell_type": "markdown",
   "metadata": {},
   "source": [
    "### Values with specific characteristics"
   ]
  },
  {
   "cell_type": "code",
   "execution_count": 137,
   "metadata": {},
   "outputs": [
    {
     "data": {
      "text/plain": [
       "\n",
       "FALSE  TRUE \n",
       " 1299    28 "
      ]
     },
     "metadata": {},
     "output_type": "display_data"
    }
   ],
   "source": [
    "table(restData$zipCode %in% c(\"21212\"))"
   ]
  },
  {
   "cell_type": "code",
   "execution_count": 138,
   "metadata": {},
   "outputs": [
    {
     "data": {
      "text/plain": [
       "\n",
       "FALSE  TRUE \n",
       " 1268    59 "
      ]
     },
     "metadata": {},
     "output_type": "display_data"
    }
   ],
   "source": [
    "table(restData$zipCode %in% c(\"21212\",\"21213\"))"
   ]
  },
  {
   "cell_type": "code",
   "execution_count": 139,
   "metadata": {},
   "outputs": [
    {
     "data": {
      "text/html": [
       "<table>\n",
       "<thead><tr><th></th><th scope=col>name</th><th scope=col>zipCode</th><th scope=col>neighborhood</th><th scope=col>councilDistrict</th><th scope=col>policeDistrict</th><th scope=col>Location.1</th></tr></thead>\n",
       "<tbody>\n",
       "\t<tr><th scope=row>29</th><td>BAY ATLANTIC CLUB                   </td><td>21212                               </td><td>Downtown                            </td><td>11                                  </td><td>CENTRAL                             </td><td>206 REDWOOD ST\n",
       "Baltimore, MD\n",
       "     </td></tr>\n",
       "\t<tr><th scope=row>39</th><td>BERMUDA BAR                         </td><td>21213                               </td><td>Broadway East                       </td><td>12                                  </td><td>EASTERN                             </td><td>1801 NORTH AVE\n",
       "Baltimore, MD\n",
       "     </td></tr>\n",
       "\t<tr><th scope=row>92</th><td>ATWATER'S                           </td><td>21212                               </td><td>Chinquapin Park-Belvedere           </td><td> 4                                  </td><td>NORTHERN                            </td><td>529 BELVEDERE AVE\n",
       "Baltimore, MD\n",
       "  </td></tr>\n",
       "\t<tr><th scope=row>111</th><td>BALTIMORE ESTONIAN SOCIETY          </td><td>21213                               </td><td>South Clifton Park                  </td><td>12                                  </td><td>EASTERN                             </td><td>1932 BELAIR RD\n",
       "Baltimore, MD\n",
       "     </td></tr>\n",
       "\t<tr><th scope=row>187</th><td>CAFE ZEN                            </td><td>21212                               </td><td>Rosebank                            </td><td> 4                                  </td><td>NORTHERN                            </td><td>438 BELVEDERE AVE\n",
       "Baltimore, MD\n",
       "  </td></tr>\n",
       "\t<tr><th scope=row>220</th><td>CERIELLO FINE FOODS                 </td><td>21212                               </td><td>Chinquapin Park-Belvedere           </td><td> 4                                  </td><td>NORTHERN                            </td><td>529 BELVEDERE AVE\n",
       "Baltimore, MD\n",
       "  </td></tr>\n",
       "\t<tr><th scope=row>266</th><td>CLIFTON PARK GOLF COURSE SNACK BAR  </td><td>21213                               </td><td>Darley Park                         </td><td>14                                  </td><td>NORTHEASTERN                        </td><td>2701 ST LO DR\n",
       "Baltimore, MD\n",
       "      </td></tr>\n",
       "\t<tr><th scope=row>276</th><td><span style=white-space:pre-wrap>CLUB HOUSE BAR &amp; GRILL              </span></td><td>21213                                                                           </td><td>Orangeville Industrial Area                                                     </td><td>13                                                                              </td><td><span style=white-space:pre-wrap>EASTERN     </span>                            </td><td><span style=white-space:pre-wrap>4217 ERDMAN AVE\n",
       "Baltimore, MD\n",
       "    </span>    </td></tr>\n",
       "\t<tr><th scope=row>289</th><td><span style=white-space:pre-wrap>CLUBHOUSE BAR &amp; GRILL               </span></td><td>21213                                                                           </td><td>Orangeville Industrial Area                                                     </td><td>13                                                                              </td><td><span style=white-space:pre-wrap>EASTERN     </span>                            </td><td><span style=white-space:pre-wrap>4217 ERDMAN AVE\n",
       "Baltimore, MD\n",
       "    </span>    </td></tr>\n",
       "\t<tr><th scope=row>291</th><td>COCKY LOU'S                         </td><td>21213                               </td><td>Broadway East                       </td><td>12                                  </td><td>EASTERN                             </td><td>2101 NORTH AVE\n",
       "Baltimore, MD\n",
       "     </td></tr>\n",
       "\t<tr><th scope=row>362</th><td>DREAM TAVERN, CARRIBEAN  U.S.A.     </td><td>21213                               </td><td>Broadway East                       </td><td>13                                  </td><td>EASTERN                             </td><td>2300 LAFAYETTE AVE\n",
       "Baltimore, MD\n",
       " </td></tr>\n",
       "\t<tr><th scope=row>373</th><td>DUNKIN DONUTS                       </td><td>21212                               </td><td>Homeland                            </td><td> 4                                  </td><td>NORTHERN                            </td><td>5422 YORK RD\n",
       "Baltimore, MD\n",
       "       </td></tr>\n",
       "\t<tr><th scope=row>383</th><td>EASTSIDE  SPORTS  SOCIAL  CLUB      </td><td>21213                               </td><td>Broadway East                       </td><td>13                                  </td><td>EASTERN                             </td><td>1203 COLLINGTON AVE\n",
       "Baltimore, MD\n",
       "</td></tr>\n",
       "\t<tr><th scope=row>417</th><td>FIELDS OLD TRAIL                    </td><td>21212                               </td><td>Mid-Govans                          </td><td> 4                                  </td><td>NORTHERN                            </td><td>5723 YORK RD\n",
       "Baltimore, MD\n",
       "       </td></tr>\n",
       "\t<tr><th scope=row>475</th><td>GRAND CRU                           </td><td>21212                               </td><td>Chinquapin Park-Belvedere           </td><td> 4                                  </td><td>NORTHERN                            </td><td>527 BELVEDERE AVE\n",
       "Baltimore, MD\n",
       "  </td></tr>\n",
       "\t<tr><th scope=row>545</th><td>RANDY'S BAR                         </td><td>21213                               </td><td>Broadway East                       </td><td>12                                  </td><td>EASTERN                             </td><td>2135 NORTH AVE\n",
       "Baltimore, MD\n",
       "     </td></tr>\n",
       "\t<tr><th scope=row>604</th><td><span style=white-space:pre-wrap>MURPHY'S NEIGHBORHOOD BAR &amp; GRILL   </span></td><td>21212                                                                           </td><td><span style=white-space:pre-wrap>Mid-Govans                 </span>             </td><td> 4                                                                              </td><td><span style=white-space:pre-wrap>NORTHERN    </span>                            </td><td><span style=white-space:pre-wrap>5847 YORK RD\n",
       "Baltimore, MD\n",
       "       </span>    </td></tr>\n",
       "\t<tr><th scope=row>616</th><td>NEOPOL                              </td><td>21212                               </td><td>Chinquapin Park-Belvedere           </td><td> 4                                  </td><td>NORTHERN                            </td><td>529 BELVEDERE AVE\n",
       "Baltimore, MD\n",
       "  </td></tr>\n",
       "\t<tr><th scope=row>620</th><td>NEW CLUB THUNDERBIRD INC.           </td><td>21213                               </td><td>Middle East                         </td><td>13                                  </td><td>EASTERN                             </td><td>2201 CHASE ST\n",
       "Baltimore, MD\n",
       "      </td></tr>\n",
       "\t<tr><th scope=row>626</th><td>NEW MAYFIELD, INC.                  </td><td>21213                               </td><td>Belair-Edison                       </td><td>13                                  </td><td>NORTHEASTERN                        </td><td>3349 BELAIR RD\n",
       "Baltimore, MD\n",
       "     </td></tr>\n",
       "\t<tr><th scope=row>678</th><td>IKAN SEAFOOD                        </td><td>21212                               </td><td>Chinquapin Park-Belvedere           </td><td> 4                                  </td><td>NORTHERN                            </td><td>529 BELVEDERE AVE\n",
       "Baltimore, MD\n",
       "  </td></tr>\n",
       "\t<tr><th scope=row>711</th><td>KAY-CEE CLUB                        </td><td>21212                               </td><td>Homeland                            </td><td> 4                                  </td><td>NORTHERN                            </td><td>201 HOMELAND AVE\n",
       "Baltimore, MD\n",
       "   </td></tr>\n",
       "\t<tr><th scope=row>763</th><td>LA'RAE                              </td><td>21213                               </td><td>Oliver                              </td><td>12                                  </td><td>EASTERN                             </td><td>1000 HOFFMAN ST\n",
       "Baltimore, MD\n",
       "    </td></tr>\n",
       "\t<tr><th scope=row>777</th><td>LEMONGRASS BALTIMORE                </td><td>21213                               </td><td>Little Italy                        </td><td> 1                                  </td><td>SOUTHEASTERN                        </td><td>1300 BANK STREET\n",
       "Baltimore, MD\n",
       "   </td></tr>\n",
       "\t<tr><th scope=row>779</th><td>LEN'S SANDWICH SHOP                 </td><td>21213                               </td><td>Broadway East                       </td><td>12                                  </td><td>EASTERN                             </td><td>1500 WASHINGTON ST\n",
       "Baltimore, MD\n",
       " </td></tr>\n",
       "\t<tr><th scope=row>845</th><td>MCDONALD'S                          </td><td>21213                               </td><td>South Clifton Park                  </td><td>12                                  </td><td>EASTERN                             </td><td>2001 BROADWAY\n",
       "Baltimore, MD\n",
       "      </td></tr>\n",
       "\t<tr><th scope=row>852</th><td>MCDONALD'S                          </td><td>21212                               </td><td>Radnor-Winston                      </td><td> 4                                  </td><td>NORTHERN                            </td><td>5100 YORK RD\n",
       "Baltimore, MD\n",
       "       </td></tr>\n",
       "\t<tr><th scope=row>873</th><td>NEW REX LIQUORS,INC.                </td><td>21212                               </td><td>Wilson Park                         </td><td> 4                                  </td><td>NORTHERN                            </td><td>4637 YORK RD\n",
       "Baltimore, MD\n",
       "       </td></tr>\n",
       "\t<tr><th scope=row>895</th><td>OK TAVERN                           </td><td>21213                               </td><td>Biddle Street                       </td><td>13                                  </td><td>EASTERN                             </td><td>2301 BIDDLE ST\n",
       "Baltimore, MD\n",
       "     </td></tr>\n",
       "\t<tr><th scope=row>919</th><td>PANERA BREAD                        </td><td>21212                               </td><td>Lake Walker                         </td><td> 4                                  </td><td>NORTHERN                            </td><td>6307 1 2 YORK RD\n",
       "Baltimore, MD\n",
       "   </td></tr>\n",
       "\t<tr><th scope=row>940</th><td>PEIWEI ASIAN DINER                  </td><td>21212                               </td><td>Cedarcroft                          </td><td> 4                                  </td><td>NORTHERN                            </td><td>6302 YORK RD\n",
       "Baltimore, MD\n",
       "       </td></tr>\n",
       "\t<tr><th scope=row>949</th><td>PERGUSA ENTERPRISES                 </td><td>21212                               </td><td>Rosebank                            </td><td> 4                                  </td><td>NORTHERN                            </td><td>5928 YORK RD\n",
       "Baltimore, MD\n",
       "       </td></tr>\n",
       "\t<tr><th scope=row>957</th><td>PHANTOM'S BAR AND GRILL             </td><td>21213                               </td><td>Belair-Edison                       </td><td> 3                                  </td><td>NORTHEASTERN                        </td><td>3539 BELAIR RD\n",
       "Baltimore, MD\n",
       "     </td></tr>\n",
       "\t<tr><th scope=row>976</th><td>POPEYES FAMOUS FRIED CHICKEN        </td><td>21212                               </td><td>Winston-Govans                      </td><td> 4                                  </td><td>NORTHERN                            </td><td>5002 YORK RD\n",
       "Baltimore, MD\n",
       "       </td></tr>\n",
       "\t<tr><th scope=row>994</th><td>ROBBIE'S NEST                       </td><td>21213                               </td><td>Broadway East                       </td><td>12                                  </td><td>EASTERN                             </td><td>2250 NORTH AVE\n",
       "Baltimore, MD\n",
       "     </td></tr>\n",
       "\t<tr><th scope=row>1017</th><td>RUTLAND BAR                         </td><td>21213                               </td><td>Broadway East                       </td><td>12                                  </td><td>EASTERN                             </td><td>1508 RUTLAND AVE\n",
       "Baltimore, MD\n",
       "   </td></tr>\n",
       "\t<tr><th scope=row>1018</th><td>RYAN'S DAUGHTER                     </td><td>21212                               </td><td>Chinquapin Park-Belvedere           </td><td> 4                                  </td><td>NORTHERN                            </td><td>600 BELVEDERE AVE\n",
       "Baltimore, MD\n",
       "  </td></tr>\n",
       "\t<tr><th scope=row>1022</th><td>saigon remembered restaurant        </td><td>21212                               </td><td>Mid-Govans                          </td><td> 4                                  </td><td>NORTHERN                            </td><td>5857 york rd\n",
       "Baltimore, MD\n",
       "       </td></tr>\n",
       "\t<tr><th scope=row>1053</th><td>SHIRLEY'S  HONEY HOLE               </td><td>21213                               </td><td>Broadway East                       </td><td>13                                  </td><td>EASTERN                             </td><td>2300 OLIVER ST\n",
       "Baltimore, MD\n",
       "     </td></tr>\n",
       "\t<tr><th scope=row>1120</th><td>STEEPLE CHASE II                    </td><td>21213                               </td><td>Biddle Street                       </td><td>13                                  </td><td>EASTERN                             </td><td>2401 CHASE ST\n",
       "Baltimore, MD\n",
       "      </td></tr>\n",
       "\t<tr><th scope=row>1122</th><td>SUBWAY                              </td><td>21213                               </td><td>Oliver                              </td><td>12                                  </td><td>EASTERN                             </td><td>1400 NORTH AVE\n",
       "Baltimore, MD\n",
       "     </td></tr>\n",
       "\t<tr><th scope=row>1153</th><td>TAM-TAM                             </td><td>21212                               </td><td>Mid-Govans                          </td><td> 4                                  </td><td>NORTHERN                            </td><td>5722 YORK RD\n",
       "Baltimore, MD\n",
       "       </td></tr>\n",
       "\t<tr><th scope=row>1155</th><td>TASTE                               </td><td>21212                               </td><td>Mid-Govans                          </td><td> 4                                  </td><td>NORTHERN                            </td><td>510 BELVEDERE AVE\n",
       "Baltimore, MD\n",
       "  </td></tr>\n",
       "\t<tr><th scope=row>1159</th><td>TAYLORS EAST                        </td><td>21213                               </td><td>Berea                               </td><td>13                                  </td><td>EASTERN                             </td><td>1201 POTOMAC ST\n",
       "Baltimore, MD\n",
       "    </td></tr>\n",
       "\t<tr><th scope=row>1186</th><td><span style=white-space:pre-wrap>THE EDGE BAR &amp; LOUNGE               </span></td><td>21213                                                                           </td><td><span style=white-space:pre-wrap>Broadway East              </span>             </td><td>12                                                                              </td><td><span style=white-space:pre-wrap>EASTERN     </span>                            </td><td><span style=white-space:pre-wrap>2015 FEDERAL ST\n",
       "Baltimore, MD\n",
       "    </span>    </td></tr>\n",
       "\t<tr><th scope=row>1187</th><td>THE EDGE BAR &amp; LOUNGE - KITCHEN AREA                                    </td><td>21213                                                                       </td><td><span style=white-space:pre-wrap>Broadway East              </span>         </td><td>12                                                                          </td><td><span style=white-space:pre-wrap>EASTERN     </span>                        </td><td><span style=white-space:pre-wrap>2015 FEDERAL ST\n",
       "Baltimore, MD\n",
       "    </span></td></tr>\n",
       "\t<tr><th scope=row>1198</th><td><span style=white-space:pre-wrap>THE HOLLOW BAR &amp; GRILL              </span></td><td>21212                                                                           </td><td><span style=white-space:pre-wrap>Rosebank                   </span>             </td><td> 4                                                                              </td><td><span style=white-space:pre-wrap>NORTHERN    </span>                            </td><td><span style=white-space:pre-wrap>5921 YORK RD\n",
       "Baltimore, MD\n",
       "       </span>    </td></tr>\n",
       "\t<tr><th scope=row>1209</th><td>THE NEW BUCKETT'S LOUNGE            </td><td>21213                               </td><td>Broadway East                       </td><td>13                                  </td><td>EASTERN                             </td><td>1432 CHESTER ST\n",
       "Baltimore, MD\n",
       "    </td></tr>\n",
       "\t<tr><th scope=row>1232</th><td>THREE  ACE'S                        </td><td>21213                               </td><td>Belair-Edison                       </td><td> 3                                  </td><td>NORTHEASTERN                        </td><td>3534 belair RD\n",
       "Baltimore, MD\n",
       "     </td></tr>\n",
       "\t<tr><th scope=row>1246</th><td>TORAIN'S  HIDE-A-WAY                </td><td>21213                               </td><td>Broadway East                       </td><td>12                                  </td><td>EASTERN                             </td><td>1701 ELLSWORTH ST\n",
       "Baltimore, MD\n",
       "  </td></tr>\n",
       "\t<tr><th scope=row>1259</th><td>TSUNAMI BALTIMORE                   </td><td>21213                               </td><td>Little Italy                        </td><td> 1                                  </td><td>SOUTHEASTERN                        </td><td>1300 BANK ST\n",
       "Baltimore, MD\n",
       "       </td></tr>\n",
       "\t<tr><th scope=row>1287</th><td>VITO'S PIZZA                        </td><td>21212                               </td><td>Cedarcroft                          </td><td> 4                                  </td><td>NORTHERN                            </td><td>6304 YORK RD\n",
       "Baltimore, MD\n",
       "       </td></tr>\n",
       "\t<tr><th scope=row>1298</th><td>WENDY'S OLD FASHIONED HAMBURGERS #96</td><td>21212                               </td><td>Homeland                            </td><td> 4                                  </td><td>NORTHERN                            </td><td>5615 YORK RD\n",
       "Baltimore, MD\n",
       "       </td></tr>\n",
       "\t<tr><th scope=row>1304</th><td>WHITTEN'S  (4502-04)                </td><td>21213                               </td><td>Claremont-Freedom                   </td><td>13                                  </td><td>NORTHEASTERN                        </td><td>4502 ERDMAN AVE\n",
       "Baltimore, MD\n",
       "    </td></tr>\n",
       "\t<tr><th scope=row>1312</th><td>wozi lounge                         </td><td>21212                               </td><td>Guilford                            </td><td> 4                                  </td><td>NORTHERN                            </td><td>4515 YORK RD\n",
       "Baltimore, MD\n",
       "       </td></tr>\n",
       "\t<tr><th scope=row>1319</th><td><span style=white-space:pre-wrap>YETI RESTAURANT &amp; CARRYOUT          </span></td><td>21212                                                                           </td><td><span style=white-space:pre-wrap>Rosebank                   </span>             </td><td> 4                                                                              </td><td><span style=white-space:pre-wrap>NORTHERN    </span>                            </td><td><span style=white-space:pre-wrap>5926 YORK RD\n",
       "Baltimore, MD\n",
       "       </span>    </td></tr>\n",
       "\t<tr><th scope=row>1320</th><td>YORK CLUB TAVERN                    </td><td>21212                               </td><td>Homeland                            </td><td> 4                                  </td><td>NORTHERN                            </td><td>5407 YORK RD\n",
       "Baltimore, MD\n",
       "       </td></tr>\n",
       "\t<tr><th scope=row>1323</th><td>ZEN WEST ROADSIDE CANTINA           </td><td>21212                               </td><td>Rosebank                            </td><td> 4                                  </td><td>NORTHERN                            </td><td>5916 YORK RD\n",
       "Baltimore, MD\n",
       "       </td></tr>\n",
       "\t<tr><th scope=row>1325</th><td>ZINK'S CAFÂ                        </td><td>21213                               </td><td>Belair-Edison                       </td><td>13                                  </td><td>NORTHEASTERN                        </td><td>3300 LAWNVIEW AVE\n",
       "Baltimore, MD\n",
       "  </td></tr>\n",
       "</tbody>\n",
       "</table>\n"
      ],
      "text/latex": [
       "\\begin{tabular}{r|llllll}\n",
       "  & name & zipCode & neighborhood & councilDistrict & policeDistrict & Location.1\\\\\n",
       "\\hline\n",
       "\t29 & BAY ATLANTIC CLUB                    & 21212                                & Downtown                             & 11                                   & CENTRAL                              & 206 REDWOOD ST\n",
       "Baltimore, MD\n",
       "     \\\\\n",
       "\t39 & BERMUDA BAR                          & 21213                                & Broadway East                        & 12                                   & EASTERN                              & 1801 NORTH AVE\n",
       "Baltimore, MD\n",
       "     \\\\\n",
       "\t92 & ATWATER'S                            & 21212                                & Chinquapin Park-Belvedere            &  4                                   & NORTHERN                             & 529 BELVEDERE AVE\n",
       "Baltimore, MD\n",
       "  \\\\\n",
       "\t111 & BALTIMORE ESTONIAN SOCIETY           & 21213                                & South Clifton Park                   & 12                                   & EASTERN                              & 1932 BELAIR RD\n",
       "Baltimore, MD\n",
       "     \\\\\n",
       "\t187 & CAFE ZEN                             & 21212                                & Rosebank                             &  4                                   & NORTHERN                             & 438 BELVEDERE AVE\n",
       "Baltimore, MD\n",
       "  \\\\\n",
       "\t220 & CERIELLO FINE FOODS                  & 21212                                & Chinquapin Park-Belvedere            &  4                                   & NORTHERN                             & 529 BELVEDERE AVE\n",
       "Baltimore, MD\n",
       "  \\\\\n",
       "\t266 & CLIFTON PARK GOLF COURSE SNACK BAR   & 21213                                & Darley Park                          & 14                                   & NORTHEASTERN                         & 2701 ST LO DR\n",
       "Baltimore, MD\n",
       "      \\\\\n",
       "\t276 & CLUB HOUSE BAR \\& GRILL               & 21213                                  & Orangeville Industrial Area            & 13                                     & EASTERN                                & 4217 ERDMAN AVE\n",
       "Baltimore, MD\n",
       "      \\\\\n",
       "\t289 & CLUBHOUSE BAR \\& GRILL                & 21213                                  & Orangeville Industrial Area            & 13                                     & EASTERN                                & 4217 ERDMAN AVE\n",
       "Baltimore, MD\n",
       "      \\\\\n",
       "\t291 & COCKY LOU'S                          & 21213                                & Broadway East                        & 12                                   & EASTERN                              & 2101 NORTH AVE\n",
       "Baltimore, MD\n",
       "     \\\\\n",
       "\t362 & DREAM TAVERN, CARRIBEAN  U.S.A.      & 21213                                & Broadway East                        & 13                                   & EASTERN                              & 2300 LAFAYETTE AVE\n",
       "Baltimore, MD\n",
       " \\\\\n",
       "\t373 & DUNKIN DONUTS                        & 21212                                & Homeland                             &  4                                   & NORTHERN                             & 5422 YORK RD\n",
       "Baltimore, MD\n",
       "       \\\\\n",
       "\t383 & EASTSIDE  SPORTS  SOCIAL  CLUB       & 21213                                & Broadway East                        & 13                                   & EASTERN                              & 1203 COLLINGTON AVE\n",
       "Baltimore, MD\n",
       "\\\\\n",
       "\t417 & FIELDS OLD TRAIL                     & 21212                                & Mid-Govans                           &  4                                   & NORTHERN                             & 5723 YORK RD\n",
       "Baltimore, MD\n",
       "       \\\\\n",
       "\t475 & GRAND CRU                            & 21212                                & Chinquapin Park-Belvedere            &  4                                   & NORTHERN                             & 527 BELVEDERE AVE\n",
       "Baltimore, MD\n",
       "  \\\\\n",
       "\t545 & RANDY'S BAR                          & 21213                                & Broadway East                        & 12                                   & EASTERN                              & 2135 NORTH AVE\n",
       "Baltimore, MD\n",
       "     \\\\\n",
       "\t604 & MURPHY'S NEIGHBORHOOD BAR \\& GRILL    & 21212                                  & Mid-Govans                             &  4                                     & NORTHERN                               & 5847 YORK RD\n",
       "Baltimore, MD\n",
       "         \\\\\n",
       "\t616 & NEOPOL                               & 21212                                & Chinquapin Park-Belvedere            &  4                                   & NORTHERN                             & 529 BELVEDERE AVE\n",
       "Baltimore, MD\n",
       "  \\\\\n",
       "\t620 & NEW CLUB THUNDERBIRD INC.            & 21213                                & Middle East                          & 13                                   & EASTERN                              & 2201 CHASE ST\n",
       "Baltimore, MD\n",
       "      \\\\\n",
       "\t626 & NEW MAYFIELD, INC.                   & 21213                                & Belair-Edison                        & 13                                   & NORTHEASTERN                         & 3349 BELAIR RD\n",
       "Baltimore, MD\n",
       "     \\\\\n",
       "\t678 & IKAN SEAFOOD                         & 21212                                & Chinquapin Park-Belvedere            &  4                                   & NORTHERN                             & 529 BELVEDERE AVE\n",
       "Baltimore, MD\n",
       "  \\\\\n",
       "\t711 & KAY-CEE CLUB                         & 21212                                & Homeland                             &  4                                   & NORTHERN                             & 201 HOMELAND AVE\n",
       "Baltimore, MD\n",
       "   \\\\\n",
       "\t763 & LA'RAE                               & 21213                                & Oliver                               & 12                                   & EASTERN                              & 1000 HOFFMAN ST\n",
       "Baltimore, MD\n",
       "    \\\\\n",
       "\t777 & LEMONGRASS BALTIMORE                 & 21213                                & Little Italy                         &  1                                   & SOUTHEASTERN                         & 1300 BANK STREET\n",
       "Baltimore, MD\n",
       "   \\\\\n",
       "\t779 & LEN'S SANDWICH SHOP                  & 21213                                & Broadway East                        & 12                                   & EASTERN                              & 1500 WASHINGTON ST\n",
       "Baltimore, MD\n",
       " \\\\\n",
       "\t845 & MCDONALD'S                           & 21213                                & South Clifton Park                   & 12                                   & EASTERN                              & 2001 BROADWAY\n",
       "Baltimore, MD\n",
       "      \\\\\n",
       "\t852 & MCDONALD'S                           & 21212                                & Radnor-Winston                       &  4                                   & NORTHERN                             & 5100 YORK RD\n",
       "Baltimore, MD\n",
       "       \\\\\n",
       "\t873 & NEW REX LIQUORS,INC.                 & 21212                                & Wilson Park                          &  4                                   & NORTHERN                             & 4637 YORK RD\n",
       "Baltimore, MD\n",
       "       \\\\\n",
       "\t895 & OK TAVERN                            & 21213                                & Biddle Street                        & 13                                   & EASTERN                              & 2301 BIDDLE ST\n",
       "Baltimore, MD\n",
       "     \\\\\n",
       "\t919 & PANERA BREAD                         & 21212                                & Lake Walker                          &  4                                   & NORTHERN                             & 6307 1 2 YORK RD\n",
       "Baltimore, MD\n",
       "   \\\\\n",
       "\t940 & PEIWEI ASIAN DINER                   & 21212                                & Cedarcroft                           &  4                                   & NORTHERN                             & 6302 YORK RD\n",
       "Baltimore, MD\n",
       "       \\\\\n",
       "\t949 & PERGUSA ENTERPRISES                  & 21212                                & Rosebank                             &  4                                   & NORTHERN                             & 5928 YORK RD\n",
       "Baltimore, MD\n",
       "       \\\\\n",
       "\t957 & PHANTOM'S BAR AND GRILL              & 21213                                & Belair-Edison                        &  3                                   & NORTHEASTERN                         & 3539 BELAIR RD\n",
       "Baltimore, MD\n",
       "     \\\\\n",
       "\t976 & POPEYES FAMOUS FRIED CHICKEN         & 21212                                & Winston-Govans                       &  4                                   & NORTHERN                             & 5002 YORK RD\n",
       "Baltimore, MD\n",
       "       \\\\\n",
       "\t994 & ROBBIE'S NEST                        & 21213                                & Broadway East                        & 12                                   & EASTERN                              & 2250 NORTH AVE\n",
       "Baltimore, MD\n",
       "     \\\\\n",
       "\t1017 & RUTLAND BAR                          & 21213                                & Broadway East                        & 12                                   & EASTERN                              & 1508 RUTLAND AVE\n",
       "Baltimore, MD\n",
       "   \\\\\n",
       "\t1018 & RYAN'S DAUGHTER                      & 21212                                & Chinquapin Park-Belvedere            &  4                                   & NORTHERN                             & 600 BELVEDERE AVE\n",
       "Baltimore, MD\n",
       "  \\\\\n",
       "\t1022 & saigon remembered restaurant         & 21212                                & Mid-Govans                           &  4                                   & NORTHERN                             & 5857 york rd\n",
       "Baltimore, MD\n",
       "       \\\\\n",
       "\t1053 & SHIRLEY'S  HONEY HOLE                & 21213                                & Broadway East                        & 13                                   & EASTERN                              & 2300 OLIVER ST\n",
       "Baltimore, MD\n",
       "     \\\\\n",
       "\t1120 & STEEPLE CHASE II                     & 21213                                & Biddle Street                        & 13                                   & EASTERN                              & 2401 CHASE ST\n",
       "Baltimore, MD\n",
       "      \\\\\n",
       "\t1122 & SUBWAY                               & 21213                                & Oliver                               & 12                                   & EASTERN                              & 1400 NORTH AVE\n",
       "Baltimore, MD\n",
       "     \\\\\n",
       "\t1153 & TAM-TAM                              & 21212                                & Mid-Govans                           &  4                                   & NORTHERN                             & 5722 YORK RD\n",
       "Baltimore, MD\n",
       "       \\\\\n",
       "\t1155 & TASTE                                & 21212                                & Mid-Govans                           &  4                                   & NORTHERN                             & 510 BELVEDERE AVE\n",
       "Baltimore, MD\n",
       "  \\\\\n",
       "\t1159 & TAYLORS EAST                         & 21213                                & Berea                                & 13                                   & EASTERN                              & 1201 POTOMAC ST\n",
       "Baltimore, MD\n",
       "    \\\\\n",
       "\t1186 & THE EDGE BAR \\& LOUNGE                & 21213                                  & Broadway East                          & 12                                     & EASTERN                                & 2015 FEDERAL ST\n",
       "Baltimore, MD\n",
       "      \\\\\n",
       "\t1187 & THE EDGE BAR \\& LOUNGE - KITCHEN AREA & 21213                                  & Broadway East                          & 12                                     & EASTERN                                & 2015 FEDERAL ST\n",
       "Baltimore, MD\n",
       "      \\\\\n",
       "\t1198 & THE HOLLOW BAR \\& GRILL               & 21212                                  & Rosebank                               &  4                                     & NORTHERN                               & 5921 YORK RD\n",
       "Baltimore, MD\n",
       "         \\\\\n",
       "\t1209 & THE NEW BUCKETT'S LOUNGE             & 21213                                & Broadway East                        & 13                                   & EASTERN                              & 1432 CHESTER ST\n",
       "Baltimore, MD\n",
       "    \\\\\n",
       "\t1232 & THREE  ACE'S                         & 21213                                & Belair-Edison                        &  3                                   & NORTHEASTERN                         & 3534 belair RD\n",
       "Baltimore, MD\n",
       "     \\\\\n",
       "\t1246 & TORAIN'S  HIDE-A-WAY                 & 21213                                & Broadway East                        & 12                                   & EASTERN                              & 1701 ELLSWORTH ST\n",
       "Baltimore, MD\n",
       "  \\\\\n",
       "\t1259 & TSUNAMI BALTIMORE                    & 21213                                & Little Italy                         &  1                                   & SOUTHEASTERN                         & 1300 BANK ST\n",
       "Baltimore, MD\n",
       "       \\\\\n",
       "\t1287 & VITO'S PIZZA                         & 21212                                & Cedarcroft                           &  4                                   & NORTHERN                             & 6304 YORK RD\n",
       "Baltimore, MD\n",
       "       \\\\\n",
       "\t1298 & WENDY'S OLD FASHIONED HAMBURGERS \\#96 & 21212                                  & Homeland                               &  4                                     & NORTHERN                               & 5615 YORK RD\n",
       "Baltimore, MD\n",
       "         \\\\\n",
       "\t1304 & WHITTEN'S  (4502-04)                 & 21213                                & Claremont-Freedom                    & 13                                   & NORTHEASTERN                         & 4502 ERDMAN AVE\n",
       "Baltimore, MD\n",
       "    \\\\\n",
       "\t1312 & wozi lounge                          & 21212                                & Guilford                             &  4                                   & NORTHERN                             & 4515 YORK RD\n",
       "Baltimore, MD\n",
       "       \\\\\n",
       "\t1319 & YETI RESTAURANT \\& CARRYOUT           & 21212                                  & Rosebank                               &  4                                     & NORTHERN                               & 5926 YORK RD\n",
       "Baltimore, MD\n",
       "         \\\\\n",
       "\t1320 & YORK CLUB TAVERN                     & 21212                                & Homeland                             &  4                                   & NORTHERN                             & 5407 YORK RD\n",
       "Baltimore, MD\n",
       "       \\\\\n",
       "\t1323 & ZEN WEST ROADSIDE CANTINA            & 21212                                & Rosebank                             &  4                                   & NORTHERN                             & 5916 YORK RD\n",
       "Baltimore, MD\n",
       "       \\\\\n",
       "\t1325 & ZINK'S CAFÂ                         & 21213                                & Belair-Edison                        & 13                                   & NORTHEASTERN                         & 3300 LAWNVIEW AVE\n",
       "Baltimore, MD\n",
       "  \\\\\n",
       "\\end{tabular}\n"
      ],
      "text/markdown": [
       "\n",
       "| <!--/--> | name | zipCode | neighborhood | councilDistrict | policeDistrict | Location.1 | \n",
       "|---|---|---|---|---|---|---|---|---|---|---|---|---|---|---|---|---|---|---|---|---|---|---|---|---|---|---|---|---|---|---|---|---|---|---|---|---|---|---|---|---|---|---|---|---|---|---|---|---|---|---|---|---|---|---|---|---|---|---|\n",
       "| 29 | BAY ATLANTIC CLUB                    | 21212                                | Downtown                             | 11                                   | CENTRAL                              | 206 REDWOOD ST\n",
       "Baltimore, MD\n",
       "      | \n",
       "| 39 | BERMUDA BAR                          | 21213                                | Broadway East                        | 12                                   | EASTERN                              | 1801 NORTH AVE\n",
       "Baltimore, MD\n",
       "      | \n",
       "| 92 | ATWATER'S                            | 21212                                | Chinquapin Park-Belvedere            |  4                                   | NORTHERN                             | 529 BELVEDERE AVE\n",
       "Baltimore, MD\n",
       "   | \n",
       "| 111 | BALTIMORE ESTONIAN SOCIETY           | 21213                                | South Clifton Park                   | 12                                   | EASTERN                              | 1932 BELAIR RD\n",
       "Baltimore, MD\n",
       "      | \n",
       "| 187 | CAFE ZEN                             | 21212                                | Rosebank                             |  4                                   | NORTHERN                             | 438 BELVEDERE AVE\n",
       "Baltimore, MD\n",
       "   | \n",
       "| 220 | CERIELLO FINE FOODS                  | 21212                                | Chinquapin Park-Belvedere            |  4                                   | NORTHERN                             | 529 BELVEDERE AVE\n",
       "Baltimore, MD\n",
       "   | \n",
       "| 266 | CLIFTON PARK GOLF COURSE SNACK BAR   | 21213                                | Darley Park                          | 14                                   | NORTHEASTERN                         | 2701 ST LO DR\n",
       "Baltimore, MD\n",
       "       | \n",
       "| 276 | CLUB HOUSE BAR & GRILL               | 21213                                | Orangeville Industrial Area          | 13                                   | EASTERN                              | 4217 ERDMAN AVE\n",
       "Baltimore, MD\n",
       "     | \n",
       "| 289 | CLUBHOUSE BAR & GRILL                | 21213                                | Orangeville Industrial Area          | 13                                   | EASTERN                              | 4217 ERDMAN AVE\n",
       "Baltimore, MD\n",
       "     | \n",
       "| 291 | COCKY LOU'S                          | 21213                                | Broadway East                        | 12                                   | EASTERN                              | 2101 NORTH AVE\n",
       "Baltimore, MD\n",
       "      | \n",
       "| 362 | DREAM TAVERN, CARRIBEAN  U.S.A.      | 21213                                | Broadway East                        | 13                                   | EASTERN                              | 2300 LAFAYETTE AVE\n",
       "Baltimore, MD\n",
       "  | \n",
       "| 373 | DUNKIN DONUTS                        | 21212                                | Homeland                             |  4                                   | NORTHERN                             | 5422 YORK RD\n",
       "Baltimore, MD\n",
       "        | \n",
       "| 383 | EASTSIDE  SPORTS  SOCIAL  CLUB       | 21213                                | Broadway East                        | 13                                   | EASTERN                              | 1203 COLLINGTON AVE\n",
       "Baltimore, MD\n",
       " | \n",
       "| 417 | FIELDS OLD TRAIL                     | 21212                                | Mid-Govans                           |  4                                   | NORTHERN                             | 5723 YORK RD\n",
       "Baltimore, MD\n",
       "        | \n",
       "| 475 | GRAND CRU                            | 21212                                | Chinquapin Park-Belvedere            |  4                                   | NORTHERN                             | 527 BELVEDERE AVE\n",
       "Baltimore, MD\n",
       "   | \n",
       "| 545 | RANDY'S BAR                          | 21213                                | Broadway East                        | 12                                   | EASTERN                              | 2135 NORTH AVE\n",
       "Baltimore, MD\n",
       "      | \n",
       "| 604 | MURPHY'S NEIGHBORHOOD BAR & GRILL    | 21212                                | Mid-Govans                           |  4                                   | NORTHERN                             | 5847 YORK RD\n",
       "Baltimore, MD\n",
       "        | \n",
       "| 616 | NEOPOL                               | 21212                                | Chinquapin Park-Belvedere            |  4                                   | NORTHERN                             | 529 BELVEDERE AVE\n",
       "Baltimore, MD\n",
       "   | \n",
       "| 620 | NEW CLUB THUNDERBIRD INC.            | 21213                                | Middle East                          | 13                                   | EASTERN                              | 2201 CHASE ST\n",
       "Baltimore, MD\n",
       "       | \n",
       "| 626 | NEW MAYFIELD, INC.                   | 21213                                | Belair-Edison                        | 13                                   | NORTHEASTERN                         | 3349 BELAIR RD\n",
       "Baltimore, MD\n",
       "      | \n",
       "| 678 | IKAN SEAFOOD                         | 21212                                | Chinquapin Park-Belvedere            |  4                                   | NORTHERN                             | 529 BELVEDERE AVE\n",
       "Baltimore, MD\n",
       "   | \n",
       "| 711 | KAY-CEE CLUB                         | 21212                                | Homeland                             |  4                                   | NORTHERN                             | 201 HOMELAND AVE\n",
       "Baltimore, MD\n",
       "    | \n",
       "| 763 | LA'RAE                               | 21213                                | Oliver                               | 12                                   | EASTERN                              | 1000 HOFFMAN ST\n",
       "Baltimore, MD\n",
       "     | \n",
       "| 777 | LEMONGRASS BALTIMORE                 | 21213                                | Little Italy                         |  1                                   | SOUTHEASTERN                         | 1300 BANK STREET\n",
       "Baltimore, MD\n",
       "    | \n",
       "| 779 | LEN'S SANDWICH SHOP                  | 21213                                | Broadway East                        | 12                                   | EASTERN                              | 1500 WASHINGTON ST\n",
       "Baltimore, MD\n",
       "  | \n",
       "| 845 | MCDONALD'S                           | 21213                                | South Clifton Park                   | 12                                   | EASTERN                              | 2001 BROADWAY\n",
       "Baltimore, MD\n",
       "       | \n",
       "| 852 | MCDONALD'S                           | 21212                                | Radnor-Winston                       |  4                                   | NORTHERN                             | 5100 YORK RD\n",
       "Baltimore, MD\n",
       "        | \n",
       "| 873 | NEW REX LIQUORS,INC.                 | 21212                                | Wilson Park                          |  4                                   | NORTHERN                             | 4637 YORK RD\n",
       "Baltimore, MD\n",
       "        | \n",
       "| 895 | OK TAVERN                            | 21213                                | Biddle Street                        | 13                                   | EASTERN                              | 2301 BIDDLE ST\n",
       "Baltimore, MD\n",
       "      | \n",
       "| 919 | PANERA BREAD                         | 21212                                | Lake Walker                          |  4                                   | NORTHERN                             | 6307 1 2 YORK RD\n",
       "Baltimore, MD\n",
       "    | \n",
       "| 940 | PEIWEI ASIAN DINER                   | 21212                                | Cedarcroft                           |  4                                   | NORTHERN                             | 6302 YORK RD\n",
       "Baltimore, MD\n",
       "        | \n",
       "| 949 | PERGUSA ENTERPRISES                  | 21212                                | Rosebank                             |  4                                   | NORTHERN                             | 5928 YORK RD\n",
       "Baltimore, MD\n",
       "        | \n",
       "| 957 | PHANTOM'S BAR AND GRILL              | 21213                                | Belair-Edison                        |  3                                   | NORTHEASTERN                         | 3539 BELAIR RD\n",
       "Baltimore, MD\n",
       "      | \n",
       "| 976 | POPEYES FAMOUS FRIED CHICKEN         | 21212                                | Winston-Govans                       |  4                                   | NORTHERN                             | 5002 YORK RD\n",
       "Baltimore, MD\n",
       "        | \n",
       "| 994 | ROBBIE'S NEST                        | 21213                                | Broadway East                        | 12                                   | EASTERN                              | 2250 NORTH AVE\n",
       "Baltimore, MD\n",
       "      | \n",
       "| 1017 | RUTLAND BAR                          | 21213                                | Broadway East                        | 12                                   | EASTERN                              | 1508 RUTLAND AVE\n",
       "Baltimore, MD\n",
       "    | \n",
       "| 1018 | RYAN'S DAUGHTER                      | 21212                                | Chinquapin Park-Belvedere            |  4                                   | NORTHERN                             | 600 BELVEDERE AVE\n",
       "Baltimore, MD\n",
       "   | \n",
       "| 1022 | saigon remembered restaurant         | 21212                                | Mid-Govans                           |  4                                   | NORTHERN                             | 5857 york rd\n",
       "Baltimore, MD\n",
       "        | \n",
       "| 1053 | SHIRLEY'S  HONEY HOLE                | 21213                                | Broadway East                        | 13                                   | EASTERN                              | 2300 OLIVER ST\n",
       "Baltimore, MD\n",
       "      | \n",
       "| 1120 | STEEPLE CHASE II                     | 21213                                | Biddle Street                        | 13                                   | EASTERN                              | 2401 CHASE ST\n",
       "Baltimore, MD\n",
       "       | \n",
       "| 1122 | SUBWAY                               | 21213                                | Oliver                               | 12                                   | EASTERN                              | 1400 NORTH AVE\n",
       "Baltimore, MD\n",
       "      | \n",
       "| 1153 | TAM-TAM                              | 21212                                | Mid-Govans                           |  4                                   | NORTHERN                             | 5722 YORK RD\n",
       "Baltimore, MD\n",
       "        | \n",
       "| 1155 | TASTE                                | 21212                                | Mid-Govans                           |  4                                   | NORTHERN                             | 510 BELVEDERE AVE\n",
       "Baltimore, MD\n",
       "   | \n",
       "| 1159 | TAYLORS EAST                         | 21213                                | Berea                                | 13                                   | EASTERN                              | 1201 POTOMAC ST\n",
       "Baltimore, MD\n",
       "     | \n",
       "| 1186 | THE EDGE BAR & LOUNGE                | 21213                                | Broadway East                        | 12                                   | EASTERN                              | 2015 FEDERAL ST\n",
       "Baltimore, MD\n",
       "     | \n",
       "| 1187 | THE EDGE BAR & LOUNGE - KITCHEN AREA | 21213                                | Broadway East                        | 12                                   | EASTERN                              | 2015 FEDERAL ST\n",
       "Baltimore, MD\n",
       "     | \n",
       "| 1198 | THE HOLLOW BAR & GRILL               | 21212                                | Rosebank                             |  4                                   | NORTHERN                             | 5921 YORK RD\n",
       "Baltimore, MD\n",
       "        | \n",
       "| 1209 | THE NEW BUCKETT'S LOUNGE             | 21213                                | Broadway East                        | 13                                   | EASTERN                              | 1432 CHESTER ST\n",
       "Baltimore, MD\n",
       "     | \n",
       "| 1232 | THREE  ACE'S                         | 21213                                | Belair-Edison                        |  3                                   | NORTHEASTERN                         | 3534 belair RD\n",
       "Baltimore, MD\n",
       "      | \n",
       "| 1246 | TORAIN'S  HIDE-A-WAY                 | 21213                                | Broadway East                        | 12                                   | EASTERN                              | 1701 ELLSWORTH ST\n",
       "Baltimore, MD\n",
       "   | \n",
       "| 1259 | TSUNAMI BALTIMORE                    | 21213                                | Little Italy                         |  1                                   | SOUTHEASTERN                         | 1300 BANK ST\n",
       "Baltimore, MD\n",
       "        | \n",
       "| 1287 | VITO'S PIZZA                         | 21212                                | Cedarcroft                           |  4                                   | NORTHERN                             | 6304 YORK RD\n",
       "Baltimore, MD\n",
       "        | \n",
       "| 1298 | WENDY'S OLD FASHIONED HAMBURGERS #96 | 21212                                | Homeland                             |  4                                   | NORTHERN                             | 5615 YORK RD\n",
       "Baltimore, MD\n",
       "        | \n",
       "| 1304 | WHITTEN'S  (4502-04)                 | 21213                                | Claremont-Freedom                    | 13                                   | NORTHEASTERN                         | 4502 ERDMAN AVE\n",
       "Baltimore, MD\n",
       "     | \n",
       "| 1312 | wozi lounge                          | 21212                                | Guilford                             |  4                                   | NORTHERN                             | 4515 YORK RD\n",
       "Baltimore, MD\n",
       "        | \n",
       "| 1319 | YETI RESTAURANT & CARRYOUT           | 21212                                | Rosebank                             |  4                                   | NORTHERN                             | 5926 YORK RD\n",
       "Baltimore, MD\n",
       "        | \n",
       "| 1320 | YORK CLUB TAVERN                     | 21212                                | Homeland                             |  4                                   | NORTHERN                             | 5407 YORK RD\n",
       "Baltimore, MD\n",
       "        | \n",
       "| 1323 | ZEN WEST ROADSIDE CANTINA            | 21212                                | Rosebank                             |  4                                   | NORTHERN                             | 5916 YORK RD\n",
       "Baltimore, MD\n",
       "        | \n",
       "| 1325 | ZINK'S CAFÂ                         | 21213                                | Belair-Edison                        | 13                                   | NORTHEASTERN                         | 3300 LAWNVIEW AVE\n",
       "Baltimore, MD\n",
       "   | \n",
       "\n",
       "\n"
      ],
      "text/plain": [
       "     name                                 zipCode neighborhood               \n",
       "29   BAY ATLANTIC CLUB                    21212   Downtown                   \n",
       "39   BERMUDA BAR                          21213   Broadway East              \n",
       "92   ATWATER'S                            21212   Chinquapin Park-Belvedere  \n",
       "111  BALTIMORE ESTONIAN SOCIETY           21213   South Clifton Park         \n",
       "187  CAFE ZEN                             21212   Rosebank                   \n",
       "220  CERIELLO FINE FOODS                  21212   Chinquapin Park-Belvedere  \n",
       "266  CLIFTON PARK GOLF COURSE SNACK BAR   21213   Darley Park                \n",
       "276  CLUB HOUSE BAR & GRILL               21213   Orangeville Industrial Area\n",
       "289  CLUBHOUSE BAR & GRILL                21213   Orangeville Industrial Area\n",
       "291  COCKY LOU'S                          21213   Broadway East              \n",
       "362  DREAM TAVERN, CARRIBEAN  U.S.A.      21213   Broadway East              \n",
       "373  DUNKIN DONUTS                        21212   Homeland                   \n",
       "383  EASTSIDE  SPORTS  SOCIAL  CLUB       21213   Broadway East              \n",
       "417  FIELDS OLD TRAIL                     21212   Mid-Govans                 \n",
       "475  GRAND CRU                            21212   Chinquapin Park-Belvedere  \n",
       "545  RANDY'S BAR                          21213   Broadway East              \n",
       "604  MURPHY'S NEIGHBORHOOD BAR & GRILL    21212   Mid-Govans                 \n",
       "616  NEOPOL                               21212   Chinquapin Park-Belvedere  \n",
       "620  NEW CLUB THUNDERBIRD INC.            21213   Middle East                \n",
       "626  NEW MAYFIELD, INC.                   21213   Belair-Edison              \n",
       "678  IKAN SEAFOOD                         21212   Chinquapin Park-Belvedere  \n",
       "711  KAY-CEE CLUB                         21212   Homeland                   \n",
       "763  LA'RAE                               21213   Oliver                     \n",
       "777  LEMONGRASS BALTIMORE                 21213   Little Italy               \n",
       "779  LEN'S SANDWICH SHOP                  21213   Broadway East              \n",
       "845  MCDONALD'S                           21213   South Clifton Park         \n",
       "852  MCDONALD'S                           21212   Radnor-Winston             \n",
       "873  NEW REX LIQUORS,INC.                 21212   Wilson Park                \n",
       "895  OK TAVERN                            21213   Biddle Street              \n",
       "919  PANERA BREAD                         21212   Lake Walker                \n",
       "940  PEIWEI ASIAN DINER                   21212   Cedarcroft                 \n",
       "949  PERGUSA ENTERPRISES                  21212   Rosebank                   \n",
       "957  PHANTOM'S BAR AND GRILL              21213   Belair-Edison              \n",
       "976  POPEYES FAMOUS FRIED CHICKEN         21212   Winston-Govans             \n",
       "994  ROBBIE'S NEST                        21213   Broadway East              \n",
       "1017 RUTLAND BAR                          21213   Broadway East              \n",
       "1018 RYAN'S DAUGHTER                      21212   Chinquapin Park-Belvedere  \n",
       "1022 saigon remembered restaurant         21212   Mid-Govans                 \n",
       "1053 SHIRLEY'S  HONEY HOLE                21213   Broadway East              \n",
       "1120 STEEPLE CHASE II                     21213   Biddle Street              \n",
       "1122 SUBWAY                               21213   Oliver                     \n",
       "1153 TAM-TAM                              21212   Mid-Govans                 \n",
       "1155 TASTE                                21212   Mid-Govans                 \n",
       "1159 TAYLORS EAST                         21213   Berea                      \n",
       "1186 THE EDGE BAR & LOUNGE                21213   Broadway East              \n",
       "1187 THE EDGE BAR & LOUNGE - KITCHEN AREA 21213   Broadway East              \n",
       "1198 THE HOLLOW BAR & GRILL               21212   Rosebank                   \n",
       "1209 THE NEW BUCKETT'S LOUNGE             21213   Broadway East              \n",
       "1232 THREE  ACE'S                         21213   Belair-Edison              \n",
       "1246 TORAIN'S  HIDE-A-WAY                 21213   Broadway East              \n",
       "1259 TSUNAMI BALTIMORE                    21213   Little Italy               \n",
       "1287 VITO'S PIZZA                         21212   Cedarcroft                 \n",
       "1298 WENDY'S OLD FASHIONED HAMBURGERS #96 21212   Homeland                   \n",
       "1304 WHITTEN'S  (4502-04)                 21213   Claremont-Freedom          \n",
       "1312 wozi lounge                          21212   Guilford                   \n",
       "1319 YETI RESTAURANT & CARRYOUT           21212   Rosebank                   \n",
       "1320 YORK CLUB TAVERN                     21212   Homeland                   \n",
       "1323 ZEN WEST ROADSIDE CANTINA            21212   Rosebank                   \n",
       "1325 ZINK'S CAFÂ                         21213   Belair-Edison              \n",
       "     councilDistrict policeDistrict Location.1                          \n",
       "29   11              CENTRAL        206 REDWOOD ST\\nBaltimore, MD\\n     \n",
       "39   12              EASTERN        1801 NORTH AVE\\nBaltimore, MD\\n     \n",
       "92    4              NORTHERN       529 BELVEDERE AVE\\nBaltimore, MD\\n  \n",
       "111  12              EASTERN        1932 BELAIR RD\\nBaltimore, MD\\n     \n",
       "187   4              NORTHERN       438 BELVEDERE AVE\\nBaltimore, MD\\n  \n",
       "220   4              NORTHERN       529 BELVEDERE AVE\\nBaltimore, MD\\n  \n",
       "266  14              NORTHEASTERN   2701 ST LO DR\\nBaltimore, MD\\n      \n",
       "276  13              EASTERN        4217 ERDMAN AVE\\nBaltimore, MD\\n    \n",
       "289  13              EASTERN        4217 ERDMAN AVE\\nBaltimore, MD\\n    \n",
       "291  12              EASTERN        2101 NORTH AVE\\nBaltimore, MD\\n     \n",
       "362  13              EASTERN        2300 LAFAYETTE AVE\\nBaltimore, MD\\n \n",
       "373   4              NORTHERN       5422 YORK RD\\nBaltimore, MD\\n       \n",
       "383  13              EASTERN        1203 COLLINGTON AVE\\nBaltimore, MD\\n\n",
       "417   4              NORTHERN       5723 YORK RD\\nBaltimore, MD\\n       \n",
       "475   4              NORTHERN       527 BELVEDERE AVE\\nBaltimore, MD\\n  \n",
       "545  12              EASTERN        2135 NORTH AVE\\nBaltimore, MD\\n     \n",
       "604   4              NORTHERN       5847 YORK RD\\nBaltimore, MD\\n       \n",
       "616   4              NORTHERN       529 BELVEDERE AVE\\nBaltimore, MD\\n  \n",
       "620  13              EASTERN        2201 CHASE ST\\nBaltimore, MD\\n      \n",
       "626  13              NORTHEASTERN   3349 BELAIR RD\\nBaltimore, MD\\n     \n",
       "678   4              NORTHERN       529 BELVEDERE AVE\\nBaltimore, MD\\n  \n",
       "711   4              NORTHERN       201 HOMELAND AVE\\nBaltimore, MD\\n   \n",
       "763  12              EASTERN        1000 HOFFMAN ST\\nBaltimore, MD\\n    \n",
       "777   1              SOUTHEASTERN   1300 BANK STREET\\nBaltimore, MD\\n   \n",
       "779  12              EASTERN        1500 WASHINGTON ST\\nBaltimore, MD\\n \n",
       "845  12              EASTERN        2001 BROADWAY\\nBaltimore, MD\\n      \n",
       "852   4              NORTHERN       5100 YORK RD\\nBaltimore, MD\\n       \n",
       "873   4              NORTHERN       4637 YORK RD\\nBaltimore, MD\\n       \n",
       "895  13              EASTERN        2301 BIDDLE ST\\nBaltimore, MD\\n     \n",
       "919   4              NORTHERN       6307 1 2 YORK RD\\nBaltimore, MD\\n   \n",
       "940   4              NORTHERN       6302 YORK RD\\nBaltimore, MD\\n       \n",
       "949   4              NORTHERN       5928 YORK RD\\nBaltimore, MD\\n       \n",
       "957   3              NORTHEASTERN   3539 BELAIR RD\\nBaltimore, MD\\n     \n",
       "976   4              NORTHERN       5002 YORK RD\\nBaltimore, MD\\n       \n",
       "994  12              EASTERN        2250 NORTH AVE\\nBaltimore, MD\\n     \n",
       "1017 12              EASTERN        1508 RUTLAND AVE\\nBaltimore, MD\\n   \n",
       "1018  4              NORTHERN       600 BELVEDERE AVE\\nBaltimore, MD\\n  \n",
       "1022  4              NORTHERN       5857 york rd\\nBaltimore, MD\\n       \n",
       "1053 13              EASTERN        2300 OLIVER ST\\nBaltimore, MD\\n     \n",
       "1120 13              EASTERN        2401 CHASE ST\\nBaltimore, MD\\n      \n",
       "1122 12              EASTERN        1400 NORTH AVE\\nBaltimore, MD\\n     \n",
       "1153  4              NORTHERN       5722 YORK RD\\nBaltimore, MD\\n       \n",
       "1155  4              NORTHERN       510 BELVEDERE AVE\\nBaltimore, MD\\n  \n",
       "1159 13              EASTERN        1201 POTOMAC ST\\nBaltimore, MD\\n    \n",
       "1186 12              EASTERN        2015 FEDERAL ST\\nBaltimore, MD\\n    \n",
       "1187 12              EASTERN        2015 FEDERAL ST\\nBaltimore, MD\\n    \n",
       "1198  4              NORTHERN       5921 YORK RD\\nBaltimore, MD\\n       \n",
       "1209 13              EASTERN        1432 CHESTER ST\\nBaltimore, MD\\n    \n",
       "1232  3              NORTHEASTERN   3534 belair RD\\nBaltimore, MD\\n     \n",
       "1246 12              EASTERN        1701 ELLSWORTH ST\\nBaltimore, MD\\n  \n",
       "1259  1              SOUTHEASTERN   1300 BANK ST\\nBaltimore, MD\\n       \n",
       "1287  4              NORTHERN       6304 YORK RD\\nBaltimore, MD\\n       \n",
       "1298  4              NORTHERN       5615 YORK RD\\nBaltimore, MD\\n       \n",
       "1304 13              NORTHEASTERN   4502 ERDMAN AVE\\nBaltimore, MD\\n    \n",
       "1312  4              NORTHERN       4515 YORK RD\\nBaltimore, MD\\n       \n",
       "1319  4              NORTHERN       5926 YORK RD\\nBaltimore, MD\\n       \n",
       "1320  4              NORTHERN       5407 YORK RD\\nBaltimore, MD\\n       \n",
       "1323  4              NORTHERN       5916 YORK RD\\nBaltimore, MD\\n       \n",
       "1325 13              NORTHEASTERN   3300 LAWNVIEW AVE\\nBaltimore, MD\\n  "
      ]
     },
     "metadata": {},
     "output_type": "display_data"
    }
   ],
   "source": [
    "restData[restData$zipCode %in% c(\"21212\",\"21213\"),]"
   ]
  },
  {
   "cell_type": "markdown",
   "metadata": {},
   "source": [
    "### Cross Tabs"
   ]
  },
  {
   "cell_type": "code",
   "execution_count": 140,
   "metadata": {},
   "outputs": [],
   "source": [
    "data(UCBAdmissions)"
   ]
  },
  {
   "cell_type": "code",
   "execution_count": 141,
   "metadata": {},
   "outputs": [],
   "source": [
    "DF <- as.data.frame(UCBAdmissions)"
   ]
  },
  {
   "cell_type": "code",
   "execution_count": 142,
   "metadata": {},
   "outputs": [
    {
     "data": {
      "text/plain": [
       "      Admit       Gender   Dept       Freq      \n",
       " Admitted:12   Male  :12   A:4   Min.   :  8.0  \n",
       " Rejected:12   Female:12   B:4   1st Qu.: 80.0  \n",
       "                           C:4   Median :170.0  \n",
       "                           D:4   Mean   :188.6  \n",
       "                           E:4   3rd Qu.:302.5  \n",
       "                           F:4   Max.   :512.0  "
      ]
     },
     "metadata": {},
     "output_type": "display_data"
    }
   ],
   "source": [
    "summary(DF)"
   ]
  },
  {
   "cell_type": "code",
   "execution_count": 143,
   "metadata": {},
   "outputs": [
    {
     "name": "stdout",
     "output_type": "stream",
     "text": [
      "'data.frame':\t24 obs. of  4 variables:\n",
      " $ Admit : Factor w/ 2 levels \"Admitted\",\"Rejected\": 1 2 1 2 1 2 1 2 1 2 ...\n",
      " $ Gender: Factor w/ 2 levels \"Male\",\"Female\": 1 1 2 2 1 1 2 2 1 1 ...\n",
      " $ Dept  : Factor w/ 6 levels \"A\",\"B\",\"C\",\"D\",..: 1 1 1 1 2 2 2 2 3 3 ...\n",
      " $ Freq  : num  512 313 89 19 353 207 17 8 120 205 ...\n"
     ]
    }
   ],
   "source": [
    "str(DF)"
   ]
  },
  {
   "cell_type": "code",
   "execution_count": 181,
   "metadata": {},
   "outputs": [
    {
     "data": {
      "text/html": [
       "<table>\n",
       "<thead><tr><th scope=col>Admit</th><th scope=col>Gender</th><th scope=col>Dept</th><th scope=col>Freq</th></tr></thead>\n",
       "<tbody>\n",
       "\t<tr><td>Admitted</td><td>Male    </td><td>A       </td><td>512     </td></tr>\n",
       "\t<tr><td>Rejected</td><td>Male    </td><td>A       </td><td>313     </td></tr>\n",
       "\t<tr><td>Admitted</td><td>Female  </td><td>A       </td><td> 89     </td></tr>\n",
       "\t<tr><td>Rejected</td><td>Female  </td><td>A       </td><td> 19     </td></tr>\n",
       "\t<tr><td>Admitted</td><td>Male    </td><td>B       </td><td>353     </td></tr>\n",
       "\t<tr><td>Rejected</td><td>Male    </td><td>B       </td><td>207     </td></tr>\n",
       "</tbody>\n",
       "</table>\n"
      ],
      "text/latex": [
       "\\begin{tabular}{r|llll}\n",
       " Admit & Gender & Dept & Freq\\\\\n",
       "\\hline\n",
       "\t Admitted & Male     & A        & 512     \\\\\n",
       "\t Rejected & Male     & A        & 313     \\\\\n",
       "\t Admitted & Female   & A        &  89     \\\\\n",
       "\t Rejected & Female   & A        &  19     \\\\\n",
       "\t Admitted & Male     & B        & 353     \\\\\n",
       "\t Rejected & Male     & B        & 207     \\\\\n",
       "\\end{tabular}\n"
      ],
      "text/markdown": [
       "\n",
       "Admit | Gender | Dept | Freq | \n",
       "|---|---|---|---|---|---|\n",
       "| Admitted | Male     | A        | 512      | \n",
       "| Rejected | Male     | A        | 313      | \n",
       "| Admitted | Female   | A        |  89      | \n",
       "| Rejected | Female   | A        |  19      | \n",
       "| Admitted | Male     | B        | 353      | \n",
       "| Rejected | Male     | B        | 207      | \n",
       "\n",
       "\n"
      ],
      "text/plain": [
       "  Admit    Gender Dept Freq\n",
       "1 Admitted Male   A    512 \n",
       "2 Rejected Male   A    313 \n",
       "3 Admitted Female A     89 \n",
       "4 Rejected Female A     19 \n",
       "5 Admitted Male   B    353 \n",
       "6 Rejected Male   B    207 "
      ]
     },
     "metadata": {},
     "output_type": "display_data"
    }
   ],
   "source": [
    "head(DF)"
   ]
  },
  {
   "cell_type": "code",
   "execution_count": 144,
   "metadata": {},
   "outputs": [
    {
     "data": {
      "text/plain": [
       "        Admit\n",
       "Gender   Admitted Rejected\n",
       "  Male       1198     1493\n",
       "  Female      557     1278"
      ]
     },
     "metadata": {},
     "output_type": "display_data"
    }
   ],
   "source": [
    "xt <- xtabs(Freq ~ Gender + Admit , data=DF)\n",
    "xt"
   ]
  },
  {
   "cell_type": "markdown",
   "metadata": {},
   "source": [
    "### Flat Tables"
   ]
  },
  {
   "cell_type": "markdown",
   "metadata": {},
   "source": [
    "zt <- xtabs(Freq ~. ,data=DF)\n",
    "zt"
   ]
  },
  {
   "cell_type": "code",
   "execution_count": 146,
   "metadata": {},
   "outputs": [
    {
     "data": {
      "text/plain": [
       "                Dept   A   B   C   D   E   F\n",
       "Admit    Gender                             \n",
       "Admitted Male        512 353 120 138  53  22\n",
       "         Female       89  17 202 131  94  24\n",
       "Rejected Male        313 207 205 279 138 351\n",
       "         Female       19   8 391 244 299 317"
      ]
     },
     "metadata": {},
     "output_type": "display_data"
    }
   ],
   "source": [
    "ftable(zt)"
   ]
  },
  {
   "cell_type": "markdown",
   "metadata": {},
   "source": [
    "### Size of dataset"
   ]
  },
  {
   "cell_type": "code",
   "execution_count": 147,
   "metadata": {},
   "outputs": [],
   "source": [
    "fakeData = rnorm(1e5)"
   ]
  },
  {
   "cell_type": "code",
   "execution_count": 148,
   "metadata": {},
   "outputs": [
    {
     "data": {
      "text/plain": [
       "800040 bytes"
      ]
     },
     "metadata": {},
     "output_type": "display_data"
    }
   ],
   "source": [
    "object.size(fakeData)"
   ]
  },
  {
   "cell_type": "code",
   "execution_count": 149,
   "metadata": {},
   "outputs": [
    {
     "name": "stdout",
     "output_type": "stream",
     "text": [
      "0.8 Mb\n"
     ]
    }
   ],
   "source": [
    "print(object.size(fakeData),units = \"MB\")"
   ]
  },
  {
   "cell_type": "markdown",
   "metadata": {},
   "source": [
    "## Lecture3: Creating new Variables"
   ]
  },
  {
   "cell_type": "markdown",
   "metadata": {},
   "source": [
    "### Downloading Data"
   ]
  },
  {
   "cell_type": "code",
   "execution_count": 150,
   "metadata": {},
   "outputs": [],
   "source": [
    "if(!file.exists(\"./data\")){\n",
    "    dir.create(\"./data\")\n",
    "}\n",
    "fileUrl <- \"https://data.baltimorecity.gov/api/views/k5ry-ef3g/rows.csv?accessType=DOWNLOAD\"\n",
    "download.file(fileUrl,destfile = \"./data/Restaurants.csv\")\n",
    "restData <- read.csv(\"./data/Restaurants.csv\")"
   ]
  },
  {
   "cell_type": "markdown",
   "metadata": {},
   "source": [
    "### Creating sequence"
   ]
  },
  {
   "cell_type": "code",
   "execution_count": 151,
   "metadata": {},
   "outputs": [
    {
     "data": {
      "text/html": [
       "<ol class=list-inline>\n",
       "\t<li>1</li>\n",
       "\t<li>3</li>\n",
       "\t<li>5</li>\n",
       "\t<li>7</li>\n",
       "\t<li>9</li>\n",
       "</ol>\n"
      ],
      "text/latex": [
       "\\begin{enumerate*}\n",
       "\\item 1\n",
       "\\item 3\n",
       "\\item 5\n",
       "\\item 7\n",
       "\\item 9\n",
       "\\end{enumerate*}\n"
      ],
      "text/markdown": [
       "1. 1\n",
       "2. 3\n",
       "3. 5\n",
       "4. 7\n",
       "5. 9\n",
       "\n",
       "\n"
      ],
      "text/plain": [
       "[1] 1 3 5 7 9"
      ]
     },
     "metadata": {},
     "output_type": "display_data"
    }
   ],
   "source": [
    "s1 <- seq(1,10,by=2);s1"
   ]
  },
  {
   "cell_type": "code",
   "execution_count": 152,
   "metadata": {},
   "outputs": [
    {
     "data": {
      "text/html": [
       "<ol class=list-inline>\n",
       "\t<li>1</li>\n",
       "\t<li>5.5</li>\n",
       "\t<li>10</li>\n",
       "</ol>\n"
      ],
      "text/latex": [
       "\\begin{enumerate*}\n",
       "\\item 1\n",
       "\\item 5.5\n",
       "\\item 10\n",
       "\\end{enumerate*}\n"
      ],
      "text/markdown": [
       "1. 1\n",
       "2. 5.5\n",
       "3. 10\n",
       "\n",
       "\n"
      ],
      "text/plain": [
       "[1]  1.0  5.5 10.0"
      ]
     },
     "metadata": {},
     "output_type": "display_data"
    }
   ],
   "source": [
    "s2 <- seq(1,10,length=3);s2"
   ]
  },
  {
   "cell_type": "code",
   "execution_count": 153,
   "metadata": {},
   "outputs": [
    {
     "data": {
      "text/html": [
       "<ol class=list-inline>\n",
       "\t<li>1</li>\n",
       "\t<li>2</li>\n",
       "\t<li>3</li>\n",
       "\t<li>4</li>\n",
       "\t<li>5</li>\n",
       "</ol>\n"
      ],
      "text/latex": [
       "\\begin{enumerate*}\n",
       "\\item 1\n",
       "\\item 2\n",
       "\\item 3\n",
       "\\item 4\n",
       "\\item 5\n",
       "\\end{enumerate*}\n"
      ],
      "text/markdown": [
       "1. 1\n",
       "2. 2\n",
       "3. 3\n",
       "4. 4\n",
       "5. 5\n",
       "\n",
       "\n"
      ],
      "text/plain": [
       "[1] 1 2 3 4 5"
      ]
     },
     "metadata": {},
     "output_type": "display_data"
    }
   ],
   "source": [
    "x <- c(1,3,8,25,100); seq(along =x)"
   ]
  },
  {
   "cell_type": "markdown",
   "metadata": {},
   "source": [
    "### Subsetting variables"
   ]
  },
  {
   "cell_type": "code",
   "execution_count": 154,
   "metadata": {},
   "outputs": [],
   "source": [
    "restData$nearMe =restData$neighborhood %in% c(\"Roland Park\",\"Homeland\")"
   ]
  },
  {
   "cell_type": "code",
   "execution_count": 155,
   "metadata": {},
   "outputs": [
    {
     "data": {
      "text/plain": [
       "\n",
       "FALSE  TRUE \n",
       " 1314    13 "
      ]
     },
     "metadata": {},
     "output_type": "display_data"
    }
   ],
   "source": [
    "table(restData$nearMe)"
   ]
  },
  {
   "cell_type": "markdown",
   "metadata": {},
   "source": [
    "### Creating binary variables"
   ]
  },
  {
   "cell_type": "code",
   "execution_count": 156,
   "metadata": {},
   "outputs": [
    {
     "data": {
      "text/plain": [
       "       \n",
       "        FALSE TRUE\n",
       "  FALSE  1326    0\n",
       "  TRUE      0    1"
      ]
     },
     "metadata": {},
     "output_type": "display_data"
    }
   ],
   "source": [
    "restData$zipWrong = ifelse(restData$zipCode < 0,TRUE,FALSE)\n",
    "table(restData$zipWrong,restData$zipCode<0)"
   ]
  },
  {
   "cell_type": "markdown",
   "metadata": {},
   "source": [
    "### Creating categorical variables"
   ]
  },
  {
   "cell_type": "code",
   "execution_count": 157,
   "metadata": {},
   "outputs": [
    {
     "data": {
      "text/plain": [
       "\n",
       "(-2.123e+04,2.12e+04]  (2.12e+04,2.122e+04] (2.122e+04,2.123e+04] \n",
       "                  337                   375                   282 \n",
       "(2.123e+04,2.129e+04] \n",
       "                  332 "
      ]
     },
     "metadata": {},
     "output_type": "display_data"
    }
   ],
   "source": [
    "restData$zipGroups = cut(restData$zipCode,breaks = quantile(restData$zipCode))\n",
    "table(restData$zipGroups)"
   ]
  },
  {
   "cell_type": "code",
   "execution_count": 158,
   "metadata": {},
   "outputs": [
    {
     "data": {
      "text/plain": [
       "                       \n",
       "                        -21226 21201 21202 21205 21206 21207 21208 21209 21210\n",
       "  (-2.123e+04,2.12e+04]      0   136   201     0     0     0     0     0     0\n",
       "  (2.12e+04,2.122e+04]       0     0     0    27    30     4     1     8    23\n",
       "  (2.122e+04,2.123e+04]      0     0     0     0     0     0     0     0     0\n",
       "  (2.123e+04,2.129e+04]      0     0     0     0     0     0     0     0     0\n",
       "                       \n",
       "                        21211 21212 21213 21214 21215 21216 21217 21218 21220\n",
       "  (-2.123e+04,2.12e+04]     0     0     0     0     0     0     0     0     0\n",
       "  (2.12e+04,2.122e+04]     41    28    31    17    54    10    32    69     0\n",
       "  (2.122e+04,2.123e+04]     0     0     0     0     0     0     0     0     1\n",
       "  (2.123e+04,2.129e+04]     0     0     0     0     0     0     0     0     0\n",
       "                       \n",
       "                        21222 21223 21224 21225 21226 21227 21229 21230 21231\n",
       "  (-2.123e+04,2.12e+04]     0     0     0     0     0     0     0     0     0\n",
       "  (2.12e+04,2.122e+04]      0     0     0     0     0     0     0     0     0\n",
       "  (2.122e+04,2.123e+04]     7    56   199    19     0     0     0     0     0\n",
       "  (2.123e+04,2.129e+04]     0     0     0     0    18     4    13   156   127\n",
       "                       \n",
       "                        21234 21237 21239 21251 21287\n",
       "  (-2.123e+04,2.12e+04]     0     0     0     0     0\n",
       "  (2.12e+04,2.122e+04]      0     0     0     0     0\n",
       "  (2.122e+04,2.123e+04]     0     0     0     0     0\n",
       "  (2.123e+04,2.129e+04]     7     1     3     2     1"
      ]
     },
     "metadata": {},
     "output_type": "display_data"
    }
   ],
   "source": [
    "table(restData$zipGroups,restData$zipCode)"
   ]
  },
  {
   "cell_type": "markdown",
   "metadata": {},
   "source": [
    "### Easier Cutting"
   ]
  },
  {
   "cell_type": "code",
   "execution_count": 159,
   "metadata": {},
   "outputs": [],
   "source": [
    "#install.packages(\"Hmisc\",repos = \"https://cran.ma.imperial.ac.uk/\")"
   ]
  },
  {
   "cell_type": "code",
   "execution_count": 160,
   "metadata": {},
   "outputs": [
    {
     "data": {
      "text/plain": [
       "\n",
       "[-21226,21205) [ 21205,21213) [ 21213,21220) [ 21220,21225) [ 21225,21227) \n",
       "           338            162            213            263             37 \n",
       "[ 21227,21231) [ 21231,21287] \n",
       "           173            141 "
      ]
     },
     "metadata": {},
     "output_type": "display_data"
    }
   ],
   "source": [
    "library(Hmisc)\n",
    "restData$zipGroups = cut2(restData$zipCode)\n",
    "table(restData$zipGroups)"
   ]
  },
  {
   "cell_type": "markdown",
   "metadata": {},
   "source": [
    "### Creating factor variables"
   ]
  },
  {
   "cell_type": "code",
   "execution_count": 161,
   "metadata": {},
   "outputs": [
    {
     "data": {
      "text/html": [
       "<ol class=list-inline>\n",
       "\t<li>21206</li>\n",
       "\t<li>21231</li>\n",
       "\t<li>21224</li>\n",
       "\t<li>21211</li>\n",
       "\t<li>21223</li>\n",
       "\t<li>21218</li>\n",
       "\t<li>21205</li>\n",
       "\t<li>21211</li>\n",
       "\t<li>21205</li>\n",
       "\t<li>21231</li>\n",
       "</ol>\n"
      ],
      "text/latex": [
       "\\begin{enumerate*}\n",
       "\\item 21206\n",
       "\\item 21231\n",
       "\\item 21224\n",
       "\\item 21211\n",
       "\\item 21223\n",
       "\\item 21218\n",
       "\\item 21205\n",
       "\\item 21211\n",
       "\\item 21205\n",
       "\\item 21231\n",
       "\\end{enumerate*}\n"
      ],
      "text/markdown": [
       "1. 21206\n",
       "2. 21231\n",
       "3. 21224\n",
       "4. 21211\n",
       "5. 21223\n",
       "6. 21218\n",
       "7. 21205\n",
       "8. 21211\n",
       "9. 21205\n",
       "10. 21231\n",
       "\n",
       "\n"
      ],
      "text/plain": [
       " [1] 21206 21231 21224 21211 21223 21218 21205 21211 21205 21231\n",
       "32 Levels: -21226 21201 21202 21205 21206 21207 21208 21209 21210 ... 21287"
      ]
     },
     "metadata": {},
     "output_type": "display_data"
    }
   ],
   "source": [
    "restData$zcf <- factor(restData$zipCode)\n",
    "restData$zcf[1:10]"
   ]
  },
  {
   "cell_type": "markdown",
   "metadata": {},
   "source": [
    "### Level of Factor variable"
   ]
  },
  {
   "cell_type": "code",
   "execution_count": 162,
   "metadata": {},
   "outputs": [
    {
     "data": {
      "text/html": [
       "<ol class=list-inline>\n",
       "\t<li>no</li>\n",
       "\t<li>no</li>\n",
       "\t<li>yes</li>\n",
       "\t<li>yes</li>\n",
       "\t<li>yes</li>\n",
       "\t<li>no</li>\n",
       "\t<li>yes</li>\n",
       "\t<li>no</li>\n",
       "\t<li>yes</li>\n",
       "\t<li>no</li>\n",
       "</ol>\n"
      ],
      "text/latex": [
       "\\begin{enumerate*}\n",
       "\\item no\n",
       "\\item no\n",
       "\\item yes\n",
       "\\item yes\n",
       "\\item yes\n",
       "\\item no\n",
       "\\item yes\n",
       "\\item no\n",
       "\\item yes\n",
       "\\item no\n",
       "\\end{enumerate*}\n"
      ],
      "text/markdown": [
       "1. no\n",
       "2. no\n",
       "3. yes\n",
       "4. yes\n",
       "5. yes\n",
       "6. no\n",
       "7. yes\n",
       "8. no\n",
       "9. yes\n",
       "10. no\n",
       "\n",
       "\n"
      ],
      "text/plain": [
       " [1] no  no  yes yes yes no  yes no  yes no \n",
       "Levels: yes no"
      ]
     },
     "metadata": {},
     "output_type": "display_data"
    }
   ],
   "source": [
    "yesno <- sample(c(\"yes\",\"no\"),size = 10,replace = TRUE)\n",
    "yesnofac = factor(yesno,level=c(\"yes\",\"no\"))\n",
    "relevel(yesnofac,ref=\"yes\")"
   ]
  },
  {
   "cell_type": "code",
   "execution_count": 163,
   "metadata": {},
   "outputs": [
    {
     "data": {
      "text/html": [
       "<ol class=list-inline>\n",
       "\t<li>2</li>\n",
       "\t<li>2</li>\n",
       "\t<li>1</li>\n",
       "\t<li>1</li>\n",
       "\t<li>1</li>\n",
       "\t<li>2</li>\n",
       "\t<li>1</li>\n",
       "\t<li>2</li>\n",
       "\t<li>1</li>\n",
       "\t<li>2</li>\n",
       "</ol>\n"
      ],
      "text/latex": [
       "\\begin{enumerate*}\n",
       "\\item 2\n",
       "\\item 2\n",
       "\\item 1\n",
       "\\item 1\n",
       "\\item 1\n",
       "\\item 2\n",
       "\\item 1\n",
       "\\item 2\n",
       "\\item 1\n",
       "\\item 2\n",
       "\\end{enumerate*}\n"
      ],
      "text/markdown": [
       "1. 2\n",
       "2. 2\n",
       "3. 1\n",
       "4. 1\n",
       "5. 1\n",
       "6. 2\n",
       "7. 1\n",
       "8. 2\n",
       "9. 1\n",
       "10. 2\n",
       "\n",
       "\n"
      ],
      "text/plain": [
       " [1] 2 2 1 1 1 2 1 2 1 2"
      ]
     },
     "metadata": {},
     "output_type": "display_data"
    }
   ],
   "source": [
    "as.numeric(yesnofac)"
   ]
  },
  {
   "cell_type": "markdown",
   "metadata": {},
   "source": [
    "### Using the mutate functions"
   ]
  },
  {
   "cell_type": "code",
   "execution_count": 164,
   "metadata": {},
   "outputs": [
    {
     "data": {
      "text/plain": [
       "\n",
       "[-21226,21205) [ 21205,21213) [ 21213,21220) [ 21220,21225) [ 21225,21227) \n",
       "           338            162            213            263             37 \n",
       "[ 21227,21231) [ 21231,21287] \n",
       "           173            141 "
      ]
     },
     "metadata": {},
     "output_type": "display_data"
    }
   ],
   "source": [
    "library(Hmisc)\n",
    "library(plyr)\n",
    "restData2 = mutate(restData,zipGroups = cut2(restData$zipCode,g = 4))\n",
    "table(restData$zipGroups)"
   ]
  },
  {
   "cell_type": "markdown",
   "metadata": {},
   "source": [
    "---"
   ]
  },
  {
   "cell_type": "markdown",
   "metadata": {},
   "source": [
    "## Lecture 4 Reshaping Data"
   ]
  },
  {
   "cell_type": "markdown",
   "metadata": {},
   "source": [
    "### Tidying the data\n",
    "* Each variable forms a column <br>\n",
    "* Each observation forms a row <br>\n",
    "* Each table/file stores data about one kind of observation(e.g. hospital/person)"
   ]
  },
  {
   "cell_type": "markdown",
   "metadata": {},
   "source": [
    "### Start with reshaping the data"
   ]
  },
  {
   "cell_type": "code",
   "execution_count": 165,
   "metadata": {},
   "outputs": [
    {
     "data": {
      "text/html": [
       "<table>\n",
       "<thead><tr><th></th><th scope=col>mpg</th><th scope=col>cyl</th><th scope=col>disp</th><th scope=col>hp</th><th scope=col>drat</th><th scope=col>wt</th><th scope=col>qsec</th><th scope=col>vs</th><th scope=col>am</th><th scope=col>gear</th><th scope=col>carb</th></tr></thead>\n",
       "<tbody>\n",
       "\t<tr><th scope=row>Mazda RX4</th><td>21.0 </td><td>6    </td><td>160  </td><td>110  </td><td>3.90 </td><td>2.620</td><td>16.46</td><td>0    </td><td>1    </td><td>4    </td><td>4    </td></tr>\n",
       "\t<tr><th scope=row>Mazda RX4 Wag</th><td>21.0 </td><td>6    </td><td>160  </td><td>110  </td><td>3.90 </td><td>2.875</td><td>17.02</td><td>0    </td><td>1    </td><td>4    </td><td>4    </td></tr>\n",
       "\t<tr><th scope=row>Datsun 710</th><td>22.8 </td><td>4    </td><td>108  </td><td> 93  </td><td>3.85 </td><td>2.320</td><td>18.61</td><td>1    </td><td>1    </td><td>4    </td><td>1    </td></tr>\n",
       "\t<tr><th scope=row>Hornet 4 Drive</th><td>21.4 </td><td>6    </td><td>258  </td><td>110  </td><td>3.08 </td><td>3.215</td><td>19.44</td><td>1    </td><td>0    </td><td>3    </td><td>1    </td></tr>\n",
       "\t<tr><th scope=row>Hornet Sportabout</th><td>18.7 </td><td>8    </td><td>360  </td><td>175  </td><td>3.15 </td><td>3.440</td><td>17.02</td><td>0    </td><td>0    </td><td>3    </td><td>2    </td></tr>\n",
       "\t<tr><th scope=row>Valiant</th><td>18.1 </td><td>6    </td><td>225  </td><td>105  </td><td>2.76 </td><td>3.460</td><td>20.22</td><td>1    </td><td>0    </td><td>3    </td><td>1    </td></tr>\n",
       "</tbody>\n",
       "</table>\n"
      ],
      "text/latex": [
       "\\begin{tabular}{r|lllllllllll}\n",
       "  & mpg & cyl & disp & hp & drat & wt & qsec & vs & am & gear & carb\\\\\n",
       "\\hline\n",
       "\tMazda RX4 & 21.0  & 6     & 160   & 110   & 3.90  & 2.620 & 16.46 & 0     & 1     & 4     & 4    \\\\\n",
       "\tMazda RX4 Wag & 21.0  & 6     & 160   & 110   & 3.90  & 2.875 & 17.02 & 0     & 1     & 4     & 4    \\\\\n",
       "\tDatsun 710 & 22.8  & 4     & 108   &  93   & 3.85  & 2.320 & 18.61 & 1     & 1     & 4     & 1    \\\\\n",
       "\tHornet 4 Drive & 21.4  & 6     & 258   & 110   & 3.08  & 3.215 & 19.44 & 1     & 0     & 3     & 1    \\\\\n",
       "\tHornet Sportabout & 18.7  & 8     & 360   & 175   & 3.15  & 3.440 & 17.02 & 0     & 0     & 3     & 2    \\\\\n",
       "\tValiant & 18.1  & 6     & 225   & 105   & 2.76  & 3.460 & 20.22 & 1     & 0     & 3     & 1    \\\\\n",
       "\\end{tabular}\n"
      ],
      "text/markdown": [
       "\n",
       "| <!--/--> | mpg | cyl | disp | hp | drat | wt | qsec | vs | am | gear | carb | \n",
       "|---|---|---|---|---|---|\n",
       "| Mazda RX4 | 21.0  | 6     | 160   | 110   | 3.90  | 2.620 | 16.46 | 0     | 1     | 4     | 4     | \n",
       "| Mazda RX4 Wag | 21.0  | 6     | 160   | 110   | 3.90  | 2.875 | 17.02 | 0     | 1     | 4     | 4     | \n",
       "| Datsun 710 | 22.8  | 4     | 108   |  93   | 3.85  | 2.320 | 18.61 | 1     | 1     | 4     | 1     | \n",
       "| Hornet 4 Drive | 21.4  | 6     | 258   | 110   | 3.08  | 3.215 | 19.44 | 1     | 0     | 3     | 1     | \n",
       "| Hornet Sportabout | 18.7  | 8     | 360   | 175   | 3.15  | 3.440 | 17.02 | 0     | 0     | 3     | 2     | \n",
       "| Valiant | 18.1  | 6     | 225   | 105   | 2.76  | 3.460 | 20.22 | 1     | 0     | 3     | 1     | \n",
       "\n",
       "\n"
      ],
      "text/plain": [
       "                  mpg  cyl disp hp  drat wt    qsec  vs am gear carb\n",
       "Mazda RX4         21.0 6   160  110 3.90 2.620 16.46 0  1  4    4   \n",
       "Mazda RX4 Wag     21.0 6   160  110 3.90 2.875 17.02 0  1  4    4   \n",
       "Datsun 710        22.8 4   108   93 3.85 2.320 18.61 1  1  4    1   \n",
       "Hornet 4 Drive    21.4 6   258  110 3.08 3.215 19.44 1  0  3    1   \n",
       "Hornet Sportabout 18.7 8   360  175 3.15 3.440 17.02 0  0  3    2   \n",
       "Valiant           18.1 6   225  105 2.76 3.460 20.22 1  0  3    1   "
      ]
     },
     "metadata": {},
     "output_type": "display_data"
    }
   ],
   "source": [
    "library(reshape2)\n",
    "data(mtcars)\n",
    "head(mtcars)"
   ]
  },
  {
   "cell_type": "markdown",
   "metadata": {},
   "source": [
    "### Melting the dataframes"
   ]
  },
  {
   "cell_type": "code",
   "execution_count": 166,
   "metadata": {},
   "outputs": [
    {
     "data": {
      "text/html": [
       "<table>\n",
       "<thead><tr><th scope=col>carname</th><th scope=col>gear</th><th scope=col>cyl</th><th scope=col>variable</th><th scope=col>value</th></tr></thead>\n",
       "<tbody>\n",
       "\t<tr><td>Mazda RX4        </td><td>4                </td><td>6                </td><td>mpg              </td><td>21.0             </td></tr>\n",
       "\t<tr><td>Mazda RX4 Wag    </td><td>4                </td><td>6                </td><td>mpg              </td><td>21.0             </td></tr>\n",
       "\t<tr><td>Datsun 710       </td><td>4                </td><td>4                </td><td>mpg              </td><td>22.8             </td></tr>\n",
       "\t<tr><td>Hornet 4 Drive   </td><td>3                </td><td>6                </td><td>mpg              </td><td>21.4             </td></tr>\n",
       "\t<tr><td>Hornet Sportabout</td><td>3                </td><td>8                </td><td>mpg              </td><td>18.7             </td></tr>\n",
       "\t<tr><td>Valiant          </td><td>3                </td><td>6                </td><td>mpg              </td><td>18.1             </td></tr>\n",
       "</tbody>\n",
       "</table>\n"
      ],
      "text/latex": [
       "\\begin{tabular}{r|lllll}\n",
       " carname & gear & cyl & variable & value\\\\\n",
       "\\hline\n",
       "\t Mazda RX4         & 4                 & 6                 & mpg               & 21.0             \\\\\n",
       "\t Mazda RX4 Wag     & 4                 & 6                 & mpg               & 21.0             \\\\\n",
       "\t Datsun 710        & 4                 & 4                 & mpg               & 22.8             \\\\\n",
       "\t Hornet 4 Drive    & 3                 & 6                 & mpg               & 21.4             \\\\\n",
       "\t Hornet Sportabout & 3                 & 8                 & mpg               & 18.7             \\\\\n",
       "\t Valiant           & 3                 & 6                 & mpg               & 18.1             \\\\\n",
       "\\end{tabular}\n"
      ],
      "text/markdown": [
       "\n",
       "carname | gear | cyl | variable | value | \n",
       "|---|---|---|---|---|---|\n",
       "| Mazda RX4         | 4                 | 6                 | mpg               | 21.0              | \n",
       "| Mazda RX4 Wag     | 4                 | 6                 | mpg               | 21.0              | \n",
       "| Datsun 710        | 4                 | 4                 | mpg               | 22.8              | \n",
       "| Hornet 4 Drive    | 3                 | 6                 | mpg               | 21.4              | \n",
       "| Hornet Sportabout | 3                 | 8                 | mpg               | 18.7              | \n",
       "| Valiant           | 3                 | 6                 | mpg               | 18.1              | \n",
       "\n",
       "\n"
      ],
      "text/plain": [
       "  carname           gear cyl variable value\n",
       "1 Mazda RX4         4    6   mpg      21.0 \n",
       "2 Mazda RX4 Wag     4    6   mpg      21.0 \n",
       "3 Datsun 710        4    4   mpg      22.8 \n",
       "4 Hornet 4 Drive    3    6   mpg      21.4 \n",
       "5 Hornet Sportabout 3    8   mpg      18.7 \n",
       "6 Valiant           3    6   mpg      18.1 "
      ]
     },
     "metadata": {},
     "output_type": "display_data"
    }
   ],
   "source": [
    "mtcars$carname <- rownames(mtcars)\n",
    "carMelt <- melt(mtcars,id=c(\"carname\",\"gear\",\"cyl\"),measure.vars = c(\"mpg\",\"hp\"))\n",
    "head(carMelt)"
   ]
  },
  {
   "cell_type": "code",
   "execution_count": 167,
   "metadata": {},
   "outputs": [
    {
     "data": {
      "text/html": [
       "<table>\n",
       "<thead><tr><th></th><th scope=col>carname</th><th scope=col>gear</th><th scope=col>cyl</th><th scope=col>variable</th><th scope=col>value</th></tr></thead>\n",
       "<tbody>\n",
       "\t<tr><th scope=row>59</th><td>Porsche 914-2 </td><td>5             </td><td>4             </td><td>hp            </td><td> 91           </td></tr>\n",
       "\t<tr><th scope=row>60</th><td>Lotus Europa  </td><td>5             </td><td>4             </td><td>hp            </td><td>113           </td></tr>\n",
       "\t<tr><th scope=row>61</th><td>Ford Pantera L</td><td>5             </td><td>8             </td><td>hp            </td><td>264           </td></tr>\n",
       "\t<tr><th scope=row>62</th><td>Ferrari Dino  </td><td>5             </td><td>6             </td><td>hp            </td><td>175           </td></tr>\n",
       "\t<tr><th scope=row>63</th><td>Maserati Bora </td><td>5             </td><td>8             </td><td>hp            </td><td>335           </td></tr>\n",
       "\t<tr><th scope=row>64</th><td>Volvo 142E    </td><td>4             </td><td>4             </td><td>hp            </td><td>109           </td></tr>\n",
       "</tbody>\n",
       "</table>\n"
      ],
      "text/latex": [
       "\\begin{tabular}{r|lllll}\n",
       "  & carname & gear & cyl & variable & value\\\\\n",
       "\\hline\n",
       "\t59 & Porsche 914-2  & 5              & 4              & hp             &  91           \\\\\n",
       "\t60 & Lotus Europa   & 5              & 4              & hp             & 113           \\\\\n",
       "\t61 & Ford Pantera L & 5              & 8              & hp             & 264           \\\\\n",
       "\t62 & Ferrari Dino   & 5              & 6              & hp             & 175           \\\\\n",
       "\t63 & Maserati Bora  & 5              & 8              & hp             & 335           \\\\\n",
       "\t64 & Volvo 142E     & 4              & 4              & hp             & 109           \\\\\n",
       "\\end{tabular}\n"
      ],
      "text/markdown": [
       "\n",
       "| <!--/--> | carname | gear | cyl | variable | value | \n",
       "|---|---|---|---|---|---|\n",
       "| 59 | Porsche 914-2  | 5              | 4              | hp             |  91            | \n",
       "| 60 | Lotus Europa   | 5              | 4              | hp             | 113            | \n",
       "| 61 | Ford Pantera L | 5              | 8              | hp             | 264            | \n",
       "| 62 | Ferrari Dino   | 5              | 6              | hp             | 175            | \n",
       "| 63 | Maserati Bora  | 5              | 8              | hp             | 335            | \n",
       "| 64 | Volvo 142E     | 4              | 4              | hp             | 109            | \n",
       "\n",
       "\n"
      ],
      "text/plain": [
       "   carname        gear cyl variable value\n",
       "59 Porsche 914-2  5    4   hp        91  \n",
       "60 Lotus Europa   5    4   hp       113  \n",
       "61 Ford Pantera L 5    8   hp       264  \n",
       "62 Ferrari Dino   5    6   hp       175  \n",
       "63 Maserati Bora  5    8   hp       335  \n",
       "64 Volvo 142E     4    4   hp       109  "
      ]
     },
     "metadata": {},
     "output_type": "display_data"
    }
   ],
   "source": [
    "tail(carMelt)"
   ]
  },
  {
   "cell_type": "markdown",
   "metadata": {},
   "source": [
    "## Casting the dataframes"
   ]
  },
  {
   "cell_type": "code",
   "execution_count": 168,
   "metadata": {},
   "outputs": [
    {
     "name": "stderr",
     "output_type": "stream",
     "text": [
      "Aggregation function missing: defaulting to length\n"
     ]
    },
    {
     "data": {
      "text/html": [
       "<table>\n",
       "<thead><tr><th scope=col>cyl</th><th scope=col>mpg</th><th scope=col>hp</th></tr></thead>\n",
       "<tbody>\n",
       "\t<tr><td>4 </td><td>11</td><td>11</td></tr>\n",
       "\t<tr><td>6 </td><td> 7</td><td> 7</td></tr>\n",
       "\t<tr><td>8 </td><td>14</td><td>14</td></tr>\n",
       "</tbody>\n",
       "</table>\n"
      ],
      "text/latex": [
       "\\begin{tabular}{r|lll}\n",
       " cyl & mpg & hp\\\\\n",
       "\\hline\n",
       "\t 4  & 11 & 11\\\\\n",
       "\t 6  &  7 &  7\\\\\n",
       "\t 8  & 14 & 14\\\\\n",
       "\\end{tabular}\n"
      ],
      "text/markdown": [
       "\n",
       "cyl | mpg | hp | \n",
       "|---|---|---|\n",
       "| 4  | 11 | 11 | \n",
       "| 6  |  7 |  7 | \n",
       "| 8  | 14 | 14 | \n",
       "\n",
       "\n"
      ],
      "text/plain": [
       "  cyl mpg hp\n",
       "1 4   11  11\n",
       "2 6    7   7\n",
       "3 8   14  14"
      ]
     },
     "metadata": {},
     "output_type": "display_data"
    }
   ],
   "source": [
    "cylData <- dcast(carMelt,cyl~variable)\n",
    "cylData"
   ]
  },
  {
   "cell_type": "code",
   "execution_count": 169,
   "metadata": {},
   "outputs": [
    {
     "data": {
      "text/html": [
       "<table>\n",
       "<thead><tr><th scope=col>cyl</th><th scope=col>mpg</th><th scope=col>hp</th></tr></thead>\n",
       "<tbody>\n",
       "\t<tr><td>4        </td><td>26.66364 </td><td> 82.63636</td></tr>\n",
       "\t<tr><td>6        </td><td>19.74286 </td><td>122.28571</td></tr>\n",
       "\t<tr><td>8        </td><td>15.10000 </td><td>209.21429</td></tr>\n",
       "</tbody>\n",
       "</table>\n"
      ],
      "text/latex": [
       "\\begin{tabular}{r|lll}\n",
       " cyl & mpg & hp\\\\\n",
       "\\hline\n",
       "\t 4         & 26.66364  &  82.63636\\\\\n",
       "\t 6         & 19.74286  & 122.28571\\\\\n",
       "\t 8         & 15.10000  & 209.21429\\\\\n",
       "\\end{tabular}\n"
      ],
      "text/markdown": [
       "\n",
       "cyl | mpg | hp | \n",
       "|---|---|---|\n",
       "| 4         | 26.66364  |  82.63636 | \n",
       "| 6         | 19.74286  | 122.28571 | \n",
       "| 8         | 15.10000  | 209.21429 | \n",
       "\n",
       "\n"
      ],
      "text/plain": [
       "  cyl mpg      hp       \n",
       "1 4   26.66364  82.63636\n",
       "2 6   19.74286 122.28571\n",
       "3 8   15.10000 209.21429"
      ]
     },
     "metadata": {},
     "output_type": "display_data"
    }
   ],
   "source": [
    "cylData <- dcast(carMelt,cyl~variable,mean)\n",
    "cylData"
   ]
  },
  {
   "cell_type": "markdown",
   "metadata": {},
   "source": [
    "### Averaging the values"
   ]
  },
  {
   "cell_type": "code",
   "execution_count": 170,
   "metadata": {},
   "outputs": [
    {
     "data": {
      "text/html": [
       "<table>\n",
       "<thead><tr><th scope=col>count</th><th scope=col>spray</th></tr></thead>\n",
       "<tbody>\n",
       "\t<tr><td>10</td><td>A </td></tr>\n",
       "\t<tr><td> 7</td><td>A </td></tr>\n",
       "\t<tr><td>20</td><td>A </td></tr>\n",
       "\t<tr><td>14</td><td>A </td></tr>\n",
       "\t<tr><td>14</td><td>A </td></tr>\n",
       "\t<tr><td>12</td><td>A </td></tr>\n",
       "</tbody>\n",
       "</table>\n"
      ],
      "text/latex": [
       "\\begin{tabular}{r|ll}\n",
       " count & spray\\\\\n",
       "\\hline\n",
       "\t 10 & A \\\\\n",
       "\t  7 & A \\\\\n",
       "\t 20 & A \\\\\n",
       "\t 14 & A \\\\\n",
       "\t 14 & A \\\\\n",
       "\t 12 & A \\\\\n",
       "\\end{tabular}\n"
      ],
      "text/markdown": [
       "\n",
       "count | spray | \n",
       "|---|---|---|---|---|---|\n",
       "| 10 | A  | \n",
       "|  7 | A  | \n",
       "| 20 | A  | \n",
       "| 14 | A  | \n",
       "| 14 | A  | \n",
       "| 12 | A  | \n",
       "\n",
       "\n"
      ],
      "text/plain": [
       "  count spray\n",
       "1 10    A    \n",
       "2  7    A    \n",
       "3 20    A    \n",
       "4 14    A    \n",
       "5 14    A    \n",
       "6 12    A    "
      ]
     },
     "metadata": {},
     "output_type": "display_data"
    }
   ],
   "source": [
    "data(InsectSprays)\n",
    "head(InsectSprays)"
   ]
  },
  {
   "cell_type": "code",
   "execution_count": 171,
   "metadata": {},
   "outputs": [
    {
     "data": {
      "text/html": [
       "<dl class=dl-horizontal>\n",
       "\t<dt>A</dt>\n",
       "\t\t<dd>174</dd>\n",
       "\t<dt>B</dt>\n",
       "\t\t<dd>184</dd>\n",
       "\t<dt>C</dt>\n",
       "\t\t<dd>25</dd>\n",
       "\t<dt>D</dt>\n",
       "\t\t<dd>59</dd>\n",
       "\t<dt>E</dt>\n",
       "\t\t<dd>42</dd>\n",
       "\t<dt>F</dt>\n",
       "\t\t<dd>200</dd>\n",
       "</dl>\n"
      ],
      "text/plain": [
       "  A   B   C   D   E   F \n",
       "174 184  25  59  42 200 "
      ]
     },
     "metadata": {},
     "output_type": "display_data"
    }
   ],
   "source": [
    "tapply(InsectSprays$count,InsectSprays$spray,sum)"
   ]
  },
  {
   "cell_type": "markdown",
   "metadata": {},
   "source": [
    "### Another way-split/apply"
   ]
  },
  {
   "cell_type": "code",
   "execution_count": 172,
   "metadata": {},
   "outputs": [
    {
     "data": {
      "text/html": [
       "<dl>\n",
       "\t<dt>$A</dt>\n",
       "\t\t<dd><ol class=list-inline>\n",
       "\t<li>10</li>\n",
       "\t<li>7</li>\n",
       "\t<li>20</li>\n",
       "\t<li>14</li>\n",
       "\t<li>14</li>\n",
       "\t<li>12</li>\n",
       "\t<li>10</li>\n",
       "\t<li>23</li>\n",
       "\t<li>17</li>\n",
       "\t<li>20</li>\n",
       "\t<li>14</li>\n",
       "\t<li>13</li>\n",
       "</ol>\n",
       "</dd>\n",
       "\t<dt>$B</dt>\n",
       "\t\t<dd><ol class=list-inline>\n",
       "\t<li>11</li>\n",
       "\t<li>17</li>\n",
       "\t<li>21</li>\n",
       "\t<li>11</li>\n",
       "\t<li>16</li>\n",
       "\t<li>14</li>\n",
       "\t<li>17</li>\n",
       "\t<li>17</li>\n",
       "\t<li>19</li>\n",
       "\t<li>21</li>\n",
       "\t<li>7</li>\n",
       "\t<li>13</li>\n",
       "</ol>\n",
       "</dd>\n",
       "\t<dt>$C</dt>\n",
       "\t\t<dd><ol class=list-inline>\n",
       "\t<li>0</li>\n",
       "\t<li>1</li>\n",
       "\t<li>7</li>\n",
       "\t<li>2</li>\n",
       "\t<li>3</li>\n",
       "\t<li>1</li>\n",
       "\t<li>2</li>\n",
       "\t<li>1</li>\n",
       "\t<li>3</li>\n",
       "\t<li>0</li>\n",
       "\t<li>1</li>\n",
       "\t<li>4</li>\n",
       "</ol>\n",
       "</dd>\n",
       "\t<dt>$D</dt>\n",
       "\t\t<dd><ol class=list-inline>\n",
       "\t<li>3</li>\n",
       "\t<li>5</li>\n",
       "\t<li>12</li>\n",
       "\t<li>6</li>\n",
       "\t<li>4</li>\n",
       "\t<li>3</li>\n",
       "\t<li>5</li>\n",
       "\t<li>5</li>\n",
       "\t<li>5</li>\n",
       "\t<li>5</li>\n",
       "\t<li>2</li>\n",
       "\t<li>4</li>\n",
       "</ol>\n",
       "</dd>\n",
       "\t<dt>$E</dt>\n",
       "\t\t<dd><ol class=list-inline>\n",
       "\t<li>3</li>\n",
       "\t<li>5</li>\n",
       "\t<li>3</li>\n",
       "\t<li>5</li>\n",
       "\t<li>3</li>\n",
       "\t<li>6</li>\n",
       "\t<li>1</li>\n",
       "\t<li>1</li>\n",
       "\t<li>3</li>\n",
       "\t<li>2</li>\n",
       "\t<li>6</li>\n",
       "\t<li>4</li>\n",
       "</ol>\n",
       "</dd>\n",
       "\t<dt>$F</dt>\n",
       "\t\t<dd><ol class=list-inline>\n",
       "\t<li>11</li>\n",
       "\t<li>9</li>\n",
       "\t<li>15</li>\n",
       "\t<li>22</li>\n",
       "\t<li>15</li>\n",
       "\t<li>16</li>\n",
       "\t<li>13</li>\n",
       "\t<li>10</li>\n",
       "\t<li>26</li>\n",
       "\t<li>26</li>\n",
       "\t<li>24</li>\n",
       "\t<li>13</li>\n",
       "</ol>\n",
       "</dd>\n",
       "</dl>\n"
      ],
      "text/latex": [
       "\\begin{description}\n",
       "\\item[\\$A] \\begin{enumerate*}\n",
       "\\item 10\n",
       "\\item 7\n",
       "\\item 20\n",
       "\\item 14\n",
       "\\item 14\n",
       "\\item 12\n",
       "\\item 10\n",
       "\\item 23\n",
       "\\item 17\n",
       "\\item 20\n",
       "\\item 14\n",
       "\\item 13\n",
       "\\end{enumerate*}\n",
       "\n",
       "\\item[\\$B] \\begin{enumerate*}\n",
       "\\item 11\n",
       "\\item 17\n",
       "\\item 21\n",
       "\\item 11\n",
       "\\item 16\n",
       "\\item 14\n",
       "\\item 17\n",
       "\\item 17\n",
       "\\item 19\n",
       "\\item 21\n",
       "\\item 7\n",
       "\\item 13\n",
       "\\end{enumerate*}\n",
       "\n",
       "\\item[\\$C] \\begin{enumerate*}\n",
       "\\item 0\n",
       "\\item 1\n",
       "\\item 7\n",
       "\\item 2\n",
       "\\item 3\n",
       "\\item 1\n",
       "\\item 2\n",
       "\\item 1\n",
       "\\item 3\n",
       "\\item 0\n",
       "\\item 1\n",
       "\\item 4\n",
       "\\end{enumerate*}\n",
       "\n",
       "\\item[\\$D] \\begin{enumerate*}\n",
       "\\item 3\n",
       "\\item 5\n",
       "\\item 12\n",
       "\\item 6\n",
       "\\item 4\n",
       "\\item 3\n",
       "\\item 5\n",
       "\\item 5\n",
       "\\item 5\n",
       "\\item 5\n",
       "\\item 2\n",
       "\\item 4\n",
       "\\end{enumerate*}\n",
       "\n",
       "\\item[\\$E] \\begin{enumerate*}\n",
       "\\item 3\n",
       "\\item 5\n",
       "\\item 3\n",
       "\\item 5\n",
       "\\item 3\n",
       "\\item 6\n",
       "\\item 1\n",
       "\\item 1\n",
       "\\item 3\n",
       "\\item 2\n",
       "\\item 6\n",
       "\\item 4\n",
       "\\end{enumerate*}\n",
       "\n",
       "\\item[\\$F] \\begin{enumerate*}\n",
       "\\item 11\n",
       "\\item 9\n",
       "\\item 15\n",
       "\\item 22\n",
       "\\item 15\n",
       "\\item 16\n",
       "\\item 13\n",
       "\\item 10\n",
       "\\item 26\n",
       "\\item 26\n",
       "\\item 24\n",
       "\\item 13\n",
       "\\end{enumerate*}\n",
       "\n",
       "\\end{description}\n"
      ],
      "text/markdown": [
       "$A\n",
       ":   1. 10\n",
       "2. 7\n",
       "3. 20\n",
       "4. 14\n",
       "5. 14\n",
       "6. 12\n",
       "7. 10\n",
       "8. 23\n",
       "9. 17\n",
       "10. 20\n",
       "11. 14\n",
       "12. 13\n",
       "\n",
       "\n",
       "\n",
       "$B\n",
       ":   1. 11\n",
       "2. 17\n",
       "3. 21\n",
       "4. 11\n",
       "5. 16\n",
       "6. 14\n",
       "7. 17\n",
       "8. 17\n",
       "9. 19\n",
       "10. 21\n",
       "11. 7\n",
       "12. 13\n",
       "\n",
       "\n",
       "\n",
       "$C\n",
       ":   1. 0\n",
       "2. 1\n",
       "3. 7\n",
       "4. 2\n",
       "5. 3\n",
       "6. 1\n",
       "7. 2\n",
       "8. 1\n",
       "9. 3\n",
       "10. 0\n",
       "11. 1\n",
       "12. 4\n",
       "\n",
       "\n",
       "\n",
       "$D\n",
       ":   1. 3\n",
       "2. 5\n",
       "3. 12\n",
       "4. 6\n",
       "5. 4\n",
       "6. 3\n",
       "7. 5\n",
       "8. 5\n",
       "9. 5\n",
       "10. 5\n",
       "11. 2\n",
       "12. 4\n",
       "\n",
       "\n",
       "\n",
       "$E\n",
       ":   1. 3\n",
       "2. 5\n",
       "3. 3\n",
       "4. 5\n",
       "5. 3\n",
       "6. 6\n",
       "7. 1\n",
       "8. 1\n",
       "9. 3\n",
       "10. 2\n",
       "11. 6\n",
       "12. 4\n",
       "\n",
       "\n",
       "\n",
       "$F\n",
       ":   1. 11\n",
       "2. 9\n",
       "3. 15\n",
       "4. 22\n",
       "5. 15\n",
       "6. 16\n",
       "7. 13\n",
       "8. 10\n",
       "9. 26\n",
       "10. 26\n",
       "11. 24\n",
       "12. 13\n",
       "\n",
       "\n",
       "\n",
       "\n",
       "\n"
      ],
      "text/plain": [
       "$A\n",
       " [1] 10  7 20 14 14 12 10 23 17 20 14 13\n",
       "\n",
       "$B\n",
       " [1] 11 17 21 11 16 14 17 17 19 21  7 13\n",
       "\n",
       "$C\n",
       " [1] 0 1 7 2 3 1 2 1 3 0 1 4\n",
       "\n",
       "$D\n",
       " [1]  3  5 12  6  4  3  5  5  5  5  2  4\n",
       "\n",
       "$E\n",
       " [1] 3 5 3 5 3 6 1 1 3 2 6 4\n",
       "\n",
       "$F\n",
       " [1] 11  9 15 22 15 16 13 10 26 26 24 13\n"
      ]
     },
     "metadata": {},
     "output_type": "display_data"
    },
    {
     "data": {
      "text/html": [
       "'list'"
      ],
      "text/latex": [
       "'list'"
      ],
      "text/markdown": [
       "'list'"
      ],
      "text/plain": [
       "[1] \"list\""
      ]
     },
     "metadata": {},
     "output_type": "display_data"
    }
   ],
   "source": [
    "spIns = split(InsectSprays$count,InsectSprays$spray)\n",
    "spIns\n",
    "class(spIns)"
   ]
  },
  {
   "cell_type": "code",
   "execution_count": 173,
   "metadata": {},
   "outputs": [
    {
     "data": {
      "text/html": [
       "<table>\n",
       "<thead><tr><th scope=col>A</th><th scope=col>B</th><th scope=col>C</th><th scope=col>D</th><th scope=col>E</th><th scope=col>F</th></tr></thead>\n",
       "<tbody>\n",
       "\t<tr><td>10</td><td>11</td><td>0 </td><td> 3</td><td>3 </td><td>11</td></tr>\n",
       "\t<tr><td> 7</td><td>17</td><td>1 </td><td> 5</td><td>5 </td><td> 9</td></tr>\n",
       "\t<tr><td>20</td><td>21</td><td>7 </td><td>12</td><td>3 </td><td>15</td></tr>\n",
       "\t<tr><td>14</td><td>11</td><td>2 </td><td> 6</td><td>5 </td><td>22</td></tr>\n",
       "\t<tr><td>14</td><td>16</td><td>3 </td><td> 4</td><td>3 </td><td>15</td></tr>\n",
       "\t<tr><td>12</td><td>14</td><td>1 </td><td> 3</td><td>6 </td><td>16</td></tr>\n",
       "\t<tr><td>10</td><td>17</td><td>2 </td><td> 5</td><td>1 </td><td>13</td></tr>\n",
       "\t<tr><td>23</td><td>17</td><td>1 </td><td> 5</td><td>1 </td><td>10</td></tr>\n",
       "\t<tr><td>17</td><td>19</td><td>3 </td><td> 5</td><td>3 </td><td>26</td></tr>\n",
       "\t<tr><td>20</td><td>21</td><td>0 </td><td> 5</td><td>2 </td><td>26</td></tr>\n",
       "\t<tr><td>14</td><td> 7</td><td>1 </td><td> 2</td><td>6 </td><td>24</td></tr>\n",
       "\t<tr><td>13</td><td>13</td><td>4 </td><td> 4</td><td>4 </td><td>13</td></tr>\n",
       "</tbody>\n",
       "</table>\n"
      ],
      "text/latex": [
       "\\begin{tabular}{llllll}\n",
       " A & B & C & D & E & F\\\\\n",
       "\\hline\n",
       "\t 10 & 11 & 0  &  3 & 3  & 11\\\\\n",
       "\t  7 & 17 & 1  &  5 & 5  &  9\\\\\n",
       "\t 20 & 21 & 7  & 12 & 3  & 15\\\\\n",
       "\t 14 & 11 & 2  &  6 & 5  & 22\\\\\n",
       "\t 14 & 16 & 3  &  4 & 3  & 15\\\\\n",
       "\t 12 & 14 & 1  &  3 & 6  & 16\\\\\n",
       "\t 10 & 17 & 2  &  5 & 1  & 13\\\\\n",
       "\t 23 & 17 & 1  &  5 & 1  & 10\\\\\n",
       "\t 17 & 19 & 3  &  5 & 3  & 26\\\\\n",
       "\t 20 & 21 & 0  &  5 & 2  & 26\\\\\n",
       "\t 14 &  7 & 1  &  2 & 6  & 24\\\\\n",
       "\t 13 & 13 & 4  &  4 & 4  & 13\\\\\n",
       "\\end{tabular}\n"
      ],
      "text/markdown": [
       "\n",
       "A | B | C | D | E | F | \n",
       "|---|---|---|---|---|---|---|---|---|---|---|---|\n",
       "| 10 | 11 | 0  |  3 | 3  | 11 | \n",
       "|  7 | 17 | 1  |  5 | 5  |  9 | \n",
       "| 20 | 21 | 7  | 12 | 3  | 15 | \n",
       "| 14 | 11 | 2  |  6 | 5  | 22 | \n",
       "| 14 | 16 | 3  |  4 | 3  | 15 | \n",
       "| 12 | 14 | 1  |  3 | 6  | 16 | \n",
       "| 10 | 17 | 2  |  5 | 1  | 13 | \n",
       "| 23 | 17 | 1  |  5 | 1  | 10 | \n",
       "| 17 | 19 | 3  |  5 | 3  | 26 | \n",
       "| 20 | 21 | 0  |  5 | 2  | 26 | \n",
       "| 14 |  7 | 1  |  2 | 6  | 24 | \n",
       "| 13 | 13 | 4  |  4 | 4  | 13 | \n",
       "\n",
       "\n"
      ],
      "text/plain": [
       "      A  B  C D  E F \n",
       " [1,] 10 11 0  3 3 11\n",
       " [2,]  7 17 1  5 5  9\n",
       " [3,] 20 21 7 12 3 15\n",
       " [4,] 14 11 2  6 5 22\n",
       " [5,] 14 16 3  4 3 15\n",
       " [6,] 12 14 1  3 6 16\n",
       " [7,] 10 17 2  5 1 13\n",
       " [8,] 23 17 1  5 1 10\n",
       " [9,] 17 19 3  5 3 26\n",
       "[10,] 20 21 0  5 2 26\n",
       "[11,] 14  7 1  2 6 24\n",
       "[12,] 13 13 4  4 4 13"
      ]
     },
     "metadata": {},
     "output_type": "display_data"
    }
   ],
   "source": [
    "mat <- matrix(unlist(spIns),nr=12)\n",
    "colnames(mat) <- names(spIns)\n",
    "mat"
   ]
  },
  {
   "cell_type": "code",
   "execution_count": 174,
   "metadata": {},
   "outputs": [
    {
     "data": {
      "text/html": [
       "<dl>\n",
       "\t<dt>$A</dt>\n",
       "\t\t<dd>174</dd>\n",
       "\t<dt>$B</dt>\n",
       "\t\t<dd>184</dd>\n",
       "\t<dt>$C</dt>\n",
       "\t\t<dd>25</dd>\n",
       "\t<dt>$D</dt>\n",
       "\t\t<dd>59</dd>\n",
       "\t<dt>$E</dt>\n",
       "\t\t<dd>42</dd>\n",
       "\t<dt>$F</dt>\n",
       "\t\t<dd>200</dd>\n",
       "</dl>\n"
      ],
      "text/latex": [
       "\\begin{description}\n",
       "\\item[\\$A] 174\n",
       "\\item[\\$B] 184\n",
       "\\item[\\$C] 25\n",
       "\\item[\\$D] 59\n",
       "\\item[\\$E] 42\n",
       "\\item[\\$F] 200\n",
       "\\end{description}\n"
      ],
      "text/markdown": [
       "$A\n",
       ":   174\n",
       "$B\n",
       ":   184\n",
       "$C\n",
       ":   25\n",
       "$D\n",
       ":   59\n",
       "$E\n",
       ":   42\n",
       "$F\n",
       ":   200\n",
       "\n",
       "\n"
      ],
      "text/plain": [
       "$A\n",
       "[1] 174\n",
       "\n",
       "$B\n",
       "[1] 184\n",
       "\n",
       "$C\n",
       "[1] 25\n",
       "\n",
       "$D\n",
       "[1] 59\n",
       "\n",
       "$E\n",
       "[1] 42\n",
       "\n",
       "$F\n",
       "[1] 200\n"
      ]
     },
     "metadata": {},
     "output_type": "display_data"
    }
   ],
   "source": [
    "sprCount <- lapply(spIns,sum)\n",
    "sprCount"
   ]
  },
  {
   "cell_type": "code",
   "execution_count": 175,
   "metadata": {},
   "outputs": [
    {
     "data": {
      "text/html": [
       "<dl class=dl-horizontal>\n",
       "\t<dt>A</dt>\n",
       "\t\t<dd>174</dd>\n",
       "\t<dt>B</dt>\n",
       "\t\t<dd>184</dd>\n",
       "\t<dt>C</dt>\n",
       "\t\t<dd>25</dd>\n",
       "\t<dt>D</dt>\n",
       "\t\t<dd>59</dd>\n",
       "\t<dt>E</dt>\n",
       "\t\t<dd>42</dd>\n",
       "\t<dt>F</dt>\n",
       "\t\t<dd>200</dd>\n",
       "</dl>\n"
      ],
      "text/latex": [
       "\\begin{description*}\n",
       "\\item[A] 174\n",
       "\\item[B] 184\n",
       "\\item[C] 25\n",
       "\\item[D] 59\n",
       "\\item[E] 42\n",
       "\\item[F] 200\n",
       "\\end{description*}\n"
      ],
      "text/markdown": [
       "A\n",
       ":   174B\n",
       ":   184C\n",
       ":   25D\n",
       ":   59E\n",
       ":   42F\n",
       ":   200\n",
       "\n"
      ],
      "text/plain": [
       "  A   B   C   D   E   F \n",
       "174 184  25  59  42 200 "
      ]
     },
     "metadata": {},
     "output_type": "display_data"
    }
   ],
   "source": [
    "unlist(sprCount)"
   ]
  },
  {
   "cell_type": "code",
   "execution_count": 176,
   "metadata": {},
   "outputs": [
    {
     "data": {
      "text/html": [
       "<dl class=dl-horizontal>\n",
       "\t<dt>A</dt>\n",
       "\t\t<dd>174</dd>\n",
       "\t<dt>B</dt>\n",
       "\t\t<dd>184</dd>\n",
       "\t<dt>C</dt>\n",
       "\t\t<dd>25</dd>\n",
       "\t<dt>D</dt>\n",
       "\t\t<dd>59</dd>\n",
       "\t<dt>E</dt>\n",
       "\t\t<dd>42</dd>\n",
       "\t<dt>F</dt>\n",
       "\t\t<dd>200</dd>\n",
       "</dl>\n"
      ],
      "text/latex": [
       "\\begin{description*}\n",
       "\\item[A] 174\n",
       "\\item[B] 184\n",
       "\\item[C] 25\n",
       "\\item[D] 59\n",
       "\\item[E] 42\n",
       "\\item[F] 200\n",
       "\\end{description*}\n"
      ],
      "text/markdown": [
       "A\n",
       ":   174B\n",
       ":   184C\n",
       ":   25D\n",
       ":   59E\n",
       ":   42F\n",
       ":   200\n",
       "\n"
      ],
      "text/plain": [
       "  A   B   C   D   E   F \n",
       "174 184  25  59  42 200 "
      ]
     },
     "metadata": {},
     "output_type": "display_data"
    }
   ],
   "source": [
    "sapply(spIns,sum)"
   ]
  },
  {
   "cell_type": "markdown",
   "metadata": {},
   "source": [
    "### DDPLY"
   ]
  },
  {
   "cell_type": "code",
   "execution_count": 177,
   "metadata": {},
   "outputs": [
    {
     "data": {
      "text/html": [
       "<table>\n",
       "<thead><tr><th scope=col>spray</th><th scope=col>sum</th></tr></thead>\n",
       "<tbody>\n",
       "\t<tr><td>A  </td><td>174</td></tr>\n",
       "\t<tr><td>B  </td><td>184</td></tr>\n",
       "\t<tr><td>C  </td><td> 25</td></tr>\n",
       "\t<tr><td>D  </td><td> 59</td></tr>\n",
       "\t<tr><td>E  </td><td> 42</td></tr>\n",
       "\t<tr><td>F  </td><td>200</td></tr>\n",
       "</tbody>\n",
       "</table>\n"
      ],
      "text/latex": [
       "\\begin{tabular}{r|ll}\n",
       " spray & sum\\\\\n",
       "\\hline\n",
       "\t A   & 174\\\\\n",
       "\t B   & 184\\\\\n",
       "\t C   &  25\\\\\n",
       "\t D   &  59\\\\\n",
       "\t E   &  42\\\\\n",
       "\t F   & 200\\\\\n",
       "\\end{tabular}\n"
      ],
      "text/markdown": [
       "\n",
       "spray | sum | \n",
       "|---|---|---|---|---|---|\n",
       "| A   | 174 | \n",
       "| B   | 184 | \n",
       "| C   |  25 | \n",
       "| D   |  59 | \n",
       "| E   |  42 | \n",
       "| F   | 200 | \n",
       "\n",
       "\n"
      ],
      "text/plain": [
       "  spray sum\n",
       "1 A     174\n",
       "2 B     184\n",
       "3 C      25\n",
       "4 D      59\n",
       "5 E      42\n",
       "6 F     200"
      ]
     },
     "metadata": {},
     "output_type": "display_data"
    }
   ],
   "source": [
    "ddply(InsectSprays,.(spray),summarise,sum=sum(count))"
   ]
  },
  {
   "cell_type": "code",
   "execution_count": 178,
   "metadata": {},
   "outputs": [
    {
     "data": {
      "text/html": [
       "<ol class=list-inline>\n",
       "\t<li>72</li>\n",
       "\t<li>2</li>\n",
       "</ol>\n"
      ],
      "text/latex": [
       "\\begin{enumerate*}\n",
       "\\item 72\n",
       "\\item 2\n",
       "\\end{enumerate*}\n"
      ],
      "text/markdown": [
       "1. 72\n",
       "2. 2\n",
       "\n",
       "\n"
      ],
      "text/plain": [
       "[1] 72  2"
      ]
     },
     "metadata": {},
     "output_type": "display_data"
    }
   ],
   "source": [
    "spraySums <- ddply(InsectSprays,.(spray),summarise,sum=ave(count,FUN = sum))\n",
    "dim(spraySums)"
   ]
  },
  {
   "cell_type": "code",
   "execution_count": 179,
   "metadata": {},
   "outputs": [
    {
     "data": {
      "text/html": [
       "<table>\n",
       "<thead><tr><th scope=col>spray</th><th scope=col>sum</th></tr></thead>\n",
       "<tbody>\n",
       "\t<tr><td>A  </td><td>174</td></tr>\n",
       "\t<tr><td>A  </td><td>174</td></tr>\n",
       "\t<tr><td>A  </td><td>174</td></tr>\n",
       "\t<tr><td>A  </td><td>174</td></tr>\n",
       "\t<tr><td>A  </td><td>174</td></tr>\n",
       "\t<tr><td>A  </td><td>174</td></tr>\n",
       "</tbody>\n",
       "</table>\n"
      ],
      "text/latex": [
       "\\begin{tabular}{r|ll}\n",
       " spray & sum\\\\\n",
       "\\hline\n",
       "\t A   & 174\\\\\n",
       "\t A   & 174\\\\\n",
       "\t A   & 174\\\\\n",
       "\t A   & 174\\\\\n",
       "\t A   & 174\\\\\n",
       "\t A   & 174\\\\\n",
       "\\end{tabular}\n"
      ],
      "text/markdown": [
       "\n",
       "spray | sum | \n",
       "|---|---|---|---|---|---|\n",
       "| A   | 174 | \n",
       "| A   | 174 | \n",
       "| A   | 174 | \n",
       "| A   | 174 | \n",
       "| A   | 174 | \n",
       "| A   | 174 | \n",
       "\n",
       "\n"
      ],
      "text/plain": [
       "  spray sum\n",
       "1 A     174\n",
       "2 A     174\n",
       "3 A     174\n",
       "4 A     174\n",
       "5 A     174\n",
       "6 A     174"
      ]
     },
     "metadata": {},
     "output_type": "display_data"
    }
   ],
   "source": [
    "head(spraySums)"
   ]
  },
  {
   "cell_type": "code",
   "execution_count": 183,
   "metadata": {},
   "outputs": [
    {
     "data": {
      "text/html": [
       "<table>\n",
       "<thead><tr><th scope=col>spray</th><th scope=col>sum</th></tr></thead>\n",
       "<tbody>\n",
       "\t<tr><td>A  </td><td>174</td></tr>\n",
       "\t<tr><td>A  </td><td>174</td></tr>\n",
       "\t<tr><td>A  </td><td>174</td></tr>\n",
       "\t<tr><td>A  </td><td>174</td></tr>\n",
       "\t<tr><td>A  </td><td>174</td></tr>\n",
       "\t<tr><td>A  </td><td>174</td></tr>\n",
       "</tbody>\n",
       "</table>\n"
      ],
      "text/latex": [
       "\\begin{tabular}{r|ll}\n",
       " spray & sum\\\\\n",
       "\\hline\n",
       "\t A   & 174\\\\\n",
       "\t A   & 174\\\\\n",
       "\t A   & 174\\\\\n",
       "\t A   & 174\\\\\n",
       "\t A   & 174\\\\\n",
       "\t A   & 174\\\\\n",
       "\\end{tabular}\n"
      ],
      "text/markdown": [
       "\n",
       "spray | sum | \n",
       "|---|---|---|---|---|---|\n",
       "| A   | 174 | \n",
       "| A   | 174 | \n",
       "| A   | 174 | \n",
       "| A   | 174 | \n",
       "| A   | 174 | \n",
       "| A   | 174 | \n",
       "\n",
       "\n"
      ],
      "text/plain": [
       "  spray sum\n",
       "1 A     174\n",
       "2 A     174\n",
       "3 A     174\n",
       "4 A     174\n",
       "5 A     174\n",
       "6 A     174"
      ]
     },
     "metadata": {},
     "output_type": "display_data"
    }
   ],
   "source": [
    "head(spraySums)"
   ]
  },
  {
   "cell_type": "markdown",
   "metadata": {},
   "source": [
    "## Lecture 3 - Dplyr package"
   ]
  },
  {
   "cell_type": "code",
   "execution_count": 186,
   "metadata": {},
   "outputs": [],
   "source": [
    "library(dplyr)"
   ]
  },
  {
   "cell_type": "code",
   "execution_count": 187,
   "metadata": {},
   "outputs": [],
   "source": [
    "download.file(\"https://github.com/DataScienceSpecialization/courses/blob/master/03_GettingData/dplyr/chicago.rds\",destfile = \"./data/chicago.rds\")"
   ]
  },
  {
   "cell_type": "code",
   "execution_count": 189,
   "metadata": {},
   "outputs": [],
   "source": [
    "chicago <- readRDS(\"./data/chicago.rds\")"
   ]
  },
  {
   "cell_type": "code",
   "execution_count": 190,
   "metadata": {},
   "outputs": [
    {
     "data": {
      "text/html": [
       "<ol class=list-inline>\n",
       "\t<li>6940</li>\n",
       "\t<li>8</li>\n",
       "</ol>\n"
      ],
      "text/latex": [
       "\\begin{enumerate*}\n",
       "\\item 6940\n",
       "\\item 8\n",
       "\\end{enumerate*}\n"
      ],
      "text/markdown": [
       "1. 6940\n",
       "2. 8\n",
       "\n",
       "\n"
      ],
      "text/plain": [
       "[1] 6940    8"
      ]
     },
     "metadata": {},
     "output_type": "display_data"
    }
   ],
   "source": [
    "dim(chicago)"
   ]
  },
  {
   "cell_type": "code",
   "execution_count": 191,
   "metadata": {},
   "outputs": [
    {
     "name": "stdout",
     "output_type": "stream",
     "text": [
      "'data.frame':\t6940 obs. of  8 variables:\n",
      " $ city      : chr  \"chic\" \"chic\" \"chic\" \"chic\" ...\n",
      " $ tmpd      : num  31.5 33 33 29 32 40 34.5 29 26.5 32.5 ...\n",
      " $ dptp      : num  31.5 29.9 27.4 28.6 28.9 ...\n",
      " $ date      : Date, format: \"1987-01-01\" \"1987-01-02\" ...\n",
      " $ pm25tmean2: num  NA NA NA NA NA NA NA NA NA NA ...\n",
      " $ pm10tmean2: num  34 NA 34.2 47 NA ...\n",
      " $ o3tmean2  : num  4.25 3.3 3.33 4.38 4.75 ...\n",
      " $ no2tmean2 : num  20 23.2 23.8 30.4 30.3 ...\n"
     ]
    }
   ],
   "source": [
    "str(chicago)"
   ]
  },
  {
   "cell_type": "code",
   "execution_count": 192,
   "metadata": {},
   "outputs": [
    {
     "data": {
      "text/html": [
       "<ol class=list-inline>\n",
       "\t<li>'city'</li>\n",
       "\t<li>'tmpd'</li>\n",
       "\t<li>'dptp'</li>\n",
       "\t<li>'date'</li>\n",
       "\t<li>'pm25tmean2'</li>\n",
       "\t<li>'pm10tmean2'</li>\n",
       "\t<li>'o3tmean2'</li>\n",
       "\t<li>'no2tmean2'</li>\n",
       "</ol>\n"
      ],
      "text/latex": [
       "\\begin{enumerate*}\n",
       "\\item 'city'\n",
       "\\item 'tmpd'\n",
       "\\item 'dptp'\n",
       "\\item 'date'\n",
       "\\item 'pm25tmean2'\n",
       "\\item 'pm10tmean2'\n",
       "\\item 'o3tmean2'\n",
       "\\item 'no2tmean2'\n",
       "\\end{enumerate*}\n"
      ],
      "text/markdown": [
       "1. 'city'\n",
       "2. 'tmpd'\n",
       "3. 'dptp'\n",
       "4. 'date'\n",
       "5. 'pm25tmean2'\n",
       "6. 'pm10tmean2'\n",
       "7. 'o3tmean2'\n",
       "8. 'no2tmean2'\n",
       "\n",
       "\n"
      ],
      "text/plain": [
       "[1] \"city\"       \"tmpd\"       \"dptp\"       \"date\"       \"pm25tmean2\"\n",
       "[6] \"pm10tmean2\" \"o3tmean2\"   \"no2tmean2\" "
      ]
     },
     "metadata": {},
     "output_type": "display_data"
    }
   ],
   "source": [
    "names(chicago)"
   ]
  },
  {
   "cell_type": "code",
   "execution_count": 193,
   "metadata": {},
   "outputs": [
    {
     "data": {
      "text/html": [
       "<table>\n",
       "<thead><tr><th scope=col>city</th><th scope=col>tmpd</th><th scope=col>dptp</th></tr></thead>\n",
       "<tbody>\n",
       "\t<tr><td>chic  </td><td>31.5  </td><td>31.500</td></tr>\n",
       "\t<tr><td>chic  </td><td>33.0  </td><td>29.875</td></tr>\n",
       "\t<tr><td>chic  </td><td>33.0  </td><td>27.375</td></tr>\n",
       "\t<tr><td>chic  </td><td>29.0  </td><td>28.625</td></tr>\n",
       "\t<tr><td>chic  </td><td>32.0  </td><td>28.875</td></tr>\n",
       "\t<tr><td>chic  </td><td>40.0  </td><td>35.125</td></tr>\n",
       "</tbody>\n",
       "</table>\n"
      ],
      "text/latex": [
       "\\begin{tabular}{r|lll}\n",
       " city & tmpd & dptp\\\\\n",
       "\\hline\n",
       "\t chic   & 31.5   & 31.500\\\\\n",
       "\t chic   & 33.0   & 29.875\\\\\n",
       "\t chic   & 33.0   & 27.375\\\\\n",
       "\t chic   & 29.0   & 28.625\\\\\n",
       "\t chic   & 32.0   & 28.875\\\\\n",
       "\t chic   & 40.0   & 35.125\\\\\n",
       "\\end{tabular}\n"
      ],
      "text/markdown": [
       "\n",
       "city | tmpd | dptp | \n",
       "|---|---|---|---|---|---|\n",
       "| chic   | 31.5   | 31.500 | \n",
       "| chic   | 33.0   | 29.875 | \n",
       "| chic   | 33.0   | 27.375 | \n",
       "| chic   | 29.0   | 28.625 | \n",
       "| chic   | 32.0   | 28.875 | \n",
       "| chic   | 40.0   | 35.125 | \n",
       "\n",
       "\n"
      ],
      "text/plain": [
       "  city tmpd dptp  \n",
       "1 chic 31.5 31.500\n",
       "2 chic 33.0 29.875\n",
       "3 chic 33.0 27.375\n",
       "4 chic 29.0 28.625\n",
       "5 chic 32.0 28.875\n",
       "6 chic 40.0 35.125"
      ]
     },
     "metadata": {},
     "output_type": "display_data"
    }
   ],
   "source": [
    "head(select(chicago,city:dptp))"
   ]
  },
  {
   "cell_type": "code",
   "execution_count": 194,
   "metadata": {},
   "outputs": [
    {
     "data": {
      "text/html": [
       "<table>\n",
       "<thead><tr><th scope=col>date</th><th scope=col>pm25tmean2</th><th scope=col>pm10tmean2</th><th scope=col>o3tmean2</th><th scope=col>no2tmean2</th></tr></thead>\n",
       "<tbody>\n",
       "\t<tr><td>1987-01-01</td><td>NA        </td><td>34.00000  </td><td>4.250000  </td><td>19.98810  </td></tr>\n",
       "\t<tr><td>1987-01-02</td><td>NA        </td><td>      NA  </td><td>3.304348  </td><td>23.19099  </td></tr>\n",
       "\t<tr><td>1987-01-03</td><td>NA        </td><td>34.16667  </td><td>3.333333  </td><td>23.81548  </td></tr>\n",
       "\t<tr><td>1987-01-04</td><td>NA        </td><td>47.00000  </td><td>4.375000  </td><td>30.43452  </td></tr>\n",
       "\t<tr><td>1987-01-05</td><td>NA        </td><td>      NA  </td><td>4.750000  </td><td>30.33333  </td></tr>\n",
       "\t<tr><td>1987-01-06</td><td>NA        </td><td>48.00000  </td><td>5.833333  </td><td>25.77233  </td></tr>\n",
       "</tbody>\n",
       "</table>\n"
      ],
      "text/latex": [
       "\\begin{tabular}{r|lllll}\n",
       " date & pm25tmean2 & pm10tmean2 & o3tmean2 & no2tmean2\\\\\n",
       "\\hline\n",
       "\t 1987-01-01 & NA         & 34.00000   & 4.250000   & 19.98810  \\\\\n",
       "\t 1987-01-02 & NA         &       NA   & 3.304348   & 23.19099  \\\\\n",
       "\t 1987-01-03 & NA         & 34.16667   & 3.333333   & 23.81548  \\\\\n",
       "\t 1987-01-04 & NA         & 47.00000   & 4.375000   & 30.43452  \\\\\n",
       "\t 1987-01-05 & NA         &       NA   & 4.750000   & 30.33333  \\\\\n",
       "\t 1987-01-06 & NA         & 48.00000   & 5.833333   & 25.77233  \\\\\n",
       "\\end{tabular}\n"
      ],
      "text/markdown": [
       "\n",
       "date | pm25tmean2 | pm10tmean2 | o3tmean2 | no2tmean2 | \n",
       "|---|---|---|---|---|---|\n",
       "| 1987-01-01 | NA         | 34.00000   | 4.250000   | 19.98810   | \n",
       "| 1987-01-02 | NA         |       NA   | 3.304348   | 23.19099   | \n",
       "| 1987-01-03 | NA         | 34.16667   | 3.333333   | 23.81548   | \n",
       "| 1987-01-04 | NA         | 47.00000   | 4.375000   | 30.43452   | \n",
       "| 1987-01-05 | NA         |       NA   | 4.750000   | 30.33333   | \n",
       "| 1987-01-06 | NA         | 48.00000   | 5.833333   | 25.77233   | \n",
       "\n",
       "\n"
      ],
      "text/plain": [
       "  date       pm25tmean2 pm10tmean2 o3tmean2 no2tmean2\n",
       "1 1987-01-01 NA         34.00000   4.250000 19.98810 \n",
       "2 1987-01-02 NA               NA   3.304348 23.19099 \n",
       "3 1987-01-03 NA         34.16667   3.333333 23.81548 \n",
       "4 1987-01-04 NA         47.00000   4.375000 30.43452 \n",
       "5 1987-01-05 NA               NA   4.750000 30.33333 \n",
       "6 1987-01-06 NA         48.00000   5.833333 25.77233 "
      ]
     },
     "metadata": {},
     "output_type": "display_data"
    }
   ],
   "source": [
    "head(select(chicago,-(city:dptp)))"
   ]
  },
  {
   "cell_type": "code",
   "execution_count": 195,
   "metadata": {},
   "outputs": [
    {
     "data": {
      "text/html": [
       "<table>\n",
       "<thead><tr><th scope=col>city</th><th scope=col>tmpd</th><th scope=col>dptp</th><th scope=col>date</th><th scope=col>pm25tmean2</th><th scope=col>pm10tmean2</th><th scope=col>o3tmean2</th><th scope=col>no2tmean2</th></tr></thead>\n",
       "<tbody>\n",
       "\t<tr><td>chic      </td><td>23        </td><td>21.9      </td><td>1998-01-17</td><td>38.10     </td><td>32.46154  </td><td> 3.180556 </td><td>25.30000  </td></tr>\n",
       "\t<tr><td>chic      </td><td>28        </td><td>25.8      </td><td>1998-01-23</td><td>33.95     </td><td>38.69231  </td><td> 1.750000 </td><td>29.37630  </td></tr>\n",
       "\t<tr><td>chic      </td><td>55        </td><td>51.3      </td><td>1998-04-30</td><td>39.40     </td><td>34.00000  </td><td>10.786232 </td><td>25.31310  </td></tr>\n",
       "\t<tr><td>chic      </td><td>59        </td><td>53.7      </td><td>1998-05-01</td><td>35.40     </td><td>28.50000  </td><td>14.295125 </td><td>31.42905  </td></tr>\n",
       "\t<tr><td>chic      </td><td>57        </td><td>52.0      </td><td>1998-05-02</td><td>33.30     </td><td>35.00000  </td><td>20.662879 </td><td>26.79861  </td></tr>\n",
       "\t<tr><td>chic      </td><td>57        </td><td>56.0      </td><td>1998-05-07</td><td>32.10     </td><td>34.50000  </td><td>24.270422 </td><td>33.99167  </td></tr>\n",
       "</tbody>\n",
       "</table>\n"
      ],
      "text/latex": [
       "\\begin{tabular}{r|llllllll}\n",
       " city & tmpd & dptp & date & pm25tmean2 & pm10tmean2 & o3tmean2 & no2tmean2\\\\\n",
       "\\hline\n",
       "\t chic       & 23         & 21.9       & 1998-01-17 & 38.10      & 32.46154   &  3.180556  & 25.30000  \\\\\n",
       "\t chic       & 28         & 25.8       & 1998-01-23 & 33.95      & 38.69231   &  1.750000  & 29.37630  \\\\\n",
       "\t chic       & 55         & 51.3       & 1998-04-30 & 39.40      & 34.00000   & 10.786232  & 25.31310  \\\\\n",
       "\t chic       & 59         & 53.7       & 1998-05-01 & 35.40      & 28.50000   & 14.295125  & 31.42905  \\\\\n",
       "\t chic       & 57         & 52.0       & 1998-05-02 & 33.30      & 35.00000   & 20.662879  & 26.79861  \\\\\n",
       "\t chic       & 57         & 56.0       & 1998-05-07 & 32.10      & 34.50000   & 24.270422  & 33.99167  \\\\\n",
       "\\end{tabular}\n"
      ],
      "text/markdown": [
       "\n",
       "city | tmpd | dptp | date | pm25tmean2 | pm10tmean2 | o3tmean2 | no2tmean2 | \n",
       "|---|---|---|---|---|---|\n",
       "| chic       | 23         | 21.9       | 1998-01-17 | 38.10      | 32.46154   |  3.180556  | 25.30000   | \n",
       "| chic       | 28         | 25.8       | 1998-01-23 | 33.95      | 38.69231   |  1.750000  | 29.37630   | \n",
       "| chic       | 55         | 51.3       | 1998-04-30 | 39.40      | 34.00000   | 10.786232  | 25.31310   | \n",
       "| chic       | 59         | 53.7       | 1998-05-01 | 35.40      | 28.50000   | 14.295125  | 31.42905   | \n",
       "| chic       | 57         | 52.0       | 1998-05-02 | 33.30      | 35.00000   | 20.662879  | 26.79861   | \n",
       "| chic       | 57         | 56.0       | 1998-05-07 | 32.10      | 34.50000   | 24.270422  | 33.99167   | \n",
       "\n",
       "\n"
      ],
      "text/plain": [
       "  city tmpd dptp date       pm25tmean2 pm10tmean2 o3tmean2  no2tmean2\n",
       "1 chic 23   21.9 1998-01-17 38.10      32.46154    3.180556 25.30000 \n",
       "2 chic 28   25.8 1998-01-23 33.95      38.69231    1.750000 29.37630 \n",
       "3 chic 55   51.3 1998-04-30 39.40      34.00000   10.786232 25.31310 \n",
       "4 chic 59   53.7 1998-05-01 35.40      28.50000   14.295125 31.42905 \n",
       "5 chic 57   52.0 1998-05-02 33.30      35.00000   20.662879 26.79861 \n",
       "6 chic 57   56.0 1998-05-07 32.10      34.50000   24.270422 33.99167 "
      ]
     },
     "metadata": {},
     "output_type": "display_data"
    }
   ],
   "source": [
    "chic.f <- filter(chicago,pm25tmean2>30)\n",
    "head(chic.f)"
   ]
  },
  {
   "cell_type": "code",
   "execution_count": 197,
   "metadata": {},
   "outputs": [
    {
     "data": {
      "text/html": [
       "<table>\n",
       "<thead><tr><th scope=col>city</th><th scope=col>tmpd</th><th scope=col>dptp</th><th scope=col>date</th><th scope=col>pm25tmean2</th><th scope=col>pm10tmean2</th><th scope=col>o3tmean2</th><th scope=col>no2tmean2</th></tr></thead>\n",
       "<tbody>\n",
       "\t<tr><td>chic      </td><td>81        </td><td>71.2      </td><td>1998-08-23</td><td>39.6000   </td><td>59.0      </td><td>45.86364  </td><td>14.32639  </td></tr>\n",
       "\t<tr><td>chic      </td><td>81        </td><td>70.4      </td><td>1998-09-06</td><td>31.5000   </td><td>50.5      </td><td>50.66250  </td><td>20.31250  </td></tr>\n",
       "\t<tr><td>chic      </td><td>82        </td><td>72.2      </td><td>2001-07-20</td><td>32.3000   </td><td>58.5      </td><td>33.00380  </td><td>33.67500  </td></tr>\n",
       "\t<tr><td>chic      </td><td>84        </td><td>72.9      </td><td>2001-08-01</td><td>43.7000   </td><td>81.5      </td><td>45.17736  </td><td>27.44239  </td></tr>\n",
       "\t<tr><td>chic      </td><td>85        </td><td>72.6      </td><td>2001-08-08</td><td>38.8375   </td><td>70.0      </td><td>37.98047  </td><td>27.62743  </td></tr>\n",
       "\t<tr><td>chic      </td><td>84        </td><td>72.6      </td><td>2001-08-09</td><td>38.2000   </td><td>66.0      </td><td>36.73245  </td><td>26.46742  </td></tr>\n",
       "</tbody>\n",
       "</table>\n"
      ],
      "text/latex": [
       "\\begin{tabular}{r|llllllll}\n",
       " city & tmpd & dptp & date & pm25tmean2 & pm10tmean2 & o3tmean2 & no2tmean2\\\\\n",
       "\\hline\n",
       "\t chic       & 81         & 71.2       & 1998-08-23 & 39.6000    & 59.0       & 45.86364   & 14.32639  \\\\\n",
       "\t chic       & 81         & 70.4       & 1998-09-06 & 31.5000    & 50.5       & 50.66250   & 20.31250  \\\\\n",
       "\t chic       & 82         & 72.2       & 2001-07-20 & 32.3000    & 58.5       & 33.00380   & 33.67500  \\\\\n",
       "\t chic       & 84         & 72.9       & 2001-08-01 & 43.7000    & 81.5       & 45.17736   & 27.44239  \\\\\n",
       "\t chic       & 85         & 72.6       & 2001-08-08 & 38.8375    & 70.0       & 37.98047   & 27.62743  \\\\\n",
       "\t chic       & 84         & 72.6       & 2001-08-09 & 38.2000    & 66.0       & 36.73245   & 26.46742  \\\\\n",
       "\\end{tabular}\n"
      ],
      "text/markdown": [
       "\n",
       "city | tmpd | dptp | date | pm25tmean2 | pm10tmean2 | o3tmean2 | no2tmean2 | \n",
       "|---|---|---|---|---|---|\n",
       "| chic       | 81         | 71.2       | 1998-08-23 | 39.6000    | 59.0       | 45.86364   | 14.32639   | \n",
       "| chic       | 81         | 70.4       | 1998-09-06 | 31.5000    | 50.5       | 50.66250   | 20.31250   | \n",
       "| chic       | 82         | 72.2       | 2001-07-20 | 32.3000    | 58.5       | 33.00380   | 33.67500   | \n",
       "| chic       | 84         | 72.9       | 2001-08-01 | 43.7000    | 81.5       | 45.17736   | 27.44239   | \n",
       "| chic       | 85         | 72.6       | 2001-08-08 | 38.8375    | 70.0       | 37.98047   | 27.62743   | \n",
       "| chic       | 84         | 72.6       | 2001-08-09 | 38.2000    | 66.0       | 36.73245   | 26.46742   | \n",
       "\n",
       "\n"
      ],
      "text/plain": [
       "  city tmpd dptp date       pm25tmean2 pm10tmean2 o3tmean2 no2tmean2\n",
       "1 chic 81   71.2 1998-08-23 39.6000    59.0       45.86364 14.32639 \n",
       "2 chic 81   70.4 1998-09-06 31.5000    50.5       50.66250 20.31250 \n",
       "3 chic 82   72.2 2001-07-20 32.3000    58.5       33.00380 33.67500 \n",
       "4 chic 84   72.9 2001-08-01 43.7000    81.5       45.17736 27.44239 \n",
       "5 chic 85   72.6 2001-08-08 38.8375    70.0       37.98047 27.62743 \n",
       "6 chic 84   72.6 2001-08-09 38.2000    66.0       36.73245 26.46742 "
      ]
     },
     "metadata": {},
     "output_type": "display_data"
    }
   ],
   "source": [
    "chic.d <- filter(chicago,pm25tmean2>30 &tmpd >80)\n",
    "head(chic.d)"
   ]
  },
  {
   "cell_type": "code",
   "execution_count": 199,
   "metadata": {},
   "outputs": [
    {
     "data": {
      "text/html": [
       "<table>\n",
       "<thead><tr><th scope=col>city</th><th scope=col>tmpd</th><th scope=col>dptp</th><th scope=col>date</th><th scope=col>pm25tmean2</th><th scope=col>pm10tmean2</th><th scope=col>o3tmean2</th><th scope=col>no2tmean2</th></tr></thead>\n",
       "<tbody>\n",
       "\t<tr><td>chic      </td><td>31.5      </td><td>31.500    </td><td>1987-01-01</td><td>NA        </td><td>34.00000  </td><td>4.250000  </td><td>19.98810  </td></tr>\n",
       "\t<tr><td>chic      </td><td>33.0      </td><td>29.875    </td><td>1987-01-02</td><td>NA        </td><td>      NA  </td><td>3.304348  </td><td>23.19099  </td></tr>\n",
       "\t<tr><td>chic      </td><td>33.0      </td><td>27.375    </td><td>1987-01-03</td><td>NA        </td><td>34.16667  </td><td>3.333333  </td><td>23.81548  </td></tr>\n",
       "\t<tr><td>chic      </td><td>29.0      </td><td>28.625    </td><td>1987-01-04</td><td>NA        </td><td>47.00000  </td><td>4.375000  </td><td>30.43452  </td></tr>\n",
       "\t<tr><td>chic      </td><td>32.0      </td><td>28.875    </td><td>1987-01-05</td><td>NA        </td><td>      NA  </td><td>4.750000  </td><td>30.33333  </td></tr>\n",
       "\t<tr><td>chic      </td><td>40.0      </td><td>35.125    </td><td>1987-01-06</td><td>NA        </td><td>48.00000  </td><td>5.833333  </td><td>25.77233  </td></tr>\n",
       "</tbody>\n",
       "</table>\n"
      ],
      "text/latex": [
       "\\begin{tabular}{r|llllllll}\n",
       " city & tmpd & dptp & date & pm25tmean2 & pm10tmean2 & o3tmean2 & no2tmean2\\\\\n",
       "\\hline\n",
       "\t chic       & 31.5       & 31.500     & 1987-01-01 & NA         & 34.00000   & 4.250000   & 19.98810  \\\\\n",
       "\t chic       & 33.0       & 29.875     & 1987-01-02 & NA         &       NA   & 3.304348   & 23.19099  \\\\\n",
       "\t chic       & 33.0       & 27.375     & 1987-01-03 & NA         & 34.16667   & 3.333333   & 23.81548  \\\\\n",
       "\t chic       & 29.0       & 28.625     & 1987-01-04 & NA         & 47.00000   & 4.375000   & 30.43452  \\\\\n",
       "\t chic       & 32.0       & 28.875     & 1987-01-05 & NA         &       NA   & 4.750000   & 30.33333  \\\\\n",
       "\t chic       & 40.0       & 35.125     & 1987-01-06 & NA         & 48.00000   & 5.833333   & 25.77233  \\\\\n",
       "\\end{tabular}\n"
      ],
      "text/markdown": [
       "\n",
       "city | tmpd | dptp | date | pm25tmean2 | pm10tmean2 | o3tmean2 | no2tmean2 | \n",
       "|---|---|---|---|---|---|\n",
       "| chic       | 31.5       | 31.500     | 1987-01-01 | NA         | 34.00000   | 4.250000   | 19.98810   | \n",
       "| chic       | 33.0       | 29.875     | 1987-01-02 | NA         |       NA   | 3.304348   | 23.19099   | \n",
       "| chic       | 33.0       | 27.375     | 1987-01-03 | NA         | 34.16667   | 3.333333   | 23.81548   | \n",
       "| chic       | 29.0       | 28.625     | 1987-01-04 | NA         | 47.00000   | 4.375000   | 30.43452   | \n",
       "| chic       | 32.0       | 28.875     | 1987-01-05 | NA         |       NA   | 4.750000   | 30.33333   | \n",
       "| chic       | 40.0       | 35.125     | 1987-01-06 | NA         | 48.00000   | 5.833333   | 25.77233   | \n",
       "\n",
       "\n"
      ],
      "text/plain": [
       "  city tmpd dptp   date       pm25tmean2 pm10tmean2 o3tmean2 no2tmean2\n",
       "1 chic 31.5 31.500 1987-01-01 NA         34.00000   4.250000 19.98810 \n",
       "2 chic 33.0 29.875 1987-01-02 NA               NA   3.304348 23.19099 \n",
       "3 chic 33.0 27.375 1987-01-03 NA         34.16667   3.333333 23.81548 \n",
       "4 chic 29.0 28.625 1987-01-04 NA         47.00000   4.375000 30.43452 \n",
       "5 chic 32.0 28.875 1987-01-05 NA               NA   4.750000 30.33333 \n",
       "6 chic 40.0 35.125 1987-01-06 NA         48.00000   5.833333 25.77233 "
      ]
     },
     "metadata": {},
     "output_type": "display_data"
    }
   ],
   "source": [
    "chicago <- arrange(chicago,date)\n",
    "head(chicago)"
   ]
  },
  {
   "cell_type": "code",
   "execution_count": 200,
   "metadata": {},
   "outputs": [
    {
     "data": {
      "text/html": [
       "<table>\n",
       "<thead><tr><th scope=col>city</th><th scope=col>tmpd</th><th scope=col>dptp</th><th scope=col>date</th><th scope=col>pm25tmean2</th><th scope=col>pm10tmean2</th><th scope=col>o3tmean2</th><th scope=col>no2tmean2</th></tr></thead>\n",
       "<tbody>\n",
       "\t<tr><td>chic      </td><td>35        </td><td>30.1      </td><td>2005-12-31</td><td>15.00000  </td><td>23.5      </td><td> 2.531250 </td><td>13.25000  </td></tr>\n",
       "\t<tr><td>chic      </td><td>36        </td><td>31.0      </td><td>2005-12-30</td><td>15.05714  </td><td>19.2      </td><td> 3.034420 </td><td>22.80556  </td></tr>\n",
       "\t<tr><td>chic      </td><td>35        </td><td>29.4      </td><td>2005-12-29</td><td> 7.45000  </td><td>23.5      </td><td> 6.794837 </td><td>19.97222  </td></tr>\n",
       "\t<tr><td>chic      </td><td>37        </td><td>34.5      </td><td>2005-12-28</td><td>17.75000  </td><td>27.5      </td><td> 3.260417 </td><td>19.28563  </td></tr>\n",
       "\t<tr><td>chic      </td><td>40        </td><td>33.6      </td><td>2005-12-27</td><td>23.56000  </td><td>27.0      </td><td> 4.468750 </td><td>23.50000  </td></tr>\n",
       "\t<tr><td>chic      </td><td>35        </td><td>29.6      </td><td>2005-12-26</td><td> 8.40000  </td><td> 8.5      </td><td>14.041667 </td><td>16.81944  </td></tr>\n",
       "</tbody>\n",
       "</table>\n"
      ],
      "text/latex": [
       "\\begin{tabular}{r|llllllll}\n",
       " city & tmpd & dptp & date & pm25tmean2 & pm10tmean2 & o3tmean2 & no2tmean2\\\\\n",
       "\\hline\n",
       "\t chic       & 35         & 30.1       & 2005-12-31 & 15.00000   & 23.5       &  2.531250  & 13.25000  \\\\\n",
       "\t chic       & 36         & 31.0       & 2005-12-30 & 15.05714   & 19.2       &  3.034420  & 22.80556  \\\\\n",
       "\t chic       & 35         & 29.4       & 2005-12-29 &  7.45000   & 23.5       &  6.794837  & 19.97222  \\\\\n",
       "\t chic       & 37         & 34.5       & 2005-12-28 & 17.75000   & 27.5       &  3.260417  & 19.28563  \\\\\n",
       "\t chic       & 40         & 33.6       & 2005-12-27 & 23.56000   & 27.0       &  4.468750  & 23.50000  \\\\\n",
       "\t chic       & 35         & 29.6       & 2005-12-26 &  8.40000   &  8.5       & 14.041667  & 16.81944  \\\\\n",
       "\\end{tabular}\n"
      ],
      "text/markdown": [
       "\n",
       "city | tmpd | dptp | date | pm25tmean2 | pm10tmean2 | o3tmean2 | no2tmean2 | \n",
       "|---|---|---|---|---|---|\n",
       "| chic       | 35         | 30.1       | 2005-12-31 | 15.00000   | 23.5       |  2.531250  | 13.25000   | \n",
       "| chic       | 36         | 31.0       | 2005-12-30 | 15.05714   | 19.2       |  3.034420  | 22.80556   | \n",
       "| chic       | 35         | 29.4       | 2005-12-29 |  7.45000   | 23.5       |  6.794837  | 19.97222   | \n",
       "| chic       | 37         | 34.5       | 2005-12-28 | 17.75000   | 27.5       |  3.260417  | 19.28563   | \n",
       "| chic       | 40         | 33.6       | 2005-12-27 | 23.56000   | 27.0       |  4.468750  | 23.50000   | \n",
       "| chic       | 35         | 29.6       | 2005-12-26 |  8.40000   |  8.5       | 14.041667  | 16.81944   | \n",
       "\n",
       "\n"
      ],
      "text/plain": [
       "  city tmpd dptp date       pm25tmean2 pm10tmean2 o3tmean2  no2tmean2\n",
       "1 chic 35   30.1 2005-12-31 15.00000   23.5        2.531250 13.25000 \n",
       "2 chic 36   31.0 2005-12-30 15.05714   19.2        3.034420 22.80556 \n",
       "3 chic 35   29.4 2005-12-29  7.45000   23.5        6.794837 19.97222 \n",
       "4 chic 37   34.5 2005-12-28 17.75000   27.5        3.260417 19.28563 \n",
       "5 chic 40   33.6 2005-12-27 23.56000   27.0        4.468750 23.50000 \n",
       "6 chic 35   29.6 2005-12-26  8.40000    8.5       14.041667 16.81944 "
      ]
     },
     "metadata": {},
     "output_type": "display_data"
    }
   ],
   "source": [
    "chicago <- arrange(chicago,desc(date))\n",
    "head(chicago)"
   ]
  },
  {
   "cell_type": "code",
   "execution_count": 201,
   "metadata": {},
   "outputs": [
    {
     "data": {
      "text/html": [
       "<table>\n",
       "<thead><tr><th></th><th scope=col>city</th><th scope=col>tmpd</th><th scope=col>dptp</th><th scope=col>date</th><th scope=col>pm25tmean2</th><th scope=col>pm10tmean2</th><th scope=col>o3tmean2</th><th scope=col>no2tmean2</th></tr></thead>\n",
       "<tbody>\n",
       "\t<tr><th scope=row>6935</th><td>chic      </td><td>40.0      </td><td>35.125    </td><td>1987-01-06</td><td>NA        </td><td>48.00000  </td><td>5.833333  </td><td>25.77233  </td></tr>\n",
       "\t<tr><th scope=row>6936</th><td>chic      </td><td>32.0      </td><td>28.875    </td><td>1987-01-05</td><td>NA        </td><td>      NA  </td><td>4.750000  </td><td>30.33333  </td></tr>\n",
       "\t<tr><th scope=row>6937</th><td>chic      </td><td>29.0      </td><td>28.625    </td><td>1987-01-04</td><td>NA        </td><td>47.00000  </td><td>4.375000  </td><td>30.43452  </td></tr>\n",
       "\t<tr><th scope=row>6938</th><td>chic      </td><td>33.0      </td><td>27.375    </td><td>1987-01-03</td><td>NA        </td><td>34.16667  </td><td>3.333333  </td><td>23.81548  </td></tr>\n",
       "\t<tr><th scope=row>6939</th><td>chic      </td><td>33.0      </td><td>29.875    </td><td>1987-01-02</td><td>NA        </td><td>      NA  </td><td>3.304348  </td><td>23.19099  </td></tr>\n",
       "\t<tr><th scope=row>6940</th><td>chic      </td><td>31.5      </td><td>31.500    </td><td>1987-01-01</td><td>NA        </td><td>34.00000  </td><td>4.250000  </td><td>19.98810  </td></tr>\n",
       "</tbody>\n",
       "</table>\n"
      ],
      "text/latex": [
       "\\begin{tabular}{r|llllllll}\n",
       "  & city & tmpd & dptp & date & pm25tmean2 & pm10tmean2 & o3tmean2 & no2tmean2\\\\\n",
       "\\hline\n",
       "\t6935 & chic       & 40.0       & 35.125     & 1987-01-06 & NA         & 48.00000   & 5.833333   & 25.77233  \\\\\n",
       "\t6936 & chic       & 32.0       & 28.875     & 1987-01-05 & NA         &       NA   & 4.750000   & 30.33333  \\\\\n",
       "\t6937 & chic       & 29.0       & 28.625     & 1987-01-04 & NA         & 47.00000   & 4.375000   & 30.43452  \\\\\n",
       "\t6938 & chic       & 33.0       & 27.375     & 1987-01-03 & NA         & 34.16667   & 3.333333   & 23.81548  \\\\\n",
       "\t6939 & chic       & 33.0       & 29.875     & 1987-01-02 & NA         &       NA   & 3.304348   & 23.19099  \\\\\n",
       "\t6940 & chic       & 31.5       & 31.500     & 1987-01-01 & NA         & 34.00000   & 4.250000   & 19.98810  \\\\\n",
       "\\end{tabular}\n"
      ],
      "text/markdown": [
       "\n",
       "| <!--/--> | city | tmpd | dptp | date | pm25tmean2 | pm10tmean2 | o3tmean2 | no2tmean2 | \n",
       "|---|---|---|---|---|---|\n",
       "| 6935 | chic       | 40.0       | 35.125     | 1987-01-06 | NA         | 48.00000   | 5.833333   | 25.77233   | \n",
       "| 6936 | chic       | 32.0       | 28.875     | 1987-01-05 | NA         |       NA   | 4.750000   | 30.33333   | \n",
       "| 6937 | chic       | 29.0       | 28.625     | 1987-01-04 | NA         | 47.00000   | 4.375000   | 30.43452   | \n",
       "| 6938 | chic       | 33.0       | 27.375     | 1987-01-03 | NA         | 34.16667   | 3.333333   | 23.81548   | \n",
       "| 6939 | chic       | 33.0       | 29.875     | 1987-01-02 | NA         |       NA   | 3.304348   | 23.19099   | \n",
       "| 6940 | chic       | 31.5       | 31.500     | 1987-01-01 | NA         | 34.00000   | 4.250000   | 19.98810   | \n",
       "\n",
       "\n"
      ],
      "text/plain": [
       "     city tmpd dptp   date       pm25tmean2 pm10tmean2 o3tmean2 no2tmean2\n",
       "6935 chic 40.0 35.125 1987-01-06 NA         48.00000   5.833333 25.77233 \n",
       "6936 chic 32.0 28.875 1987-01-05 NA               NA   4.750000 30.33333 \n",
       "6937 chic 29.0 28.625 1987-01-04 NA         47.00000   4.375000 30.43452 \n",
       "6938 chic 33.0 27.375 1987-01-03 NA         34.16667   3.333333 23.81548 \n",
       "6939 chic 33.0 29.875 1987-01-02 NA               NA   3.304348 23.19099 \n",
       "6940 chic 31.5 31.500 1987-01-01 NA         34.00000   4.250000 19.98810 "
      ]
     },
     "metadata": {},
     "output_type": "display_data"
    }
   ],
   "source": [
    "tail(chicago)"
   ]
  },
  {
   "cell_type": "code",
   "execution_count": 202,
   "metadata": {},
   "outputs": [],
   "source": [
    "chicago <- rename(chicago,pm25=pm25tmean2,dewpoint=dptp)"
   ]
  },
  {
   "cell_type": "code",
   "execution_count": 203,
   "metadata": {},
   "outputs": [
    {
     "data": {
      "text/html": [
       "<table>\n",
       "<thead><tr><th scope=col>city</th><th scope=col>tmpd</th><th scope=col>dewpoint</th><th scope=col>date</th><th scope=col>pm25</th><th scope=col>pm10tmean2</th><th scope=col>o3tmean2</th><th scope=col>no2tmean2</th></tr></thead>\n",
       "<tbody>\n",
       "\t<tr><td>chic      </td><td>35        </td><td>30.1      </td><td>2005-12-31</td><td>15.00000  </td><td>23.5      </td><td> 2.531250 </td><td>13.25000  </td></tr>\n",
       "\t<tr><td>chic      </td><td>36        </td><td>31.0      </td><td>2005-12-30</td><td>15.05714  </td><td>19.2      </td><td> 3.034420 </td><td>22.80556  </td></tr>\n",
       "\t<tr><td>chic      </td><td>35        </td><td>29.4      </td><td>2005-12-29</td><td> 7.45000  </td><td>23.5      </td><td> 6.794837 </td><td>19.97222  </td></tr>\n",
       "\t<tr><td>chic      </td><td>37        </td><td>34.5      </td><td>2005-12-28</td><td>17.75000  </td><td>27.5      </td><td> 3.260417 </td><td>19.28563  </td></tr>\n",
       "\t<tr><td>chic      </td><td>40        </td><td>33.6      </td><td>2005-12-27</td><td>23.56000  </td><td>27.0      </td><td> 4.468750 </td><td>23.50000  </td></tr>\n",
       "\t<tr><td>chic      </td><td>35        </td><td>29.6      </td><td>2005-12-26</td><td> 8.40000  </td><td> 8.5      </td><td>14.041667 </td><td>16.81944  </td></tr>\n",
       "</tbody>\n",
       "</table>\n"
      ],
      "text/latex": [
       "\\begin{tabular}{r|llllllll}\n",
       " city & tmpd & dewpoint & date & pm25 & pm10tmean2 & o3tmean2 & no2tmean2\\\\\n",
       "\\hline\n",
       "\t chic       & 35         & 30.1       & 2005-12-31 & 15.00000   & 23.5       &  2.531250  & 13.25000  \\\\\n",
       "\t chic       & 36         & 31.0       & 2005-12-30 & 15.05714   & 19.2       &  3.034420  & 22.80556  \\\\\n",
       "\t chic       & 35         & 29.4       & 2005-12-29 &  7.45000   & 23.5       &  6.794837  & 19.97222  \\\\\n",
       "\t chic       & 37         & 34.5       & 2005-12-28 & 17.75000   & 27.5       &  3.260417  & 19.28563  \\\\\n",
       "\t chic       & 40         & 33.6       & 2005-12-27 & 23.56000   & 27.0       &  4.468750  & 23.50000  \\\\\n",
       "\t chic       & 35         & 29.6       & 2005-12-26 &  8.40000   &  8.5       & 14.041667  & 16.81944  \\\\\n",
       "\\end{tabular}\n"
      ],
      "text/markdown": [
       "\n",
       "city | tmpd | dewpoint | date | pm25 | pm10tmean2 | o3tmean2 | no2tmean2 | \n",
       "|---|---|---|---|---|---|\n",
       "| chic       | 35         | 30.1       | 2005-12-31 | 15.00000   | 23.5       |  2.531250  | 13.25000   | \n",
       "| chic       | 36         | 31.0       | 2005-12-30 | 15.05714   | 19.2       |  3.034420  | 22.80556   | \n",
       "| chic       | 35         | 29.4       | 2005-12-29 |  7.45000   | 23.5       |  6.794837  | 19.97222   | \n",
       "| chic       | 37         | 34.5       | 2005-12-28 | 17.75000   | 27.5       |  3.260417  | 19.28563   | \n",
       "| chic       | 40         | 33.6       | 2005-12-27 | 23.56000   | 27.0       |  4.468750  | 23.50000   | \n",
       "| chic       | 35         | 29.6       | 2005-12-26 |  8.40000   |  8.5       | 14.041667  | 16.81944   | \n",
       "\n",
       "\n"
      ],
      "text/plain": [
       "  city tmpd dewpoint date       pm25     pm10tmean2 o3tmean2  no2tmean2\n",
       "1 chic 35   30.1     2005-12-31 15.00000 23.5        2.531250 13.25000 \n",
       "2 chic 36   31.0     2005-12-30 15.05714 19.2        3.034420 22.80556 \n",
       "3 chic 35   29.4     2005-12-29  7.45000 23.5        6.794837 19.97222 \n",
       "4 chic 37   34.5     2005-12-28 17.75000 27.5        3.260417 19.28563 \n",
       "5 chic 40   33.6     2005-12-27 23.56000 27.0        4.468750 23.50000 \n",
       "6 chic 35   29.6     2005-12-26  8.40000  8.5       14.041667 16.81944 "
      ]
     },
     "metadata": {},
     "output_type": "display_data"
    }
   ],
   "source": [
    "head(chicago)"
   ]
  },
  {
   "cell_type": "code",
   "execution_count": 204,
   "metadata": {},
   "outputs": [
    {
     "data": {
      "text/html": [
       "<table>\n",
       "<thead><tr><th scope=col>city</th><th scope=col>tmpd</th><th scope=col>dewpoint</th><th scope=col>date</th><th scope=col>pm25</th><th scope=col>pm10tmean2</th><th scope=col>o3tmean2</th><th scope=col>no2tmean2</th><th scope=col>pm25detrend</th></tr></thead>\n",
       "<tbody>\n",
       "\t<tr><td>chic      </td><td>35        </td><td>30.1      </td><td>2005-12-31</td><td>15.00000  </td><td>23.5      </td><td> 2.531250 </td><td>13.25000  </td><td>-1.230958 </td></tr>\n",
       "\t<tr><td>chic      </td><td>36        </td><td>31.0      </td><td>2005-12-30</td><td>15.05714  </td><td>19.2      </td><td> 3.034420 </td><td>22.80556  </td><td>-1.173815 </td></tr>\n",
       "\t<tr><td>chic      </td><td>35        </td><td>29.4      </td><td>2005-12-29</td><td> 7.45000  </td><td>23.5      </td><td> 6.794837 </td><td>19.97222  </td><td>-8.780958 </td></tr>\n",
       "\t<tr><td>chic      </td><td>37        </td><td>34.5      </td><td>2005-12-28</td><td>17.75000  </td><td>27.5      </td><td> 3.260417 </td><td>19.28563  </td><td> 1.519042 </td></tr>\n",
       "\t<tr><td>chic      </td><td>40        </td><td>33.6      </td><td>2005-12-27</td><td>23.56000  </td><td>27.0      </td><td> 4.468750 </td><td>23.50000  </td><td> 7.329042 </td></tr>\n",
       "\t<tr><td>chic      </td><td>35        </td><td>29.6      </td><td>2005-12-26</td><td> 8.40000  </td><td> 8.5      </td><td>14.041667 </td><td>16.81944  </td><td>-7.830958 </td></tr>\n",
       "</tbody>\n",
       "</table>\n"
      ],
      "text/latex": [
       "\\begin{tabular}{r|lllllllll}\n",
       " city & tmpd & dewpoint & date & pm25 & pm10tmean2 & o3tmean2 & no2tmean2 & pm25detrend\\\\\n",
       "\\hline\n",
       "\t chic       & 35         & 30.1       & 2005-12-31 & 15.00000   & 23.5       &  2.531250  & 13.25000   & -1.230958 \\\\\n",
       "\t chic       & 36         & 31.0       & 2005-12-30 & 15.05714   & 19.2       &  3.034420  & 22.80556   & -1.173815 \\\\\n",
       "\t chic       & 35         & 29.4       & 2005-12-29 &  7.45000   & 23.5       &  6.794837  & 19.97222   & -8.780958 \\\\\n",
       "\t chic       & 37         & 34.5       & 2005-12-28 & 17.75000   & 27.5       &  3.260417  & 19.28563   &  1.519042 \\\\\n",
       "\t chic       & 40         & 33.6       & 2005-12-27 & 23.56000   & 27.0       &  4.468750  & 23.50000   &  7.329042 \\\\\n",
       "\t chic       & 35         & 29.6       & 2005-12-26 &  8.40000   &  8.5       & 14.041667  & 16.81944   & -7.830958 \\\\\n",
       "\\end{tabular}\n"
      ],
      "text/markdown": [
       "\n",
       "city | tmpd | dewpoint | date | pm25 | pm10tmean2 | o3tmean2 | no2tmean2 | pm25detrend | \n",
       "|---|---|---|---|---|---|\n",
       "| chic       | 35         | 30.1       | 2005-12-31 | 15.00000   | 23.5       |  2.531250  | 13.25000   | -1.230958  | \n",
       "| chic       | 36         | 31.0       | 2005-12-30 | 15.05714   | 19.2       |  3.034420  | 22.80556   | -1.173815  | \n",
       "| chic       | 35         | 29.4       | 2005-12-29 |  7.45000   | 23.5       |  6.794837  | 19.97222   | -8.780958  | \n",
       "| chic       | 37         | 34.5       | 2005-12-28 | 17.75000   | 27.5       |  3.260417  | 19.28563   |  1.519042  | \n",
       "| chic       | 40         | 33.6       | 2005-12-27 | 23.56000   | 27.0       |  4.468750  | 23.50000   |  7.329042  | \n",
       "| chic       | 35         | 29.6       | 2005-12-26 |  8.40000   |  8.5       | 14.041667  | 16.81944   | -7.830958  | \n",
       "\n",
       "\n"
      ],
      "text/plain": [
       "  city tmpd dewpoint date       pm25     pm10tmean2 o3tmean2  no2tmean2\n",
       "1 chic 35   30.1     2005-12-31 15.00000 23.5        2.531250 13.25000 \n",
       "2 chic 36   31.0     2005-12-30 15.05714 19.2        3.034420 22.80556 \n",
       "3 chic 35   29.4     2005-12-29  7.45000 23.5        6.794837 19.97222 \n",
       "4 chic 37   34.5     2005-12-28 17.75000 27.5        3.260417 19.28563 \n",
       "5 chic 40   33.6     2005-12-27 23.56000 27.0        4.468750 23.50000 \n",
       "6 chic 35   29.6     2005-12-26  8.40000  8.5       14.041667 16.81944 \n",
       "  pm25detrend\n",
       "1 -1.230958  \n",
       "2 -1.173815  \n",
       "3 -8.780958  \n",
       "4  1.519042  \n",
       "5  7.329042  \n",
       "6 -7.830958  "
      ]
     },
     "metadata": {},
     "output_type": "display_data"
    }
   ],
   "source": [
    "chicago <- mutate(chicago,pm25detrend=pm25-mean(pm25,na.rm = TRUE))\n",
    "head(chicago)"
   ]
  },
  {
   "cell_type": "code",
   "execution_count": 205,
   "metadata": {},
   "outputs": [
    {
     "data": {
      "text/html": [
       "<table>\n",
       "<thead><tr><th scope=col>city</th><th scope=col>tmpd</th><th scope=col>dewpoint</th><th scope=col>date</th><th scope=col>pm25</th><th scope=col>pm10tmean2</th><th scope=col>o3tmean2</th><th scope=col>no2tmean2</th><th scope=col>pm25detrend</th><th scope=col>tempcat</th></tr></thead>\n",
       "<tbody>\n",
       "\t<tr><td>chic      </td><td>35        </td><td>30.1      </td><td>2005-12-31</td><td>15.00000  </td><td>23.5      </td><td> 2.531250 </td><td>13.25000  </td><td>-1.230958 </td><td>cold      </td></tr>\n",
       "\t<tr><td>chic      </td><td>36        </td><td>31.0      </td><td>2005-12-30</td><td>15.05714  </td><td>19.2      </td><td> 3.034420 </td><td>22.80556  </td><td>-1.173815 </td><td>cold      </td></tr>\n",
       "\t<tr><td>chic      </td><td>35        </td><td>29.4      </td><td>2005-12-29</td><td> 7.45000  </td><td>23.5      </td><td> 6.794837 </td><td>19.97222  </td><td>-8.780958 </td><td>cold      </td></tr>\n",
       "\t<tr><td>chic      </td><td>37        </td><td>34.5      </td><td>2005-12-28</td><td>17.75000  </td><td>27.5      </td><td> 3.260417 </td><td>19.28563  </td><td> 1.519042 </td><td>cold      </td></tr>\n",
       "\t<tr><td>chic      </td><td>40        </td><td>33.6      </td><td>2005-12-27</td><td>23.56000  </td><td>27.0      </td><td> 4.468750 </td><td>23.50000  </td><td> 7.329042 </td><td>cold      </td></tr>\n",
       "\t<tr><td>chic      </td><td>35        </td><td>29.6      </td><td>2005-12-26</td><td> 8.40000  </td><td> 8.5      </td><td>14.041667 </td><td>16.81944  </td><td>-7.830958 </td><td>cold      </td></tr>\n",
       "</tbody>\n",
       "</table>\n"
      ],
      "text/latex": [
       "\\begin{tabular}{r|llllllllll}\n",
       " city & tmpd & dewpoint & date & pm25 & pm10tmean2 & o3tmean2 & no2tmean2 & pm25detrend & tempcat\\\\\n",
       "\\hline\n",
       "\t chic       & 35         & 30.1       & 2005-12-31 & 15.00000   & 23.5       &  2.531250  & 13.25000   & -1.230958  & cold      \\\\\n",
       "\t chic       & 36         & 31.0       & 2005-12-30 & 15.05714   & 19.2       &  3.034420  & 22.80556   & -1.173815  & cold      \\\\\n",
       "\t chic       & 35         & 29.4       & 2005-12-29 &  7.45000   & 23.5       &  6.794837  & 19.97222   & -8.780958  & cold      \\\\\n",
       "\t chic       & 37         & 34.5       & 2005-12-28 & 17.75000   & 27.5       &  3.260417  & 19.28563   &  1.519042  & cold      \\\\\n",
       "\t chic       & 40         & 33.6       & 2005-12-27 & 23.56000   & 27.0       &  4.468750  & 23.50000   &  7.329042  & cold      \\\\\n",
       "\t chic       & 35         & 29.6       & 2005-12-26 &  8.40000   &  8.5       & 14.041667  & 16.81944   & -7.830958  & cold      \\\\\n",
       "\\end{tabular}\n"
      ],
      "text/markdown": [
       "\n",
       "city | tmpd | dewpoint | date | pm25 | pm10tmean2 | o3tmean2 | no2tmean2 | pm25detrend | tempcat | \n",
       "|---|---|---|---|---|---|\n",
       "| chic       | 35         | 30.1       | 2005-12-31 | 15.00000   | 23.5       |  2.531250  | 13.25000   | -1.230958  | cold       | \n",
       "| chic       | 36         | 31.0       | 2005-12-30 | 15.05714   | 19.2       |  3.034420  | 22.80556   | -1.173815  | cold       | \n",
       "| chic       | 35         | 29.4       | 2005-12-29 |  7.45000   | 23.5       |  6.794837  | 19.97222   | -8.780958  | cold       | \n",
       "| chic       | 37         | 34.5       | 2005-12-28 | 17.75000   | 27.5       |  3.260417  | 19.28563   |  1.519042  | cold       | \n",
       "| chic       | 40         | 33.6       | 2005-12-27 | 23.56000   | 27.0       |  4.468750  | 23.50000   |  7.329042  | cold       | \n",
       "| chic       | 35         | 29.6       | 2005-12-26 |  8.40000   |  8.5       | 14.041667  | 16.81944   | -7.830958  | cold       | \n",
       "\n",
       "\n"
      ],
      "text/plain": [
       "  city tmpd dewpoint date       pm25     pm10tmean2 o3tmean2  no2tmean2\n",
       "1 chic 35   30.1     2005-12-31 15.00000 23.5        2.531250 13.25000 \n",
       "2 chic 36   31.0     2005-12-30 15.05714 19.2        3.034420 22.80556 \n",
       "3 chic 35   29.4     2005-12-29  7.45000 23.5        6.794837 19.97222 \n",
       "4 chic 37   34.5     2005-12-28 17.75000 27.5        3.260417 19.28563 \n",
       "5 chic 40   33.6     2005-12-27 23.56000 27.0        4.468750 23.50000 \n",
       "6 chic 35   29.6     2005-12-26  8.40000  8.5       14.041667 16.81944 \n",
       "  pm25detrend tempcat\n",
       "1 -1.230958   cold   \n",
       "2 -1.173815   cold   \n",
       "3 -8.780958   cold   \n",
       "4  1.519042   cold   \n",
       "5  7.329042   cold   \n",
       "6 -7.830958   cold   "
      ]
     },
     "metadata": {},
     "output_type": "display_data"
    }
   ],
   "source": [
    "chicago <- mutate(chicago,tempcat = factor(1*(tmpd>80),labels = c(\"cold\",\"hot\")))\n",
    "head(chicago)"
   ]
  },
  {
   "cell_type": "code",
   "execution_count": null,
   "metadata": {},
   "outputs": [],
   "source": []
  }
 ],
 "metadata": {
  "kernelspec": {
   "display_name": "R",
   "language": "R",
   "name": "ir"
  },
  "language_info": {
   "codemirror_mode": "r",
   "file_extension": ".r",
   "mimetype": "text/x-r-source",
   "name": "R",
   "pygments_lexer": "r",
   "version": "3.4.2"
  }
 },
 "nbformat": 4,
 "nbformat_minor": 2
}
