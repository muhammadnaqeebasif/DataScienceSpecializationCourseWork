{
 "cells": [
  {
   "cell_type": "code",
   "execution_count": 1,
   "metadata": {},
   "outputs": [
    {
     "name": "stderr",
     "output_type": "stream",
     "text": [
      "Warning message:\n",
      "\"package 'RMySQL' was built under R version 3.4.3\"Loading required package: DBI\n"
     ]
    }
   ],
   "source": [
    "library(RMySQL)"
   ]
  },
  {
   "cell_type": "code",
   "execution_count": 2,
   "metadata": {},
   "outputs": [
    {
     "data": {
      "text/html": [
       "TRUE"
      ],
      "text/latex": [
       "TRUE"
      ],
      "text/markdown": [
       "TRUE"
      ],
      "text/plain": [
       "[1] TRUE"
      ]
     },
     "metadata": {},
     "output_type": "display_data"
    }
   ],
   "source": [
    "UcscDv <- dbConnect(MySQL(),user=\"genome\",\n",
    "                    host=\"genome-mysql.cse.ucsc.edu\")\n",
    "result <- dbGetQuery(UcscDv,\"SHOW DATABASES;\")\n",
    "dbDisconnect(UcscDv)"
   ]
  },
  {
   "cell_type": "code",
   "execution_count": 3,
   "metadata": {},
   "outputs": [
    {
     "data": {
      "text/html": [
       "<table>\n",
       "<thead><tr><th scope=col>Database</th></tr></thead>\n",
       "<tbody>\n",
       "\t<tr><td>information_schema</td></tr>\n",
       "\t<tr><td>ailMel1           </td></tr>\n",
       "\t<tr><td>allMis1           </td></tr>\n",
       "\t<tr><td>anoCar1           </td></tr>\n",
       "\t<tr><td>anoCar2           </td></tr>\n",
       "\t<tr><td>anoGam1           </td></tr>\n",
       "\t<tr><td>apiMel1           </td></tr>\n",
       "\t<tr><td>apiMel2           </td></tr>\n",
       "\t<tr><td>aplCal1           </td></tr>\n",
       "\t<tr><td>aptMan1           </td></tr>\n",
       "\t<tr><td>aquChr2           </td></tr>\n",
       "\t<tr><td>balAcu1           </td></tr>\n",
       "\t<tr><td>bisBis1           </td></tr>\n",
       "\t<tr><td>bosTau2           </td></tr>\n",
       "\t<tr><td>bosTau3           </td></tr>\n",
       "\t<tr><td>bosTau4           </td></tr>\n",
       "\t<tr><td>bosTau5           </td></tr>\n",
       "\t<tr><td>bosTau6           </td></tr>\n",
       "\t<tr><td>bosTau7           </td></tr>\n",
       "\t<tr><td>bosTau8           </td></tr>\n",
       "\t<tr><td>bosTauMd3         </td></tr>\n",
       "\t<tr><td>braFlo1           </td></tr>\n",
       "\t<tr><td>caeJap1           </td></tr>\n",
       "\t<tr><td>caePb1            </td></tr>\n",
       "\t<tr><td>caePb2            </td></tr>\n",
       "\t<tr><td>caeRem2           </td></tr>\n",
       "\t<tr><td>caeRem3           </td></tr>\n",
       "\t<tr><td>calJac1           </td></tr>\n",
       "\t<tr><td>calJac3           </td></tr>\n",
       "\t<tr><td>calMil1           </td></tr>\n",
       "\t<tr><td>...</td></tr>\n",
       "\t<tr><td>sp121210</td></tr>\n",
       "\t<tr><td>sp140122</td></tr>\n",
       "\t<tr><td>sp150225</td></tr>\n",
       "\t<tr><td>sp160229</td></tr>\n",
       "\t<tr><td>speTri2 </td></tr>\n",
       "\t<tr><td>strPur1 </td></tr>\n",
       "\t<tr><td>strPur2 </td></tr>\n",
       "\t<tr><td>susScr11</td></tr>\n",
       "\t<tr><td>susScr2 </td></tr>\n",
       "\t<tr><td>susScr3 </td></tr>\n",
       "\t<tr><td>taeGut1 </td></tr>\n",
       "\t<tr><td>taeGut2 </td></tr>\n",
       "\t<tr><td>tarSyr1 </td></tr>\n",
       "\t<tr><td>tarSyr2 </td></tr>\n",
       "\t<tr><td>test    </td></tr>\n",
       "\t<tr><td>tetNig1 </td></tr>\n",
       "\t<tr><td>tetNig2 </td></tr>\n",
       "\t<tr><td>triMan1 </td></tr>\n",
       "\t<tr><td>tupBel1 </td></tr>\n",
       "\t<tr><td>turTru2 </td></tr>\n",
       "\t<tr><td>uniProt </td></tr>\n",
       "\t<tr><td>vicPac1 </td></tr>\n",
       "\t<tr><td>vicPac2 </td></tr>\n",
       "\t<tr><td>visiGene</td></tr>\n",
       "\t<tr><td>xenLae2 </td></tr>\n",
       "\t<tr><td>xenTro1 </td></tr>\n",
       "\t<tr><td>xenTro2 </td></tr>\n",
       "\t<tr><td>xenTro3 </td></tr>\n",
       "\t<tr><td>xenTro7 </td></tr>\n",
       "\t<tr><td>xenTro9 </td></tr>\n",
       "</tbody>\n",
       "</table>\n"
      ],
      "text/latex": [
       "\\begin{tabular}{r|l}\n",
       " Database\\\\\n",
       "\\hline\n",
       "\t information\\_schema\\\\\n",
       "\t ailMel1           \\\\\n",
       "\t allMis1           \\\\\n",
       "\t anoCar1           \\\\\n",
       "\t anoCar2           \\\\\n",
       "\t anoGam1           \\\\\n",
       "\t apiMel1           \\\\\n",
       "\t apiMel2           \\\\\n",
       "\t aplCal1           \\\\\n",
       "\t aptMan1           \\\\\n",
       "\t aquChr2           \\\\\n",
       "\t balAcu1           \\\\\n",
       "\t bisBis1           \\\\\n",
       "\t bosTau2           \\\\\n",
       "\t bosTau3           \\\\\n",
       "\t bosTau4           \\\\\n",
       "\t bosTau5           \\\\\n",
       "\t bosTau6           \\\\\n",
       "\t bosTau7           \\\\\n",
       "\t bosTau8           \\\\\n",
       "\t bosTauMd3         \\\\\n",
       "\t braFlo1           \\\\\n",
       "\t caeJap1           \\\\\n",
       "\t caePb1            \\\\\n",
       "\t caePb2            \\\\\n",
       "\t caeRem2           \\\\\n",
       "\t caeRem3           \\\\\n",
       "\t calJac1           \\\\\n",
       "\t calJac3           \\\\\n",
       "\t calMil1           \\\\\n",
       "\t ...\\\\\n",
       "\t sp121210\\\\\n",
       "\t sp140122\\\\\n",
       "\t sp150225\\\\\n",
       "\t sp160229\\\\\n",
       "\t speTri2 \\\\\n",
       "\t strPur1 \\\\\n",
       "\t strPur2 \\\\\n",
       "\t susScr11\\\\\n",
       "\t susScr2 \\\\\n",
       "\t susScr3 \\\\\n",
       "\t taeGut1 \\\\\n",
       "\t taeGut2 \\\\\n",
       "\t tarSyr1 \\\\\n",
       "\t tarSyr2 \\\\\n",
       "\t test    \\\\\n",
       "\t tetNig1 \\\\\n",
       "\t tetNig2 \\\\\n",
       "\t triMan1 \\\\\n",
       "\t tupBel1 \\\\\n",
       "\t turTru2 \\\\\n",
       "\t uniProt \\\\\n",
       "\t vicPac1 \\\\\n",
       "\t vicPac2 \\\\\n",
       "\t visiGene\\\\\n",
       "\t xenLae2 \\\\\n",
       "\t xenTro1 \\\\\n",
       "\t xenTro2 \\\\\n",
       "\t xenTro3 \\\\\n",
       "\t xenTro7 \\\\\n",
       "\t xenTro9 \\\\\n",
       "\\end{tabular}\n"
      ],
      "text/markdown": [
       "\n",
       "Database | \n",
       "|---|---|---|---|---|---|---|---|---|---|---|---|---|---|---|---|---|---|---|---|---|---|---|---|---|---|---|---|---|---|---|---|---|---|---|---|---|---|---|---|---|---|---|---|---|---|---|---|---|---|---|---|---|---|---|---|---|---|---|---|---|\n",
       "| information_schema | \n",
       "| ailMel1            | \n",
       "| allMis1            | \n",
       "| anoCar1            | \n",
       "| anoCar2            | \n",
       "| anoGam1            | \n",
       "| apiMel1            | \n",
       "| apiMel2            | \n",
       "| aplCal1            | \n",
       "| aptMan1            | \n",
       "| aquChr2            | \n",
       "| balAcu1            | \n",
       "| bisBis1            | \n",
       "| bosTau2            | \n",
       "| bosTau3            | \n",
       "| bosTau4            | \n",
       "| bosTau5            | \n",
       "| bosTau6            | \n",
       "| bosTau7            | \n",
       "| bosTau8            | \n",
       "| bosTauMd3          | \n",
       "| braFlo1            | \n",
       "| caeJap1            | \n",
       "| caePb1             | \n",
       "| caePb2             | \n",
       "| caeRem2            | \n",
       "| caeRem3            | \n",
       "| calJac1            | \n",
       "| calJac3            | \n",
       "| calMil1            | \n",
       "| ... | \n",
       "| sp121210 | \n",
       "| sp140122 | \n",
       "| sp150225 | \n",
       "| sp160229 | \n",
       "| speTri2  | \n",
       "| strPur1  | \n",
       "| strPur2  | \n",
       "| susScr11 | \n",
       "| susScr2  | \n",
       "| susScr3  | \n",
       "| taeGut1  | \n",
       "| taeGut2  | \n",
       "| tarSyr1  | \n",
       "| tarSyr2  | \n",
       "| test     | \n",
       "| tetNig1  | \n",
       "| tetNig2  | \n",
       "| triMan1  | \n",
       "| tupBel1  | \n",
       "| turTru2  | \n",
       "| uniProt  | \n",
       "| vicPac1  | \n",
       "| vicPac2  | \n",
       "| visiGene | \n",
       "| xenLae2  | \n",
       "| xenTro1  | \n",
       "| xenTro2  | \n",
       "| xenTro3  | \n",
       "| xenTro7  | \n",
       "| xenTro9  | \n",
       "\n",
       "\n"
      ],
      "text/plain": [
       "    Database          \n",
       "1   information_schema\n",
       "2   ailMel1           \n",
       "3   allMis1           \n",
       "4   anoCar1           \n",
       "5   anoCar2           \n",
       "6   anoGam1           \n",
       "7   apiMel1           \n",
       "8   apiMel2           \n",
       "9   aplCal1           \n",
       "10  aptMan1           \n",
       "11  aquChr2           \n",
       "12  balAcu1           \n",
       "13  bisBis1           \n",
       "14  bosTau2           \n",
       "15  bosTau3           \n",
       "16  bosTau4           \n",
       "17  bosTau5           \n",
       "18  bosTau6           \n",
       "19  bosTau7           \n",
       "20  bosTau8           \n",
       "21  bosTauMd3         \n",
       "22  braFlo1           \n",
       "23  caeJap1           \n",
       "24  caePb1            \n",
       "25  caePb2            \n",
       "26  caeRem2           \n",
       "27  caeRem3           \n",
       "28  calJac1           \n",
       "29  calJac3           \n",
       "30  calMil1           \n",
       "... ...               \n",
       "201 sp121210          \n",
       "202 sp140122          \n",
       "203 sp150225          \n",
       "204 sp160229          \n",
       "205 speTri2           \n",
       "206 strPur1           \n",
       "207 strPur2           \n",
       "208 susScr11          \n",
       "209 susScr2           \n",
       "210 susScr3           \n",
       "211 taeGut1           \n",
       "212 taeGut2           \n",
       "213 tarSyr1           \n",
       "214 tarSyr2           \n",
       "215 test              \n",
       "216 tetNig1           \n",
       "217 tetNig2           \n",
       "218 triMan1           \n",
       "219 tupBel1           \n",
       "220 turTru2           \n",
       "221 uniProt           \n",
       "222 vicPac1           \n",
       "223 vicPac2           \n",
       "224 visiGene          \n",
       "225 xenLae2           \n",
       "226 xenTro1           \n",
       "227 xenTro2           \n",
       "228 xenTro3           \n",
       "229 xenTro7           \n",
       "230 xenTro9           "
      ]
     },
     "metadata": {},
     "output_type": "display_data"
    }
   ],
   "source": [
    "result"
   ]
  },
  {
   "cell_type": "code",
   "execution_count": 7,
   "metadata": {},
   "outputs": [
    {
     "data": {
      "text/html": [
       "11107"
      ],
      "text/latex": [
       "11107"
      ],
      "text/markdown": [
       "11107"
      ],
      "text/plain": [
       "[1] 11107"
      ]
     },
     "metadata": {},
     "output_type": "display_data"
    }
   ],
   "source": [
    "hg19 <- dbConnect(MySQL(),user=\"genome\",\n",
    "                  host=\"genome-mysql.cse.ucsc.edu\",\n",
    "                  db=\"hg19\")\n",
    "allTables <-dbListTables(hg19)\n",
    "length(allTables)"
   ]
  },
  {
   "cell_type": "code",
   "execution_count": 8,
   "metadata": {},
   "outputs": [
    {
     "data": {
      "text/html": [
       "<ol class=list-inline>\n",
       "\t<li>'bin'</li>\n",
       "\t<li>'matches'</li>\n",
       "\t<li>'misMatches'</li>\n",
       "\t<li>'repMatches'</li>\n",
       "\t<li>'nCount'</li>\n",
       "\t<li>'qNumInsert'</li>\n",
       "\t<li>'qBaseInsert'</li>\n",
       "\t<li>'tNumInsert'</li>\n",
       "\t<li>'tBaseInsert'</li>\n",
       "\t<li>'strand'</li>\n",
       "\t<li>'qName'</li>\n",
       "\t<li>'qSize'</li>\n",
       "\t<li>'qStart'</li>\n",
       "\t<li>'qEnd'</li>\n",
       "\t<li>'tName'</li>\n",
       "\t<li>'tSize'</li>\n",
       "\t<li>'tStart'</li>\n",
       "\t<li>'tEnd'</li>\n",
       "\t<li>'blockCount'</li>\n",
       "\t<li>'blockSizes'</li>\n",
       "\t<li>'qStarts'</li>\n",
       "\t<li>'tStarts'</li>\n",
       "</ol>\n"
      ],
      "text/latex": [
       "\\begin{enumerate*}\n",
       "\\item 'bin'\n",
       "\\item 'matches'\n",
       "\\item 'misMatches'\n",
       "\\item 'repMatches'\n",
       "\\item 'nCount'\n",
       "\\item 'qNumInsert'\n",
       "\\item 'qBaseInsert'\n",
       "\\item 'tNumInsert'\n",
       "\\item 'tBaseInsert'\n",
       "\\item 'strand'\n",
       "\\item 'qName'\n",
       "\\item 'qSize'\n",
       "\\item 'qStart'\n",
       "\\item 'qEnd'\n",
       "\\item 'tName'\n",
       "\\item 'tSize'\n",
       "\\item 'tStart'\n",
       "\\item 'tEnd'\n",
       "\\item 'blockCount'\n",
       "\\item 'blockSizes'\n",
       "\\item 'qStarts'\n",
       "\\item 'tStarts'\n",
       "\\end{enumerate*}\n"
      ],
      "text/markdown": [
       "1. 'bin'\n",
       "2. 'matches'\n",
       "3. 'misMatches'\n",
       "4. 'repMatches'\n",
       "5. 'nCount'\n",
       "6. 'qNumInsert'\n",
       "7. 'qBaseInsert'\n",
       "8. 'tNumInsert'\n",
       "9. 'tBaseInsert'\n",
       "10. 'strand'\n",
       "11. 'qName'\n",
       "12. 'qSize'\n",
       "13. 'qStart'\n",
       "14. 'qEnd'\n",
       "15. 'tName'\n",
       "16. 'tSize'\n",
       "17. 'tStart'\n",
       "18. 'tEnd'\n",
       "19. 'blockCount'\n",
       "20. 'blockSizes'\n",
       "21. 'qStarts'\n",
       "22. 'tStarts'\n",
       "\n",
       "\n"
      ],
      "text/plain": [
       " [1] \"bin\"         \"matches\"     \"misMatches\"  \"repMatches\"  \"nCount\"     \n",
       " [6] \"qNumInsert\"  \"qBaseInsert\" \"tNumInsert\"  \"tBaseInsert\" \"strand\"     \n",
       "[11] \"qName\"       \"qSize\"       \"qStart\"      \"qEnd\"        \"tName\"      \n",
       "[16] \"tSize\"       \"tStart\"      \"tEnd\"        \"blockCount\"  \"blockSizes\" \n",
       "[21] \"qStarts\"     \"tStarts\"    "
      ]
     },
     "metadata": {},
     "output_type": "display_data"
    },
    {
     "data": {
      "text/html": [
       "<table>\n",
       "<thead><tr><th scope=col>COUNT(*)</th></tr></thead>\n",
       "<tbody>\n",
       "\t<tr><td>58463</td></tr>\n",
       "</tbody>\n",
       "</table>\n"
      ],
      "text/latex": [
       "\\begin{tabular}{r|l}\n",
       " COUNT(*)\\\\\n",
       "\\hline\n",
       "\t 58463\\\\\n",
       "\\end{tabular}\n"
      ],
      "text/markdown": [
       "\n",
       "COUNT(*) | \n",
       "|---|\n",
       "| 58463 | \n",
       "\n",
       "\n"
      ],
      "text/plain": [
       "  COUNT(*)\n",
       "1 58463   "
      ]
     },
     "metadata": {},
     "output_type": "display_data"
    },
    {
     "name": "stderr",
     "output_type": "stream",
     "text": [
      "Warning message in .local(conn, statement, ...):\n",
      "\"Unsigned INTEGER in col 0 imported as numeric\"Warning message in .local(conn, statement, ...):\n",
      "\"Unsigned INTEGER in col 1 imported as numeric\"Warning message in .local(conn, statement, ...):\n",
      "\"Unsigned INTEGER in col 2 imported as numeric\"Warning message in .local(conn, statement, ...):\n",
      "\"Unsigned INTEGER in col 3 imported as numeric\"Warning message in .local(conn, statement, ...):\n",
      "\"Unsigned INTEGER in col 4 imported as numeric\"Warning message in .local(conn, statement, ...):\n",
      "\"Unsigned INTEGER in col 5 imported as numeric\"Warning message in .local(conn, statement, ...):\n",
      "\"Unsigned INTEGER in col 6 imported as numeric\"Warning message in .local(conn, statement, ...):\n",
      "\"Unsigned INTEGER in col 7 imported as numeric\"Warning message in .local(conn, statement, ...):\n",
      "\"Unsigned INTEGER in col 8 imported as numeric\"Warning message in .local(conn, statement, ...):\n",
      "\"Unsigned INTEGER in col 11 imported as numeric\"Warning message in .local(conn, statement, ...):\n",
      "\"Unsigned INTEGER in col 12 imported as numeric\"Warning message in .local(conn, statement, ...):\n",
      "\"Unsigned INTEGER in col 13 imported as numeric\"Warning message in .local(conn, statement, ...):\n",
      "\"Unsigned INTEGER in col 15 imported as numeric\"Warning message in .local(conn, statement, ...):\n",
      "\"Unsigned INTEGER in col 16 imported as numeric\"Warning message in .local(conn, statement, ...):\n",
      "\"Unsigned INTEGER in col 17 imported as numeric\"Warning message in .local(conn, statement, ...):\n",
      "\"Unsigned INTEGER in col 18 imported as numeric\""
     ]
    },
    {
     "data": {
      "text/html": [
       "<table>\n",
       "<thead><tr><th scope=col>bin</th><th scope=col>matches</th><th scope=col>misMatches</th><th scope=col>repMatches</th><th scope=col>nCount</th><th scope=col>qNumInsert</th><th scope=col>qBaseInsert</th><th scope=col>tNumInsert</th><th scope=col>tBaseInsert</th><th scope=col>strand</th><th scope=col>...</th><th scope=col>qStart</th><th scope=col>qEnd</th><th scope=col>tName</th><th scope=col>tSize</th><th scope=col>tStart</th><th scope=col>tEnd</th><th scope=col>blockCount</th><th scope=col>blockSizes</th><th scope=col>qStarts</th><th scope=col>tStarts</th></tr></thead>\n",
       "<tbody>\n",
       "\t<tr><td>585                                                                                                                                       </td><td> 530                                                                                                                                      </td><td> 4                                                                                                                                        </td><td>0                                                                                                                                         </td><td> 23                                                                                                                                       </td><td> 3                                                                                                                                        </td><td>41                                                                                                                                        </td><td>3                                                                                                                                         </td><td>  898                                                                                                                                     </td><td>-                                                                                                                                         </td><td>...                                                                                                                                       </td><td> 5                                                                                                                                        </td><td> 603                                                                                                                                      </td><td>chr1                                                                                                                                      </td><td>249250621                                                                                                                                 </td><td>14361                                                                                                                                     </td><td>15816                                                                                                                                     </td><td> 5                                                                                                                                        </td><td>93,144,229,70,21,                                                                                                                         </td><td>34,132,278,541,611,                                                                                                                       </td><td>14361,14454,14599,14968,15795,                                                                                                            </td></tr>\n",
       "\t<tr><td>585                                                                                                                                       </td><td>3355                                                                                                                                      </td><td>17                                                                                                                                        </td><td>0                                                                                                                                         </td><td>109                                                                                                                                       </td><td> 9                                                                                                                                        </td><td>67                                                                                                                                        </td><td>9                                                                                                                                         </td><td>11621                                                                                                                                     </td><td>-                                                                                                                                         </td><td>...                                                                                                                                       </td><td> 0                                                                                                                                        </td><td>3548                                                                                                                                      </td><td>chr1                                                                                                                                      </td><td>249250621                                                                                                                                 </td><td>14381                                                                                                                                     </td><td>29483                                                                                                                                     </td><td>17                                                                                                                                        </td><td>73,375,71,165,303,360,198,661,201,1,260,250,74,73,98,155,163,                                                                             </td><td>87,165,540,647,818,1123,1484,1682,2343,2545,2546,2808,3058,3133,3206,3317,3472,                                                           </td><td>14381,14454,14969,15075,15240,15543,15903,16104,16853,17054,17232,17492,17914,17988,18267,24736,29320,                                    </td></tr>\n",
       "\t<tr><td>585                                                                                                                                       </td><td>4156                                                                                                                                      </td><td>14                                                                                                                                        </td><td>0                                                                                                                                         </td><td> 83                                                                                                                                       </td><td>16                                                                                                                                        </td><td>18                                                                                                                                        </td><td>2                                                                                                                                         </td><td>   93                                                                                                                                     </td><td>-                                                                                                                                         </td><td>...                                                                                                                                       </td><td> 3                                                                                                                                        </td><td>4274                                                                                                                                      </td><td>chr1                                                                                                                                      </td><td>249250621                                                                                                                                 </td><td>14399                                                                                                                                     </td><td>18745                                                                                                                                     </td><td>18                                                                                                                                        </td><td>690,10,32,33,376,4,5,15,5,11,7,41,277,859,141,51,443,1253,                                                                                </td><td>44,735,746,779,813,1190,1195,1201,1217,1223,1235,1243,1285,1564,2423,2565,2617,3062,                                                      </td><td>14399,15089,15099,15131,15164,15540,15544,15549,15564,15569,15580,15587,15628,15906,16857,16998,17049,17492,                              </td></tr>\n",
       "\t<tr><td>585                                                                                                                                       </td><td>4667                                                                                                                                      </td><td> 9                                                                                                                                        </td><td>0                                                                                                                                         </td><td> 68                                                                                                                                       </td><td>21                                                                                                                                        </td><td>42                                                                                                                                        </td><td>3                                                                                                                                         </td><td> 5743                                                                                                                                     </td><td>-                                                                                                                                         </td><td>...                                                                                                                                       </td><td>48                                                                                                                                        </td><td>4834                                                                                                                                      </td><td>chr1                                                                                                                                      </td><td>249250621                                                                                                                                 </td><td>14406                                                                                                                                     </td><td>24893                                                                                                                                     </td><td>23                                                                                                                                        </td><td>99,352,286,24,49,14,6,5,8,149,14,44,98,12,10,355,837,59,8,1500,133,624,58,                                                                </td><td>0,99,452,739,764,814,829,836,842,851,1001,1016,1061,1160,1173,1184,1540,2381,2441,2450,3951,4103,4728,                                    </td><td>14406,20227,20579,20865,20889,20938,20952,20958,20963,20971,21120,21134,21178,21276,21288,21298,21653,22492,22551,22559,24059,24211,24835,</td></tr>\n",
       "\t<tr><td>585                                                                                                                                       </td><td>5180                                                                                                                                      </td><td>14                                                                                                                                        </td><td>0                                                                                                                                         </td><td>167                                                                                                                                       </td><td>10                                                                                                                                        </td><td>38                                                                                                                                        </td><td>1                                                                                                                                         </td><td>   29                                                                                                                                     </td><td>-                                                                                                                                         </td><td>...                                                                                                                                       </td><td> 0                                                                                                                                        </td><td>5399                                                                                                                                      </td><td>chr1                                                                                                                                      </td><td>249250621                                                                                                                                 </td><td>19688                                                                                                                                     </td><td>25078                                                                                                                                     </td><td>11                                                                                                                                        </td><td>131,26,1300,6,4,11,4,7,358,3359,155,                                                                                                      </td><td>0,132,159,1460,1467,1472,1484,1489,1497,1856,5244,                                                                                        </td><td>19688,19819,19845,21145,21151,21155,21166,21170,21177,21535,24923,                                                                        </td></tr>\n",
       "\t<tr><td>585                                                                                                                                       </td><td> 468                                                                                                                                      </td><td> 5                                                                                                                                        </td><td>0                                                                                                                                         </td><td> 14                                                                                                                                       </td><td> 0                                                                                                                                        </td><td> 0                                                                                                                                        </td><td>0                                                                                                                                         </td><td>    0                                                                                                                                     </td><td>-                                                                                                                                         </td><td>...                                                                                                                                       </td><td> 0                                                                                                                                        </td><td> 487                                                                                                                                      </td><td>chr1                                                                                                                                      </td><td>249250621                                                                                                                                 </td><td>27542                                                                                                                                     </td><td>28029                                                                                                                                     </td><td> 1                                                                                                                                        </td><td>487,                                                                                                                                      </td><td>0,                                                                                                                                        </td><td>27542,                                                                                                                                    </td></tr>\n",
       "</tbody>\n",
       "</table>\n"
      ],
      "text/latex": [
       "\\begin{tabular}{r|llllllllllllllllllllll}\n",
       " bin & matches & misMatches & repMatches & nCount & qNumInsert & qBaseInsert & tNumInsert & tBaseInsert & strand & ... & qStart & qEnd & tName & tSize & tStart & tEnd & blockCount & blockSizes & qStarts & tStarts\\\\\n",
       "\\hline\n",
       "\t 585                                                                                                                                        &  530                                                                                                                                       &  4                                                                                                                                         & 0                                                                                                                                          &  23                                                                                                                                        &  3                                                                                                                                         & 41                                                                                                                                         & 3                                                                                                                                          &   898                                                                                                                                      & -                                                                                                                                          & ...                                                                                                                                        &  5                                                                                                                                         &  603                                                                                                                                       & chr1                                                                                                                                       & 249250621                                                                                                                                  & 14361                                                                                                                                      & 15816                                                                                                                                      &  5                                                                                                                                         & 93,144,229,70,21,                                                                                                                          & 34,132,278,541,611,                                                                                                                        & 14361,14454,14599,14968,15795,                                                                                                            \\\\\n",
       "\t 585                                                                                                                                        & 3355                                                                                                                                       & 17                                                                                                                                         & 0                                                                                                                                          & 109                                                                                                                                        &  9                                                                                                                                         & 67                                                                                                                                         & 9                                                                                                                                          & 11621                                                                                                                                      & -                                                                                                                                          & ...                                                                                                                                        &  0                                                                                                                                         & 3548                                                                                                                                       & chr1                                                                                                                                       & 249250621                                                                                                                                  & 14381                                                                                                                                      & 29483                                                                                                                                      & 17                                                                                                                                         & 73,375,71,165,303,360,198,661,201,1,260,250,74,73,98,155,163,                                                                              & 87,165,540,647,818,1123,1484,1682,2343,2545,2546,2808,3058,3133,3206,3317,3472,                                                            & 14381,14454,14969,15075,15240,15543,15903,16104,16853,17054,17232,17492,17914,17988,18267,24736,29320,                                    \\\\\n",
       "\t 585                                                                                                                                        & 4156                                                                                                                                       & 14                                                                                                                                         & 0                                                                                                                                          &  83                                                                                                                                        & 16                                                                                                                                         & 18                                                                                                                                         & 2                                                                                                                                          &    93                                                                                                                                      & -                                                                                                                                          & ...                                                                                                                                        &  3                                                                                                                                         & 4274                                                                                                                                       & chr1                                                                                                                                       & 249250621                                                                                                                                  & 14399                                                                                                                                      & 18745                                                                                                                                      & 18                                                                                                                                         & 690,10,32,33,376,4,5,15,5,11,7,41,277,859,141,51,443,1253,                                                                                 & 44,735,746,779,813,1190,1195,1201,1217,1223,1235,1243,1285,1564,2423,2565,2617,3062,                                                       & 14399,15089,15099,15131,15164,15540,15544,15549,15564,15569,15580,15587,15628,15906,16857,16998,17049,17492,                              \\\\\n",
       "\t 585                                                                                                                                        & 4667                                                                                                                                       &  9                                                                                                                                         & 0                                                                                                                                          &  68                                                                                                                                        & 21                                                                                                                                         & 42                                                                                                                                         & 3                                                                                                                                          &  5743                                                                                                                                      & -                                                                                                                                          & ...                                                                                                                                        & 48                                                                                                                                         & 4834                                                                                                                                       & chr1                                                                                                                                       & 249250621                                                                                                                                  & 14406                                                                                                                                      & 24893                                                                                                                                      & 23                                                                                                                                         & 99,352,286,24,49,14,6,5,8,149,14,44,98,12,10,355,837,59,8,1500,133,624,58,                                                                 & 0,99,452,739,764,814,829,836,842,851,1001,1016,1061,1160,1173,1184,1540,2381,2441,2450,3951,4103,4728,                                     & 14406,20227,20579,20865,20889,20938,20952,20958,20963,20971,21120,21134,21178,21276,21288,21298,21653,22492,22551,22559,24059,24211,24835,\\\\\n",
       "\t 585                                                                                                                                        & 5180                                                                                                                                       & 14                                                                                                                                         & 0                                                                                                                                          & 167                                                                                                                                        & 10                                                                                                                                         & 38                                                                                                                                         & 1                                                                                                                                          &    29                                                                                                                                      & -                                                                                                                                          & ...                                                                                                                                        &  0                                                                                                                                         & 5399                                                                                                                                       & chr1                                                                                                                                       & 249250621                                                                                                                                  & 19688                                                                                                                                      & 25078                                                                                                                                      & 11                                                                                                                                         & 131,26,1300,6,4,11,4,7,358,3359,155,                                                                                                       & 0,132,159,1460,1467,1472,1484,1489,1497,1856,5244,                                                                                         & 19688,19819,19845,21145,21151,21155,21166,21170,21177,21535,24923,                                                                        \\\\\n",
       "\t 585                                                                                                                                        &  468                                                                                                                                       &  5                                                                                                                                         & 0                                                                                                                                          &  14                                                                                                                                        &  0                                                                                                                                         &  0                                                                                                                                         & 0                                                                                                                                          &     0                                                                                                                                      & -                                                                                                                                          & ...                                                                                                                                        &  0                                                                                                                                         &  487                                                                                                                                       & chr1                                                                                                                                       & 249250621                                                                                                                                  & 27542                                                                                                                                      & 28029                                                                                                                                      &  1                                                                                                                                         & 487,                                                                                                                                       & 0,                                                                                                                                         & 27542,                                                                                                                                    \\\\\n",
       "\\end{tabular}\n"
      ],
      "text/markdown": [
       "\n",
       "bin | matches | misMatches | repMatches | nCount | qNumInsert | qBaseInsert | tNumInsert | tBaseInsert | strand | ... | qStart | qEnd | tName | tSize | tStart | tEnd | blockCount | blockSizes | qStarts | tStarts | \n",
       "|---|---|---|---|---|---|\n",
       "| 585                                                                                                                                        |  530                                                                                                                                       |  4                                                                                                                                         | 0                                                                                                                                          |  23                                                                                                                                        |  3                                                                                                                                         | 41                                                                                                                                         | 3                                                                                                                                          |   898                                                                                                                                      | -                                                                                                                                          | ...                                                                                                                                        |  5                                                                                                                                         |  603                                                                                                                                       | chr1                                                                                                                                       | 249250621                                                                                                                                  | 14361                                                                                                                                      | 15816                                                                                                                                      |  5                                                                                                                                         | 93,144,229,70,21,                                                                                                                          | 34,132,278,541,611,                                                                                                                        | 14361,14454,14599,14968,15795,                                                                                                             | \n",
       "| 585                                                                                                                                        | 3355                                                                                                                                       | 17                                                                                                                                         | 0                                                                                                                                          | 109                                                                                                                                        |  9                                                                                                                                         | 67                                                                                                                                         | 9                                                                                                                                          | 11621                                                                                                                                      | -                                                                                                                                          | ...                                                                                                                                        |  0                                                                                                                                         | 3548                                                                                                                                       | chr1                                                                                                                                       | 249250621                                                                                                                                  | 14381                                                                                                                                      | 29483                                                                                                                                      | 17                                                                                                                                         | 73,375,71,165,303,360,198,661,201,1,260,250,74,73,98,155,163,                                                                              | 87,165,540,647,818,1123,1484,1682,2343,2545,2546,2808,3058,3133,3206,3317,3472,                                                            | 14381,14454,14969,15075,15240,15543,15903,16104,16853,17054,17232,17492,17914,17988,18267,24736,29320,                                     | \n",
       "| 585                                                                                                                                        | 4156                                                                                                                                       | 14                                                                                                                                         | 0                                                                                                                                          |  83                                                                                                                                        | 16                                                                                                                                         | 18                                                                                                                                         | 2                                                                                                                                          |    93                                                                                                                                      | -                                                                                                                                          | ...                                                                                                                                        |  3                                                                                                                                         | 4274                                                                                                                                       | chr1                                                                                                                                       | 249250621                                                                                                                                  | 14399                                                                                                                                      | 18745                                                                                                                                      | 18                                                                                                                                         | 690,10,32,33,376,4,5,15,5,11,7,41,277,859,141,51,443,1253,                                                                                 | 44,735,746,779,813,1190,1195,1201,1217,1223,1235,1243,1285,1564,2423,2565,2617,3062,                                                       | 14399,15089,15099,15131,15164,15540,15544,15549,15564,15569,15580,15587,15628,15906,16857,16998,17049,17492,                               | \n",
       "| 585                                                                                                                                        | 4667                                                                                                                                       |  9                                                                                                                                         | 0                                                                                                                                          |  68                                                                                                                                        | 21                                                                                                                                         | 42                                                                                                                                         | 3                                                                                                                                          |  5743                                                                                                                                      | -                                                                                                                                          | ...                                                                                                                                        | 48                                                                                                                                         | 4834                                                                                                                                       | chr1                                                                                                                                       | 249250621                                                                                                                                  | 14406                                                                                                                                      | 24893                                                                                                                                      | 23                                                                                                                                         | 99,352,286,24,49,14,6,5,8,149,14,44,98,12,10,355,837,59,8,1500,133,624,58,                                                                 | 0,99,452,739,764,814,829,836,842,851,1001,1016,1061,1160,1173,1184,1540,2381,2441,2450,3951,4103,4728,                                     | 14406,20227,20579,20865,20889,20938,20952,20958,20963,20971,21120,21134,21178,21276,21288,21298,21653,22492,22551,22559,24059,24211,24835, | \n",
       "| 585                                                                                                                                        | 5180                                                                                                                                       | 14                                                                                                                                         | 0                                                                                                                                          | 167                                                                                                                                        | 10                                                                                                                                         | 38                                                                                                                                         | 1                                                                                                                                          |    29                                                                                                                                      | -                                                                                                                                          | ...                                                                                                                                        |  0                                                                                                                                         | 5399                                                                                                                                       | chr1                                                                                                                                       | 249250621                                                                                                                                  | 19688                                                                                                                                      | 25078                                                                                                                                      | 11                                                                                                                                         | 131,26,1300,6,4,11,4,7,358,3359,155,                                                                                                       | 0,132,159,1460,1467,1472,1484,1489,1497,1856,5244,                                                                                         | 19688,19819,19845,21145,21151,21155,21166,21170,21177,21535,24923,                                                                         | \n",
       "| 585                                                                                                                                        |  468                                                                                                                                       |  5                                                                                                                                         | 0                                                                                                                                          |  14                                                                                                                                        |  0                                                                                                                                         |  0                                                                                                                                         | 0                                                                                                                                          |     0                                                                                                                                      | -                                                                                                                                          | ...                                                                                                                                        |  0                                                                                                                                         |  487                                                                                                                                       | chr1                                                                                                                                       | 249250621                                                                                                                                  | 27542                                                                                                                                      | 28029                                                                                                                                      |  1                                                                                                                                         | 487,                                                                                                                                       | 0,                                                                                                                                         | 27542,                                                                                                                                     | \n",
       "\n",
       "\n"
      ],
      "text/plain": [
       "  bin matches misMatches repMatches nCount qNumInsert qBaseInsert tNumInsert\n",
       "1 585  530     4         0           23     3         41          3         \n",
       "2 585 3355    17         0          109     9         67          9         \n",
       "3 585 4156    14         0           83    16         18          2         \n",
       "4 585 4667     9         0           68    21         42          3         \n",
       "5 585 5180    14         0          167    10         38          1         \n",
       "6 585  468     5         0           14     0          0          0         \n",
       "  tBaseInsert strand ... qStart qEnd tName tSize     tStart tEnd  blockCount\n",
       "1   898       -      ...  5      603 chr1  249250621 14361  15816  5        \n",
       "2 11621       -      ...  0     3548 chr1  249250621 14381  29483 17        \n",
       "3    93       -      ...  3     4274 chr1  249250621 14399  18745 18        \n",
       "4  5743       -      ... 48     4834 chr1  249250621 14406  24893 23        \n",
       "5    29       -      ...  0     5399 chr1  249250621 19688  25078 11        \n",
       "6     0       -      ...  0      487 chr1  249250621 27542  28029  1        \n",
       "  blockSizes                                                                \n",
       "1 93,144,229,70,21,                                                         \n",
       "2 73,375,71,165,303,360,198,661,201,1,260,250,74,73,98,155,163,             \n",
       "3 690,10,32,33,376,4,5,15,5,11,7,41,277,859,141,51,443,1253,                \n",
       "4 99,352,286,24,49,14,6,5,8,149,14,44,98,12,10,355,837,59,8,1500,133,624,58,\n",
       "5 131,26,1300,6,4,11,4,7,358,3359,155,                                      \n",
       "6 487,                                                                      \n",
       "  qStarts                                                                                               \n",
       "1 34,132,278,541,611,                                                                                   \n",
       "2 87,165,540,647,818,1123,1484,1682,2343,2545,2546,2808,3058,3133,3206,3317,3472,                       \n",
       "3 44,735,746,779,813,1190,1195,1201,1217,1223,1235,1243,1285,1564,2423,2565,2617,3062,                  \n",
       "4 0,99,452,739,764,814,829,836,842,851,1001,1016,1061,1160,1173,1184,1540,2381,2441,2450,3951,4103,4728,\n",
       "5 0,132,159,1460,1467,1472,1484,1489,1497,1856,5244,                                                    \n",
       "6 0,                                                                                                    \n",
       "  tStarts                                                                                                                                   \n",
       "1 14361,14454,14599,14968,15795,                                                                                                            \n",
       "2 14381,14454,14969,15075,15240,15543,15903,16104,16853,17054,17232,17492,17914,17988,18267,24736,29320,                                    \n",
       "3 14399,15089,15099,15131,15164,15540,15544,15549,15564,15569,15580,15587,15628,15906,16857,16998,17049,17492,                              \n",
       "4 14406,20227,20579,20865,20889,20938,20952,20958,20963,20971,21120,21134,21178,21276,21288,21298,21653,22492,22551,22559,24059,24211,24835,\n",
       "5 19688,19819,19845,21145,21151,21155,21166,21170,21177,21535,24923,                                                                        \n",
       "6 27542,                                                                                                                                    "
      ]
     },
     "metadata": {},
     "output_type": "display_data"
    }
   ],
   "source": [
    "dbListFields(hg19,\"affyU133Plus2\")\n",
    "\n",
    "dbGetQuery(hg19,\"SELECT COUNT(*) FROM affyU133Plus2;\")\n",
    "\n",
    "affyData <- dbReadTable(hg19,\"affyU133Plus2\")\n",
    "\n",
    "head(affyData)"
   ]
  },
  {
   "cell_type": "code",
   "execution_count": 9,
   "metadata": {},
   "outputs": [
    {
     "name": "stderr",
     "output_type": "stream",
     "text": [
      "Warning message in .local(conn, statement, ...):\n",
      "\"Unsigned INTEGER in col 0 imported as numeric\"Warning message in .local(conn, statement, ...):\n",
      "\"Unsigned INTEGER in col 1 imported as numeric\"Warning message in .local(conn, statement, ...):\n",
      "\"Unsigned INTEGER in col 2 imported as numeric\"Warning message in .local(conn, statement, ...):\n",
      "\"Unsigned INTEGER in col 3 imported as numeric\"Warning message in .local(conn, statement, ...):\n",
      "\"Unsigned INTEGER in col 4 imported as numeric\"Warning message in .local(conn, statement, ...):\n",
      "\"Unsigned INTEGER in col 5 imported as numeric\"Warning message in .local(conn, statement, ...):\n",
      "\"Unsigned INTEGER in col 6 imported as numeric\"Warning message in .local(conn, statement, ...):\n",
      "\"Unsigned INTEGER in col 7 imported as numeric\"Warning message in .local(conn, statement, ...):\n",
      "\"Unsigned INTEGER in col 8 imported as numeric\"Warning message in .local(conn, statement, ...):\n",
      "\"Unsigned INTEGER in col 11 imported as numeric\"Warning message in .local(conn, statement, ...):\n",
      "\"Unsigned INTEGER in col 12 imported as numeric\"Warning message in .local(conn, statement, ...):\n",
      "\"Unsigned INTEGER in col 13 imported as numeric\"Warning message in .local(conn, statement, ...):\n",
      "\"Unsigned INTEGER in col 15 imported as numeric\"Warning message in .local(conn, statement, ...):\n",
      "\"Unsigned INTEGER in col 16 imported as numeric\"Warning message in .local(conn, statement, ...):\n",
      "\"Unsigned INTEGER in col 17 imported as numeric\"Warning message in .local(conn, statement, ...):\n",
      "\"Unsigned INTEGER in col 18 imported as numeric\""
     ]
    },
    {
     "data": {
      "text/html": [
       "<dl class=dl-horizontal>\n",
       "\t<dt>0%</dt>\n",
       "\t\t<dd>1</dd>\n",
       "\t<dt>25%</dt>\n",
       "\t\t<dd>1</dd>\n",
       "\t<dt>50%</dt>\n",
       "\t\t<dd>2</dd>\n",
       "\t<dt>75%</dt>\n",
       "\t\t<dd>2</dd>\n",
       "\t<dt>100%</dt>\n",
       "\t\t<dd>3</dd>\n",
       "</dl>\n"
      ],
      "text/latex": [
       "\\begin{description*}\n",
       "\\item[0\\textbackslash{}\\%] 1\n",
       "\\item[25\\textbackslash{}\\%] 1\n",
       "\\item[50\\textbackslash{}\\%] 2\n",
       "\\item[75\\textbackslash{}\\%] 2\n",
       "\\item[100\\textbackslash{}\\%] 3\n",
       "\\end{description*}\n"
      ],
      "text/markdown": [
       "0%\n",
       ":   125%\n",
       ":   150%\n",
       ":   275%\n",
       ":   2100%\n",
       ":   3\n",
       "\n"
      ],
      "text/plain": [
       "  0%  25%  50%  75% 100% \n",
       "   1    1    2    2    3 "
      ]
     },
     "metadata": {},
     "output_type": "display_data"
    },
    {
     "data": {
      "text/html": [
       "TRUE"
      ],
      "text/latex": [
       "TRUE"
      ],
      "text/markdown": [
       "TRUE"
      ],
      "text/plain": [
       "[1] TRUE"
      ]
     },
     "metadata": {},
     "output_type": "display_data"
    }
   ],
   "source": [
    "query <- dbSendQuery(hg19,\"SELECT * FROM affyU133Plus2 WHERE\n",
    "                     misMatches BETWEEN 1 AND 3\")\n",
    "affyMist <-fetch(query)\n",
    "quantile(affyMist$misMatches)\n",
    "\n",
    "dbClearResult(query)"
   ]
  },
  {
   "cell_type": "markdown",
   "metadata": {},
   "source": [
    "# HDF5"
   ]
  },
  {
   "cell_type": "code",
   "execution_count": null,
   "metadata": {},
   "outputs": [],
   "source": [
    "library(rhdf5)"
   ]
  }
 ],
 "metadata": {
  "kernelspec": {
   "display_name": "R",
   "language": "R",
   "name": "ir"
  },
  "language_info": {
   "codemirror_mode": "r",
   "file_extension": ".r",
   "mimetype": "text/x-r-source",
   "name": "R",
   "pygments_lexer": "r",
   "version": "3.4.2"
  }
 },
 "nbformat": 4,
 "nbformat_minor": 2
}
