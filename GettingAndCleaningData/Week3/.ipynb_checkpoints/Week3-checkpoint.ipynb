{
 "cells": [
  {
   "cell_type": "markdown",
   "metadata": {},
   "source": [
    "# Week 3"
   ]
  },
  {
   "cell_type": "markdown",
   "metadata": {},
   "source": [
    "## Lecture 1: Subsetting and Sorting"
   ]
  },
  {
   "cell_type": "markdown",
   "metadata": {},
   "source": [
    "### Subsetting"
   ]
  },
  {
   "cell_type": "code",
   "execution_count": 22,
   "metadata": {},
   "outputs": [],
   "source": [
    "options(warn=-1)"
   ]
  },
  {
   "cell_type": "code",
   "execution_count": 1,
   "metadata": {},
   "outputs": [],
   "source": [
    "set.seed(13435)"
   ]
  },
  {
   "cell_type": "code",
   "execution_count": 2,
   "metadata": {},
   "outputs": [
    {
     "data": {
      "text/html": [
       "<table>\n",
       "<thead><tr><th scope=col>var1</th><th scope=col>var2</th><th scope=col>var3</th></tr></thead>\n",
       "<tbody>\n",
       "\t<tr><td>2 </td><td> 8</td><td>15</td></tr>\n",
       "\t<tr><td>3 </td><td> 7</td><td>12</td></tr>\n",
       "\t<tr><td>5 </td><td> 6</td><td>14</td></tr>\n",
       "\t<tr><td>1 </td><td>10</td><td>11</td></tr>\n",
       "\t<tr><td>4 </td><td> 9</td><td>13</td></tr>\n",
       "</tbody>\n",
       "</table>\n"
      ],
      "text/latex": [
       "\\begin{tabular}{r|lll}\n",
       " var1 & var2 & var3\\\\\n",
       "\\hline\n",
       "\t 2  &  8 & 15\\\\\n",
       "\t 3  &  7 & 12\\\\\n",
       "\t 5  &  6 & 14\\\\\n",
       "\t 1  & 10 & 11\\\\\n",
       "\t 4  &  9 & 13\\\\\n",
       "\\end{tabular}\n"
      ],
      "text/markdown": [
       "\n",
       "var1 | var2 | var3 | \n",
       "|---|---|---|---|---|\n",
       "| 2  |  8 | 15 | \n",
       "| 3  |  7 | 12 | \n",
       "| 5  |  6 | 14 | \n",
       "| 1  | 10 | 11 | \n",
       "| 4  |  9 | 13 | \n",
       "\n",
       "\n"
      ],
      "text/plain": [
       "  var1 var2 var3\n",
       "1 2     8   15  \n",
       "2 3     7   12  \n",
       "3 5     6   14  \n",
       "4 1    10   11  \n",
       "5 4     9   13  "
      ]
     },
     "metadata": {},
     "output_type": "display_data"
    }
   ],
   "source": [
    "X <- data.frame(\"var1\"=sample(1:5),\"var2\"=sample(6:10),\"var3\"=sample(11:15))\n",
    "X"
   ]
  },
  {
   "cell_type": "code",
   "execution_count": 4,
   "metadata": {},
   "outputs": [],
   "source": [
    "X <- X[sample(1:5),];X$var2[c(1,3)]=NA"
   ]
  },
  {
   "cell_type": "code",
   "execution_count": 5,
   "metadata": {},
   "outputs": [
    {
     "data": {
      "text/html": [
       "<table>\n",
       "<thead><tr><th></th><th scope=col>var1</th><th scope=col>var2</th><th scope=col>var3</th></tr></thead>\n",
       "<tbody>\n",
       "\t<tr><th scope=row>1</th><td>2 </td><td>NA</td><td>15</td></tr>\n",
       "\t<tr><th scope=row>4</th><td>1 </td><td>10</td><td>11</td></tr>\n",
       "\t<tr><th scope=row>2</th><td>3 </td><td>NA</td><td>12</td></tr>\n",
       "\t<tr><th scope=row>3</th><td>5 </td><td>NA</td><td>14</td></tr>\n",
       "\t<tr><th scope=row>5</th><td>4 </td><td> 9</td><td>13</td></tr>\n",
       "</tbody>\n",
       "</table>\n"
      ],
      "text/latex": [
       "\\begin{tabular}{r|lll}\n",
       "  & var1 & var2 & var3\\\\\n",
       "\\hline\n",
       "\t1 & 2  & NA & 15\\\\\n",
       "\t4 & 1  & 10 & 11\\\\\n",
       "\t2 & 3  & NA & 12\\\\\n",
       "\t3 & 5  & NA & 14\\\\\n",
       "\t5 & 4  &  9 & 13\\\\\n",
       "\\end{tabular}\n"
      ],
      "text/markdown": [
       "\n",
       "| <!--/--> | var1 | var2 | var3 | \n",
       "|---|---|---|---|---|\n",
       "| 1 | 2  | NA | 15 | \n",
       "| 4 | 1  | 10 | 11 | \n",
       "| 2 | 3  | NA | 12 | \n",
       "| 3 | 5  | NA | 14 | \n",
       "| 5 | 4  |  9 | 13 | \n",
       "\n",
       "\n"
      ],
      "text/plain": [
       "  var1 var2 var3\n",
       "1 2    NA   15  \n",
       "4 1    10   11  \n",
       "2 3    NA   12  \n",
       "3 5    NA   14  \n",
       "5 4     9   13  "
      ]
     },
     "metadata": {},
     "output_type": "display_data"
    }
   ],
   "source": [
    "X"
   ]
  },
  {
   "cell_type": "code",
   "execution_count": 6,
   "metadata": {},
   "outputs": [
    {
     "data": {
      "text/html": [
       "<ol class=list-inline>\n",
       "\t<li>2</li>\n",
       "\t<li>1</li>\n",
       "\t<li>3</li>\n",
       "\t<li>5</li>\n",
       "\t<li>4</li>\n",
       "</ol>\n"
      ],
      "text/latex": [
       "\\begin{enumerate*}\n",
       "\\item 2\n",
       "\\item 1\n",
       "\\item 3\n",
       "\\item 5\n",
       "\\item 4\n",
       "\\end{enumerate*}\n"
      ],
      "text/markdown": [
       "1. 2\n",
       "2. 1\n",
       "3. 3\n",
       "4. 5\n",
       "5. 4\n",
       "\n",
       "\n"
      ],
      "text/plain": [
       "[1] 2 1 3 5 4"
      ]
     },
     "metadata": {},
     "output_type": "display_data"
    }
   ],
   "source": [
    "X[,1]"
   ]
  },
  {
   "cell_type": "code",
   "execution_count": 7,
   "metadata": {},
   "outputs": [
    {
     "data": {
      "text/html": [
       "<ol class=list-inline>\n",
       "\t<li>2</li>\n",
       "\t<li>1</li>\n",
       "\t<li>3</li>\n",
       "\t<li>5</li>\n",
       "\t<li>4</li>\n",
       "</ol>\n"
      ],
      "text/latex": [
       "\\begin{enumerate*}\n",
       "\\item 2\n",
       "\\item 1\n",
       "\\item 3\n",
       "\\item 5\n",
       "\\item 4\n",
       "\\end{enumerate*}\n"
      ],
      "text/markdown": [
       "1. 2\n",
       "2. 1\n",
       "3. 3\n",
       "4. 5\n",
       "5. 4\n",
       "\n",
       "\n"
      ],
      "text/plain": [
       "[1] 2 1 3 5 4"
      ]
     },
     "metadata": {},
     "output_type": "display_data"
    }
   ],
   "source": [
    "X[,\"var1\"]"
   ]
  },
  {
   "cell_type": "code",
   "execution_count": 9,
   "metadata": {},
   "outputs": [
    {
     "data": {
      "text/html": [
       "<ol class=list-inline>\n",
       "\t<li>&lt;NA&gt;</li>\n",
       "\t<li>10</li>\n",
       "</ol>\n"
      ],
      "text/latex": [
       "\\begin{enumerate*}\n",
       "\\item <NA>\n",
       "\\item 10\n",
       "\\end{enumerate*}\n"
      ],
      "text/markdown": [
       "1. &lt;NA&gt;\n",
       "2. 10\n",
       "\n",
       "\n"
      ],
      "text/plain": [
       "[1] NA 10"
      ]
     },
     "metadata": {},
     "output_type": "display_data"
    }
   ],
   "source": [
    "X[1:2,\"var2\"]"
   ]
  },
  {
   "cell_type": "code",
   "execution_count": 10,
   "metadata": {},
   "outputs": [
    {
     "data": {
      "text/html": [
       "<table>\n",
       "<thead><tr><th scope=col>var1</th><th scope=col>var2</th><th scope=col>var3</th></tr></thead>\n",
       "<tbody>\n",
       "\t<tr><td>2 </td><td>NA</td><td>15</td></tr>\n",
       "\t<tr><td>3 </td><td>NA</td><td>12</td></tr>\n",
       "</tbody>\n",
       "</table>\n"
      ],
      "text/latex": [
       "\\begin{tabular}{r|lll}\n",
       " var1 & var2 & var3\\\\\n",
       "\\hline\n",
       "\t 2  & NA & 15\\\\\n",
       "\t 3  & NA & 12\\\\\n",
       "\\end{tabular}\n"
      ],
      "text/markdown": [
       "\n",
       "var1 | var2 | var3 | \n",
       "|---|---|\n",
       "| 2  | NA | 15 | \n",
       "| 3  | NA | 12 | \n",
       "\n",
       "\n"
      ],
      "text/plain": [
       "  var1 var2 var3\n",
       "1 2    NA   15  \n",
       "2 3    NA   12  "
      ]
     },
     "metadata": {},
     "output_type": "display_data"
    }
   ],
   "source": [
    "X[(X$var1 <= 3) & (X$var3 >11),]"
   ]
  },
  {
   "cell_type": "code",
   "execution_count": 12,
   "metadata": {},
   "outputs": [
    {
     "data": {
      "text/html": [
       "<table>\n",
       "<thead><tr><th></th><th scope=col>var1</th><th scope=col>var2</th><th scope=col>var3</th></tr></thead>\n",
       "<tbody>\n",
       "\t<tr><th scope=row>4</th><td>1 </td><td>10</td><td>11</td></tr>\n",
       "\t<tr><th scope=row>5</th><td>4 </td><td> 9</td><td>13</td></tr>\n",
       "</tbody>\n",
       "</table>\n"
      ],
      "text/latex": [
       "\\begin{tabular}{r|lll}\n",
       "  & var1 & var2 & var3\\\\\n",
       "\\hline\n",
       "\t4 & 1  & 10 & 11\\\\\n",
       "\t5 & 4  &  9 & 13\\\\\n",
       "\\end{tabular}\n"
      ],
      "text/markdown": [
       "\n",
       "| <!--/--> | var1 | var2 | var3 | \n",
       "|---|---|\n",
       "| 4 | 1  | 10 | 11 | \n",
       "| 5 | 4  |  9 | 13 | \n",
       "\n",
       "\n"
      ],
      "text/plain": [
       "  var1 var2 var3\n",
       "4 1    10   11  \n",
       "5 4     9   13  "
      ]
     },
     "metadata": {},
     "output_type": "display_data"
    }
   ],
   "source": [
    "X[which(X$var2>8),]"
   ]
  },
  {
   "cell_type": "markdown",
   "metadata": {},
   "source": [
    "### Sorting"
   ]
  },
  {
   "cell_type": "code",
   "execution_count": 13,
   "metadata": {},
   "outputs": [
    {
     "data": {
      "text/html": [
       "<ol class=list-inline>\n",
       "\t<li>1</li>\n",
       "\t<li>2</li>\n",
       "\t<li>3</li>\n",
       "\t<li>4</li>\n",
       "\t<li>5</li>\n",
       "</ol>\n"
      ],
      "text/latex": [
       "\\begin{enumerate*}\n",
       "\\item 1\n",
       "\\item 2\n",
       "\\item 3\n",
       "\\item 4\n",
       "\\item 5\n",
       "\\end{enumerate*}\n"
      ],
      "text/markdown": [
       "1. 1\n",
       "2. 2\n",
       "3. 3\n",
       "4. 4\n",
       "5. 5\n",
       "\n",
       "\n"
      ],
      "text/plain": [
       "[1] 1 2 3 4 5"
      ]
     },
     "metadata": {},
     "output_type": "display_data"
    }
   ],
   "source": [
    "sort(X$var1)"
   ]
  },
  {
   "cell_type": "code",
   "execution_count": 14,
   "metadata": {},
   "outputs": [
    {
     "data": {
      "text/html": [
       "<ol class=list-inline>\n",
       "\t<li>5</li>\n",
       "\t<li>4</li>\n",
       "\t<li>3</li>\n",
       "\t<li>2</li>\n",
       "\t<li>1</li>\n",
       "</ol>\n"
      ],
      "text/latex": [
       "\\begin{enumerate*}\n",
       "\\item 5\n",
       "\\item 4\n",
       "\\item 3\n",
       "\\item 2\n",
       "\\item 1\n",
       "\\end{enumerate*}\n"
      ],
      "text/markdown": [
       "1. 5\n",
       "2. 4\n",
       "3. 3\n",
       "4. 2\n",
       "5. 1\n",
       "\n",
       "\n"
      ],
      "text/plain": [
       "[1] 5 4 3 2 1"
      ]
     },
     "metadata": {},
     "output_type": "display_data"
    }
   ],
   "source": [
    "sort(X$var1,decreasing = TRUE)"
   ]
  },
  {
   "cell_type": "code",
   "execution_count": 15,
   "metadata": {},
   "outputs": [
    {
     "data": {
      "text/html": [
       "<ol class=list-inline>\n",
       "\t<li>9</li>\n",
       "\t<li>10</li>\n",
       "\t<li>&lt;NA&gt;</li>\n",
       "\t<li>&lt;NA&gt;</li>\n",
       "\t<li>&lt;NA&gt;</li>\n",
       "</ol>\n"
      ],
      "text/latex": [
       "\\begin{enumerate*}\n",
       "\\item 9\n",
       "\\item 10\n",
       "\\item <NA>\n",
       "\\item <NA>\n",
       "\\item <NA>\n",
       "\\end{enumerate*}\n"
      ],
      "text/markdown": [
       "1. 9\n",
       "2. 10\n",
       "3. &lt;NA&gt;\n",
       "4. &lt;NA&gt;\n",
       "5. &lt;NA&gt;\n",
       "\n",
       "\n"
      ],
      "text/plain": [
       "[1]  9 10 NA NA NA"
      ]
     },
     "metadata": {},
     "output_type": "display_data"
    }
   ],
   "source": [
    "sort(X$var2,na.last = TRUE)"
   ]
  },
  {
   "cell_type": "code",
   "execution_count": 16,
   "metadata": {},
   "outputs": [
    {
     "data": {
      "text/html": [
       "<table>\n",
       "<thead><tr><th></th><th scope=col>var1</th><th scope=col>var2</th><th scope=col>var3</th></tr></thead>\n",
       "<tbody>\n",
       "\t<tr><th scope=row>4</th><td>1 </td><td>10</td><td>11</td></tr>\n",
       "\t<tr><th scope=row>1</th><td>2 </td><td>NA</td><td>15</td></tr>\n",
       "\t<tr><th scope=row>2</th><td>3 </td><td>NA</td><td>12</td></tr>\n",
       "\t<tr><th scope=row>5</th><td>4 </td><td> 9</td><td>13</td></tr>\n",
       "\t<tr><th scope=row>3</th><td>5 </td><td>NA</td><td>14</td></tr>\n",
       "</tbody>\n",
       "</table>\n"
      ],
      "text/latex": [
       "\\begin{tabular}{r|lll}\n",
       "  & var1 & var2 & var3\\\\\n",
       "\\hline\n",
       "\t4 & 1  & 10 & 11\\\\\n",
       "\t1 & 2  & NA & 15\\\\\n",
       "\t2 & 3  & NA & 12\\\\\n",
       "\t5 & 4  &  9 & 13\\\\\n",
       "\t3 & 5  & NA & 14\\\\\n",
       "\\end{tabular}\n"
      ],
      "text/markdown": [
       "\n",
       "| <!--/--> | var1 | var2 | var3 | \n",
       "|---|---|---|---|---|\n",
       "| 4 | 1  | 10 | 11 | \n",
       "| 1 | 2  | NA | 15 | \n",
       "| 2 | 3  | NA | 12 | \n",
       "| 5 | 4  |  9 | 13 | \n",
       "| 3 | 5  | NA | 14 | \n",
       "\n",
       "\n"
      ],
      "text/plain": [
       "  var1 var2 var3\n",
       "4 1    10   11  \n",
       "1 2    NA   15  \n",
       "2 3    NA   12  \n",
       "5 4     9   13  \n",
       "3 5    NA   14  "
      ]
     },
     "metadata": {},
     "output_type": "display_data"
    }
   ],
   "source": [
    "X[order(X$var1),]"
   ]
  },
  {
   "cell_type": "code",
   "execution_count": 18,
   "metadata": {},
   "outputs": [
    {
     "data": {
      "text/html": [
       "<table>\n",
       "<thead><tr><th></th><th scope=col>var1</th><th scope=col>var2</th><th scope=col>var3</th></tr></thead>\n",
       "<tbody>\n",
       "\t<tr><th scope=row>4</th><td>1 </td><td>10</td><td>11</td></tr>\n",
       "\t<tr><th scope=row>1</th><td>2 </td><td>NA</td><td>15</td></tr>\n",
       "\t<tr><th scope=row>2</th><td>3 </td><td>NA</td><td>12</td></tr>\n",
       "\t<tr><th scope=row>5</th><td>4 </td><td> 9</td><td>13</td></tr>\n",
       "\t<tr><th scope=row>3</th><td>5 </td><td>NA</td><td>14</td></tr>\n",
       "</tbody>\n",
       "</table>\n"
      ],
      "text/latex": [
       "\\begin{tabular}{r|lll}\n",
       "  & var1 & var2 & var3\\\\\n",
       "\\hline\n",
       "\t4 & 1  & 10 & 11\\\\\n",
       "\t1 & 2  & NA & 15\\\\\n",
       "\t2 & 3  & NA & 12\\\\\n",
       "\t5 & 4  &  9 & 13\\\\\n",
       "\t3 & 5  & NA & 14\\\\\n",
       "\\end{tabular}\n"
      ],
      "text/markdown": [
       "\n",
       "| <!--/--> | var1 | var2 | var3 | \n",
       "|---|---|---|---|---|\n",
       "| 4 | 1  | 10 | 11 | \n",
       "| 1 | 2  | NA | 15 | \n",
       "| 2 | 3  | NA | 12 | \n",
       "| 5 | 4  |  9 | 13 | \n",
       "| 3 | 5  | NA | 14 | \n",
       "\n",
       "\n"
      ],
      "text/plain": [
       "  var1 var2 var3\n",
       "4 1    10   11  \n",
       "1 2    NA   15  \n",
       "2 3    NA   12  \n",
       "5 4     9   13  \n",
       "3 5    NA   14  "
      ]
     },
     "metadata": {},
     "output_type": "display_data"
    }
   ],
   "source": [
    "#####Multiplie Sort\n",
    "X[order(X$var1,X$var3),]"
   ]
  },
  {
   "cell_type": "code",
   "execution_count": 19,
   "metadata": {},
   "outputs": [
    {
     "name": "stdout",
     "output_type": "stream",
     "text": [
      "package 'plyr' successfully unpacked and MD5 sums checked\n",
      "\n",
      "The downloaded binary packages are in\n",
      "\tC:\\Users\\naqee\\AppData\\Local\\Temp\\Rtmps3jj0T\\downloaded_packages\n"
     ]
    }
   ],
   "source": [
    "#install.packages(\"plyr\",repos = \"https://cran.ma.imperial.ac.uk/\")"
   ]
  },
  {
   "cell_type": "markdown",
   "metadata": {},
   "source": [
    "### Ordering with plyr"
   ]
  },
  {
   "cell_type": "code",
   "execution_count": 23,
   "metadata": {},
   "outputs": [],
   "source": [
    "library(plyr)"
   ]
  },
  {
   "cell_type": "code",
   "execution_count": 24,
   "metadata": {},
   "outputs": [
    {
     "data": {
      "text/html": [
       "<table>\n",
       "<thead><tr><th scope=col>var1</th><th scope=col>var2</th><th scope=col>var3</th></tr></thead>\n",
       "<tbody>\n",
       "\t<tr><td>1 </td><td>10</td><td>11</td></tr>\n",
       "\t<tr><td>2 </td><td>NA</td><td>15</td></tr>\n",
       "\t<tr><td>3 </td><td>NA</td><td>12</td></tr>\n",
       "\t<tr><td>4 </td><td> 9</td><td>13</td></tr>\n",
       "\t<tr><td>5 </td><td>NA</td><td>14</td></tr>\n",
       "</tbody>\n",
       "</table>\n"
      ],
      "text/latex": [
       "\\begin{tabular}{r|lll}\n",
       " var1 & var2 & var3\\\\\n",
       "\\hline\n",
       "\t 1  & 10 & 11\\\\\n",
       "\t 2  & NA & 15\\\\\n",
       "\t 3  & NA & 12\\\\\n",
       "\t 4  &  9 & 13\\\\\n",
       "\t 5  & NA & 14\\\\\n",
       "\\end{tabular}\n"
      ],
      "text/markdown": [
       "\n",
       "var1 | var2 | var3 | \n",
       "|---|---|---|---|---|\n",
       "| 1  | 10 | 11 | \n",
       "| 2  | NA | 15 | \n",
       "| 3  | NA | 12 | \n",
       "| 4  |  9 | 13 | \n",
       "| 5  | NA | 14 | \n",
       "\n",
       "\n"
      ],
      "text/plain": [
       "  var1 var2 var3\n",
       "1 1    10   11  \n",
       "2 2    NA   15  \n",
       "3 3    NA   12  \n",
       "4 4     9   13  \n",
       "5 5    NA   14  "
      ]
     },
     "metadata": {},
     "output_type": "display_data"
    }
   ],
   "source": [
    "arrange(X,var1)"
   ]
  },
  {
   "cell_type": "code",
   "execution_count": 25,
   "metadata": {},
   "outputs": [
    {
     "data": {
      "text/html": [
       "<table>\n",
       "<thead><tr><th scope=col>var1</th><th scope=col>var2</th><th scope=col>var3</th></tr></thead>\n",
       "<tbody>\n",
       "\t<tr><td>5 </td><td>NA</td><td>14</td></tr>\n",
       "\t<tr><td>4 </td><td> 9</td><td>13</td></tr>\n",
       "\t<tr><td>3 </td><td>NA</td><td>12</td></tr>\n",
       "\t<tr><td>2 </td><td>NA</td><td>15</td></tr>\n",
       "\t<tr><td>1 </td><td>10</td><td>11</td></tr>\n",
       "</tbody>\n",
       "</table>\n"
      ],
      "text/latex": [
       "\\begin{tabular}{r|lll}\n",
       " var1 & var2 & var3\\\\\n",
       "\\hline\n",
       "\t 5  & NA & 14\\\\\n",
       "\t 4  &  9 & 13\\\\\n",
       "\t 3  & NA & 12\\\\\n",
       "\t 2  & NA & 15\\\\\n",
       "\t 1  & 10 & 11\\\\\n",
       "\\end{tabular}\n"
      ],
      "text/markdown": [
       "\n",
       "var1 | var2 | var3 | \n",
       "|---|---|---|---|---|\n",
       "| 5  | NA | 14 | \n",
       "| 4  |  9 | 13 | \n",
       "| 3  | NA | 12 | \n",
       "| 2  | NA | 15 | \n",
       "| 1  | 10 | 11 | \n",
       "\n",
       "\n"
      ],
      "text/plain": [
       "  var1 var2 var3\n",
       "1 5    NA   14  \n",
       "2 4     9   13  \n",
       "3 3    NA   12  \n",
       "4 2    NA   15  \n",
       "5 1    10   11  "
      ]
     },
     "metadata": {},
     "output_type": "display_data"
    }
   ],
   "source": [
    "arrange(X,desc(var1))"
   ]
  },
  {
   "cell_type": "markdown",
   "metadata": {},
   "source": [
    "### Adding rows and columns"
   ]
  },
  {
   "cell_type": "code",
   "execution_count": 26,
   "metadata": {},
   "outputs": [
    {
     "data": {
      "text/html": [
       "<table>\n",
       "<thead><tr><th></th><th scope=col>var1</th><th scope=col>var2</th><th scope=col>var3</th><th scope=col>var4</th></tr></thead>\n",
       "<tbody>\n",
       "\t<tr><th scope=row>1</th><td>2         </td><td>NA        </td><td>15        </td><td> 0.1875960</td></tr>\n",
       "\t<tr><th scope=row>4</th><td>1         </td><td>10        </td><td>11        </td><td> 1.7869764</td></tr>\n",
       "\t<tr><th scope=row>2</th><td>3         </td><td>NA        </td><td>12        </td><td> 0.4966936</td></tr>\n",
       "\t<tr><th scope=row>3</th><td>5         </td><td>NA        </td><td>14        </td><td> 0.0631830</td></tr>\n",
       "\t<tr><th scope=row>5</th><td>4         </td><td> 9        </td><td>13        </td><td>-0.5361329</td></tr>\n",
       "</tbody>\n",
       "</table>\n"
      ],
      "text/latex": [
       "\\begin{tabular}{r|llll}\n",
       "  & var1 & var2 & var3 & var4\\\\\n",
       "\\hline\n",
       "\t1 & 2          & NA         & 15         &  0.1875960\\\\\n",
       "\t4 & 1          & 10         & 11         &  1.7869764\\\\\n",
       "\t2 & 3          & NA         & 12         &  0.4966936\\\\\n",
       "\t3 & 5          & NA         & 14         &  0.0631830\\\\\n",
       "\t5 & 4          &  9         & 13         & -0.5361329\\\\\n",
       "\\end{tabular}\n"
      ],
      "text/markdown": [
       "\n",
       "| <!--/--> | var1 | var2 | var3 | var4 | \n",
       "|---|---|---|---|---|\n",
       "| 1 | 2          | NA         | 15         |  0.1875960 | \n",
       "| 4 | 1          | 10         | 11         |  1.7869764 | \n",
       "| 2 | 3          | NA         | 12         |  0.4966936 | \n",
       "| 3 | 5          | NA         | 14         |  0.0631830 | \n",
       "| 5 | 4          |  9         | 13         | -0.5361329 | \n",
       "\n",
       "\n"
      ],
      "text/plain": [
       "  var1 var2 var3 var4      \n",
       "1 2    NA   15    0.1875960\n",
       "4 1    10   11    1.7869764\n",
       "2 3    NA   12    0.4966936\n",
       "3 5    NA   14    0.0631830\n",
       "5 4     9   13   -0.5361329"
      ]
     },
     "metadata": {},
     "output_type": "display_data"
    }
   ],
   "source": [
    "X$var4 <- rnorm(5)\n",
    "X"
   ]
  },
  {
   "cell_type": "code",
   "execution_count": 28,
   "metadata": {},
   "outputs": [],
   "source": [
    "Y <- cbind(X,rnorm(5))"
   ]
  },
  {
   "cell_type": "code",
   "execution_count": 29,
   "metadata": {},
   "outputs": [
    {
     "data": {
      "text/html": [
       "<table>\n",
       "<thead><tr><th></th><th scope=col>var1</th><th scope=col>var2</th><th scope=col>var3</th><th scope=col>var4</th><th scope=col>rnorm(5)</th></tr></thead>\n",
       "<tbody>\n",
       "\t<tr><th scope=row>1</th><td>2          </td><td>NA         </td><td>15         </td><td> 0.1875960 </td><td> 0.62578490</td></tr>\n",
       "\t<tr><th scope=row>4</th><td>1          </td><td>10         </td><td>11         </td><td> 1.7869764 </td><td>-2.45083750</td></tr>\n",
       "\t<tr><th scope=row>2</th><td>3          </td><td>NA         </td><td>12         </td><td> 0.4966936 </td><td> 0.08909424</td></tr>\n",
       "\t<tr><th scope=row>3</th><td>5          </td><td>NA         </td><td>14         </td><td> 0.0631830 </td><td> 0.47838570</td></tr>\n",
       "\t<tr><th scope=row>5</th><td>4          </td><td> 9         </td><td>13         </td><td>-0.5361329 </td><td> 1.00053336</td></tr>\n",
       "</tbody>\n",
       "</table>\n"
      ],
      "text/latex": [
       "\\begin{tabular}{r|lllll}\n",
       "  & var1 & var2 & var3 & var4 & rnorm(5)\\\\\n",
       "\\hline\n",
       "\t1 & 2           & NA          & 15          &  0.1875960  &  0.62578490\\\\\n",
       "\t4 & 1           & 10          & 11          &  1.7869764  & -2.45083750\\\\\n",
       "\t2 & 3           & NA          & 12          &  0.4966936  &  0.08909424\\\\\n",
       "\t3 & 5           & NA          & 14          &  0.0631830  &  0.47838570\\\\\n",
       "\t5 & 4           &  9          & 13          & -0.5361329  &  1.00053336\\\\\n",
       "\\end{tabular}\n"
      ],
      "text/markdown": [
       "\n",
       "| <!--/--> | var1 | var2 | var3 | var4 | rnorm(5) | \n",
       "|---|---|---|---|---|\n",
       "| 1 | 2           | NA          | 15          |  0.1875960  |  0.62578490 | \n",
       "| 4 | 1           | 10          | 11          |  1.7869764  | -2.45083750 | \n",
       "| 2 | 3           | NA          | 12          |  0.4966936  |  0.08909424 | \n",
       "| 3 | 5           | NA          | 14          |  0.0631830  |  0.47838570 | \n",
       "| 5 | 4           |  9          | 13          | -0.5361329  |  1.00053336 | \n",
       "\n",
       "\n"
      ],
      "text/plain": [
       "  var1 var2 var3 var4       rnorm(5)   \n",
       "1 2    NA   15    0.1875960  0.62578490\n",
       "4 1    10   11    1.7869764 -2.45083750\n",
       "2 3    NA   12    0.4966936  0.08909424\n",
       "3 5    NA   14    0.0631830  0.47838570\n",
       "5 4     9   13   -0.5361329  1.00053336"
      ]
     },
     "metadata": {},
     "output_type": "display_data"
    }
   ],
   "source": [
    "Y"
   ]
  },
  {
   "cell_type": "markdown",
   "metadata": {},
   "source": [
    "---"
   ]
  },
  {
   "cell_type": "markdown",
   "metadata": {},
   "source": [
    "# Lecture 2: Summarizing Data"
   ]
  },
  {
   "cell_type": "code",
   "execution_count": 30,
   "metadata": {},
   "outputs": [],
   "source": [
    "if(!file.exists(\"./data\")){\n",
    "    dir.create(\"./data\")\n",
    "}\n",
    "fileUrl <- \"https://data.baltimorecity.gov/api/views/k5ry-ef3g/rows.csv?accessType=DOWNLOAD\"\n",
    "download.file(fileUrl,destfile = \"./data/Restaurants.csv\")\n",
    "restData <- read.csv(\"./data/Restaurants.csv\")"
   ]
  },
  {
   "cell_type": "code",
   "execution_count": 33,
   "metadata": {},
   "outputs": [
    {
     "data": {
      "text/html": [
       "<table>\n",
       "<thead><tr><th scope=col>name</th><th scope=col>zipCode</th><th scope=col>neighborhood</th><th scope=col>councilDistrict</th><th scope=col>policeDistrict</th><th scope=col>Location.1</th></tr></thead>\n",
       "<tbody>\n",
       "\t<tr><td>410                              </td><td>21206                            </td><td>Frankford                        </td><td>2                                </td><td>NORTHEASTERN                     </td><td>4509 BELAIR ROAD\n",
       "Baltimore, MD\n",
       "</td></tr>\n",
       "\t<tr><td>1919                             </td><td>21231                            </td><td>Fells Point                      </td><td>1                                </td><td>SOUTHEASTERN                     </td><td>1919 FLEET ST\n",
       "Baltimore, MD\n",
       "   </td></tr>\n",
       "\t<tr><td>SAUTE                            </td><td>21224                            </td><td>Canton                           </td><td>1                                </td><td>SOUTHEASTERN                     </td><td>2844 HUDSON ST\n",
       "Baltimore, MD\n",
       "  </td></tr>\n",
       "</tbody>\n",
       "</table>\n"
      ],
      "text/latex": [
       "\\begin{tabular}{r|llllll}\n",
       " name & zipCode & neighborhood & councilDistrict & policeDistrict & Location.1\\\\\n",
       "\\hline\n",
       "\t 410                               & 21206                             & Frankford                         & 2                                 & NORTHEASTERN                      & 4509 BELAIR ROAD\n",
       "Baltimore, MD\n",
       "\\\\\n",
       "\t 1919                              & 21231                             & Fells Point                       & 1                                 & SOUTHEASTERN                      & 1919 FLEET ST\n",
       "Baltimore, MD\n",
       "   \\\\\n",
       "\t SAUTE                             & 21224                             & Canton                            & 1                                 & SOUTHEASTERN                      & 2844 HUDSON ST\n",
       "Baltimore, MD\n",
       "  \\\\\n",
       "\\end{tabular}\n"
      ],
      "text/markdown": [
       "\n",
       "name | zipCode | neighborhood | councilDistrict | policeDistrict | Location.1 | \n",
       "|---|---|---|\n",
       "| 410                               | 21206                             | Frankford                         | 2                                 | NORTHEASTERN                      | 4509 BELAIR ROAD\n",
       "Baltimore, MD\n",
       " | \n",
       "| 1919                              | 21231                             | Fells Point                       | 1                                 | SOUTHEASTERN                      | 1919 FLEET ST\n",
       "Baltimore, MD\n",
       "    | \n",
       "| SAUTE                             | 21224                             | Canton                            | 1                                 | SOUTHEASTERN                      | 2844 HUDSON ST\n",
       "Baltimore, MD\n",
       "   | \n",
       "\n",
       "\n"
      ],
      "text/plain": [
       "  name  zipCode neighborhood councilDistrict policeDistrict\n",
       "1 410   21206   Frankford    2               NORTHEASTERN  \n",
       "2 1919  21231   Fells Point  1               SOUTHEASTERN  \n",
       "3 SAUTE 21224   Canton       1               SOUTHEASTERN  \n",
       "  Location.1                       \n",
       "1 4509 BELAIR ROAD\\nBaltimore, MD\\n\n",
       "2 1919 FLEET ST\\nBaltimore, MD\\n   \n",
       "3 2844 HUDSON ST\\nBaltimore, MD\\n  "
      ]
     },
     "metadata": {},
     "output_type": "display_data"
    }
   ],
   "source": [
    "head(restData,n=3)"
   ]
  },
  {
   "cell_type": "code",
   "execution_count": 34,
   "metadata": {},
   "outputs": [
    {
     "data": {
      "text/html": [
       "<table>\n",
       "<thead><tr><th></th><th scope=col>name</th><th scope=col>zipCode</th><th scope=col>neighborhood</th><th scope=col>councilDistrict</th><th scope=col>policeDistrict</th><th scope=col>Location.1</th></tr></thead>\n",
       "<tbody>\n",
       "\t<tr><th scope=row>1325</th><td>ZINK'S CAFÂ                      </td><td>21213                             </td><td>Belair-Edison                     </td><td>13                                </td><td>NORTHEASTERN                      </td><td>3300 LAWNVIEW AVE\n",
       "Baltimore, MD\n",
       "</td></tr>\n",
       "\t<tr><th scope=row>1326</th><td>ZISSIMOS BAR                      </td><td>21211                             </td><td>Hampden                           </td><td> 7                                </td><td>NORTHERN                          </td><td>1023 36TH ST\n",
       "Baltimore, MD\n",
       "     </td></tr>\n",
       "\t<tr><th scope=row>1327</th><td>ZORBAS                            </td><td>21224                             </td><td>Greektown                         </td><td> 2                                </td><td>SOUTHEASTERN                      </td><td>4710 EASTERN Ave\n",
       "Baltimore, MD\n",
       " </td></tr>\n",
       "</tbody>\n",
       "</table>\n"
      ],
      "text/latex": [
       "\\begin{tabular}{r|llllll}\n",
       "  & name & zipCode & neighborhood & councilDistrict & policeDistrict & Location.1\\\\\n",
       "\\hline\n",
       "\t1325 & ZINK'S CAFÂ                       & 21213                              & Belair-Edison                      & 13                                 & NORTHEASTERN                       & 3300 LAWNVIEW AVE\n",
       "Baltimore, MD\n",
       "\\\\\n",
       "\t1326 & ZISSIMOS BAR                       & 21211                              & Hampden                            &  7                                 & NORTHERN                           & 1023 36TH ST\n",
       "Baltimore, MD\n",
       "     \\\\\n",
       "\t1327 & ZORBAS                             & 21224                              & Greektown                          &  2                                 & SOUTHEASTERN                       & 4710 EASTERN Ave\n",
       "Baltimore, MD\n",
       " \\\\\n",
       "\\end{tabular}\n"
      ],
      "text/markdown": [
       "\n",
       "| <!--/--> | name | zipCode | neighborhood | councilDistrict | policeDistrict | Location.1 | \n",
       "|---|---|---|\n",
       "| 1325 | ZINK'S CAFÂ                       | 21213                              | Belair-Edison                      | 13                                 | NORTHEASTERN                       | 3300 LAWNVIEW AVE\n",
       "Baltimore, MD\n",
       " | \n",
       "| 1326 | ZISSIMOS BAR                       | 21211                              | Hampden                            |  7                                 | NORTHERN                           | 1023 36TH ST\n",
       "Baltimore, MD\n",
       "      | \n",
       "| 1327 | ZORBAS                             | 21224                              | Greektown                          |  2                                 | SOUTHEASTERN                       | 4710 EASTERN Ave\n",
       "Baltimore, MD\n",
       "  | \n",
       "\n",
       "\n"
      ],
      "text/plain": [
       "     name         zipCode neighborhood  councilDistrict policeDistrict\n",
       "1325 ZINK'S CAFÂ 21213   Belair-Edison 13              NORTHEASTERN  \n",
       "1326 ZISSIMOS BAR 21211   Hampden        7              NORTHERN      \n",
       "1327 ZORBAS       21224   Greektown      2              SOUTHEASTERN  \n",
       "     Location.1                        \n",
       "1325 3300 LAWNVIEW AVE\\nBaltimore, MD\\n\n",
       "1326 1023 36TH ST\\nBaltimore, MD\\n     \n",
       "1327 4710 EASTERN Ave\\nBaltimore, MD\\n "
      ]
     },
     "metadata": {},
     "output_type": "display_data"
    }
   ],
   "source": [
    "tail(restData,n=3)"
   ]
  },
  {
   "cell_type": "code",
   "execution_count": 58,
   "metadata": {},
   "outputs": [
    {
     "data": {
      "text/html": [
       "\n",
       "<table width=\"100%\" summary=\"page for summary {base}\"><tr><td>summary {base}</td><td style=\"text-align: right;\">R Documentation</td></tr></table>\n",
       "\n",
       "<h2>Object Summaries</h2>\n",
       "\n",
       "<h3>Description</h3>\n",
       "\n",
       "<p><code>summary</code> is a generic function used to produce result summaries\n",
       "of the results of various model fitting functions.  The function\n",
       "invokes particular <code>methods</code> which depend on the\n",
       "<code>class</code> of the first argument.\n",
       "</p>\n",
       "\n",
       "\n",
       "<h3>Usage</h3>\n",
       "\n",
       "<pre>\n",
       "summary(object, ...)\n",
       "\n",
       "## Default S3 method:\n",
       "summary(object, ..., digits)\n",
       "## S3 method for class 'data.frame'\n",
       "summary(object, maxsum = 7,\n",
       "       digits = max(3, getOption(\"digits\")-3), ...)\n",
       "\n",
       "## S3 method for class 'factor'\n",
       "summary(object, maxsum = 100, ...)\n",
       "\n",
       "## S3 method for class 'matrix'\n",
       "summary(object, ...)\n",
       "\n",
       "## S3 method for class 'summaryDefault'\n",
       "format(x, digits = max(3L, getOption(\"digits\") - 3L), ...)\n",
       " ## S3 method for class 'summaryDefault'\n",
       "print(x, digits = max(3L, getOption(\"digits\") - 3L), ...)\n",
       "</pre>\n",
       "\n",
       "\n",
       "<h3>Arguments</h3>\n",
       "\n",
       "<table summary=\"R argblock\">\n",
       "<tr valign=\"top\"><td><code>object</code></td>\n",
       "<td>\n",
       "<p>an object for which a summary is desired.</p>\n",
       "</td></tr>\n",
       "<tr valign=\"top\"><td><code>x</code></td>\n",
       "<td>\n",
       "<p>a result of the <em>default</em> method of <code>summary()</code>.</p>\n",
       "</td></tr>\n",
       "<tr valign=\"top\"><td><code>maxsum</code></td>\n",
       "<td>\n",
       "<p>integer, indicating how many levels should be shown for\n",
       "<code>factor</code>s.</p>\n",
       "</td></tr>\n",
       "<tr valign=\"top\"><td><code>digits</code></td>\n",
       "<td>\n",
       "<p>integer, used for number formatting with\n",
       "<code>signif()</code> (for <code>summary.default</code>) or\n",
       "<code>format()</code> (for <code>summary.data.frame</code>).  In\n",
       "<code>summary.default</code>, if not specified (i.e.,\n",
       "<code>missing(.)</code>), <code>signif()</code> will <em>not</em> be called\n",
       "anymore (since <span style=\"font-family: Courier New, Courier; color: #666666;\"><b>R</b></span> &gt;= 3.4.0, where the default has been changed to\n",
       "only round in the <code>print</code> and <code>format</code> methods).</p>\n",
       "</td></tr></table>\n",
       "\n",
       "<table summary=\"R argblock\">\n",
       "<tr valign=\"top\"><td><code>...</code></td>\n",
       "<td>\n",
       "<p>additional arguments affecting the summary produced.</p>\n",
       "</td></tr>\n",
       "</table>\n",
       "\n",
       "\n",
       "<h3>Details</h3>\n",
       "\n",
       "<p>For <code>factor</code>s, the frequency of the first <code>maxsum - 1</code>\n",
       "most frequent levels is shown, and the less frequent levels are\n",
       "summarized in <code>\"(Others)\"</code> (resulting in at most <code>maxsum</code>\n",
       "frequencies).\n",
       "</p>\n",
       "<p>The functions <code>summary.lm</code> and <code>summary.glm</code> are examples\n",
       "of particular methods which summarize the results produced by\n",
       "<code>lm</code> and <code>glm</code>.\n",
       "</p>\n",
       "\n",
       "\n",
       "<h3>Value</h3>\n",
       "\n",
       "<p>The form of the value returned by <code>summary</code> depends on the\n",
       "class of its argument.  See the documentation of the particular\n",
       "methods for details of what is produced by that method.\n",
       "</p>\n",
       "<p>The default method returns an object of class\n",
       "<code>c(\"summaryDefault\", \"table\")</code> which has specialized\n",
       "<code>format</code> and <code>print</code> methods.  The\n",
       "<code>factor</code> method returns an integer vector.\n",
       "</p>\n",
       "<p>The matrix and data frame methods return a matrix of class\n",
       "<code>\"table\"</code>, obtained by applying <code>summary</code> to each\n",
       "column and collating the results.\n",
       "</p>\n",
       "\n",
       "\n",
       "<h3>References</h3>\n",
       "\n",
       "<p>Chambers, J. M. and Hastie, T. J. (1992)\n",
       "<em>Statistical Models in S</em>.\n",
       "Wadsworth &amp; Brooks/Cole.\n",
       "</p>\n",
       "\n",
       "\n",
       "<h3>See Also</h3>\n",
       "\n",
       "<p><code>anova</code>,\n",
       "<code>summary.glm</code>,\n",
       "<code>summary.lm</code>.\n",
       "</p>\n",
       "\n",
       "\n",
       "<h3>Examples</h3>\n",
       "\n",
       "<pre>\n",
       "summary(attenu, digits = 4) #-&gt; summary.data.frame(...), default precision\n",
       "summary(attenu $ station, maxsum = 20) #-&gt; summary.factor(...)\n",
       "\n",
       "lst &lt;- unclass(attenu$station) &gt; 20 # logical with NAs\n",
       "## summary.default() for logicals -- different from *.factor:\n",
       "summary(lst)\n",
       "summary(as.factor(lst))\n",
       "</pre>\n",
       "\n",
       "<hr /><div style=\"text-align: center;\">[Package <em>base</em> version 3.4.2 ]</div>"
      ],
      "text/latex": [
       "\\inputencoding{utf8}\n",
       "\\HeaderA{summary}{Object Summaries}{summary}\n",
       "\\aliasA{format.summaryDefault}{summary}{format.summaryDefault}\n",
       "\\aliasA{print.summaryDefault}{summary}{print.summaryDefault}\n",
       "\\methaliasA{summary.data.frame}{summary}{summary.data.frame}\n",
       "\\methaliasA{summary.default}{summary}{summary.default}\n",
       "\\methaliasA{summary.factor}{summary}{summary.factor}\n",
       "\\methaliasA{summary.matrix}{summary}{summary.matrix}\n",
       "\\keyword{methods}{summary}\n",
       "%\n",
       "\\begin{Description}\\relax\n",
       "\\code{summary} is a generic function used to produce result summaries\n",
       "of the results of various model fitting functions.  The function\n",
       "invokes particular \\code{\\LinkA{methods}{methods}} which depend on the\n",
       "\\code{\\LinkA{class}{class}} of the first argument.\n",
       "\\end{Description}\n",
       "%\n",
       "\\begin{Usage}\n",
       "\\begin{verbatim}\n",
       "summary(object, ...)\n",
       "\n",
       "## Default S3 method:\n",
       "summary(object, ..., digits)\n",
       "## S3 method for class 'data.frame'\n",
       "summary(object, maxsum = 7,\n",
       "       digits = max(3, getOption(\"digits\")-3), ...)\n",
       "\n",
       "## S3 method for class 'factor'\n",
       "summary(object, maxsum = 100, ...)\n",
       "\n",
       "## S3 method for class 'matrix'\n",
       "summary(object, ...)\n",
       "\n",
       "## S3 method for class 'summaryDefault'\n",
       "format(x, digits = max(3L, getOption(\"digits\") - 3L), ...)\n",
       " ## S3 method for class 'summaryDefault'\n",
       "print(x, digits = max(3L, getOption(\"digits\") - 3L), ...)\n",
       "\\end{verbatim}\n",
       "\\end{Usage}\n",
       "%\n",
       "\\begin{Arguments}\n",
       "\\begin{ldescription}\n",
       "\\item[\\code{object}] an object for which a summary is desired.\n",
       "\\item[\\code{x}] a result of the \\emph{default} method of \\code{summary()}.\n",
       "\\item[\\code{maxsum}] integer, indicating how many levels should be shown for\n",
       "\\code{\\LinkA{factor}{factor}}s.\n",
       "\\item[\\code{digits}] integer, used for number formatting with\n",
       "\\code{\\LinkA{signif}{signif}()} (for \\code{summary.default}) or\n",
       "\\code{\\LinkA{format}{format}()} (for \\code{summary.data.frame}).  In\n",
       "\\code{summary.default}, if not specified (i.e.,\n",
       "\\code{\\LinkA{missing}{missing}(.)}), \\code{signif()} will \\emph{not} be called\n",
       "anymore (since \\R{} >= 3.4.0, where the default has been changed to\n",
       "only round in the \\code{print} and \\code{format} methods).\n",
       "\\item[\\code{...}] additional arguments affecting the summary produced.\n",
       "\\end{ldescription}\n",
       "\\end{Arguments}\n",
       "%\n",
       "\\begin{Details}\\relax\n",
       "For \\code{\\LinkA{factor}{factor}}s, the frequency of the first \\code{maxsum - 1}\n",
       "most frequent levels is shown, and the less frequent levels are\n",
       "summarized in \\code{\"(Others)\"} (resulting in at most \\code{maxsum}\n",
       "frequencies).\n",
       "\n",
       "The functions \\code{summary.lm} and \\code{summary.glm} are examples\n",
       "of particular methods which summarize the results produced by\n",
       "\\code{\\LinkA{lm}{lm}} and \\code{\\LinkA{glm}{glm}}.\n",
       "\\end{Details}\n",
       "%\n",
       "\\begin{Value}\n",
       "The form of the value returned by \\code{summary} depends on the\n",
       "class of its argument.  See the documentation of the particular\n",
       "methods for details of what is produced by that method.\n",
       "\n",
       "The default method returns an object of class\n",
       "\\code{c(\"summaryDefault\", \"\\LinkA{table}{table}\")} which has specialized\n",
       "\\code{\\LinkA{format}{format}} and \\code{\\LinkA{print}{print}} methods.  The\n",
       "\\code{\\LinkA{factor}{factor}} method returns an integer vector.\n",
       "\n",
       "The matrix and data frame methods return a matrix of class\n",
       "\\code{\"\\LinkA{table}{table}\"}, obtained by applying \\code{summary} to each\n",
       "column and collating the results.\n",
       "\\end{Value}\n",
       "%\n",
       "\\begin{References}\\relax\n",
       "Chambers, J. M. and Hastie, T. J. (1992)\n",
       "\\emph{Statistical Models in S}.\n",
       "Wadsworth \\& Brooks/Cole.\n",
       "\\end{References}\n",
       "%\n",
       "\\begin{SeeAlso}\\relax\n",
       "\\code{\\LinkA{anova}{anova}},\n",
       "\\code{\\LinkA{summary.glm}{summary.glm}},\n",
       "\\code{\\LinkA{summary.lm}{summary.lm}}.\n",
       "\\end{SeeAlso}\n",
       "%\n",
       "\\begin{Examples}\n",
       "\\begin{ExampleCode}\n",
       "summary(attenu, digits = 4) #-> summary.data.frame(...), default precision\n",
       "summary(attenu $ station, maxsum = 20) #-> summary.factor(...)\n",
       "\n",
       "lst <- unclass(attenu$station) > 20 # logical with NAs\n",
       "## summary.default() for logicals -- different from *.factor:\n",
       "summary(lst)\n",
       "summary(as.factor(lst))\n",
       "\\end{ExampleCode}\n",
       "\\end{Examples}"
      ],
      "text/plain": [
       "summary                  package:base                  R Documentation\n",
       "\n",
       "_\bO_\bb_\bj_\be_\bc_\bt _\bS_\bu_\bm_\bm_\ba_\br_\bi_\be_\bs\n",
       "\n",
       "_\bD_\be_\bs_\bc_\br_\bi_\bp_\bt_\bi_\bo_\bn:\n",
       "\n",
       "     'summary' is a generic function used to produce result summaries\n",
       "     of the results of various model fitting functions.  The function\n",
       "     invokes particular 'methods' which depend on the 'class' of the\n",
       "     first argument.\n",
       "\n",
       "_\bU_\bs_\ba_\bg_\be:\n",
       "\n",
       "     summary(object, ...)\n",
       "     \n",
       "     ## Default S3 method:\n",
       "     summary(object, ..., digits)\n",
       "     ## S3 method for class 'data.frame'\n",
       "     summary(object, maxsum = 7,\n",
       "            digits = max(3, getOption(\"digits\")-3), ...)\n",
       "     \n",
       "     ## S3 method for class 'factor'\n",
       "     summary(object, maxsum = 100, ...)\n",
       "     \n",
       "     ## S3 method for class 'matrix'\n",
       "     summary(object, ...)\n",
       "     \n",
       "     ## S3 method for class 'summaryDefault'\n",
       "     format(x, digits = max(3L, getOption(\"digits\") - 3L), ...)\n",
       "      ## S3 method for class 'summaryDefault'\n",
       "     print(x, digits = max(3L, getOption(\"digits\") - 3L), ...)\n",
       "     \n",
       "_\bA_\br_\bg_\bu_\bm_\be_\bn_\bt_\bs:\n",
       "\n",
       "  object: an object for which a summary is desired.\n",
       "\n",
       "       x: a result of the _default_ method of 'summary()'.\n",
       "\n",
       "  maxsum: integer, indicating how many levels should be shown for\n",
       "          'factor's.\n",
       "\n",
       "  digits: integer, used for number formatting with 'signif()' (for\n",
       "          'summary.default') or 'format()' (for 'summary.data.frame').\n",
       "          In 'summary.default', if not specified (i.e., 'missing(.)'),\n",
       "          'signif()' will _not_ be called anymore (since R >= 3.4.0,\n",
       "          where the default has been changed to only round in the\n",
       "          'print' and 'format' methods).\n",
       "\n",
       "     ...: additional arguments affecting the summary produced.\n",
       "\n",
       "_\bD_\be_\bt_\ba_\bi_\bl_\bs:\n",
       "\n",
       "     For 'factor's, the frequency of the first 'maxsum - 1' most\n",
       "     frequent levels is shown, and the less frequent levels are\n",
       "     summarized in '\"(Others)\"' (resulting in at most 'maxsum'\n",
       "     frequencies).\n",
       "\n",
       "     The functions 'summary.lm' and 'summary.glm' are examples of\n",
       "     particular methods which summarize the results produced by 'lm'\n",
       "     and 'glm'.\n",
       "\n",
       "_\bV_\ba_\bl_\bu_\be:\n",
       "\n",
       "     The form of the value returned by 'summary' depends on the class\n",
       "     of its argument.  See the documentation of the particular methods\n",
       "     for details of what is produced by that method.\n",
       "\n",
       "     The default method returns an object of class 'c(\"summaryDefault\",\n",
       "     \"table\")' which has specialized 'format' and 'print' methods.  The\n",
       "     'factor' method returns an integer vector.\n",
       "\n",
       "     The matrix and data frame methods return a matrix of class\n",
       "     '\"table\"', obtained by applying 'summary' to each column and\n",
       "     collating the results.\n",
       "\n",
       "_\bR_\be_\bf_\be_\br_\be_\bn_\bc_\be_\bs:\n",
       "\n",
       "     Chambers, J. M. and Hastie, T. J. (1992) _Statistical Models in\n",
       "     S_.  Wadsworth & Brooks/Cole.\n",
       "\n",
       "_\bS_\be_\be _\bA_\bl_\bs_\bo:\n",
       "\n",
       "     'anova', 'summary.glm', 'summary.lm'.\n",
       "\n",
       "_\bE_\bx_\ba_\bm_\bp_\bl_\be_\bs:\n",
       "\n",
       "     summary(attenu, digits = 4) #-> summary.data.frame(...), default precision\n",
       "     summary(attenu $ station, maxsum = 20) #-> summary.factor(...)\n",
       "     \n",
       "     lst <- unclass(attenu$station) > 20 # logical with NAs\n",
       "     ## summary.default() for logicals -- different from *.factor:\n",
       "     summary(lst)\n",
       "     summary(as.factor(lst))\n",
       "     "
      ]
     },
     "metadata": {},
     "output_type": "display_data"
    }
   ],
   "source": [
    "?summary"
   ]
  },
  {
   "cell_type": "code",
   "execution_count": 36,
   "metadata": {},
   "outputs": [
    {
     "data": {
      "text/plain": [
       "                           name         zipCode             neighborhood\n",
       " MCDONALD'S                  :   8   Min.   :-21226   Downtown    :128  \n",
       " POPEYES FAMOUS FRIED CHICKEN:   7   1st Qu.: 21202   Fells Point : 91  \n",
       " SUBWAY                      :   6   Median : 21218   Inner Harbor: 89  \n",
       " KENTUCKY FRIED CHICKEN      :   5   Mean   : 21185   Canton      : 81  \n",
       " BURGER KING                 :   4   3rd Qu.: 21226   Federal Hill: 42  \n",
       " DUNKIN DONUTS               :   4   Max.   : 21287   Mount Vernon: 33  \n",
       " (Other)                     :1293                    (Other)     :863  \n",
       " councilDistrict       policeDistrict                          Location.1    \n",
       " Min.   : 1.000   SOUTHEASTERN:385    1101 RUSSELL ST\\nBaltimore, MD\\n:   9  \n",
       " 1st Qu.: 2.000   CENTRAL     :288    201 PRATT ST\\nBaltimore, MD\\n   :   8  \n",
       " Median : 9.000   SOUTHERN    :213    2400 BOSTON ST\\nBaltimore, MD\\n :   8  \n",
       " Mean   : 7.191   NORTHERN    :157    300 LIGHT ST\\nBaltimore, MD\\n   :   5  \n",
       " 3rd Qu.:11.000   NORTHEASTERN: 72    300 CHARLES ST\\nBaltimore, MD\\n :   4  \n",
       " Max.   :14.000   EASTERN     : 67    301 LIGHT ST\\nBaltimore, MD\\n   :   4  \n",
       "                  (Other)     :145    (Other)                         :1289  "
      ]
     },
     "metadata": {},
     "output_type": "display_data"
    }
   ],
   "source": [
    "summary(restData)"
   ]
  },
  {
   "cell_type": "code",
   "execution_count": 37,
   "metadata": {},
   "outputs": [
    {
     "name": "stdout",
     "output_type": "stream",
     "text": [
      "'data.frame':\t1327 obs. of  6 variables:\n",
      " $ name           : Factor w/ 1277 levels \"#1 CHINESE KITCHEN\",..: 9 3 992 1 2 4 5 6 7 8 ...\n",
      " $ zipCode        : int  21206 21231 21224 21211 21223 21218 21205 21211 21205 21231 ...\n",
      " $ neighborhood   : Factor w/ 173 levels \"Abell\",\"Arlington\",..: 53 52 18 66 104 33 98 133 98 157 ...\n",
      " $ councilDistrict: int  2 1 1 14 9 14 13 7 13 1 ...\n",
      " $ policeDistrict : Factor w/ 9 levels \"CENTRAL\",\"EASTERN\",..: 3 6 6 4 8 3 6 4 6 6 ...\n",
      " $ Location.1     : Factor w/ 1210 levels \"1 BIDDLE ST\\nBaltimore, MD\\n\",..: 835 334 554 755 492 537 505 530 507 569 ...\n"
     ]
    }
   ],
   "source": [
    "str(restData)"
   ]
  },
  {
   "cell_type": "code",
   "execution_count": 38,
   "metadata": {},
   "outputs": [
    {
     "data": {
      "text/html": [
       "<dl class=dl-horizontal>\n",
       "\t<dt>0%</dt>\n",
       "\t\t<dd>1</dd>\n",
       "\t<dt>25%</dt>\n",
       "\t\t<dd>2</dd>\n",
       "\t<dt>50%</dt>\n",
       "\t\t<dd>9</dd>\n",
       "\t<dt>75%</dt>\n",
       "\t\t<dd>11</dd>\n",
       "\t<dt>100%</dt>\n",
       "\t\t<dd>14</dd>\n",
       "</dl>\n"
      ],
      "text/latex": [
       "\\begin{description*}\n",
       "\\item[0\\textbackslash{}\\%] 1\n",
       "\\item[25\\textbackslash{}\\%] 2\n",
       "\\item[50\\textbackslash{}\\%] 9\n",
       "\\item[75\\textbackslash{}\\%] 11\n",
       "\\item[100\\textbackslash{}\\%] 14\n",
       "\\end{description*}\n"
      ],
      "text/markdown": [
       "0%\n",
       ":   125%\n",
       ":   250%\n",
       ":   975%\n",
       ":   11100%\n",
       ":   14\n",
       "\n"
      ],
      "text/plain": [
       "  0%  25%  50%  75% 100% \n",
       "   1    2    9   11   14 "
      ]
     },
     "metadata": {},
     "output_type": "display_data"
    }
   ],
   "source": [
    "quantile(restData$councilDistrict,na.rm = TRUE)"
   ]
  },
  {
   "cell_type": "code",
   "execution_count": 40,
   "metadata": {},
   "outputs": [
    {
     "data": {
      "text/html": [
       "<dl class=dl-horizontal>\n",
       "\t<dt>50%</dt>\n",
       "\t\t<dd>9</dd>\n",
       "\t<dt>75%</dt>\n",
       "\t\t<dd>11</dd>\n",
       "\t<dt>90%</dt>\n",
       "\t\t<dd>12</dd>\n",
       "</dl>\n"
      ],
      "text/latex": [
       "\\begin{description*}\n",
       "\\item[50\\textbackslash{}\\%] 9\n",
       "\\item[75\\textbackslash{}\\%] 11\n",
       "\\item[90\\textbackslash{}\\%] 12\n",
       "\\end{description*}\n"
      ],
      "text/markdown": [
       "50%\n",
       ":   975%\n",
       ":   1190%\n",
       ":   12\n",
       "\n"
      ],
      "text/plain": [
       "50% 75% 90% \n",
       "  9  11  12 "
      ]
     },
     "metadata": {},
     "output_type": "display_data"
    }
   ],
   "source": [
    "quantile(restData$councilDistrict,na.rm = TRUE,probs = c(0.5,0.75,0.9))"
   ]
  },
  {
   "cell_type": "markdown",
   "metadata": {},
   "source": [
    "### Make Table"
   ]
  },
  {
   "cell_type": "code",
   "execution_count": 41,
   "metadata": {},
   "outputs": [
    {
     "data": {
      "text/plain": [
       "\n",
       "-21226  21201  21202  21205  21206  21207  21208  21209  21210  21211  21212 \n",
       "     1    136    201     27     30      4      1      8     23     41     28 \n",
       " 21213  21214  21215  21216  21217  21218  21220  21222  21223  21224  21225 \n",
       "    31     17     54     10     32     69      1      7     56    199     19 \n",
       " 21226  21227  21229  21230  21231  21234  21237  21239  21251  21287 \n",
       "    18      4     13    156    127      7      1      3      2      1 "
      ]
     },
     "metadata": {},
     "output_type": "display_data"
    }
   ],
   "source": [
    "table(restData$zipCode,useNA = \"ifany\")"
   ]
  },
  {
   "cell_type": "code",
   "execution_count": 42,
   "metadata": {},
   "outputs": [
    {
     "data": {
      "text/plain": [
       "    \n",
       "     -21226 21201 21202 21205 21206 21207 21208 21209 21210 21211 21212 21213\n",
       "  1       0     0    37     0     0     0     0     0     0     0     0     2\n",
       "  2       0     0     0     3    27     0     0     0     0     0     0     0\n",
       "  3       0     0     0     0     0     0     0     0     0     0     0     2\n",
       "  4       0     0     0     0     0     0     0     0     0     0    27     0\n",
       "  5       0     0     0     0     0     3     0     6     0     0     0     0\n",
       "  6       0     0     0     0     0     0     0     1    19     0     0     0\n",
       "  7       0     0     0     0     0     0     0     1     0    27     0     0\n",
       "  8       0     0     0     0     0     1     0     0     0     0     0     0\n",
       "  9       0     1     0     0     0     0     0     0     0     0     0     0\n",
       "  10      1     0     1     0     0     0     0     0     0     0     0     0\n",
       "  11      0   115   139     0     0     0     1     0     0     0     1     0\n",
       "  12      0    20    24     4     0     0     0     0     0     0     0    13\n",
       "  13      0     0     0    20     3     0     0     0     0     0     0    13\n",
       "  14      0     0     0     0     0     0     0     0     4    14     0     1\n",
       "    \n",
       "     21214 21215 21216 21217 21218 21220 21222 21223 21224 21225 21226 21227\n",
       "  1      0     0     0     0     0     0     7     0   140     1     0     0\n",
       "  2      0     0     0     0     0     0     0     0    54     0     0     0\n",
       "  3     17     0     0     0     3     0     0     0     0     0     0     1\n",
       "  4      0     0     0     0     0     0     0     0     0     0     0     0\n",
       "  5      0    31     0     0     0     0     0     0     0     0     0     0\n",
       "  6      0    15     1     0     0     0     0     0     0     0     0     0\n",
       "  7      0     6     7    15     6     0     0     0     0     0     0     0\n",
       "  8      0     0     0     0     0     0     0     2     0     0     0     2\n",
       "  9      0     0     2     8     0     0     0    53     0     0     0     0\n",
       "  10     0     0     0     0     0     1     0     0     0    18    18     0\n",
       "  11     0     0     0     9     0     0     0     1     0     0     0     0\n",
       "  12     0     0     0     0    26     0     0     0     0     0     0     0\n",
       "  13     0     1     0     0     0     0     0     0     5     0     0     1\n",
       "  14     0     1     0     0    34     0     0     0     0     0     0     0\n",
       "    \n",
       "     21229 21230 21231 21234 21237 21239 21251 21287\n",
       "  1      0     1   124     0     0     0     0     0\n",
       "  2      0     0     0     0     1     0     0     0\n",
       "  3      0     0     0     7     0     0     2     0\n",
       "  4      0     0     0     0     0     3     0     0\n",
       "  5      0     0     0     0     0     0     0     0\n",
       "  6      0     0     0     0     0     0     0     0\n",
       "  7      0     0     0     0     0     0     0     0\n",
       "  8     13     0     0     0     0     0     0     0\n",
       "  9      0    11     0     0     0     0     0     0\n",
       "  10     0   133     0     0     0     0     0     0\n",
       "  11     0    11     0     0     0     0     0     0\n",
       "  12     0     0     2     0     0     0     0     0\n",
       "  13     0     0     1     0     0     0     0     1\n",
       "  14     0     0     0     0     0     0     0     0"
      ]
     },
     "metadata": {},
     "output_type": "display_data"
    }
   ],
   "source": [
    "table(restData$councilDistrict,restData$zipCode)"
   ]
  },
  {
   "cell_type": "markdown",
   "metadata": {},
   "source": [
    "### Check for Missing values"
   ]
  },
  {
   "cell_type": "code",
   "execution_count": 43,
   "metadata": {},
   "outputs": [
    {
     "data": {
      "text/html": [
       "0"
      ],
      "text/latex": [
       "0"
      ],
      "text/markdown": [
       "0"
      ],
      "text/plain": [
       "[1] 0"
      ]
     },
     "metadata": {},
     "output_type": "display_data"
    }
   ],
   "source": [
    "sum(is.na(restData$councilDistrict))"
   ]
  },
  {
   "cell_type": "code",
   "execution_count": 44,
   "metadata": {},
   "outputs": [
    {
     "data": {
      "text/html": [
       "FALSE"
      ],
      "text/latex": [
       "FALSE"
      ],
      "text/markdown": [
       "FALSE"
      ],
      "text/plain": [
       "[1] FALSE"
      ]
     },
     "metadata": {},
     "output_type": "display_data"
    }
   ],
   "source": [
    "any(is.na(restData$councilDistrict))"
   ]
  },
  {
   "cell_type": "code",
   "execution_count": 45,
   "metadata": {},
   "outputs": [
    {
     "data": {
      "text/html": [
       "FALSE"
      ],
      "text/latex": [
       "FALSE"
      ],
      "text/markdown": [
       "FALSE"
      ],
      "text/plain": [
       "[1] FALSE"
      ]
     },
     "metadata": {},
     "output_type": "display_data"
    }
   ],
   "source": [
    "all(restData$zipCode>0)"
   ]
  },
  {
   "cell_type": "markdown",
   "metadata": {},
   "source": [
    "### Rows and column sums"
   ]
  },
  {
   "cell_type": "code",
   "execution_count": 46,
   "metadata": {},
   "outputs": [
    {
     "data": {
      "text/html": [
       "<dl class=dl-horizontal>\n",
       "\t<dt>name</dt>\n",
       "\t\t<dd>0</dd>\n",
       "\t<dt>zipCode</dt>\n",
       "\t\t<dd>0</dd>\n",
       "\t<dt>neighborhood</dt>\n",
       "\t\t<dd>0</dd>\n",
       "\t<dt>councilDistrict</dt>\n",
       "\t\t<dd>0</dd>\n",
       "\t<dt>policeDistrict</dt>\n",
       "\t\t<dd>0</dd>\n",
       "\t<dt>Location.1</dt>\n",
       "\t\t<dd>0</dd>\n",
       "</dl>\n"
      ],
      "text/latex": [
       "\\begin{description*}\n",
       "\\item[name] 0\n",
       "\\item[zipCode] 0\n",
       "\\item[neighborhood] 0\n",
       "\\item[councilDistrict] 0\n",
       "\\item[policeDistrict] 0\n",
       "\\item[Location.1] 0\n",
       "\\end{description*}\n"
      ],
      "text/markdown": [
       "name\n",
       ":   0zipCode\n",
       ":   0neighborhood\n",
       ":   0councilDistrict\n",
       ":   0policeDistrict\n",
       ":   0Location.1\n",
       ":   0\n",
       "\n"
      ],
      "text/plain": [
       "           name         zipCode    neighborhood councilDistrict  policeDistrict \n",
       "              0               0               0               0               0 \n",
       "     Location.1 \n",
       "              0 "
      ]
     },
     "metadata": {},
     "output_type": "display_data"
    }
   ],
   "source": [
    "colSums(is.na(restData))"
   ]
  },
  {
   "cell_type": "code",
   "execution_count": 47,
   "metadata": {},
   "outputs": [
    {
     "data": {
      "text/html": [
       "TRUE"
      ],
      "text/latex": [
       "TRUE"
      ],
      "text/markdown": [
       "TRUE"
      ],
      "text/plain": [
       "[1] TRUE"
      ]
     },
     "metadata": {},
     "output_type": "display_data"
    }
   ],
   "source": [
    "all(colSums(is.na(restData))==0)"
   ]
  },
  {
   "cell_type": "markdown",
   "metadata": {},
   "source": [
    "### Values with specific characteristics"
   ]
  },
  {
   "cell_type": "code",
   "execution_count": 48,
   "metadata": {},
   "outputs": [
    {
     "data": {
      "text/plain": [
       "\n",
       "FALSE  TRUE \n",
       " 1299    28 "
      ]
     },
     "metadata": {},
     "output_type": "display_data"
    }
   ],
   "source": [
    "table(restData$zipCode %in% c(\"21212\"))"
   ]
  },
  {
   "cell_type": "code",
   "execution_count": 49,
   "metadata": {},
   "outputs": [
    {
     "data": {
      "text/plain": [
       "\n",
       "FALSE  TRUE \n",
       " 1268    59 "
      ]
     },
     "metadata": {},
     "output_type": "display_data"
    }
   ],
   "source": [
    "table(restData$zipCode %in% c(\"21212\",\"21213\"))"
   ]
  },
  {
   "cell_type": "code",
   "execution_count": 50,
   "metadata": {},
   "outputs": [
    {
     "data": {
      "text/html": [
       "<table>\n",
       "<thead><tr><th></th><th scope=col>name</th><th scope=col>zipCode</th><th scope=col>neighborhood</th><th scope=col>councilDistrict</th><th scope=col>policeDistrict</th><th scope=col>Location.1</th></tr></thead>\n",
       "<tbody>\n",
       "\t<tr><th scope=row>29</th><td>BAY ATLANTIC CLUB                   </td><td>21212                               </td><td>Downtown                            </td><td>11                                  </td><td>CENTRAL                             </td><td>206 REDWOOD ST\n",
       "Baltimore, MD\n",
       "     </td></tr>\n",
       "\t<tr><th scope=row>39</th><td>BERMUDA BAR                         </td><td>21213                               </td><td>Broadway East                       </td><td>12                                  </td><td>EASTERN                             </td><td>1801 NORTH AVE\n",
       "Baltimore, MD\n",
       "     </td></tr>\n",
       "\t<tr><th scope=row>92</th><td>ATWATER'S                           </td><td>21212                               </td><td>Chinquapin Park-Belvedere           </td><td> 4                                  </td><td>NORTHERN                            </td><td>529 BELVEDERE AVE\n",
       "Baltimore, MD\n",
       "  </td></tr>\n",
       "\t<tr><th scope=row>111</th><td>BALTIMORE ESTONIAN SOCIETY          </td><td>21213                               </td><td>South Clifton Park                  </td><td>12                                  </td><td>EASTERN                             </td><td>1932 BELAIR RD\n",
       "Baltimore, MD\n",
       "     </td></tr>\n",
       "\t<tr><th scope=row>187</th><td>CAFE ZEN                            </td><td>21212                               </td><td>Rosebank                            </td><td> 4                                  </td><td>NORTHERN                            </td><td>438 BELVEDERE AVE\n",
       "Baltimore, MD\n",
       "  </td></tr>\n",
       "\t<tr><th scope=row>220</th><td>CERIELLO FINE FOODS                 </td><td>21212                               </td><td>Chinquapin Park-Belvedere           </td><td> 4                                  </td><td>NORTHERN                            </td><td>529 BELVEDERE AVE\n",
       "Baltimore, MD\n",
       "  </td></tr>\n",
       "\t<tr><th scope=row>266</th><td>CLIFTON PARK GOLF COURSE SNACK BAR  </td><td>21213                               </td><td>Darley Park                         </td><td>14                                  </td><td>NORTHEASTERN                        </td><td>2701 ST LO DR\n",
       "Baltimore, MD\n",
       "      </td></tr>\n",
       "\t<tr><th scope=row>276</th><td><span style=white-space:pre-wrap>CLUB HOUSE BAR &amp; GRILL              </span></td><td>21213                                                                           </td><td>Orangeville Industrial Area                                                     </td><td>13                                                                              </td><td><span style=white-space:pre-wrap>EASTERN     </span>                            </td><td><span style=white-space:pre-wrap>4217 ERDMAN AVE\n",
       "Baltimore, MD\n",
       "    </span>    </td></tr>\n",
       "\t<tr><th scope=row>289</th><td><span style=white-space:pre-wrap>CLUBHOUSE BAR &amp; GRILL               </span></td><td>21213                                                                           </td><td>Orangeville Industrial Area                                                     </td><td>13                                                                              </td><td><span style=white-space:pre-wrap>EASTERN     </span>                            </td><td><span style=white-space:pre-wrap>4217 ERDMAN AVE\n",
       "Baltimore, MD\n",
       "    </span>    </td></tr>\n",
       "\t<tr><th scope=row>291</th><td>COCKY LOU'S                         </td><td>21213                               </td><td>Broadway East                       </td><td>12                                  </td><td>EASTERN                             </td><td>2101 NORTH AVE\n",
       "Baltimore, MD\n",
       "     </td></tr>\n",
       "\t<tr><th scope=row>362</th><td>DREAM TAVERN, CARRIBEAN  U.S.A.     </td><td>21213                               </td><td>Broadway East                       </td><td>13                                  </td><td>EASTERN                             </td><td>2300 LAFAYETTE AVE\n",
       "Baltimore, MD\n",
       " </td></tr>\n",
       "\t<tr><th scope=row>373</th><td>DUNKIN DONUTS                       </td><td>21212                               </td><td>Homeland                            </td><td> 4                                  </td><td>NORTHERN                            </td><td>5422 YORK RD\n",
       "Baltimore, MD\n",
       "       </td></tr>\n",
       "\t<tr><th scope=row>383</th><td>EASTSIDE  SPORTS  SOCIAL  CLUB      </td><td>21213                               </td><td>Broadway East                       </td><td>13                                  </td><td>EASTERN                             </td><td>1203 COLLINGTON AVE\n",
       "Baltimore, MD\n",
       "</td></tr>\n",
       "\t<tr><th scope=row>417</th><td>FIELDS OLD TRAIL                    </td><td>21212                               </td><td>Mid-Govans                          </td><td> 4                                  </td><td>NORTHERN                            </td><td>5723 YORK RD\n",
       "Baltimore, MD\n",
       "       </td></tr>\n",
       "\t<tr><th scope=row>475</th><td>GRAND CRU                           </td><td>21212                               </td><td>Chinquapin Park-Belvedere           </td><td> 4                                  </td><td>NORTHERN                            </td><td>527 BELVEDERE AVE\n",
       "Baltimore, MD\n",
       "  </td></tr>\n",
       "\t<tr><th scope=row>545</th><td>RANDY'S BAR                         </td><td>21213                               </td><td>Broadway East                       </td><td>12                                  </td><td>EASTERN                             </td><td>2135 NORTH AVE\n",
       "Baltimore, MD\n",
       "     </td></tr>\n",
       "\t<tr><th scope=row>604</th><td><span style=white-space:pre-wrap>MURPHY'S NEIGHBORHOOD BAR &amp; GRILL   </span></td><td>21212                                                                           </td><td><span style=white-space:pre-wrap>Mid-Govans                 </span>             </td><td> 4                                                                              </td><td><span style=white-space:pre-wrap>NORTHERN    </span>                            </td><td><span style=white-space:pre-wrap>5847 YORK RD\n",
       "Baltimore, MD\n",
       "       </span>    </td></tr>\n",
       "\t<tr><th scope=row>616</th><td>NEOPOL                              </td><td>21212                               </td><td>Chinquapin Park-Belvedere           </td><td> 4                                  </td><td>NORTHERN                            </td><td>529 BELVEDERE AVE\n",
       "Baltimore, MD\n",
       "  </td></tr>\n",
       "\t<tr><th scope=row>620</th><td>NEW CLUB THUNDERBIRD INC.           </td><td>21213                               </td><td>Middle East                         </td><td>13                                  </td><td>EASTERN                             </td><td>2201 CHASE ST\n",
       "Baltimore, MD\n",
       "      </td></tr>\n",
       "\t<tr><th scope=row>626</th><td>NEW MAYFIELD, INC.                  </td><td>21213                               </td><td>Belair-Edison                       </td><td>13                                  </td><td>NORTHEASTERN                        </td><td>3349 BELAIR RD\n",
       "Baltimore, MD\n",
       "     </td></tr>\n",
       "\t<tr><th scope=row>678</th><td>IKAN SEAFOOD                        </td><td>21212                               </td><td>Chinquapin Park-Belvedere           </td><td> 4                                  </td><td>NORTHERN                            </td><td>529 BELVEDERE AVE\n",
       "Baltimore, MD\n",
       "  </td></tr>\n",
       "\t<tr><th scope=row>711</th><td>KAY-CEE CLUB                        </td><td>21212                               </td><td>Homeland                            </td><td> 4                                  </td><td>NORTHERN                            </td><td>201 HOMELAND AVE\n",
       "Baltimore, MD\n",
       "   </td></tr>\n",
       "\t<tr><th scope=row>763</th><td>LA'RAE                              </td><td>21213                               </td><td>Oliver                              </td><td>12                                  </td><td>EASTERN                             </td><td>1000 HOFFMAN ST\n",
       "Baltimore, MD\n",
       "    </td></tr>\n",
       "\t<tr><th scope=row>777</th><td>LEMONGRASS BALTIMORE                </td><td>21213                               </td><td>Little Italy                        </td><td> 1                                  </td><td>SOUTHEASTERN                        </td><td>1300 BANK STREET\n",
       "Baltimore, MD\n",
       "   </td></tr>\n",
       "\t<tr><th scope=row>779</th><td>LEN'S SANDWICH SHOP                 </td><td>21213                               </td><td>Broadway East                       </td><td>12                                  </td><td>EASTERN                             </td><td>1500 WASHINGTON ST\n",
       "Baltimore, MD\n",
       " </td></tr>\n",
       "\t<tr><th scope=row>845</th><td>MCDONALD'S                          </td><td>21213                               </td><td>South Clifton Park                  </td><td>12                                  </td><td>EASTERN                             </td><td>2001 BROADWAY\n",
       "Baltimore, MD\n",
       "      </td></tr>\n",
       "\t<tr><th scope=row>852</th><td>MCDONALD'S                          </td><td>21212                               </td><td>Radnor-Winston                      </td><td> 4                                  </td><td>NORTHERN                            </td><td>5100 YORK RD\n",
       "Baltimore, MD\n",
       "       </td></tr>\n",
       "\t<tr><th scope=row>873</th><td>NEW REX LIQUORS,INC.                </td><td>21212                               </td><td>Wilson Park                         </td><td> 4                                  </td><td>NORTHERN                            </td><td>4637 YORK RD\n",
       "Baltimore, MD\n",
       "       </td></tr>\n",
       "\t<tr><th scope=row>895</th><td>OK TAVERN                           </td><td>21213                               </td><td>Biddle Street                       </td><td>13                                  </td><td>EASTERN                             </td><td>2301 BIDDLE ST\n",
       "Baltimore, MD\n",
       "     </td></tr>\n",
       "\t<tr><th scope=row>919</th><td>PANERA BREAD                        </td><td>21212                               </td><td>Lake Walker                         </td><td> 4                                  </td><td>NORTHERN                            </td><td>6307 1 2 YORK RD\n",
       "Baltimore, MD\n",
       "   </td></tr>\n",
       "\t<tr><th scope=row>940</th><td>PEIWEI ASIAN DINER                  </td><td>21212                               </td><td>Cedarcroft                          </td><td> 4                                  </td><td>NORTHERN                            </td><td>6302 YORK RD\n",
       "Baltimore, MD\n",
       "       </td></tr>\n",
       "\t<tr><th scope=row>949</th><td>PERGUSA ENTERPRISES                 </td><td>21212                               </td><td>Rosebank                            </td><td> 4                                  </td><td>NORTHERN                            </td><td>5928 YORK RD\n",
       "Baltimore, MD\n",
       "       </td></tr>\n",
       "\t<tr><th scope=row>957</th><td>PHANTOM'S BAR AND GRILL             </td><td>21213                               </td><td>Belair-Edison                       </td><td> 3                                  </td><td>NORTHEASTERN                        </td><td>3539 BELAIR RD\n",
       "Baltimore, MD\n",
       "     </td></tr>\n",
       "\t<tr><th scope=row>976</th><td>POPEYES FAMOUS FRIED CHICKEN        </td><td>21212                               </td><td>Winston-Govans                      </td><td> 4                                  </td><td>NORTHERN                            </td><td>5002 YORK RD\n",
       "Baltimore, MD\n",
       "       </td></tr>\n",
       "\t<tr><th scope=row>994</th><td>ROBBIE'S NEST                       </td><td>21213                               </td><td>Broadway East                       </td><td>12                                  </td><td>EASTERN                             </td><td>2250 NORTH AVE\n",
       "Baltimore, MD\n",
       "     </td></tr>\n",
       "\t<tr><th scope=row>1017</th><td>RUTLAND BAR                         </td><td>21213                               </td><td>Broadway East                       </td><td>12                                  </td><td>EASTERN                             </td><td>1508 RUTLAND AVE\n",
       "Baltimore, MD\n",
       "   </td></tr>\n",
       "\t<tr><th scope=row>1018</th><td>RYAN'S DAUGHTER                     </td><td>21212                               </td><td>Chinquapin Park-Belvedere           </td><td> 4                                  </td><td>NORTHERN                            </td><td>600 BELVEDERE AVE\n",
       "Baltimore, MD\n",
       "  </td></tr>\n",
       "\t<tr><th scope=row>1022</th><td>saigon remembered restaurant        </td><td>21212                               </td><td>Mid-Govans                          </td><td> 4                                  </td><td>NORTHERN                            </td><td>5857 york rd\n",
       "Baltimore, MD\n",
       "       </td></tr>\n",
       "\t<tr><th scope=row>1053</th><td>SHIRLEY'S  HONEY HOLE               </td><td>21213                               </td><td>Broadway East                       </td><td>13                                  </td><td>EASTERN                             </td><td>2300 OLIVER ST\n",
       "Baltimore, MD\n",
       "     </td></tr>\n",
       "\t<tr><th scope=row>1120</th><td>STEEPLE CHASE II                    </td><td>21213                               </td><td>Biddle Street                       </td><td>13                                  </td><td>EASTERN                             </td><td>2401 CHASE ST\n",
       "Baltimore, MD\n",
       "      </td></tr>\n",
       "\t<tr><th scope=row>1122</th><td>SUBWAY                              </td><td>21213                               </td><td>Oliver                              </td><td>12                                  </td><td>EASTERN                             </td><td>1400 NORTH AVE\n",
       "Baltimore, MD\n",
       "     </td></tr>\n",
       "\t<tr><th scope=row>1153</th><td>TAM-TAM                             </td><td>21212                               </td><td>Mid-Govans                          </td><td> 4                                  </td><td>NORTHERN                            </td><td>5722 YORK RD\n",
       "Baltimore, MD\n",
       "       </td></tr>\n",
       "\t<tr><th scope=row>1155</th><td>TASTE                               </td><td>21212                               </td><td>Mid-Govans                          </td><td> 4                                  </td><td>NORTHERN                            </td><td>510 BELVEDERE AVE\n",
       "Baltimore, MD\n",
       "  </td></tr>\n",
       "\t<tr><th scope=row>1159</th><td>TAYLORS EAST                        </td><td>21213                               </td><td>Berea                               </td><td>13                                  </td><td>EASTERN                             </td><td>1201 POTOMAC ST\n",
       "Baltimore, MD\n",
       "    </td></tr>\n",
       "\t<tr><th scope=row>1186</th><td><span style=white-space:pre-wrap>THE EDGE BAR &amp; LOUNGE               </span></td><td>21213                                                                           </td><td><span style=white-space:pre-wrap>Broadway East              </span>             </td><td>12                                                                              </td><td><span style=white-space:pre-wrap>EASTERN     </span>                            </td><td><span style=white-space:pre-wrap>2015 FEDERAL ST\n",
       "Baltimore, MD\n",
       "    </span>    </td></tr>\n",
       "\t<tr><th scope=row>1187</th><td>THE EDGE BAR &amp; LOUNGE - KITCHEN AREA                                    </td><td>21213                                                                       </td><td><span style=white-space:pre-wrap>Broadway East              </span>         </td><td>12                                                                          </td><td><span style=white-space:pre-wrap>EASTERN     </span>                        </td><td><span style=white-space:pre-wrap>2015 FEDERAL ST\n",
       "Baltimore, MD\n",
       "    </span></td></tr>\n",
       "\t<tr><th scope=row>1198</th><td><span style=white-space:pre-wrap>THE HOLLOW BAR &amp; GRILL              </span></td><td>21212                                                                           </td><td><span style=white-space:pre-wrap>Rosebank                   </span>             </td><td> 4                                                                              </td><td><span style=white-space:pre-wrap>NORTHERN    </span>                            </td><td><span style=white-space:pre-wrap>5921 YORK RD\n",
       "Baltimore, MD\n",
       "       </span>    </td></tr>\n",
       "\t<tr><th scope=row>1209</th><td>THE NEW BUCKETT'S LOUNGE            </td><td>21213                               </td><td>Broadway East                       </td><td>13                                  </td><td>EASTERN                             </td><td>1432 CHESTER ST\n",
       "Baltimore, MD\n",
       "    </td></tr>\n",
       "\t<tr><th scope=row>1232</th><td>THREE  ACE'S                        </td><td>21213                               </td><td>Belair-Edison                       </td><td> 3                                  </td><td>NORTHEASTERN                        </td><td>3534 belair RD\n",
       "Baltimore, MD\n",
       "     </td></tr>\n",
       "\t<tr><th scope=row>1246</th><td>TORAIN'S  HIDE-A-WAY                </td><td>21213                               </td><td>Broadway East                       </td><td>12                                  </td><td>EASTERN                             </td><td>1701 ELLSWORTH ST\n",
       "Baltimore, MD\n",
       "  </td></tr>\n",
       "\t<tr><th scope=row>1259</th><td>TSUNAMI BALTIMORE                   </td><td>21213                               </td><td>Little Italy                        </td><td> 1                                  </td><td>SOUTHEASTERN                        </td><td>1300 BANK ST\n",
       "Baltimore, MD\n",
       "       </td></tr>\n",
       "\t<tr><th scope=row>1287</th><td>VITO'S PIZZA                        </td><td>21212                               </td><td>Cedarcroft                          </td><td> 4                                  </td><td>NORTHERN                            </td><td>6304 YORK RD\n",
       "Baltimore, MD\n",
       "       </td></tr>\n",
       "\t<tr><th scope=row>1298</th><td>WENDY'S OLD FASHIONED HAMBURGERS #96</td><td>21212                               </td><td>Homeland                            </td><td> 4                                  </td><td>NORTHERN                            </td><td>5615 YORK RD\n",
       "Baltimore, MD\n",
       "       </td></tr>\n",
       "\t<tr><th scope=row>1304</th><td>WHITTEN'S  (4502-04)                </td><td>21213                               </td><td>Claremont-Freedom                   </td><td>13                                  </td><td>NORTHEASTERN                        </td><td>4502 ERDMAN AVE\n",
       "Baltimore, MD\n",
       "    </td></tr>\n",
       "\t<tr><th scope=row>1312</th><td>wozi lounge                         </td><td>21212                               </td><td>Guilford                            </td><td> 4                                  </td><td>NORTHERN                            </td><td>4515 YORK RD\n",
       "Baltimore, MD\n",
       "       </td></tr>\n",
       "\t<tr><th scope=row>1319</th><td><span style=white-space:pre-wrap>YETI RESTAURANT &amp; CARRYOUT          </span></td><td>21212                                                                           </td><td><span style=white-space:pre-wrap>Rosebank                   </span>             </td><td> 4                                                                              </td><td><span style=white-space:pre-wrap>NORTHERN    </span>                            </td><td><span style=white-space:pre-wrap>5926 YORK RD\n",
       "Baltimore, MD\n",
       "       </span>    </td></tr>\n",
       "\t<tr><th scope=row>1320</th><td>YORK CLUB TAVERN                    </td><td>21212                               </td><td>Homeland                            </td><td> 4                                  </td><td>NORTHERN                            </td><td>5407 YORK RD\n",
       "Baltimore, MD\n",
       "       </td></tr>\n",
       "\t<tr><th scope=row>1323</th><td>ZEN WEST ROADSIDE CANTINA           </td><td>21212                               </td><td>Rosebank                            </td><td> 4                                  </td><td>NORTHERN                            </td><td>5916 YORK RD\n",
       "Baltimore, MD\n",
       "       </td></tr>\n",
       "\t<tr><th scope=row>1325</th><td>ZINK'S CAFÂ                        </td><td>21213                               </td><td>Belair-Edison                       </td><td>13                                  </td><td>NORTHEASTERN                        </td><td>3300 LAWNVIEW AVE\n",
       "Baltimore, MD\n",
       "  </td></tr>\n",
       "</tbody>\n",
       "</table>\n"
      ],
      "text/latex": [
       "\\begin{tabular}{r|llllll}\n",
       "  & name & zipCode & neighborhood & councilDistrict & policeDistrict & Location.1\\\\\n",
       "\\hline\n",
       "\t29 & BAY ATLANTIC CLUB                    & 21212                                & Downtown                             & 11                                   & CENTRAL                              & 206 REDWOOD ST\n",
       "Baltimore, MD\n",
       "     \\\\\n",
       "\t39 & BERMUDA BAR                          & 21213                                & Broadway East                        & 12                                   & EASTERN                              & 1801 NORTH AVE\n",
       "Baltimore, MD\n",
       "     \\\\\n",
       "\t92 & ATWATER'S                            & 21212                                & Chinquapin Park-Belvedere            &  4                                   & NORTHERN                             & 529 BELVEDERE AVE\n",
       "Baltimore, MD\n",
       "  \\\\\n",
       "\t111 & BALTIMORE ESTONIAN SOCIETY           & 21213                                & South Clifton Park                   & 12                                   & EASTERN                              & 1932 BELAIR RD\n",
       "Baltimore, MD\n",
       "     \\\\\n",
       "\t187 & CAFE ZEN                             & 21212                                & Rosebank                             &  4                                   & NORTHERN                             & 438 BELVEDERE AVE\n",
       "Baltimore, MD\n",
       "  \\\\\n",
       "\t220 & CERIELLO FINE FOODS                  & 21212                                & Chinquapin Park-Belvedere            &  4                                   & NORTHERN                             & 529 BELVEDERE AVE\n",
       "Baltimore, MD\n",
       "  \\\\\n",
       "\t266 & CLIFTON PARK GOLF COURSE SNACK BAR   & 21213                                & Darley Park                          & 14                                   & NORTHEASTERN                         & 2701 ST LO DR\n",
       "Baltimore, MD\n",
       "      \\\\\n",
       "\t276 & CLUB HOUSE BAR \\& GRILL               & 21213                                  & Orangeville Industrial Area            & 13                                     & EASTERN                                & 4217 ERDMAN AVE\n",
       "Baltimore, MD\n",
       "      \\\\\n",
       "\t289 & CLUBHOUSE BAR \\& GRILL                & 21213                                  & Orangeville Industrial Area            & 13                                     & EASTERN                                & 4217 ERDMAN AVE\n",
       "Baltimore, MD\n",
       "      \\\\\n",
       "\t291 & COCKY LOU'S                          & 21213                                & Broadway East                        & 12                                   & EASTERN                              & 2101 NORTH AVE\n",
       "Baltimore, MD\n",
       "     \\\\\n",
       "\t362 & DREAM TAVERN, CARRIBEAN  U.S.A.      & 21213                                & Broadway East                        & 13                                   & EASTERN                              & 2300 LAFAYETTE AVE\n",
       "Baltimore, MD\n",
       " \\\\\n",
       "\t373 & DUNKIN DONUTS                        & 21212                                & Homeland                             &  4                                   & NORTHERN                             & 5422 YORK RD\n",
       "Baltimore, MD\n",
       "       \\\\\n",
       "\t383 & EASTSIDE  SPORTS  SOCIAL  CLUB       & 21213                                & Broadway East                        & 13                                   & EASTERN                              & 1203 COLLINGTON AVE\n",
       "Baltimore, MD\n",
       "\\\\\n",
       "\t417 & FIELDS OLD TRAIL                     & 21212                                & Mid-Govans                           &  4                                   & NORTHERN                             & 5723 YORK RD\n",
       "Baltimore, MD\n",
       "       \\\\\n",
       "\t475 & GRAND CRU                            & 21212                                & Chinquapin Park-Belvedere            &  4                                   & NORTHERN                             & 527 BELVEDERE AVE\n",
       "Baltimore, MD\n",
       "  \\\\\n",
       "\t545 & RANDY'S BAR                          & 21213                                & Broadway East                        & 12                                   & EASTERN                              & 2135 NORTH AVE\n",
       "Baltimore, MD\n",
       "     \\\\\n",
       "\t604 & MURPHY'S NEIGHBORHOOD BAR \\& GRILL    & 21212                                  & Mid-Govans                             &  4                                     & NORTHERN                               & 5847 YORK RD\n",
       "Baltimore, MD\n",
       "         \\\\\n",
       "\t616 & NEOPOL                               & 21212                                & Chinquapin Park-Belvedere            &  4                                   & NORTHERN                             & 529 BELVEDERE AVE\n",
       "Baltimore, MD\n",
       "  \\\\\n",
       "\t620 & NEW CLUB THUNDERBIRD INC.            & 21213                                & Middle East                          & 13                                   & EASTERN                              & 2201 CHASE ST\n",
       "Baltimore, MD\n",
       "      \\\\\n",
       "\t626 & NEW MAYFIELD, INC.                   & 21213                                & Belair-Edison                        & 13                                   & NORTHEASTERN                         & 3349 BELAIR RD\n",
       "Baltimore, MD\n",
       "     \\\\\n",
       "\t678 & IKAN SEAFOOD                         & 21212                                & Chinquapin Park-Belvedere            &  4                                   & NORTHERN                             & 529 BELVEDERE AVE\n",
       "Baltimore, MD\n",
       "  \\\\\n",
       "\t711 & KAY-CEE CLUB                         & 21212                                & Homeland                             &  4                                   & NORTHERN                             & 201 HOMELAND AVE\n",
       "Baltimore, MD\n",
       "   \\\\\n",
       "\t763 & LA'RAE                               & 21213                                & Oliver                               & 12                                   & EASTERN                              & 1000 HOFFMAN ST\n",
       "Baltimore, MD\n",
       "    \\\\\n",
       "\t777 & LEMONGRASS BALTIMORE                 & 21213                                & Little Italy                         &  1                                   & SOUTHEASTERN                         & 1300 BANK STREET\n",
       "Baltimore, MD\n",
       "   \\\\\n",
       "\t779 & LEN'S SANDWICH SHOP                  & 21213                                & Broadway East                        & 12                                   & EASTERN                              & 1500 WASHINGTON ST\n",
       "Baltimore, MD\n",
       " \\\\\n",
       "\t845 & MCDONALD'S                           & 21213                                & South Clifton Park                   & 12                                   & EASTERN                              & 2001 BROADWAY\n",
       "Baltimore, MD\n",
       "      \\\\\n",
       "\t852 & MCDONALD'S                           & 21212                                & Radnor-Winston                       &  4                                   & NORTHERN                             & 5100 YORK RD\n",
       "Baltimore, MD\n",
       "       \\\\\n",
       "\t873 & NEW REX LIQUORS,INC.                 & 21212                                & Wilson Park                          &  4                                   & NORTHERN                             & 4637 YORK RD\n",
       "Baltimore, MD\n",
       "       \\\\\n",
       "\t895 & OK TAVERN                            & 21213                                & Biddle Street                        & 13                                   & EASTERN                              & 2301 BIDDLE ST\n",
       "Baltimore, MD\n",
       "     \\\\\n",
       "\t919 & PANERA BREAD                         & 21212                                & Lake Walker                          &  4                                   & NORTHERN                             & 6307 1 2 YORK RD\n",
       "Baltimore, MD\n",
       "   \\\\\n",
       "\t940 & PEIWEI ASIAN DINER                   & 21212                                & Cedarcroft                           &  4                                   & NORTHERN                             & 6302 YORK RD\n",
       "Baltimore, MD\n",
       "       \\\\\n",
       "\t949 & PERGUSA ENTERPRISES                  & 21212                                & Rosebank                             &  4                                   & NORTHERN                             & 5928 YORK RD\n",
       "Baltimore, MD\n",
       "       \\\\\n",
       "\t957 & PHANTOM'S BAR AND GRILL              & 21213                                & Belair-Edison                        &  3                                   & NORTHEASTERN                         & 3539 BELAIR RD\n",
       "Baltimore, MD\n",
       "     \\\\\n",
       "\t976 & POPEYES FAMOUS FRIED CHICKEN         & 21212                                & Winston-Govans                       &  4                                   & NORTHERN                             & 5002 YORK RD\n",
       "Baltimore, MD\n",
       "       \\\\\n",
       "\t994 & ROBBIE'S NEST                        & 21213                                & Broadway East                        & 12                                   & EASTERN                              & 2250 NORTH AVE\n",
       "Baltimore, MD\n",
       "     \\\\\n",
       "\t1017 & RUTLAND BAR                          & 21213                                & Broadway East                        & 12                                   & EASTERN                              & 1508 RUTLAND AVE\n",
       "Baltimore, MD\n",
       "   \\\\\n",
       "\t1018 & RYAN'S DAUGHTER                      & 21212                                & Chinquapin Park-Belvedere            &  4                                   & NORTHERN                             & 600 BELVEDERE AVE\n",
       "Baltimore, MD\n",
       "  \\\\\n",
       "\t1022 & saigon remembered restaurant         & 21212                                & Mid-Govans                           &  4                                   & NORTHERN                             & 5857 york rd\n",
       "Baltimore, MD\n",
       "       \\\\\n",
       "\t1053 & SHIRLEY'S  HONEY HOLE                & 21213                                & Broadway East                        & 13                                   & EASTERN                              & 2300 OLIVER ST\n",
       "Baltimore, MD\n",
       "     \\\\\n",
       "\t1120 & STEEPLE CHASE II                     & 21213                                & Biddle Street                        & 13                                   & EASTERN                              & 2401 CHASE ST\n",
       "Baltimore, MD\n",
       "      \\\\\n",
       "\t1122 & SUBWAY                               & 21213                                & Oliver                               & 12                                   & EASTERN                              & 1400 NORTH AVE\n",
       "Baltimore, MD\n",
       "     \\\\\n",
       "\t1153 & TAM-TAM                              & 21212                                & Mid-Govans                           &  4                                   & NORTHERN                             & 5722 YORK RD\n",
       "Baltimore, MD\n",
       "       \\\\\n",
       "\t1155 & TASTE                                & 21212                                & Mid-Govans                           &  4                                   & NORTHERN                             & 510 BELVEDERE AVE\n",
       "Baltimore, MD\n",
       "  \\\\\n",
       "\t1159 & TAYLORS EAST                         & 21213                                & Berea                                & 13                                   & EASTERN                              & 1201 POTOMAC ST\n",
       "Baltimore, MD\n",
       "    \\\\\n",
       "\t1186 & THE EDGE BAR \\& LOUNGE                & 21213                                  & Broadway East                          & 12                                     & EASTERN                                & 2015 FEDERAL ST\n",
       "Baltimore, MD\n",
       "      \\\\\n",
       "\t1187 & THE EDGE BAR \\& LOUNGE - KITCHEN AREA & 21213                                  & Broadway East                          & 12                                     & EASTERN                                & 2015 FEDERAL ST\n",
       "Baltimore, MD\n",
       "      \\\\\n",
       "\t1198 & THE HOLLOW BAR \\& GRILL               & 21212                                  & Rosebank                               &  4                                     & NORTHERN                               & 5921 YORK RD\n",
       "Baltimore, MD\n",
       "         \\\\\n",
       "\t1209 & THE NEW BUCKETT'S LOUNGE             & 21213                                & Broadway East                        & 13                                   & EASTERN                              & 1432 CHESTER ST\n",
       "Baltimore, MD\n",
       "    \\\\\n",
       "\t1232 & THREE  ACE'S                         & 21213                                & Belair-Edison                        &  3                                   & NORTHEASTERN                         & 3534 belair RD\n",
       "Baltimore, MD\n",
       "     \\\\\n",
       "\t1246 & TORAIN'S  HIDE-A-WAY                 & 21213                                & Broadway East                        & 12                                   & EASTERN                              & 1701 ELLSWORTH ST\n",
       "Baltimore, MD\n",
       "  \\\\\n",
       "\t1259 & TSUNAMI BALTIMORE                    & 21213                                & Little Italy                         &  1                                   & SOUTHEASTERN                         & 1300 BANK ST\n",
       "Baltimore, MD\n",
       "       \\\\\n",
       "\t1287 & VITO'S PIZZA                         & 21212                                & Cedarcroft                           &  4                                   & NORTHERN                             & 6304 YORK RD\n",
       "Baltimore, MD\n",
       "       \\\\\n",
       "\t1298 & WENDY'S OLD FASHIONED HAMBURGERS \\#96 & 21212                                  & Homeland                               &  4                                     & NORTHERN                               & 5615 YORK RD\n",
       "Baltimore, MD\n",
       "         \\\\\n",
       "\t1304 & WHITTEN'S  (4502-04)                 & 21213                                & Claremont-Freedom                    & 13                                   & NORTHEASTERN                         & 4502 ERDMAN AVE\n",
       "Baltimore, MD\n",
       "    \\\\\n",
       "\t1312 & wozi lounge                          & 21212                                & Guilford                             &  4                                   & NORTHERN                             & 4515 YORK RD\n",
       "Baltimore, MD\n",
       "       \\\\\n",
       "\t1319 & YETI RESTAURANT \\& CARRYOUT           & 21212                                  & Rosebank                               &  4                                     & NORTHERN                               & 5926 YORK RD\n",
       "Baltimore, MD\n",
       "         \\\\\n",
       "\t1320 & YORK CLUB TAVERN                     & 21212                                & Homeland                             &  4                                   & NORTHERN                             & 5407 YORK RD\n",
       "Baltimore, MD\n",
       "       \\\\\n",
       "\t1323 & ZEN WEST ROADSIDE CANTINA            & 21212                                & Rosebank                             &  4                                   & NORTHERN                             & 5916 YORK RD\n",
       "Baltimore, MD\n",
       "       \\\\\n",
       "\t1325 & ZINK'S CAFÂ                         & 21213                                & Belair-Edison                        & 13                                   & NORTHEASTERN                         & 3300 LAWNVIEW AVE\n",
       "Baltimore, MD\n",
       "  \\\\\n",
       "\\end{tabular}\n"
      ],
      "text/markdown": [
       "\n",
       "| <!--/--> | name | zipCode | neighborhood | councilDistrict | policeDistrict | Location.1 | \n",
       "|---|---|---|---|---|---|---|---|---|---|---|---|---|---|---|---|---|---|---|---|---|---|---|---|---|---|---|---|---|---|---|---|---|---|---|---|---|---|---|---|---|---|---|---|---|---|---|---|---|---|---|---|---|---|---|---|---|---|---|\n",
       "| 29 | BAY ATLANTIC CLUB                    | 21212                                | Downtown                             | 11                                   | CENTRAL                              | 206 REDWOOD ST\n",
       "Baltimore, MD\n",
       "      | \n",
       "| 39 | BERMUDA BAR                          | 21213                                | Broadway East                        | 12                                   | EASTERN                              | 1801 NORTH AVE\n",
       "Baltimore, MD\n",
       "      | \n",
       "| 92 | ATWATER'S                            | 21212                                | Chinquapin Park-Belvedere            |  4                                   | NORTHERN                             | 529 BELVEDERE AVE\n",
       "Baltimore, MD\n",
       "   | \n",
       "| 111 | BALTIMORE ESTONIAN SOCIETY           | 21213                                | South Clifton Park                   | 12                                   | EASTERN                              | 1932 BELAIR RD\n",
       "Baltimore, MD\n",
       "      | \n",
       "| 187 | CAFE ZEN                             | 21212                                | Rosebank                             |  4                                   | NORTHERN                             | 438 BELVEDERE AVE\n",
       "Baltimore, MD\n",
       "   | \n",
       "| 220 | CERIELLO FINE FOODS                  | 21212                                | Chinquapin Park-Belvedere            |  4                                   | NORTHERN                             | 529 BELVEDERE AVE\n",
       "Baltimore, MD\n",
       "   | \n",
       "| 266 | CLIFTON PARK GOLF COURSE SNACK BAR   | 21213                                | Darley Park                          | 14                                   | NORTHEASTERN                         | 2701 ST LO DR\n",
       "Baltimore, MD\n",
       "       | \n",
       "| 276 | CLUB HOUSE BAR & GRILL               | 21213                                | Orangeville Industrial Area          | 13                                   | EASTERN                              | 4217 ERDMAN AVE\n",
       "Baltimore, MD\n",
       "     | \n",
       "| 289 | CLUBHOUSE BAR & GRILL                | 21213                                | Orangeville Industrial Area          | 13                                   | EASTERN                              | 4217 ERDMAN AVE\n",
       "Baltimore, MD\n",
       "     | \n",
       "| 291 | COCKY LOU'S                          | 21213                                | Broadway East                        | 12                                   | EASTERN                              | 2101 NORTH AVE\n",
       "Baltimore, MD\n",
       "      | \n",
       "| 362 | DREAM TAVERN, CARRIBEAN  U.S.A.      | 21213                                | Broadway East                        | 13                                   | EASTERN                              | 2300 LAFAYETTE AVE\n",
       "Baltimore, MD\n",
       "  | \n",
       "| 373 | DUNKIN DONUTS                        | 21212                                | Homeland                             |  4                                   | NORTHERN                             | 5422 YORK RD\n",
       "Baltimore, MD\n",
       "        | \n",
       "| 383 | EASTSIDE  SPORTS  SOCIAL  CLUB       | 21213                                | Broadway East                        | 13                                   | EASTERN                              | 1203 COLLINGTON AVE\n",
       "Baltimore, MD\n",
       " | \n",
       "| 417 | FIELDS OLD TRAIL                     | 21212                                | Mid-Govans                           |  4                                   | NORTHERN                             | 5723 YORK RD\n",
       "Baltimore, MD\n",
       "        | \n",
       "| 475 | GRAND CRU                            | 21212                                | Chinquapin Park-Belvedere            |  4                                   | NORTHERN                             | 527 BELVEDERE AVE\n",
       "Baltimore, MD\n",
       "   | \n",
       "| 545 | RANDY'S BAR                          | 21213                                | Broadway East                        | 12                                   | EASTERN                              | 2135 NORTH AVE\n",
       "Baltimore, MD\n",
       "      | \n",
       "| 604 | MURPHY'S NEIGHBORHOOD BAR & GRILL    | 21212                                | Mid-Govans                           |  4                                   | NORTHERN                             | 5847 YORK RD\n",
       "Baltimore, MD\n",
       "        | \n",
       "| 616 | NEOPOL                               | 21212                                | Chinquapin Park-Belvedere            |  4                                   | NORTHERN                             | 529 BELVEDERE AVE\n",
       "Baltimore, MD\n",
       "   | \n",
       "| 620 | NEW CLUB THUNDERBIRD INC.            | 21213                                | Middle East                          | 13                                   | EASTERN                              | 2201 CHASE ST\n",
       "Baltimore, MD\n",
       "       | \n",
       "| 626 | NEW MAYFIELD, INC.                   | 21213                                | Belair-Edison                        | 13                                   | NORTHEASTERN                         | 3349 BELAIR RD\n",
       "Baltimore, MD\n",
       "      | \n",
       "| 678 | IKAN SEAFOOD                         | 21212                                | Chinquapin Park-Belvedere            |  4                                   | NORTHERN                             | 529 BELVEDERE AVE\n",
       "Baltimore, MD\n",
       "   | \n",
       "| 711 | KAY-CEE CLUB                         | 21212                                | Homeland                             |  4                                   | NORTHERN                             | 201 HOMELAND AVE\n",
       "Baltimore, MD\n",
       "    | \n",
       "| 763 | LA'RAE                               | 21213                                | Oliver                               | 12                                   | EASTERN                              | 1000 HOFFMAN ST\n",
       "Baltimore, MD\n",
       "     | \n",
       "| 777 | LEMONGRASS BALTIMORE                 | 21213                                | Little Italy                         |  1                                   | SOUTHEASTERN                         | 1300 BANK STREET\n",
       "Baltimore, MD\n",
       "    | \n",
       "| 779 | LEN'S SANDWICH SHOP                  | 21213                                | Broadway East                        | 12                                   | EASTERN                              | 1500 WASHINGTON ST\n",
       "Baltimore, MD\n",
       "  | \n",
       "| 845 | MCDONALD'S                           | 21213                                | South Clifton Park                   | 12                                   | EASTERN                              | 2001 BROADWAY\n",
       "Baltimore, MD\n",
       "       | \n",
       "| 852 | MCDONALD'S                           | 21212                                | Radnor-Winston                       |  4                                   | NORTHERN                             | 5100 YORK RD\n",
       "Baltimore, MD\n",
       "        | \n",
       "| 873 | NEW REX LIQUORS,INC.                 | 21212                                | Wilson Park                          |  4                                   | NORTHERN                             | 4637 YORK RD\n",
       "Baltimore, MD\n",
       "        | \n",
       "| 895 | OK TAVERN                            | 21213                                | Biddle Street                        | 13                                   | EASTERN                              | 2301 BIDDLE ST\n",
       "Baltimore, MD\n",
       "      | \n",
       "| 919 | PANERA BREAD                         | 21212                                | Lake Walker                          |  4                                   | NORTHERN                             | 6307 1 2 YORK RD\n",
       "Baltimore, MD\n",
       "    | \n",
       "| 940 | PEIWEI ASIAN DINER                   | 21212                                | Cedarcroft                           |  4                                   | NORTHERN                             | 6302 YORK RD\n",
       "Baltimore, MD\n",
       "        | \n",
       "| 949 | PERGUSA ENTERPRISES                  | 21212                                | Rosebank                             |  4                                   | NORTHERN                             | 5928 YORK RD\n",
       "Baltimore, MD\n",
       "        | \n",
       "| 957 | PHANTOM'S BAR AND GRILL              | 21213                                | Belair-Edison                        |  3                                   | NORTHEASTERN                         | 3539 BELAIR RD\n",
       "Baltimore, MD\n",
       "      | \n",
       "| 976 | POPEYES FAMOUS FRIED CHICKEN         | 21212                                | Winston-Govans                       |  4                                   | NORTHERN                             | 5002 YORK RD\n",
       "Baltimore, MD\n",
       "        | \n",
       "| 994 | ROBBIE'S NEST                        | 21213                                | Broadway East                        | 12                                   | EASTERN                              | 2250 NORTH AVE\n",
       "Baltimore, MD\n",
       "      | \n",
       "| 1017 | RUTLAND BAR                          | 21213                                | Broadway East                        | 12                                   | EASTERN                              | 1508 RUTLAND AVE\n",
       "Baltimore, MD\n",
       "    | \n",
       "| 1018 | RYAN'S DAUGHTER                      | 21212                                | Chinquapin Park-Belvedere            |  4                                   | NORTHERN                             | 600 BELVEDERE AVE\n",
       "Baltimore, MD\n",
       "   | \n",
       "| 1022 | saigon remembered restaurant         | 21212                                | Mid-Govans                           |  4                                   | NORTHERN                             | 5857 york rd\n",
       "Baltimore, MD\n",
       "        | \n",
       "| 1053 | SHIRLEY'S  HONEY HOLE                | 21213                                | Broadway East                        | 13                                   | EASTERN                              | 2300 OLIVER ST\n",
       "Baltimore, MD\n",
       "      | \n",
       "| 1120 | STEEPLE CHASE II                     | 21213                                | Biddle Street                        | 13                                   | EASTERN                              | 2401 CHASE ST\n",
       "Baltimore, MD\n",
       "       | \n",
       "| 1122 | SUBWAY                               | 21213                                | Oliver                               | 12                                   | EASTERN                              | 1400 NORTH AVE\n",
       "Baltimore, MD\n",
       "      | \n",
       "| 1153 | TAM-TAM                              | 21212                                | Mid-Govans                           |  4                                   | NORTHERN                             | 5722 YORK RD\n",
       "Baltimore, MD\n",
       "        | \n",
       "| 1155 | TASTE                                | 21212                                | Mid-Govans                           |  4                                   | NORTHERN                             | 510 BELVEDERE AVE\n",
       "Baltimore, MD\n",
       "   | \n",
       "| 1159 | TAYLORS EAST                         | 21213                                | Berea                                | 13                                   | EASTERN                              | 1201 POTOMAC ST\n",
       "Baltimore, MD\n",
       "     | \n",
       "| 1186 | THE EDGE BAR & LOUNGE                | 21213                                | Broadway East                        | 12                                   | EASTERN                              | 2015 FEDERAL ST\n",
       "Baltimore, MD\n",
       "     | \n",
       "| 1187 | THE EDGE BAR & LOUNGE - KITCHEN AREA | 21213                                | Broadway East                        | 12                                   | EASTERN                              | 2015 FEDERAL ST\n",
       "Baltimore, MD\n",
       "     | \n",
       "| 1198 | THE HOLLOW BAR & GRILL               | 21212                                | Rosebank                             |  4                                   | NORTHERN                             | 5921 YORK RD\n",
       "Baltimore, MD\n",
       "        | \n",
       "| 1209 | THE NEW BUCKETT'S LOUNGE             | 21213                                | Broadway East                        | 13                                   | EASTERN                              | 1432 CHESTER ST\n",
       "Baltimore, MD\n",
       "     | \n",
       "| 1232 | THREE  ACE'S                         | 21213                                | Belair-Edison                        |  3                                   | NORTHEASTERN                         | 3534 belair RD\n",
       "Baltimore, MD\n",
       "      | \n",
       "| 1246 | TORAIN'S  HIDE-A-WAY                 | 21213                                | Broadway East                        | 12                                   | EASTERN                              | 1701 ELLSWORTH ST\n",
       "Baltimore, MD\n",
       "   | \n",
       "| 1259 | TSUNAMI BALTIMORE                    | 21213                                | Little Italy                         |  1                                   | SOUTHEASTERN                         | 1300 BANK ST\n",
       "Baltimore, MD\n",
       "        | \n",
       "| 1287 | VITO'S PIZZA                         | 21212                                | Cedarcroft                           |  4                                   | NORTHERN                             | 6304 YORK RD\n",
       "Baltimore, MD\n",
       "        | \n",
       "| 1298 | WENDY'S OLD FASHIONED HAMBURGERS #96 | 21212                                | Homeland                             |  4                                   | NORTHERN                             | 5615 YORK RD\n",
       "Baltimore, MD\n",
       "        | \n",
       "| 1304 | WHITTEN'S  (4502-04)                 | 21213                                | Claremont-Freedom                    | 13                                   | NORTHEASTERN                         | 4502 ERDMAN AVE\n",
       "Baltimore, MD\n",
       "     | \n",
       "| 1312 | wozi lounge                          | 21212                                | Guilford                             |  4                                   | NORTHERN                             | 4515 YORK RD\n",
       "Baltimore, MD\n",
       "        | \n",
       "| 1319 | YETI RESTAURANT & CARRYOUT           | 21212                                | Rosebank                             |  4                                   | NORTHERN                             | 5926 YORK RD\n",
       "Baltimore, MD\n",
       "        | \n",
       "| 1320 | YORK CLUB TAVERN                     | 21212                                | Homeland                             |  4                                   | NORTHERN                             | 5407 YORK RD\n",
       "Baltimore, MD\n",
       "        | \n",
       "| 1323 | ZEN WEST ROADSIDE CANTINA            | 21212                                | Rosebank                             |  4                                   | NORTHERN                             | 5916 YORK RD\n",
       "Baltimore, MD\n",
       "        | \n",
       "| 1325 | ZINK'S CAFÂ                         | 21213                                | Belair-Edison                        | 13                                   | NORTHEASTERN                         | 3300 LAWNVIEW AVE\n",
       "Baltimore, MD\n",
       "   | \n",
       "\n",
       "\n"
      ],
      "text/plain": [
       "     name                                 zipCode neighborhood               \n",
       "29   BAY ATLANTIC CLUB                    21212   Downtown                   \n",
       "39   BERMUDA BAR                          21213   Broadway East              \n",
       "92   ATWATER'S                            21212   Chinquapin Park-Belvedere  \n",
       "111  BALTIMORE ESTONIAN SOCIETY           21213   South Clifton Park         \n",
       "187  CAFE ZEN                             21212   Rosebank                   \n",
       "220  CERIELLO FINE FOODS                  21212   Chinquapin Park-Belvedere  \n",
       "266  CLIFTON PARK GOLF COURSE SNACK BAR   21213   Darley Park                \n",
       "276  CLUB HOUSE BAR & GRILL               21213   Orangeville Industrial Area\n",
       "289  CLUBHOUSE BAR & GRILL                21213   Orangeville Industrial Area\n",
       "291  COCKY LOU'S                          21213   Broadway East              \n",
       "362  DREAM TAVERN, CARRIBEAN  U.S.A.      21213   Broadway East              \n",
       "373  DUNKIN DONUTS                        21212   Homeland                   \n",
       "383  EASTSIDE  SPORTS  SOCIAL  CLUB       21213   Broadway East              \n",
       "417  FIELDS OLD TRAIL                     21212   Mid-Govans                 \n",
       "475  GRAND CRU                            21212   Chinquapin Park-Belvedere  \n",
       "545  RANDY'S BAR                          21213   Broadway East              \n",
       "604  MURPHY'S NEIGHBORHOOD BAR & GRILL    21212   Mid-Govans                 \n",
       "616  NEOPOL                               21212   Chinquapin Park-Belvedere  \n",
       "620  NEW CLUB THUNDERBIRD INC.            21213   Middle East                \n",
       "626  NEW MAYFIELD, INC.                   21213   Belair-Edison              \n",
       "678  IKAN SEAFOOD                         21212   Chinquapin Park-Belvedere  \n",
       "711  KAY-CEE CLUB                         21212   Homeland                   \n",
       "763  LA'RAE                               21213   Oliver                     \n",
       "777  LEMONGRASS BALTIMORE                 21213   Little Italy               \n",
       "779  LEN'S SANDWICH SHOP                  21213   Broadway East              \n",
       "845  MCDONALD'S                           21213   South Clifton Park         \n",
       "852  MCDONALD'S                           21212   Radnor-Winston             \n",
       "873  NEW REX LIQUORS,INC.                 21212   Wilson Park                \n",
       "895  OK TAVERN                            21213   Biddle Street              \n",
       "919  PANERA BREAD                         21212   Lake Walker                \n",
       "940  PEIWEI ASIAN DINER                   21212   Cedarcroft                 \n",
       "949  PERGUSA ENTERPRISES                  21212   Rosebank                   \n",
       "957  PHANTOM'S BAR AND GRILL              21213   Belair-Edison              \n",
       "976  POPEYES FAMOUS FRIED CHICKEN         21212   Winston-Govans             \n",
       "994  ROBBIE'S NEST                        21213   Broadway East              \n",
       "1017 RUTLAND BAR                          21213   Broadway East              \n",
       "1018 RYAN'S DAUGHTER                      21212   Chinquapin Park-Belvedere  \n",
       "1022 saigon remembered restaurant         21212   Mid-Govans                 \n",
       "1053 SHIRLEY'S  HONEY HOLE                21213   Broadway East              \n",
       "1120 STEEPLE CHASE II                     21213   Biddle Street              \n",
       "1122 SUBWAY                               21213   Oliver                     \n",
       "1153 TAM-TAM                              21212   Mid-Govans                 \n",
       "1155 TASTE                                21212   Mid-Govans                 \n",
       "1159 TAYLORS EAST                         21213   Berea                      \n",
       "1186 THE EDGE BAR & LOUNGE                21213   Broadway East              \n",
       "1187 THE EDGE BAR & LOUNGE - KITCHEN AREA 21213   Broadway East              \n",
       "1198 THE HOLLOW BAR & GRILL               21212   Rosebank                   \n",
       "1209 THE NEW BUCKETT'S LOUNGE             21213   Broadway East              \n",
       "1232 THREE  ACE'S                         21213   Belair-Edison              \n",
       "1246 TORAIN'S  HIDE-A-WAY                 21213   Broadway East              \n",
       "1259 TSUNAMI BALTIMORE                    21213   Little Italy               \n",
       "1287 VITO'S PIZZA                         21212   Cedarcroft                 \n",
       "1298 WENDY'S OLD FASHIONED HAMBURGERS #96 21212   Homeland                   \n",
       "1304 WHITTEN'S  (4502-04)                 21213   Claremont-Freedom          \n",
       "1312 wozi lounge                          21212   Guilford                   \n",
       "1319 YETI RESTAURANT & CARRYOUT           21212   Rosebank                   \n",
       "1320 YORK CLUB TAVERN                     21212   Homeland                   \n",
       "1323 ZEN WEST ROADSIDE CANTINA            21212   Rosebank                   \n",
       "1325 ZINK'S CAFÂ                         21213   Belair-Edison              \n",
       "     councilDistrict policeDistrict Location.1                          \n",
       "29   11              CENTRAL        206 REDWOOD ST\\nBaltimore, MD\\n     \n",
       "39   12              EASTERN        1801 NORTH AVE\\nBaltimore, MD\\n     \n",
       "92    4              NORTHERN       529 BELVEDERE AVE\\nBaltimore, MD\\n  \n",
       "111  12              EASTERN        1932 BELAIR RD\\nBaltimore, MD\\n     \n",
       "187   4              NORTHERN       438 BELVEDERE AVE\\nBaltimore, MD\\n  \n",
       "220   4              NORTHERN       529 BELVEDERE AVE\\nBaltimore, MD\\n  \n",
       "266  14              NORTHEASTERN   2701 ST LO DR\\nBaltimore, MD\\n      \n",
       "276  13              EASTERN        4217 ERDMAN AVE\\nBaltimore, MD\\n    \n",
       "289  13              EASTERN        4217 ERDMAN AVE\\nBaltimore, MD\\n    \n",
       "291  12              EASTERN        2101 NORTH AVE\\nBaltimore, MD\\n     \n",
       "362  13              EASTERN        2300 LAFAYETTE AVE\\nBaltimore, MD\\n \n",
       "373   4              NORTHERN       5422 YORK RD\\nBaltimore, MD\\n       \n",
       "383  13              EASTERN        1203 COLLINGTON AVE\\nBaltimore, MD\\n\n",
       "417   4              NORTHERN       5723 YORK RD\\nBaltimore, MD\\n       \n",
       "475   4              NORTHERN       527 BELVEDERE AVE\\nBaltimore, MD\\n  \n",
       "545  12              EASTERN        2135 NORTH AVE\\nBaltimore, MD\\n     \n",
       "604   4              NORTHERN       5847 YORK RD\\nBaltimore, MD\\n       \n",
       "616   4              NORTHERN       529 BELVEDERE AVE\\nBaltimore, MD\\n  \n",
       "620  13              EASTERN        2201 CHASE ST\\nBaltimore, MD\\n      \n",
       "626  13              NORTHEASTERN   3349 BELAIR RD\\nBaltimore, MD\\n     \n",
       "678   4              NORTHERN       529 BELVEDERE AVE\\nBaltimore, MD\\n  \n",
       "711   4              NORTHERN       201 HOMELAND AVE\\nBaltimore, MD\\n   \n",
       "763  12              EASTERN        1000 HOFFMAN ST\\nBaltimore, MD\\n    \n",
       "777   1              SOUTHEASTERN   1300 BANK STREET\\nBaltimore, MD\\n   \n",
       "779  12              EASTERN        1500 WASHINGTON ST\\nBaltimore, MD\\n \n",
       "845  12              EASTERN        2001 BROADWAY\\nBaltimore, MD\\n      \n",
       "852   4              NORTHERN       5100 YORK RD\\nBaltimore, MD\\n       \n",
       "873   4              NORTHERN       4637 YORK RD\\nBaltimore, MD\\n       \n",
       "895  13              EASTERN        2301 BIDDLE ST\\nBaltimore, MD\\n     \n",
       "919   4              NORTHERN       6307 1 2 YORK RD\\nBaltimore, MD\\n   \n",
       "940   4              NORTHERN       6302 YORK RD\\nBaltimore, MD\\n       \n",
       "949   4              NORTHERN       5928 YORK RD\\nBaltimore, MD\\n       \n",
       "957   3              NORTHEASTERN   3539 BELAIR RD\\nBaltimore, MD\\n     \n",
       "976   4              NORTHERN       5002 YORK RD\\nBaltimore, MD\\n       \n",
       "994  12              EASTERN        2250 NORTH AVE\\nBaltimore, MD\\n     \n",
       "1017 12              EASTERN        1508 RUTLAND AVE\\nBaltimore, MD\\n   \n",
       "1018  4              NORTHERN       600 BELVEDERE AVE\\nBaltimore, MD\\n  \n",
       "1022  4              NORTHERN       5857 york rd\\nBaltimore, MD\\n       \n",
       "1053 13              EASTERN        2300 OLIVER ST\\nBaltimore, MD\\n     \n",
       "1120 13              EASTERN        2401 CHASE ST\\nBaltimore, MD\\n      \n",
       "1122 12              EASTERN        1400 NORTH AVE\\nBaltimore, MD\\n     \n",
       "1153  4              NORTHERN       5722 YORK RD\\nBaltimore, MD\\n       \n",
       "1155  4              NORTHERN       510 BELVEDERE AVE\\nBaltimore, MD\\n  \n",
       "1159 13              EASTERN        1201 POTOMAC ST\\nBaltimore, MD\\n    \n",
       "1186 12              EASTERN        2015 FEDERAL ST\\nBaltimore, MD\\n    \n",
       "1187 12              EASTERN        2015 FEDERAL ST\\nBaltimore, MD\\n    \n",
       "1198  4              NORTHERN       5921 YORK RD\\nBaltimore, MD\\n       \n",
       "1209 13              EASTERN        1432 CHESTER ST\\nBaltimore, MD\\n    \n",
       "1232  3              NORTHEASTERN   3534 belair RD\\nBaltimore, MD\\n     \n",
       "1246 12              EASTERN        1701 ELLSWORTH ST\\nBaltimore, MD\\n  \n",
       "1259  1              SOUTHEASTERN   1300 BANK ST\\nBaltimore, MD\\n       \n",
       "1287  4              NORTHERN       6304 YORK RD\\nBaltimore, MD\\n       \n",
       "1298  4              NORTHERN       5615 YORK RD\\nBaltimore, MD\\n       \n",
       "1304 13              NORTHEASTERN   4502 ERDMAN AVE\\nBaltimore, MD\\n    \n",
       "1312  4              NORTHERN       4515 YORK RD\\nBaltimore, MD\\n       \n",
       "1319  4              NORTHERN       5926 YORK RD\\nBaltimore, MD\\n       \n",
       "1320  4              NORTHERN       5407 YORK RD\\nBaltimore, MD\\n       \n",
       "1323  4              NORTHERN       5916 YORK RD\\nBaltimore, MD\\n       \n",
       "1325 13              NORTHEASTERN   3300 LAWNVIEW AVE\\nBaltimore, MD\\n  "
      ]
     },
     "metadata": {},
     "output_type": "display_data"
    }
   ],
   "source": [
    "restData[restData$zipCode %in% c(\"21212\",\"21213\"),]"
   ]
  },
  {
   "cell_type": "markdown",
   "metadata": {},
   "source": [
    "### Cross Tabs"
   ]
  },
  {
   "cell_type": "code",
   "execution_count": 57,
   "metadata": {},
   "outputs": [],
   "source": [
    "data(UCBAdmissions)"
   ]
  },
  {
   "cell_type": "code",
   "execution_count": 52,
   "metadata": {},
   "outputs": [],
   "source": [
    "DF <- as.data.frame(UCBAdmissions)"
   ]
  },
  {
   "cell_type": "code",
   "execution_count": 54,
   "metadata": {},
   "outputs": [
    {
     "data": {
      "text/plain": [
       "      Admit       Gender   Dept       Freq      \n",
       " Admitted:12   Male  :12   A:4   Min.   :  8.0  \n",
       " Rejected:12   Female:12   B:4   1st Qu.: 80.0  \n",
       "                           C:4   Median :170.0  \n",
       "                           D:4   Mean   :188.6  \n",
       "                           E:4   3rd Qu.:302.5  \n",
       "                           F:4   Max.   :512.0  "
      ]
     },
     "metadata": {},
     "output_type": "display_data"
    }
   ],
   "source": [
    "summary(DF)"
   ]
  },
  {
   "cell_type": "code",
   "execution_count": 55,
   "metadata": {},
   "outputs": [
    {
     "name": "stdout",
     "output_type": "stream",
     "text": [
      "'data.frame':\t24 obs. of  4 variables:\n",
      " $ Admit : Factor w/ 2 levels \"Admitted\",\"Rejected\": 1 2 1 2 1 2 1 2 1 2 ...\n",
      " $ Gender: Factor w/ 2 levels \"Male\",\"Female\": 1 1 2 2 1 1 2 2 1 1 ...\n",
      " $ Dept  : Factor w/ 6 levels \"A\",\"B\",\"C\",\"D\",..: 1 1 1 1 2 2 2 2 3 3 ...\n",
      " $ Freq  : num  512 313 89 19 353 207 17 8 120 205 ...\n"
     ]
    }
   ],
   "source": [
    "str(DF)"
   ]
  },
  {
   "cell_type": "code",
   "execution_count": 59,
   "metadata": {},
   "outputs": [
    {
     "data": {
      "text/plain": [
       "        Admit\n",
       "Gender   Admitted Rejected\n",
       "  Male       1198     1493\n",
       "  Female      557     1278"
      ]
     },
     "metadata": {},
     "output_type": "display_data"
    }
   ],
   "source": [
    "xt <- xtabs(Freq ~ Gender + Admit , data=DF)\n",
    "xt"
   ]
  },
  {
   "cell_type": "markdown",
   "metadata": {},
   "source": [
    "### Flat Tables"
   ]
  },
  {
   "cell_type": "code",
   "execution_count": 60,
   "metadata": {},
   "outputs": [
    {
     "data": {
      "text/plain": [
       ", , Dept = A\n",
       "\n",
       "          Gender\n",
       "Admit      Male Female\n",
       "  Admitted  512     89\n",
       "  Rejected  313     19\n",
       "\n",
       ", , Dept = B\n",
       "\n",
       "          Gender\n",
       "Admit      Male Female\n",
       "  Admitted  353     17\n",
       "  Rejected  207      8\n",
       "\n",
       ", , Dept = C\n",
       "\n",
       "          Gender\n",
       "Admit      Male Female\n",
       "  Admitted  120    202\n",
       "  Rejected  205    391\n",
       "\n",
       ", , Dept = D\n",
       "\n",
       "          Gender\n",
       "Admit      Male Female\n",
       "  Admitted  138    131\n",
       "  Rejected  279    244\n",
       "\n",
       ", , Dept = E\n",
       "\n",
       "          Gender\n",
       "Admit      Male Female\n",
       "  Admitted   53     94\n",
       "  Rejected  138    299\n",
       "\n",
       ", , Dept = F\n",
       "\n",
       "          Gender\n",
       "Admit      Male Female\n",
       "  Admitted   22     24\n",
       "  Rejected  351    317\n"
      ]
     },
     "metadata": {},
     "output_type": "display_data"
    }
   ],
   "source": [
    "zt <- xtabs(Freq ~. ,data=DF)\n",
    "zt"
   ]
  },
  {
   "cell_type": "code",
   "execution_count": 61,
   "metadata": {},
   "outputs": [
    {
     "data": {
      "text/plain": [
       "                Dept   A   B   C   D   E   F\n",
       "Admit    Gender                             \n",
       "Admitted Male        512 353 120 138  53  22\n",
       "         Female       89  17 202 131  94  24\n",
       "Rejected Male        313 207 205 279 138 351\n",
       "         Female       19   8 391 244 299 317"
      ]
     },
     "metadata": {},
     "output_type": "display_data"
    }
   ],
   "source": [
    "ftable(zt)"
   ]
  },
  {
   "cell_type": "markdown",
   "metadata": {},
   "source": [
    "### Size of dataset"
   ]
  },
  {
   "cell_type": "code",
   "execution_count": 63,
   "metadata": {},
   "outputs": [],
   "source": [
    "fakeData = rnorm(1e5)"
   ]
  },
  {
   "cell_type": "code",
   "execution_count": 64,
   "metadata": {},
   "outputs": [
    {
     "data": {
      "text/plain": [
       "800040 bytes"
      ]
     },
     "metadata": {},
     "output_type": "display_data"
    }
   ],
   "source": [
    "object.size(fakeData)"
   ]
  },
  {
   "cell_type": "code",
   "execution_count": 65,
   "metadata": {},
   "outputs": [
    {
     "name": "stdout",
     "output_type": "stream",
     "text": [
      "0.8 Mb\n"
     ]
    }
   ],
   "source": [
    "print(object.size(fakeData),units = \"MB\")"
   ]
  },
  {
   "cell_type": "markdown",
   "metadata": {},
   "source": [
    "## Lecture3: Creating new Variables"
   ]
  },
  {
   "cell_type": "markdown",
   "metadata": {},
   "source": [
    "### Downloading Data"
   ]
  },
  {
   "cell_type": "code",
   "execution_count": 67,
   "metadata": {},
   "outputs": [],
   "source": [
    "if(!file.exists(\"./data\")){\n",
    "    dir.create(\"./data\")\n",
    "}\n",
    "fileUrl <- \"https://data.baltimorecity.gov/api/views/k5ry-ef3g/rows.csv?accessType=DOWNLOAD\"\n",
    "download.file(fileUrl,destfile = \"./data/Restaurants.csv\")\n",
    "restData <- read.csv(\"./data/Restaurants.csv\")"
   ]
  },
  {
   "cell_type": "markdown",
   "metadata": {},
   "source": [
    "### Creating sequence"
   ]
  },
  {
   "cell_type": "code",
   "execution_count": 68,
   "metadata": {},
   "outputs": [
    {
     "data": {
      "text/html": [
       "<ol class=list-inline>\n",
       "\t<li>1</li>\n",
       "\t<li>3</li>\n",
       "\t<li>5</li>\n",
       "\t<li>7</li>\n",
       "\t<li>9</li>\n",
       "</ol>\n"
      ],
      "text/latex": [
       "\\begin{enumerate*}\n",
       "\\item 1\n",
       "\\item 3\n",
       "\\item 5\n",
       "\\item 7\n",
       "\\item 9\n",
       "\\end{enumerate*}\n"
      ],
      "text/markdown": [
       "1. 1\n",
       "2. 3\n",
       "3. 5\n",
       "4. 7\n",
       "5. 9\n",
       "\n",
       "\n"
      ],
      "text/plain": [
       "[1] 1 3 5 7 9"
      ]
     },
     "metadata": {},
     "output_type": "display_data"
    }
   ],
   "source": [
    "s1 <- seq(1,10,by=2);s1"
   ]
  },
  {
   "cell_type": "code",
   "execution_count": 70,
   "metadata": {},
   "outputs": [
    {
     "data": {
      "text/html": [
       "<ol class=list-inline>\n",
       "\t<li>1</li>\n",
       "\t<li>5.5</li>\n",
       "\t<li>10</li>\n",
       "</ol>\n"
      ],
      "text/latex": [
       "\\begin{enumerate*}\n",
       "\\item 1\n",
       "\\item 5.5\n",
       "\\item 10\n",
       "\\end{enumerate*}\n"
      ],
      "text/markdown": [
       "1. 1\n",
       "2. 5.5\n",
       "3. 10\n",
       "\n",
       "\n"
      ],
      "text/plain": [
       "[1]  1.0  5.5 10.0"
      ]
     },
     "metadata": {},
     "output_type": "display_data"
    }
   ],
   "source": [
    "s2 <- seq(1,10,length=3);s2"
   ]
  },
  {
   "cell_type": "code",
   "execution_count": 71,
   "metadata": {},
   "outputs": [
    {
     "data": {
      "text/html": [
       "<ol class=list-inline>\n",
       "\t<li>1</li>\n",
       "\t<li>2</li>\n",
       "\t<li>3</li>\n",
       "\t<li>4</li>\n",
       "\t<li>5</li>\n",
       "</ol>\n"
      ],
      "text/latex": [
       "\\begin{enumerate*}\n",
       "\\item 1\n",
       "\\item 2\n",
       "\\item 3\n",
       "\\item 4\n",
       "\\item 5\n",
       "\\end{enumerate*}\n"
      ],
      "text/markdown": [
       "1. 1\n",
       "2. 2\n",
       "3. 3\n",
       "4. 4\n",
       "5. 5\n",
       "\n",
       "\n"
      ],
      "text/plain": [
       "[1] 1 2 3 4 5"
      ]
     },
     "metadata": {},
     "output_type": "display_data"
    }
   ],
   "source": [
    "x <- c(1,3,8,25,100); seq(along =x)"
   ]
  },
  {
   "cell_type": "markdown",
   "metadata": {},
   "source": [
    "### Subsetting variables"
   ]
  },
  {
   "cell_type": "code",
   "execution_count": 72,
   "metadata": {},
   "outputs": [],
   "source": [
    "restData$nearMe =restData$neighborhood %in% c(\"Roland Park\",\"Homeland\")"
   ]
  },
  {
   "cell_type": "code",
   "execution_count": 75,
   "metadata": {},
   "outputs": [
    {
     "data": {
      "text/plain": [
       "\n",
       "FALSE  TRUE \n",
       " 1314    13 "
      ]
     },
     "metadata": {},
     "output_type": "display_data"
    }
   ],
   "source": [
    "table(restData$nearMe)"
   ]
  },
  {
   "cell_type": "markdown",
   "metadata": {},
   "source": [
    "### Creating binary variables"
   ]
  },
  {
   "cell_type": "code",
   "execution_count": 79,
   "metadata": {},
   "outputs": [
    {
     "data": {
      "text/plain": [
       "       \n",
       "        FALSE TRUE\n",
       "  FALSE  1326    0\n",
       "  TRUE      0    1"
      ]
     },
     "metadata": {},
     "output_type": "display_data"
    }
   ],
   "source": [
    "restData$zipWrong = ifelse(restData$zipCode < 0,TRUE,FALSE)\n",
    "table(restData$zipWrong,restData$zipCode<0)"
   ]
  },
  {
   "cell_type": "markdown",
   "metadata": {},
   "source": [
    "### Creating categorical variables"
   ]
  },
  {
   "cell_type": "code",
   "execution_count": 85,
   "metadata": {},
   "outputs": [
    {
     "data": {
      "text/plain": [
       "\n",
       "(-2.123e+04,2.12e+04]  (2.12e+04,2.122e+04] (2.122e+04,2.123e+04] \n",
       "                  337                   375                   282 \n",
       "(2.123e+04,2.129e+04] \n",
       "                  332 "
      ]
     },
     "metadata": {},
     "output_type": "display_data"
    }
   ],
   "source": [
    "restData$zipGroups = cut(restData$zipCode,breaks = quantile(restData$zipCode))\n",
    "table(restData$zipGroups)"
   ]
  },
  {
   "cell_type": "code",
   "execution_count": 86,
   "metadata": {},
   "outputs": [
    {
     "data": {
      "text/plain": [
       "                       \n",
       "                        -21226 21201 21202 21205 21206 21207 21208 21209 21210\n",
       "  (-2.123e+04,2.12e+04]      0   136   201     0     0     0     0     0     0\n",
       "  (2.12e+04,2.122e+04]       0     0     0    27    30     4     1     8    23\n",
       "  (2.122e+04,2.123e+04]      0     0     0     0     0     0     0     0     0\n",
       "  (2.123e+04,2.129e+04]      0     0     0     0     0     0     0     0     0\n",
       "                       \n",
       "                        21211 21212 21213 21214 21215 21216 21217 21218 21220\n",
       "  (-2.123e+04,2.12e+04]     0     0     0     0     0     0     0     0     0\n",
       "  (2.12e+04,2.122e+04]     41    28    31    17    54    10    32    69     0\n",
       "  (2.122e+04,2.123e+04]     0     0     0     0     0     0     0     0     1\n",
       "  (2.123e+04,2.129e+04]     0     0     0     0     0     0     0     0     0\n",
       "                       \n",
       "                        21222 21223 21224 21225 21226 21227 21229 21230 21231\n",
       "  (-2.123e+04,2.12e+04]     0     0     0     0     0     0     0     0     0\n",
       "  (2.12e+04,2.122e+04]      0     0     0     0     0     0     0     0     0\n",
       "  (2.122e+04,2.123e+04]     7    56   199    19     0     0     0     0     0\n",
       "  (2.123e+04,2.129e+04]     0     0     0     0    18     4    13   156   127\n",
       "                       \n",
       "                        21234 21237 21239 21251 21287\n",
       "  (-2.123e+04,2.12e+04]     0     0     0     0     0\n",
       "  (2.12e+04,2.122e+04]      0     0     0     0     0\n",
       "  (2.122e+04,2.123e+04]     0     0     0     0     0\n",
       "  (2.123e+04,2.129e+04]     7     1     3     2     1"
      ]
     },
     "metadata": {},
     "output_type": "display_data"
    }
   ],
   "source": [
    "table(restData$zipGroups,restData$zipCode)"
   ]
  },
  {
   "cell_type": "markdown",
   "metadata": {},
   "source": [
    "### Easier Cutting"
   ]
  },
  {
   "cell_type": "code",
   "execution_count": 88,
   "metadata": {},
   "outputs": [
    {
     "name": "stderr",
     "output_type": "stream",
     "text": [
      "also installing the dependencies 'checkmate', 'Formula', 'latticeExtra', 'acepack', 'gridExtra', 'htmlTable', 'viridis'\n",
      "\n"
     ]
    },
    {
     "name": "stdout",
     "output_type": "stream",
     "text": [
      "package 'checkmate' successfully unpacked and MD5 sums checked\n",
      "package 'Formula' successfully unpacked and MD5 sums checked\n",
      "package 'latticeExtra' successfully unpacked and MD5 sums checked\n",
      "package 'acepack' successfully unpacked and MD5 sums checked\n",
      "package 'gridExtra' successfully unpacked and MD5 sums checked\n",
      "package 'htmlTable' successfully unpacked and MD5 sums checked\n",
      "package 'viridis' successfully unpacked and MD5 sums checked\n",
      "package 'Hmisc' successfully unpacked and MD5 sums checked\n",
      "\n",
      "The downloaded binary packages are in\n",
      "\tC:\\Users\\naqee\\AppData\\Local\\Temp\\Rtmps3jj0T\\downloaded_packages\n"
     ]
    }
   ],
   "source": [
    "#install.packages(\"Hmisc\",repos = \"https://cran.ma.imperial.ac.uk/\")"
   ]
  },
  {
   "cell_type": "code",
   "execution_count": 91,
   "metadata": {},
   "outputs": [
    {
     "ename": "ERROR",
     "evalue": "Error in approx(cum, xx, xout = (1:g) * nnm/g, method = \"constant\", rule = 2, : zero non-NA points\n",
     "execution_count": 91,
     "output_type": "error",
     "traceback": [
      "Error in approx(cum, xx, xout = (1:g) * nnm/g, method = \"constant\", rule = 2, : zero non-NA points\nTraceback:\n",
      "1. cut2(restData$zipGroups)",
      "2. approx(cum, xx, xout = (1:g) * nnm/g, method = \"constant\", rule = 2, \n .     f = 1)",
      "3. stop(\"zero non-NA points\")"
     ]
    }
   ],
   "source": [
    "library(Hmisc)\n",
    "restData$zipGroups = \n",
    "table(restData$zipGroups)"
   ]
  },
  {
   "cell_type": "code",
   "execution_count": null,
   "metadata": {},
   "outputs": [],
   "source": []
  }
 ],
 "metadata": {
  "kernelspec": {
   "display_name": "R",
   "language": "R",
   "name": "ir"
  },
  "language_info": {
   "codemirror_mode": "r",
   "file_extension": ".r",
   "mimetype": "text/x-r-source",
   "name": "R",
   "pygments_lexer": "r",
   "version": "3.4.2"
  }
 },
 "nbformat": 4,
 "nbformat_minor": 2
}
